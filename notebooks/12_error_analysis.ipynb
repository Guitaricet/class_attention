{
 "cells": [
  {
   "cell_type": "markdown",
   "metadata": {},
   "source": [
    "# Frozen, do not modify"
   ]
  },
  {
   "cell_type": "code",
   "execution_count": 46,
   "metadata": {},
   "outputs": [],
   "source": [
    "import argparse\n",
    "import logging\n",
    "import pprint\n",
    "import os\n",
    "import sys\n",
    "from itertools import chain\n",
    "from collections import Counter\n",
    "\n",
    "import torch\n",
    "import torch.utils.data\n",
    "import torch.nn.functional as F\n",
    "import transformers\n",
    "import datasets\n",
    "import wandb\n",
    "\n",
    "from tqdm import tqdm\n",
    "\n",
    "import class_attention as cat"
   ]
  },
  {
   "cell_type": "markdown",
   "metadata": {},
   "source": [
    "# Prepare and train a model"
   ]
  },
  {
   "cell_type": "code",
   "execution_count": 3,
   "metadata": {},
   "outputs": [],
   "source": [
    "class args:\n",
    "    model = \"distilbert-base-uncased\"\n",
    "    test_class_frac = 0.2\n",
    "    dataset_frac = 0.1\n",
    "    batch_size = 32\n",
    "    device = \"cuda:2\"\n",
    "    lr = 1e-4\n",
    "    max_epochs = 4\n",
    "    normailze_cls = True\n",
    "    normalize_txt = True\n",
    "    scale_attention = False\n",
    "    freeze_cls_network = False\n",
    "    learn_temperature = True\n",
    "    use_n_projection_layers = 1\n",
    "    hidden = 128\n"
   ]
  },
  {
   "cell_type": "code",
   "execution_count": 4,
   "metadata": {},
   "outputs": [
    {
     "name": "stderr",
     "output_type": "stream",
     "text": [
      "Using custom data configuration default\n",
      "Reusing dataset news_category (/home/vlialin/.cache/huggingface/datasets/news_category/default/0.0.0/737b7b6dff469cbba49a6202c9e94f9d39da1fed94e13170cf7ac4b61a75fb9c)\n"
     ]
    },
    {
     "name": "stdout",
     "output_type": "stream",
     "text": [
      "Moving the following classes to a class-test set: ['MEDIA', 'DIVORCE', 'QUEER VOICES', 'FOOD & DRINK', 'WELLNESS', 'HOME & LIVING', 'WORLDPOST', 'SPORTS']\n"
     ]
    },
    {
     "data": {
      "application/vnd.jupyter.widget-view+json": {
       "model_id": "9ae0db7137b7438d80fa33779ed9d693",
       "version_major": 2,
       "version_minor": 0
      },
      "text/plain": [
       "HBox(children=(FloatProgress(value=0.0, description='Preprocessing Dataset', max=12214.0, style=ProgressStyle(…"
      ]
     },
     "metadata": {},
     "output_type": "display_data"
    },
    {
     "name": "stdout",
     "output_type": "stream",
     "text": [
      "\n"
     ]
    },
    {
     "data": {
      "application/vnd.jupyter.widget-view+json": {
       "model_id": "fbf8f19b2a1e4da686f8a7490f6a3d4c",
       "version_major": 2,
       "version_minor": 0
      },
      "text/plain": [
       "HBox(children=(FloatProgress(value=0.0, description='Preprocessing Dataset', max=12214.0, style=ProgressStyle(…"
      ]
     },
     "metadata": {},
     "output_type": "display_data"
    },
    {
     "name": "stdout",
     "output_type": "stream",
     "text": [
      "\n"
     ]
    }
   ],
   "source": [
    "(\n",
    "    train_dataloader,\n",
    "    test_dataloader,\n",
    "    all_classes_str,\n",
    "    test_classes_str,\n",
    ") = cat.training_utils.prepare_dataloaders(args.test_class_frac, args.batch_size, args.model, args.dataset_frac)"
   ]
  },
  {
   "cell_type": "code",
   "execution_count": 5,
   "metadata": {},
   "outputs": [],
   "source": [
    "text_encoder = transformers.AutoModel.from_pretrained(args.model)\n",
    "label_encoder = transformers.AutoModel.from_pretrained(args.model)"
   ]
  },
  {
   "cell_type": "code",
   "execution_count": 6,
   "metadata": {},
   "outputs": [],
   "source": [
    "model = cat.ClassAttentionModel(\n",
    "    text_encoder,\n",
    "    label_encoder,\n",
    "    *vars(args),\n",
    ")\n",
    "model = model.to(args.device)"
   ]
  },
  {
   "cell_type": "code",
   "execution_count": 7,
   "metadata": {},
   "outputs": [],
   "source": [
    "parameters = model.get_trainable_parameters()\n",
    "optimizer = torch.optim.Adam(parameters, lr=args.lr)"
   ]
  },
  {
   "cell_type": "code",
   "execution_count": 9,
   "metadata": {},
   "outputs": [
    {
     "name": "stderr",
     "output_type": "stream",
     "text": [
      "\u001b[34m\u001b[1mwandb\u001b[0m: Currently logged in as: \u001b[33mguitaricet\u001b[0m (use `wandb login --relogin` to force relogin)\n",
      "\u001b[34m\u001b[1mwandb\u001b[0m: wandb version 0.10.20 is available!  To upgrade, please run:\n",
      "\u001b[34m\u001b[1mwandb\u001b[0m:  $ pip install wandb --upgrade\n"
     ]
    },
    {
     "data": {
      "text/html": [
       "\n",
       "                Tracking run with wandb version 0.10.15<br/>\n",
       "                Syncing run <strong style=\"color:#cdcd00\">super-shadow-83</strong> to <a href=\"https://wandb.ai\" target=\"_blank\">Weights & Biases</a> <a href=\"https://docs.wandb.com/integrations/jupyter.html\" target=\"_blank\">(Documentation)</a>.<br/>\n",
       "                Project page: <a href=\"https://wandb.ai/guitaricet/class_attention\" target=\"_blank\">https://wandb.ai/guitaricet/class_attention</a><br/>\n",
       "                Run page: <a href=\"https://wandb.ai/guitaricet/class_attention/runs/14kxu2oo\" target=\"_blank\">https://wandb.ai/guitaricet/class_attention/runs/14kxu2oo</a><br/>\n",
       "                Run data is saved locally in <code>/home/vlialin/documents/class_attention/notebooks/wandb/run-20210223_103635-14kxu2oo</code><br/><br/>\n",
       "            "
      ],
      "text/plain": [
       "<IPython.core.display.HTML object>"
      ]
     },
     "metadata": {},
     "output_type": "display_data"
    },
    {
     "data": {
      "text/plain": [
       "[<wandb.wandb_torch.TorchGraph at 0x7fc0e46f98e0>]"
      ]
     },
     "execution_count": 9,
     "metadata": {},
     "output_type": "execute_result"
    }
   ],
   "source": [
    "config = {k: v for k, v in vars(args).items() if not k.startswith(\"_\")}\n",
    "\n",
    "wandb.init(project=\"class_attention\", config=config, tags=[\"notebook\"])\n",
    "wandb.watch(model, log=\"all\")"
   ]
  },
  {
   "cell_type": "code",
   "execution_count": 10,
   "metadata": {},
   "outputs": [
    {
     "data": {
      "application/vnd.jupyter.widget-view+json": {
       "model_id": "75f45a66edbf47c5aa66d19c7b4aef78",
       "version_major": 2,
       "version_minor": 0
      },
      "text/plain": [
       "HBox(children=(FloatProgress(value=0.0, description='Epochs', max=4.0, style=ProgressStyle(description_width='…"
      ]
     },
     "metadata": {},
     "output_type": "display_data"
    },
    {
     "name": "stdout",
     "output_type": "stream",
     "text": [
      "\n"
     ]
    }
   ],
   "source": [
    "model = cat.training_utils.train_cat_model(\n",
    "    model,\n",
    "    optimizer,\n",
    "    train_dataloader,\n",
    "    test_dataloader,\n",
    "    all_classes_str,\n",
    "    test_classes_str,\n",
    "    args.max_epochs,\n",
    "    args.device,\n",
    ")"
   ]
  },
  {
   "cell_type": "markdown",
   "metadata": {},
   "source": [
    "# Error analysis"
   ]
  },
  {
   "cell_type": "code",
   "execution_count": 17,
   "metadata": {},
   "outputs": [
    {
     "data": {
      "text/plain": [
       "('[CLS] former cia chief smacks down donald trump in clinton endorsement [SEP]',\n",
       " '[CLS] politics [SEP]')"
      ]
     },
     "execution_count": 17,
     "metadata": {},
     "output_type": "execute_result"
    }
   ],
   "source": [
    "text_tokenizer = test_dataloader.dataset.text_tokenizer\n",
    "label_tokenizer = test_dataloader.dataset.label_tokenizer\n",
    "\n",
    "_t, _c = test_dataloader.dataset[4]\n",
    "text_tokenizer.decode(_t), label_tokenizer.decode(_c)"
   ]
  },
  {
   "cell_type": "code",
   "execution_count": 21,
   "metadata": {},
   "outputs": [
    {
     "data": {
      "text/plain": [
       "{'ARTS',\n",
       " 'ARTS & CULTURE',\n",
       " 'BLACK VOICES',\n",
       " 'BUSINESS',\n",
       " 'COLLEGE',\n",
       " 'COMEDY',\n",
       " 'CRIME',\n",
       " 'CULTURE & ARTS',\n",
       " 'EDUCATION',\n",
       " 'ENTERTAINMENT',\n",
       " 'ENVIRONMENT',\n",
       " 'FIFTY',\n",
       " 'GOOD NEWS',\n",
       " 'GREEN',\n",
       " 'HEALTHY LIVING',\n",
       " 'IMPACT',\n",
       " 'LATINO VOICES',\n",
       " 'MONEY',\n",
       " 'PARENTING',\n",
       " 'PARENTS',\n",
       " 'POLITICS',\n",
       " 'RELIGION',\n",
       " 'SCIENCE',\n",
       " 'STYLE',\n",
       " 'STYLE & BEAUTY',\n",
       " 'TASTE',\n",
       " 'TECH',\n",
       " 'THE WORLDPOST',\n",
       " 'TRAVEL',\n",
       " 'WEDDINGS',\n",
       " 'WEIRD NEWS',\n",
       " 'WOMEN',\n",
       " 'WORLD NEWS'}"
      ]
     },
     "execution_count": 21,
     "metadata": {},
     "output_type": "execute_result"
    }
   ],
   "source": [
    "set(all_classes_str).difference(test_classes_str)"
   ]
  },
  {
   "cell_type": "code",
   "execution_count": 18,
   "metadata": {},
   "outputs": [
    {
     "data": {
      "text/plain": [
       "['MEDIA',\n",
       " 'FOOD & DRINK',\n",
       " 'WELLNESS',\n",
       " 'HOME & LIVING',\n",
       " 'QUEER VOICES',\n",
       " 'DIVORCE',\n",
       " 'SPORTS',\n",
       " 'WORLDPOST']"
      ]
     },
     "execution_count": 18,
     "metadata": {},
     "output_type": "execute_result"
    }
   ],
   "source": [
    "test_classes_str"
   ]
  },
  {
   "cell_type": "code",
   "execution_count": 31,
   "metadata": {},
   "outputs": [
    {
     "name": "stderr",
     "output_type": "stream",
     "text": [
      "Using custom data configuration default\n",
      "Reusing dataset news_category (/home/vlialin/.cache/huggingface/datasets/news_category/default/0.0.0/737b7b6dff469cbba49a6202c9e94f9d39da1fed94e13170cf7ac4b61a75fb9c)\n"
     ]
    }
   ],
   "source": [
    "news_dataset = datasets.load_dataset(\"Fraser/news-category-dataset\")\n",
    "_, only_test_classes_data = cat.utils.split_classes(news_dataset[\"validation\"], test_classes=test_classes_str)"
   ]
  },
  {
   "cell_type": "code",
   "execution_count": 32,
   "metadata": {},
   "outputs": [
    {
     "data": {
      "application/vnd.jupyter.widget-view+json": {
       "model_id": "f1e5aea6aca34545872b9d264ba14b41",
       "version_major": 2,
       "version_minor": 0
      },
      "text/plain": [
       "HBox(children=(FloatProgress(value=0.0, description='Preprocessing Dataset', max=2463.0, style=ProgressStyle(d…"
      ]
     },
     "metadata": {},
     "output_type": "display_data"
    },
    {
     "name": "stdout",
     "output_type": "stream",
     "text": [
      "\n"
     ]
    }
   ],
   "source": [
    "otc_dataset = cat.CatDataset(\n",
    "    only_test_classes_data[\"headline\"],\n",
    "    text_tokenizer,\n",
    "    only_test_classes_data[\"category\"],\n",
    "    label_tokenizer,\n",
    ")\n",
    "\n",
    "test_classes_ids = label_tokenizer.batch_encode_plus(\n",
    "    test_classes_str,\n",
    "    return_tensors=\"pt\",\n",
    "    add_special_tokens=True,\n",
    "    padding=True,\n",
    ")[\"input_ids\"]\n",
    "\n",
    "otc_collator = cat.CatTestCollator(\n",
    "    possible_labels_ids=test_classes_ids, pad_token_id=label_tokenizer.pad_token_id\n",
    ")\n",
    "\n",
    "otc_dataloader = torch.utils.data.DataLoader(otc_dataset, collate_fn=otc_collator, shuffle=False, pin_memory=True)"
   ]
  },
  {
   "cell_type": "code",
   "execution_count": 36,
   "metadata": {},
   "outputs": [
    {
     "data": {
      "text/plain": [
       "{'acc': tensor(0.5989, device='cuda:2'),\n",
       " 'P/MEDIA': 0.34239130416174385,\n",
       " 'R/MEDIA': 0.4632352937770329,\n",
       " 'F1/MEDIA': 0.3937499508789124,\n",
       " 'P/FOOD & DRINK': 0.5472027971071324,\n",
       " 'R/FOOD & DRINK': 0.9399399396576756,\n",
       " 'F1/FOOD & DRINK': 0.691712660516593,\n",
       " 'P/WELLNESS': 0.8706047818747392,\n",
       " 'R/WELLNESS': 0.6931690928675063,\n",
       " 'F1/WELLNESS': 0.7718203994253021,\n",
       " 'P/HOME & LIVING': 0.23280423268105596,\n",
       " 'R/HOME & LIVING': 0.2046511626955111,\n",
       " 'F1/HOME & LIVING': 0.21782173227748416,\n",
       " 'P/QUEER VOICES': 0.6776315785015582,\n",
       " 'R/QUEER VOICES': 0.3121212120266299,\n",
       " 'F1/QUEER VOICES': 0.42738584875777363,\n",
       " 'P/DIVORCE': 0.4508928569415657,\n",
       " 'R/DIVORCE': 0.5489130431799386,\n",
       " 'F1/DIVORCE': 0.4950979894535806,\n",
       " 'P/SPORTS': 0.5357142855017006,\n",
       " 'R/SPORTS': 0.5421686744810568,\n",
       " 'F1/SPORTS': 0.5389221054752815,\n",
       " 'P/WORLDPOST': 0.541899441038045,\n",
       " 'R/WORLDPOST': 0.7886178855377091,\n",
       " 'F1/WORLDPOST': 0.6423840572540714,\n",
       " 'R_zero_shot': 0.5616020380278826,\n",
       " 'P_zero_shot': 0.5248926597259426,\n",
       " 'F1_zero_shot': 0.5223618430048749}"
      ]
     },
     "execution_count": 36,
     "metadata": {},
     "output_type": "execute_result"
    }
   ],
   "source": [
    "metrics = cat.utils.evaluate_model_per_class(\n",
    "    model,\n",
    "    otc_dataloader,\n",
    "    device=args.device,\n",
    "    labels_str=test_classes_str,\n",
    "    zeroshot_labels=test_classes_str,\n",
    ")\n",
    "\n",
    "metrics"
   ]
  },
  {
   "cell_type": "code",
   "execution_count": 43,
   "metadata": {},
   "outputs": [
    {
     "data": {
      "text/plain": [
       "{'acc': tensor(0.0966, device='cuda:2'),\n",
       " 'P/MEDIA': 0.0,\n",
       " 'R/MEDIA': 0.0,\n",
       " 'F1/MEDIA': 0.0,\n",
       " 'P/FOOD & DRINK': 0.0,\n",
       " 'R/FOOD & DRINK': 0.0,\n",
       " 'F1/FOOD & DRINK': 0.0,\n",
       " 'P/WELLNESS': 0.43181818149104684,\n",
       " 'R/WELLNESS': 0.06382978722689477,\n",
       " 'F1/WELLNESS': 0.11121948973421036,\n",
       " 'P/HOME & LIVING': 0.06586826343361182,\n",
       " 'R/HOME & LIVING': 0.05116279067387777,\n",
       " 'F1/HOME & LIVING': 0.05759157379599062,\n",
       " 'P/QUEER VOICES': 0.24999999375000015,\n",
       " 'R/QUEER VOICES': 0.0030303030293847566,\n",
       " 'F1/QUEER VOICES': 0.005988021581986607,\n",
       " 'P/DIVORCE': 0.0803921568588043,\n",
       " 'R/DIVORCE': 0.8913043473416824,\n",
       " 'F1/DIVORCE': 0.14748199919744218,\n",
       " 'P/SPORTS': 0.0,\n",
       " 'R/SPORTS': 0.0,\n",
       " 'F1/SPORTS': 0.0,\n",
       " 'P/WORLDPOST': 0.05102040811120367,\n",
       " 'R/WORLDPOST': 0.040650406471015935,\n",
       " 'F1/WORLDPOST': 0.04524881937721648,\n",
       " 'R_zero_shot': 0.13124720434285697,\n",
       " 'P_zero_shot': 0.10988737545558334,\n",
       " 'F1_zero_shot': 0.04594123796085578}"
      ]
     },
     "execution_count": 43,
     "metadata": {},
     "output_type": "execute_result"
    }
   ],
   "source": [
    "random_model = cat.ClassAttentionModel(\n",
    "    transformers.AutoModel.from_config(transformers.AutoConfig.from_pretrained(args.model)),\n",
    "    transformers.AutoModel.from_config(transformers.AutoConfig.from_pretrained(args.model)),\n",
    ")\n",
    "\n",
    "metrics_random = cat.utils.evaluate_model_per_class(\n",
    "    random_model,\n",
    "    otc_dataloader,\n",
    "    device=args.device,\n",
    "    labels_str=test_classes_str,\n",
    "    zeroshot_labels=test_classes_str,\n",
    ")\n",
    "\n",
    "metrics_random"
   ]
  },
  {
   "cell_type": "code",
   "execution_count": 56,
   "metadata": {},
   "outputs": [
    {
     "name": "stdout",
     "output_type": "stream",
     "text": [
      "2021-02-23 11:43:07 | WARNING | utils.py | No classes for the group set()\n",
      "2021-02-23 11:43:07 | WARNING | utils.py | No classes for the group set()\n",
      "2021-02-23 11:43:07 | WARNING | utils.py | No classes for the group set()\n"
     ]
    },
    {
     "data": {
      "text/plain": [
       "{'acc': tensor(0.1518, device='cuda:2'),\n",
       " 'P/MEDIA': 0.0,\n",
       " 'R/MEDIA': 0.0,\n",
       " 'F1/MEDIA': 0.0,\n",
       " 'P/FOOD & DRINK': 0.16327543423507318,\n",
       " 'R/FOOD & DRINK': 0.9879879876912948,\n",
       " 'F1/FOOD & DRINK': 0.2802384764860978,\n",
       " 'P/WELLNESS': 0.0,\n",
       " 'R/WELLNESS': 0.0,\n",
       " 'F1/WELLNESS': 0.0,\n",
       " 'P/HOME & LIVING': 0.10044642854900748,\n",
       " 'R/HOME & LIVING': 0.20930232548404543,\n",
       " 'F1/HOME & LIVING': 0.13574656246916003,\n",
       " 'P/QUEER VOICES': 0.0,\n",
       " 'R/QUEER VOICES': 0.0,\n",
       " 'F1/QUEER VOICES': 0.0,\n",
       " 'P/DIVORCE': 0.0,\n",
       " 'R/DIVORCE': 0.0,\n",
       " 'F1/DIVORCE': 0.0,\n",
       " 'P/SPORTS': 0.0,\n",
       " 'R/SPORTS': 0.0,\n",
       " 'F1/SPORTS': 0.0,\n",
       " 'P/WORLDPOST': 0.0,\n",
       " 'R/WORLDPOST': 0.0,\n",
       " 'F1/WORLDPOST': 0.0,\n",
       " 'R_zero_shot': 0.14966128914691754,\n",
       " 'P_zero_shot': 0.03296523284801008,\n",
       " 'F1_zero_shot': 0.05199812986940723}"
      ]
     },
     "execution_count": 56,
     "metadata": {},
     "output_type": "execute_result"
    }
   ],
   "source": [
    "bert_model = cat.ClassAttentionModel(\n",
    "    transformers.AutoModel.from_pretrained(args.model),\n",
    "    transformers.AutoModel.from_pretrained(args.model),\n",
    ")\n",
    "\n",
    "metrics_bert = cat.utils.evaluate_model_per_class(\n",
    "    bert_model,\n",
    "    otc_dataloader,\n",
    "    device=args.device,\n",
    "    labels_str=test_classes_str,\n",
    "    zeroshot_labels=test_classes_str,\n",
    ")\n",
    "\n",
    "metrics_bert"
   ]
  },
  {
   "cell_type": "code",
   "execution_count": 48,
   "metadata": {},
   "outputs": [
    {
     "data": {
      "text/plain": [
       "Counter({'SPORTS': 249,\n",
       "         'MEDIA': 136,\n",
       "         'WELLNESS': 893,\n",
       "         'QUEER VOICES': 330,\n",
       "         'DIVORCE': 184,\n",
       "         'FOOD & DRINK': 333,\n",
       "         'WORLDPOST': 123,\n",
       "         'HOME & LIVING': 215})"
      ]
     },
     "execution_count": 48,
     "metadata": {},
     "output_type": "execute_result"
    }
   ],
   "source": [
    "class_counts = Counter(otc_dataloader.dataset.labels)\n",
    "class_counts"
   ]
  },
  {
   "cell_type": "code",
   "execution_count": 55,
   "metadata": {},
   "outputs": [
    {
     "data": {
      "text/plain": [
       "{'WELLNESS': 0.3625659764514819,\n",
       " 'FOOD & DRINK': 0.13520097442143728,\n",
       " 'QUEER VOICES': 0.13398294762484775,\n",
       " 'SPORTS': 0.10109622411693057,\n",
       " 'HOME & LIVING': 0.08729192042224929,\n",
       " 'DIVORCE': 0.07470564352415753,\n",
       " 'MEDIA': 0.055217214778725134,\n",
       " 'WORLDPOST': 0.049939098660170524}"
      ]
     },
     "execution_count": 55,
     "metadata": {},
     "output_type": "execute_result"
    }
   ],
   "source": [
    "{k: v / len(otc_dataloader.dataset) for k, v in class_counts.most_common()}"
   ]
  },
  {
   "cell_type": "markdown",
   "metadata": {},
   "source": [
    "## Result\n",
    "\n",
    "Trained class attention model, **when evaluated on zero-shot classes only**, is significantly better than a random baseline or a constant baseline\n",
    "\n",
    "* Random accuracy: 0.10\n",
    "* BERT without fine-tuning: 0.15\n",
    "* Best constant accuracy: 0.36\n",
    "* Model: 0.60"
   ]
  },
  {
   "cell_type": "code",
   "execution_count": 57,
   "metadata": {},
   "outputs": [],
   "source": [
    "all_classes_ids = label_tokenizer.batch_encode_plus(\n",
    "    all_classes_str,\n",
    "    return_tensors=\"pt\",\n",
    "    add_special_tokens=True,\n",
    "    padding=True,\n",
    ")[\"input_ids\"]\n",
    "\n",
    "all_classes_collator = cat.CatTestCollator(\n",
    "    possible_labels_ids=all_classes_ids, pad_token_id=label_tokenizer.pad_token_id\n",
    ")\n",
    "\n",
    "otc_dataloader_all_classes = torch.utils.data.DataLoader(otc_dataset, collate_fn=all_classes_collator, shuffle=False, pin_memory=True)"
   ]
  },
  {
   "cell_type": "code",
   "execution_count": 60,
   "metadata": {},
   "outputs": [
    {
     "data": {
      "text/plain": [
       "{'acc': tensor(0.0171, device='cuda:2'),\n",
       " 'P/TRAVEL': 0.0,\n",
       " 'R/TRAVEL': 0.0,\n",
       " 'F1/TRAVEL': 0.0,\n",
       " 'P/FOOD & DRINK': 0.0,\n",
       " 'R/FOOD & DRINK': 0.0,\n",
       " 'F1/FOOD & DRINK': 0.0,\n",
       " 'P/IMPACT': 0.0,\n",
       " 'R/IMPACT': 0.0,\n",
       " 'F1/IMPACT': 0.0,\n",
       " 'P/BLACK VOICES': 0.0,\n",
       " 'R/BLACK VOICES': 0.0,\n",
       " 'F1/BLACK VOICES': 0.0,\n",
       " 'P/BUSINESS': 0.0,\n",
       " 'R/BUSINESS': 0.0,\n",
       " 'F1/BUSINESS': 0.0,\n",
       " 'P/POLITICS': 0.0,\n",
       " 'R/POLITICS': 0.0,\n",
       " 'F1/POLITICS': 0.0,\n",
       " 'P/SPORTS': 0.9285714219387756,\n",
       " 'R/SPORTS': 0.05220883532039806,\n",
       " 'F1/SPORTS': 0.09885930543451643,\n",
       " 'P/FIFTY': 0.0,\n",
       " 'R/FIFTY': 0.0,\n",
       " 'F1/FIFTY': 0.0,\n",
       " 'P/PARENTS': 0.0,\n",
       " 'R/PARENTS': 0.0,\n",
       " 'F1/PARENTS': 0.0,\n",
       " 'P/MEDIA': 0.4999999750000013,\n",
       " 'R/MEDIA': 0.0073529411710640145,\n",
       " 'F1/MEDIA': 0.014492750745642099,\n",
       " 'P/GREEN': 0.0,\n",
       " 'R/GREEN': 0.0,\n",
       " 'F1/GREEN': 0.0,\n",
       " 'P/ARTS & CULTURE': 0.0,\n",
       " 'R/ARTS & CULTURE': 0.0,\n",
       " 'F1/ARTS & CULTURE': 0.0,\n",
       " 'P/WELLNESS': 0.9999999500000026,\n",
       " 'R/WELLNESS': 0.0022396416570840266,\n",
       " 'F1/WELLNESS': 0.0044692732960894075,\n",
       " 'P/QUEER VOICES': 0.9999999666666678,\n",
       " 'R/QUEER VOICES': 0.00909090908815427,\n",
       " 'F1/QUEER VOICES': 0.018018016221627152,\n",
       " 'P/MONEY': 0.0,\n",
       " 'R/MONEY': 0.0,\n",
       " 'F1/MONEY': 0.0,\n",
       " 'P/WEDDINGS': 0.0,\n",
       " 'R/WEDDINGS': 0.0,\n",
       " 'F1/WEDDINGS': 0.0,\n",
       " 'P/STYLE': 0.0,\n",
       " 'R/STYLE': 0.0,\n",
       " 'F1/STYLE': 0.0,\n",
       " 'P/ARTS': 0.0,\n",
       " 'R/ARTS': 0.0,\n",
       " 'F1/ARTS': 0.0,\n",
       " 'P/SCIENCE': 0.0,\n",
       " 'R/SCIENCE': 0.0,\n",
       " 'F1/SCIENCE': 0.0,\n",
       " 'P/PARENTING': 0.0,\n",
       " 'R/PARENTING': 0.0,\n",
       " 'F1/PARENTING': 0.0,\n",
       " 'P/HEALTHY LIVING': 0.0,\n",
       " 'R/HEALTHY LIVING': 0.0,\n",
       " 'F1/HEALTHY LIVING': 0.0,\n",
       " 'P/THE WORLDPOST': 0.0,\n",
       " 'R/THE WORLDPOST': 0.0,\n",
       " 'F1/THE WORLDPOST': 0.0,\n",
       " 'P/WEIRD NEWS': 0.0,\n",
       " 'R/WEIRD NEWS': 0.0,\n",
       " 'F1/WEIRD NEWS': 0.0,\n",
       " 'P/COMEDY': 0.0,\n",
       " 'R/COMEDY': 0.0,\n",
       " 'F1/COMEDY': 0.0,\n",
       " 'P/WORLD NEWS': 0.0,\n",
       " 'R/WORLD NEWS': 0.0,\n",
       " 'F1/WORLD NEWS': 0.0,\n",
       " 'P/CRIME': 0.0,\n",
       " 'R/CRIME': 0.0,\n",
       " 'F1/CRIME': 0.0,\n",
       " 'P/WOMEN': 0.0,\n",
       " 'R/WOMEN': 0.0,\n",
       " 'F1/WOMEN': 0.0,\n",
       " 'P/STYLE & BEAUTY': 0.0,\n",
       " 'R/STYLE & BEAUTY': 0.0,\n",
       " 'F1/STYLE & BEAUTY': 0.0,\n",
       " 'P/DIVORCE': 0.94999999525,\n",
       " 'R/DIVORCE': 0.10326086950909735,\n",
       " 'F1/DIVORCE': 0.18627449193579554,\n",
       " 'P/COLLEGE': 0.0,\n",
       " 'R/COLLEGE': 0.0,\n",
       " 'F1/COLLEGE': 0.0,\n",
       " 'P/TASTE': 0.0,\n",
       " 'R/TASTE': 0.0,\n",
       " 'F1/TASTE': 0.0,\n",
       " 'P/CULTURE & ARTS': 0.0,\n",
       " 'R/CULTURE & ARTS': 0.0,\n",
       " 'F1/CULTURE & ARTS': 0.0,\n",
       " 'P/HOME & LIVING': 0.9999999000000099,\n",
       " 'R/HOME & LIVING': 0.004651162788534343,\n",
       " 'F1/HOME & LIVING': 0.00925925832904664,\n",
       " 'P/GOOD NEWS': 0.0,\n",
       " 'R/GOOD NEWS': 0.0,\n",
       " 'F1/GOOD NEWS': 0.0,\n",
       " 'P/TECH': 0.0,\n",
       " 'R/TECH': 0.0,\n",
       " 'F1/TECH': 0.0,\n",
       " 'P/RELIGION': 0.0,\n",
       " 'R/RELIGION': 0.0,\n",
       " 'F1/RELIGION': 0.0,\n",
       " 'P/LATINO VOICES': 0.0,\n",
       " 'R/LATINO VOICES': 0.0,\n",
       " 'F1/LATINO VOICES': 0.0,\n",
       " 'P/ENTERTAINMENT': 0.0,\n",
       " 'R/ENTERTAINMENT': 0.0,\n",
       " 'F1/ENTERTAINMENT': 0.0,\n",
       " 'P/EDUCATION': 0.0,\n",
       " 'R/EDUCATION': 0.0,\n",
       " 'F1/EDUCATION': 0.0,\n",
       " 'P/WORLDPOST': 0.42857142244897967,\n",
       " 'R/WORLDPOST': 0.024390243882609557,\n",
       " 'F1/WORLDPOST': 0.04615383589349324,\n",
       " 'P/ENVIRONMENT': 0.0,\n",
       " 'R/ENVIRONMENT': 0.0,\n",
       " 'F1/ENVIRONMENT': 0.0,\n",
       " 'R_zero_shot': 0.0253993254271177,\n",
       " 'P_zero_shot': 0.7258928289130546,\n",
       " 'F1_zero_shot': 0.04719086648202631,\n",
       " 'R_multi_shot': 0.0,\n",
       " 'P_multi_shot': 0.0,\n",
       " 'F1_multi_shot': 0.0}"
      ]
     },
     "execution_count": 60,
     "metadata": {},
     "output_type": "execute_result"
    }
   ],
   "source": [
    "cat.utils.evaluate_model_per_class(\n",
    "    model,\n",
    "    otc_dataloader_all_classes,\n",
    "    device=args.device,\n",
    "    labels_str=all_classes_str,\n",
    "    zeroshot_labels=test_classes_str,\n",
    ")"
   ]
  },
  {
   "cell_type": "code",
   "execution_count": 62,
   "metadata": {},
   "outputs": [
    {
     "data": {
      "text/plain": [
       "(0.5357142855017006, 0.5421686744810568, 0.5389221054752815)"
      ]
     },
     "execution_count": 62,
     "metadata": {},
     "output_type": "execute_result"
    }
   ],
   "source": [
    "metrics[\"P/SPORTS\"], metrics[\"R/SPORTS\"], metrics[\"F1/SPORTS\"]"
   ]
  },
  {
   "cell_type": "code",
   "execution_count": null,
   "metadata": {},
   "outputs": [],
   "source": []
  }
 ],
 "metadata": {
  "kernelspec": {
   "display_name": "cat",
   "language": "python",
   "name": "cat"
  },
  "language_info": {
   "codemirror_mode": {
    "name": "ipython",
    "version": 3
   },
   "file_extension": ".py",
   "mimetype": "text/x-python",
   "name": "python",
   "nbconvert_exporter": "python",
   "pygments_lexer": "ipython3",
   "version": "3.8.5"
  }
 },
 "nbformat": 4,
 "nbformat_minor": 4
}
