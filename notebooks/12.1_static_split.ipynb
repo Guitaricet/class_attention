{
 "cells": [
  {
   "cell_type": "markdown",
   "metadata": {},
   "source": [
    "# Static split\n",
    "\n",
    "Create a dataset with a standartized split"
   ]
  },
  {
   "cell_type": "code",
   "execution_count": 1,
   "metadata": {},
   "outputs": [],
   "source": [
    "import argparse\n",
    "import logging\n",
    "import pprint\n",
    "import os\n",
    "import sys\n",
    "from itertools import chain\n",
    "from collections import Counter\n",
    "\n",
    "import torch\n",
    "import torch.utils.data\n",
    "import torch.nn.functional as F\n",
    "import transformers\n",
    "import datasets\n",
    "import wandb\n",
    "\n",
    "from tqdm import tqdm\n",
    "\n",
    "import class_attention as cat"
   ]
  },
  {
   "cell_type": "markdown",
   "metadata": {},
   "source": [
    "# Semantic Split\n",
    "\n",
    "The test classes are pre-selected for this split based on their names"
   ]
  },
  {
   "cell_type": "code",
   "execution_count": 10,
   "metadata": {},
   "outputs": [
    {
     "name": "stderr",
     "output_type": "stream",
     "text": [
      "Using custom data configuration default\n",
      "Reusing dataset news_category (/home/vlialin/.cache/huggingface/datasets/news_category/default/0.0.0/737b7b6dff469cbba49a6202c9e94f9d39da1fed94e13170cf7ac4b61a75fb9c)\n"
     ]
    }
   ],
   "source": [
    "news_dataset = datasets.load_dataset(\"Fraser/news-category-dataset\")\n",
    "train_set = news_dataset[\"train\"]\n",
    "test_set = news_dataset[\"validation\"]"
   ]
  },
  {
   "cell_type": "code",
   "execution_count": 11,
   "metadata": {},
   "outputs": [
    {
     "data": {
      "text/plain": [
       "DatasetDict({\n",
       "    train: Dataset({\n",
       "        features: ['category_num', 'category', 'headline', 'authors', 'link', 'short_description', 'date'],\n",
       "        num_rows: 160682\n",
       "    })\n",
       "    test: Dataset({\n",
       "        features: ['category_num', 'category', 'headline', 'authors', 'link', 'short_description', 'date'],\n",
       "        num_rows: 30128\n",
       "    })\n",
       "    validation: Dataset({\n",
       "        features: ['category_num', 'category', 'headline', 'authors', 'link', 'short_description', 'date'],\n",
       "        num_rows: 10043\n",
       "    })\n",
       "})"
      ]
     },
     "execution_count": 11,
     "metadata": {},
     "output_type": "execute_result"
    }
   ],
   "source": [
    "news_dataset"
   ]
  },
  {
   "cell_type": "code",
   "execution_count": 4,
   "metadata": {},
   "outputs": [
    {
     "data": {
      "text/plain": [
       "[('POLITICS', 26127),\n",
       " ('WELLNESS', 14274),\n",
       " ('ENTERTAINMENT', 12904),\n",
       " ('TRAVEL', 7870),\n",
       " ('STYLE & BEAUTY', 7769),\n",
       " ('PARENTING', 6971),\n",
       " ('HEALTHY LIVING', 5343),\n",
       " ('QUEER VOICES', 5034),\n",
       " ('FOOD & DRINK', 4990),\n",
       " ('BUSINESS', 4744),\n",
       " ('COMEDY', 4107),\n",
       " ('SPORTS', 3933),\n",
       " ('BLACK VOICES', 3649),\n",
       " ('HOME & LIVING', 3322),\n",
       " ('PARENTS', 3183),\n",
       " ('WEDDINGS', 2936),\n",
       " ('THE WORLDPOST', 2868),\n",
       " ('WOMEN', 2785),\n",
       " ('IMPACT', 2769),\n",
       " ('DIVORCE', 2728),\n",
       " ('CRIME', 2720),\n",
       " ('MEDIA', 2266),\n",
       " ('WEIRD NEWS', 2124),\n",
       " ('RELIGION', 2080),\n",
       " ('GREEN', 2074),\n",
       " ('WORLDPOST', 2071),\n",
       " ('STYLE', 1835),\n",
       " ('SCIENCE', 1738),\n",
       " ('WORLD NEWS', 1734),\n",
       " ('TECH', 1697),\n",
       " ('TASTE', 1683),\n",
       " ('MONEY', 1366),\n",
       " ('ARTS', 1204),\n",
       " ('GOOD NEWS', 1131),\n",
       " ('FIFTY', 1114),\n",
       " ('ARTS & CULTURE', 1065),\n",
       " ('ENVIRONMENT', 1052),\n",
       " ('COLLEGE', 909),\n",
       " ('LATINO VOICES', 900),\n",
       " ('CULTURE & ARTS', 824),\n",
       " ('EDUCATION', 789)]"
      ]
     },
     "execution_count": 4,
     "metadata": {},
     "output_type": "execute_result"
    }
   ],
   "source": [
    "Counter(train_set[\"category\"]).most_common()"
   ]
  },
  {
   "cell_type": "markdown",
   "metadata": {},
   "source": [
    "### A note on labels\n",
    "\n",
    "The dataset we use (`Fraser/news-category-dataset`) has some interesting particularities in the class names.\n",
    "\n",
    "For example, it has classes `STYLE` and `STYLE & BEAUTY` or `WORLD NEWS` and `NEWS`. I.e., some classes contain other classes names in their name.\n",
    "The classes that have `&` in their name have a similar particularity. Some of the categories does not seem to be distinguishable. E.g., `THE WORLDPOST` and `WORLDPOST` or `ARTS & CULTURE` and `CULTURE & ARTS`.\n",
    "\n",
    "\n",
    "\n",
    "* &\t: STYLE & BEAUTY, ARTS & CULTURE, HOME & LIVING, FOOD & DRINK, CULTURE & ARTS\n",
    "* VOICES\t: LATINO VOICES, BLACK VOICES, QUEER VOICES\n",
    "* NEWS\t: WEIRD NEWS, GOOD NEWS, WORLD NEWS\n",
    "* ARTS\t: ARTS, ARTS & CULTURE, CULTURE & ARTS\n",
    "* CULTURE\t: ARTS & CULTURE, CULTURE & ARTS\n",
    "* LIVING\t: HEALTHY LIVING, HOME & LIVING\n",
    "* WORLDPOST\t: THE WORLDPOST, WORLDPOST\n",
    "* WORLD\t: THE WORLDPOST, WORLDPOST"
   ]
  },
  {
   "cell_type": "code",
   "execution_count": 12,
   "metadata": {},
   "outputs": [],
   "source": [
    "test_classes = [\n",
    "    \"LATINO VOICES\",  # related to BLACK VOICES, QUEER VOICES, \n",
    "    \"PARENTS\",        # related to PARENTING\n",
    "    \"DIVORCE\",        # related to WEDDINGS\n",
    "    \"WORLDPOST\",      # related to THE WORLDPOST, \n",
    "    \"STYLE\",          # related to STYLE & BEAUTY, \n",
    "    \"WORLD NEWS\",     # related to WEIRD NEWS, GOOD NEWS\n",
    "    \"CULTURE & ARTS\", # related to ARTS & CULTURE\n",
    "    \"EDUCATION\",      # related to COLLEGE, SCIENCE, \n",
    "]"
   ]
  },
  {
   "cell_type": "code",
   "execution_count": 13,
   "metadata": {},
   "outputs": [],
   "source": [
    "# # TODO: UMAP?\n",
    "\n",
    "# import umap\n",
    "\n",
    "# embeddings = BERT(all_classes)\n",
    "\n",
    "# umap_model = umap.UMAP()\n",
    "# umap_emb = umap_model.fit_transform(embeddings)"
   ]
  },
  {
   "cell_type": "code",
   "execution_count": 14,
   "metadata": {},
   "outputs": [
    {
     "name": "stdout",
     "output_type": "stream",
     "text": [
      "Moving the following classes to a class-test set: ['LATINO VOICES', 'PARENTS', 'DIVORCE', 'WORLDPOST', 'STYLE', 'WORLD NEWS', 'CULTURE & ARTS', 'EDUCATION']\n"
     ]
    }
   ],
   "source": [
    "reduced_train_set, _train_set_remainder = cat.utils.split_classes(\n",
    "    train_set, test_classes=test_classes, verbose=True\n",
    ")"
   ]
  },
  {
   "cell_type": "code",
   "execution_count": 16,
   "metadata": {},
   "outputs": [
    {
     "data": {
      "text/plain": [
       "DatasetDict({\n",
       "    train: Dataset({\n",
       "        features: ['authors', 'category', 'category_num', 'date', 'headline', 'link', 'short_description'],\n",
       "        num_rows: 146618\n",
       "    })\n",
       "    test: Dataset({\n",
       "        features: ['category_num', 'category', 'headline', 'authors', 'link', 'short_description', 'date'],\n",
       "        num_rows: 30128\n",
       "    })\n",
       "    validation: Dataset({\n",
       "        features: ['category_num', 'category', 'headline', 'authors', 'link', 'short_description', 'date'],\n",
       "        num_rows: 10043\n",
       "    })\n",
       "})"
      ]
     },
     "execution_count": 16,
     "metadata": {},
     "output_type": "execute_result"
    }
   ],
   "source": [
    "news_dataset[\"train\"] = reduced_train_set\n",
    "news_dataset"
   ]
  },
  {
   "cell_type": "code",
   "execution_count": 18,
   "metadata": {},
   "outputs": [],
   "source": [
    "news_dataset.save_to_disk(\"../data/news-category-semantic-split\")"
   ]
  },
  {
   "cell_type": "code",
   "execution_count": 19,
   "metadata": {},
   "outputs": [],
   "source": [
    "p = 0.1\n",
    "news_dataset[\"train\"] = cat.utils.sample_dataset(news_dataset[\"train\"], p)\n",
    "news_dataset[\"validation\"] = cat.utils.sample_dataset(news_dataset[\"validation\"], p)\n",
    "news_dataset[\"test\"] = cat.utils.sample_dataset(news_dataset[\"test\"], p)\n",
    "\n",
    "news_dataset.save_to_disk(\"../data/news-category-semantic-split-small\")"
   ]
  },
  {
   "cell_type": "markdown",
   "metadata": {},
   "source": [
    "# Random split\n",
    "\n",
    "The test classes are randomly chosen"
   ]
  },
  {
   "cell_type": "code",
   "execution_count": 22,
   "metadata": {},
   "outputs": [
    {
     "name": "stderr",
     "output_type": "stream",
     "text": [
      "Using custom data configuration default\n",
      "Reusing dataset news_category (/home/vlialin/.cache/huggingface/datasets/news_category/default/0.0.0/737b7b6dff469cbba49a6202c9e94f9d39da1fed94e13170cf7ac4b61a75fb9c)\n"
     ]
    }
   ],
   "source": [
    "news_dataset = datasets.load_dataset(\"Fraser/news-category-dataset\")\n",
    "train_set = news_dataset[\"train\"]\n",
    "test_set = news_dataset[\"validation\"]"
   ]
  },
  {
   "cell_type": "code",
   "execution_count": 23,
   "metadata": {},
   "outputs": [
    {
     "name": "stdout",
     "output_type": "stream",
     "text": [
      "Moving the following classes to a class-test set: ['COLLEGE', 'ARTS', 'POLITICS', 'RELIGION', 'WORLD NEWS', 'SPORTS', 'EDUCATION', 'TRAVEL']\n"
     ]
    },
    {
     "data": {
      "text/plain": [
       "DatasetDict({\n",
       "    train: Dataset({\n",
       "        features: ['authors', 'category', 'category_num', 'date', 'headline', 'link', 'short_description'],\n",
       "        num_rows: 116036\n",
       "    })\n",
       "    test: Dataset({\n",
       "        features: ['category_num', 'category', 'headline', 'authors', 'link', 'short_description', 'date'],\n",
       "        num_rows: 30128\n",
       "    })\n",
       "    validation: Dataset({\n",
       "        features: ['category_num', 'category', 'headline', 'authors', 'link', 'short_description', 'date'],\n",
       "        num_rows: 10043\n",
       "    })\n",
       "})"
      ]
     },
     "execution_count": 23,
     "metadata": {},
     "output_type": "execute_result"
    }
   ],
   "source": [
    "reduced_train_set, _train_set_remainder = cat.utils.split_classes(\n",
    "    train_set, p_test_classes=0.2, verbose=True,\n",
    ")\n",
    "news_dataset[\"train\"] = reduced_train_set\n",
    "news_dataset"
   ]
  },
  {
   "cell_type": "code",
   "execution_count": 24,
   "metadata": {},
   "outputs": [],
   "source": [
    "news_dataset.save_to_disk(\"../data/news-category-random-split\")"
   ]
  },
  {
   "cell_type": "code",
   "execution_count": 25,
   "metadata": {},
   "outputs": [],
   "source": [
    "p = 0.1\n",
    "news_dataset[\"train\"] = cat.utils.sample_dataset(news_dataset[\"train\"], p)\n",
    "news_dataset[\"validation\"] = cat.utils.sample_dataset(news_dataset[\"validation\"], p)\n",
    "news_dataset[\"test\"] = cat.utils.sample_dataset(news_dataset[\"test\"], p)\n",
    "\n",
    "news_dataset.save_to_disk(\"../data/news-category-random-split-small\")"
   ]
  },
  {
   "cell_type": "markdown",
   "metadata": {},
   "source": [
    "# Loading"
   ]
  },
  {
   "cell_type": "code",
   "execution_count": 28,
   "metadata": {},
   "outputs": [],
   "source": [
    "semantic_small = datasets.load_from_disk(\"../data/news-category-semantic-split-small\")"
   ]
  },
  {
   "cell_type": "code",
   "execution_count": 29,
   "metadata": {},
   "outputs": [
    {
     "data": {
      "text/plain": [
       "DatasetDict({\n",
       "    train: Dataset({\n",
       "        features: ['authors', 'category', 'category_num', 'date', 'headline', 'link', 'short_description'],\n",
       "        num_rows: 14661\n",
       "    })\n",
       "    test: Dataset({\n",
       "        features: ['authors', 'category', 'category_num', 'date', 'headline', 'link', 'short_description'],\n",
       "        num_rows: 3012\n",
       "    })\n",
       "    validation: Dataset({\n",
       "        features: ['authors', 'category', 'category_num', 'date', 'headline', 'link', 'short_description'],\n",
       "        num_rows: 1004\n",
       "    })\n",
       "})"
      ]
     },
     "execution_count": 29,
     "metadata": {},
     "output_type": "execute_result"
    }
   ],
   "source": [
    "semantic_small"
   ]
  },
  {
   "cell_type": "code",
   "execution_count": null,
   "metadata": {},
   "outputs": [],
   "source": []
  }
 ],
 "metadata": {
  "kernelspec": {
   "display_name": "cat",
   "language": "python",
   "name": "cat"
  },
  "language_info": {
   "codemirror_mode": {
    "name": "ipython",
    "version": 3
   },
   "file_extension": ".py",
   "mimetype": "text/x-python",
   "name": "python",
   "nbconvert_exporter": "python",
   "pygments_lexer": "ipython3",
   "version": "3.8.5"
  }
 },
 "nbformat": 4,
 "nbformat_minor": 4
}
