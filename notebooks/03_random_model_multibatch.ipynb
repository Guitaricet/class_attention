{
 "cells": [
  {
   "cell_type": "markdown",
   "metadata": {},
   "source": [
    "# Class attention on random inputs, multibatch\n",
    "## FROZEN, DO NOT MODIFY\n",
    "\n",
    "Same as `02_random_model.ipynb`, but now with multiple batches"
   ]
  },
  {
   "cell_type": "code",
   "execution_count": 19,
   "metadata": {},
   "outputs": [],
   "source": [
    "import random\n",
    "\n",
    "import torch\n",
    "import torch.nn as nn\n",
    "import torch.nn.functional as F\n",
    "\n",
    "import wandb\n",
    "import matplotlib.pyplot as plt\n",
    "from tqdm.auto import tqdm"
   ]
  },
  {
   "cell_type": "code",
   "execution_count": 3,
   "metadata": {},
   "outputs": [],
   "source": [
    "def detorch(x):\n",
    "    return x.detach().cpu().numpy()"
   ]
  },
  {
   "cell_type": "code",
   "execution_count": 14,
   "metadata": {},
   "outputs": [],
   "source": [
    "input_size = 7\n",
    "hidden_size = 11\n",
    "n_classes = 5\n",
    "batch_size = 5"
   ]
  },
  {
   "cell_type": "code",
   "execution_count": 15,
   "metadata": {},
   "outputs": [],
   "source": [
    "\n",
    "class ClassAttentionModel(nn.Module):\n",
    "    def __init__(self,):\n",
    "        super().__init__()\n",
    "\n",
    "        self.x_enc = nn.Sequential(nn.Linear(input_size, hidden_size),\n",
    "                                   nn.ReLU(),\n",
    "                                   nn.Linear(hidden_size, hidden_size))\n",
    "\n",
    "        self.c_enc = nn.Embedding(n_classes, hidden_size)\n",
    "\n",
    "    def forward(self, x, c):\n",
    "        h_x = self.x_enc(x)\n",
    "        h_c = self.c_enc(c)\n",
    "        \n",
    "        logits = h_x @ h_c.T\n",
    "\n",
    "        return logits\n",
    "\n",
    "\n",
    "class ClassAttentionWNet(nn.Module):\n",
    "    def __init__(self,):\n",
    "        super().__init__()\n",
    "\n",
    "        self.x_enc = nn.Sequential(nn.Linear(input_size, hidden_size),\n",
    "                                   nn.ReLU(),\n",
    "                                   nn.Linear(hidden_size, hidden_size))\n",
    "\n",
    "        self.c_enc = nn.Sequential(nn.Embedding(n_classes, hidden_size),\n",
    "                                   nn.ReLU(),\n",
    "                                   nn.Linear(hidden_size, hidden_size))\n",
    "\n",
    "    def forward(self, x, c):\n",
    "        h_x = self.x_enc(x)\n",
    "        h_c = self.c_enc(c)\n",
    "        \n",
    "        logits = h_x @ h_c.T\n",
    "\n",
    "        return logits\n",
    "\n"
   ]
  },
  {
   "cell_type": "code",
   "execution_count": 16,
   "metadata": {},
   "outputs": [
    {
     "name": "stdout",
     "output_type": "stream",
     "text": [
      "Possible labels:  ['Class 0', 'Class 1', 'Class 2', 'Class 3', 'Class 4']\n",
      "Label2c        :  {'Class 0': 0, 'Class 1': 1, 'Class 2': 2, 'Class 3': 3, 'Class 4': 4}\n",
      "c              :  tensor([0, 1, 2, 3, 4])\n"
     ]
    }
   ],
   "source": [
    "possible_labels = [f'Class {str(i)}' for i in range(n_classes)]\n",
    "label2c = {possible_labels[i]: i for i in range(len(possible_labels))}\n",
    "c = torch.LongTensor([label2c[l] for l in possible_labels])\n",
    "\n",
    "print(\"Possible labels: \", possible_labels)\n",
    "print(\"Label2c        : \", label2c)\n",
    "print(\"c              : \", c)"
   ]
  },
  {
   "cell_type": "markdown",
   "metadata": {},
   "source": [
    "## Two batches"
   ]
  },
  {
   "cell_type": "code",
   "execution_count": 17,
   "metadata": {},
   "outputs": [
    {
     "name": "stdout",
     "output_type": "stream",
     "text": [
      "X:  [tensor([[-0.3268, -0.6987, -0.7536, -0.7025,  0.5838,  0.7090, -0.3372],\n",
      "        [ 0.8319, -0.1393, -0.4443, -1.5168,  2.2508,  0.3853,  0.5634],\n",
      "        [-1.2892,  0.9209,  1.4465, -0.2462,  0.3336, -1.5688, -0.2925],\n",
      "        [-0.5761,  2.0432, -0.3994,  0.8740,  1.4812, -1.8933,  1.2436],\n",
      "        [ 0.5900, -0.1327, -0.8275,  1.1390, -0.0976, -0.8444,  0.9001]]), tensor([[-2.2890, -0.0473, -0.4151, -1.1469,  0.1377, -0.5843,  0.0974],\n",
      "        [-0.9918,  0.2942, -0.6511,  0.1985,  1.5275,  0.6463, -0.3871],\n",
      "        [-0.0928, -1.0577,  2.1610,  1.0595,  0.8058, -1.2605, -0.9218],\n",
      "        [-0.6854,  1.3127, -0.7749,  0.0586, -1.0749,  1.4801, -1.2496],\n",
      "        [ 1.0310, -1.7005, -0.7979, -0.4462, -2.3524,  1.2924,  0.8243]])]\n",
      "Labels         :  [['Class 4', 'Class 4', 'Class 3', 'Class 3', 'Class 2'], ['Class 1', 'Class 3', 'Class 3', 'Class 2', 'Class 3']]\n",
      "Labels Tensor  :  [tensor([4, 4, 3, 3, 2]), tensor([1, 3, 3, 2, 3])]\n"
     ]
    }
   ],
   "source": [
    "n_batches = 2\n",
    "\n",
    "xs = [torch.randn([batch_size, input_size]) for _ in range(n_batches)]\n",
    "\n",
    "y_strs = [random.choices(possible_labels, k=batch_size) for _ in range(n_batches)]\n",
    "# y != f(y_str),\n",
    "# y == f(y_str, possible_classes, batch)\n",
    "ys = [torch.LongTensor([label2c[s] for s in y_str]) for y_str in y_strs]\n",
    "\n",
    "\n",
    "print(\"X: \", xs)\n",
    "print(\"Labels         : \", y_strs)\n",
    "print(\"Labels Tensor  : \", ys)"
   ]
  },
  {
   "cell_type": "markdown",
   "metadata": {},
   "source": [
    "## Train class attention with class embeddings"
   ]
  },
  {
   "cell_type": "code",
   "execution_count": 20,
   "metadata": {},
   "outputs": [
    {
     "data": {
      "application/vnd.jupyter.widget-view+json": {
       "model_id": "a2ef65de15e148278e298bd5758c6aef",
       "version_major": 2,
       "version_minor": 0
      },
      "text/plain": [
       "HBox(children=(FloatProgress(value=0.0, max=200.0), HTML(value='')))"
      ]
     },
     "metadata": {},
     "output_type": "display_data"
    },
    {
     "name": "stdout",
     "output_type": "stream",
     "text": [
      "\n"
     ]
    },
    {
     "data": {
      "text/plain": [
       "Text(0.5, 1.0, 'Accuracy')"
      ]
     },
     "execution_count": 20,
     "metadata": {},
     "output_type": "execute_result"
    },
    {
     "data": {
      "image/png": "[encoded data removed]",
      "text/plain": [
       "<Figure size 432x288 with 1 Axes>"
      ]
     },
     "metadata": {
      "needs_background": "light"
     },
     "output_type": "display_data"
    },
    {
     "data": {
      "image/png": "[encoded data removed]",
      "text/plain": [
       "<Figure size 432x288 with 1 Axes>"
      ]
     },
     "metadata": {
      "needs_background": "light"
     },
     "output_type": "display_data"
    }
   ],
   "source": [
    "loss_hist = []\n",
    "acc_hist = []\n",
    "\n",
    "model = ClassAttentionModel()\n",
    "optimizer = torch.optim.Adam(model.parameters())\n",
    "\n",
    "\n",
    "for _ in tqdm(range(200)):\n",
    "    for x, y in zip(xs, ys):\n",
    "        optimizer.zero_grad()\n",
    "\n",
    "        logits = model(x, c)\n",
    "\n",
    "        loss = F.cross_entropy(logits, y)\n",
    "\n",
    "        _, preds = logits.max(-1)\n",
    "        acc = torch.sum(preds == y).float() / x.shape[0]\n",
    "\n",
    "        acc_hist.append(detorch(acc))\n",
    "        loss_hist.append(detorch(loss))\n",
    "\n",
    "        loss.backward()\n",
    "        optimizer.step()\n",
    "\n",
    "\n",
    "plt.figure()\n",
    "plt.plot(loss_hist)\n",
    "plt.title('Loss')\n",
    "\n",
    "plt.figure()\n",
    "plt.plot(acc_hist)\n",
    "plt.title('Accuracy')"
   ]
  },
  {
   "cell_type": "markdown",
   "metadata": {},
   "source": [
    "## Train class attention with a classs network"
   ]
  },
  {
   "cell_type": "code",
   "execution_count": 21,
   "metadata": {},
   "outputs": [
    {
     "data": {
      "application/vnd.jupyter.widget-view+json": {
       "model_id": "ca800db4734c41588d2e204e8508e4dd",
       "version_major": 2,
       "version_minor": 0
      },
      "text/plain": [
       "HBox(children=(FloatProgress(value=0.0, max=200.0), HTML(value='')))"
      ]
     },
     "metadata": {},
     "output_type": "display_data"
    },
    {
     "name": "stdout",
     "output_type": "stream",
     "text": [
      "\n"
     ]
    },
    {
     "data": {
      "text/plain": [
       "Text(0.5, 1.0, 'Accuracy')"
      ]
     },
     "execution_count": 21,
     "metadata": {},
     "output_type": "execute_result"
    },
    {
     "data": {
      "image/png": "[encoded data removed]",
      "text/plain": [
       "<Figure size 432x288 with 1 Axes>"
      ]
     },
     "metadata": {
      "needs_background": "light"
     },
     "output_type": "display_data"
    },
    {
     "data": {
      "image/png": "[encoded data removed]",
      "text/plain": [
       "<Figure size 432x288 with 1 Axes>"
      ]
     },
     "metadata": {
      "needs_background": "light"
     },
     "output_type": "display_data"
    }
   ],
   "source": [
    "loss_hist = []\n",
    "acc_hist = []\n",
    "\n",
    "model = ClassAttentionWNet()\n",
    "optimizer = torch.optim.Adam(model.parameters())\n",
    "\n",
    "\n",
    "for _ in tqdm(range(200)):\n",
    "    for x, y in zip(xs, ys):\n",
    "        optimizer.zero_grad()\n",
    "\n",
    "        logits = model(x, c)\n",
    "\n",
    "        loss = F.cross_entropy(logits, y)\n",
    "\n",
    "        _, preds = logits.max(-1)\n",
    "        acc = torch.sum(preds == y).float() / x.shape[0]\n",
    "\n",
    "        acc_hist.append(detorch(acc))\n",
    "        loss_hist.append(detorch(loss))\n",
    "\n",
    "        loss.backward()\n",
    "        optimizer.step()\n",
    "\n",
    "\n",
    "plt.figure()\n",
    "plt.plot(loss_hist)\n",
    "plt.title('Loss')\n",
    "\n",
    "plt.figure()\n",
    "plt.plot(acc_hist)\n",
    "plt.title('Accuracy')"
   ]
  },
  {
   "cell_type": "code",
   "execution_count": null,
   "metadata": {},
   "outputs": [],
   "source": []
  }
 ],
 "metadata": {
  "kernelspec": {
   "display_name": "Python 3",
   "language": "python",
   "name": "python3"
  },
  "language_info": {
   "codemirror_mode": {
    "name": "ipython",
    "version": 3
   },
   "file_extension": ".py",
   "mimetype": "text/x-python",
   "name": "python",
   "nbconvert_exporter": "python",
   "pygments_lexer": "ipython3",
   "version": "3.8.5"
  }
 },
 "nbformat": 4,
 "nbformat_minor": 4
}
