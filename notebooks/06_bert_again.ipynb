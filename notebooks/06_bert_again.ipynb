{
 "cells": [
  {
   "cell_type": "markdown",
   "metadata": {},
   "source": [
    "# Class attention applied to a text classification task using BERT\n",
    "\n",
    "Take two. Hopefully, the preprocessing tools will help to avoid bugs."
   ]
  },
  {
   "cell_type": "code",
   "execution_count": 46,
   "metadata": {},
   "outputs": [
    {
     "name": "stdout",
     "output_type": "stream",
     "text": [
      "The autoreload extension is already loaded. To reload it, use:\n",
      "  %reload_ext autoreload\n"
     ]
    }
   ],
   "source": [
    "import copy\n",
    "import random\n",
    "\n",
    "import torch\n",
    "import torch.nn as nn\n",
    "import torch.nn.functional as F\n",
    "\n",
    "import transformers\n",
    "from transformers import AutoModel, AutoTokenizer\n",
    "import datasets\n",
    "\n",
    "import wandb\n",
    "import matplotlib.pyplot as plt\n",
    "from tqdm.notebook import tqdm\n",
    "\n",
    "import class_attention as cat\n",
    "\n",
    "%load_ext autoreload\n",
    "%autoreload 2\n",
    "\n",
    "\n",
    "def detorch(x):\n",
    "    return x.detach().cpu().numpy()"
   ]
  },
  {
   "cell_type": "markdown",
   "metadata": {},
   "source": [
    "# Data"
   ]
  },
  {
   "cell_type": "code",
   "execution_count": 2,
   "metadata": {},
   "outputs": [
    {
     "name": "stderr",
     "output_type": "stream",
     "text": [
      "Using custom data configuration default\n",
      "Reusing dataset news_category (/Users/vladislavlialin/.cache/huggingface/datasets/news_category/default/0.0.0/737b7b6dff469cbba49a6202c9e94f9d39da1fed94e13170cf7ac4b61a75fb9c)\n"
     ]
    },
    {
     "name": "stdout",
     "output_type": "stream",
     "text": [
      "['POLITICS', 'WELLNESS', 'ENTERTAINMENT', 'TRAVEL', 'STYLE & BEAUTY', 'PARENTING', 'HEALTHY LIVING', 'QUEER VOICES', 'FOOD & DRINK', 'BUSINESS', 'COMEDY', 'SPORTS', 'BLACK VOICES', 'HOME & LIVING', 'PARENTS', 'THE WORLDPOST', 'WEDDINGS', 'WOMEN', 'IMPACT', 'DIVORCE', 'CRIME', 'MEDIA', 'WEIRD NEWS', 'GREEN', 'WORLDPOST', 'RELIGION', 'STYLE', 'SCIENCE', 'WORLD NEWS', 'TASTE', 'TECH', 'MONEY', 'ARTS', 'FIFTY', 'GOOD NEWS', 'ARTS & CULTURE', 'ENVIRONMENT', 'COLLEGE', 'LATINO VOICES', 'CULTURE & ARTS', 'EDUCATION']\n"
     ]
    }
   ],
   "source": [
    "dataset = datasets.load_dataset(\"Fraser/news-category-dataset\")\n",
    "all_classes = dataset['train'].features['category_num'].names\n",
    "print(all_classes)"
   ]
  },
  {
   "cell_type": "code",
   "execution_count": 3,
   "metadata": {},
   "outputs": [],
   "source": [
    "def sample_dataset(dataset, p):\n",
    "    \"\"\"\n",
    "    Args:\n",
    "        dataset: datasets.arrow_dataset.Dataset object\n",
    "        p: float, 0 < p <= 1\n",
    "    \n",
    "    Returns:\n",
    "        datasets.arrow_dataset.Dataset of size len(dataset) * p with random examples from the dataset\n",
    "        sampled without replacement\n",
    "    \"\"\"\n",
    "    if not 0 < p <= 1:\n",
    "        raise ValueError(p)\n",
    "\n",
    "    dataset_len = len(dataset)\n",
    "    sample_size = int(p * dataset_len)\n",
    "\n",
    "    ids = random.sample(range(len(dataset)), sample_size)\n",
    "    \n",
    "    # indexing actually creates dict with elements of len(ids), not a list\n",
    "    sampled_dataset_dict = dataset[ids]\n",
    "    sampled_dataset = datasets.arrow_dataset.Dataset.from_dict(sampled_dataset_dict)\n",
    "    return sampled_dataset"
   ]
  },
  {
   "cell_type": "code",
   "execution_count": 4,
   "metadata": {},
   "outputs": [
    {
     "data": {
      "text/plain": [
       "1606"
      ]
     },
     "execution_count": 4,
     "metadata": {},
     "output_type": "execute_result"
    }
   ],
   "source": [
    "toy_dataset = sample_dataset(dataset['train'], 0.001)\n",
    "len(toy_dataset)"
   ]
  },
  {
   "cell_type": "code",
   "execution_count": 5,
   "metadata": {},
   "outputs": [
    {
     "data": {
      "text/plain": [
       "'Oh, Snap! Slow Mo Guy Puts Tongue In Mouse Trap, Regreths It'"
      ]
     },
     "execution_count": 5,
     "metadata": {},
     "output_type": "execute_result"
    }
   ],
   "source": [
    "toy_dataset[0]['headline']"
   ]
  },
  {
   "cell_type": "markdown",
   "metadata": {},
   "source": [
    "# Text encoder"
   ]
  },
  {
   "cell_type": "code",
   "execution_count": 33,
   "metadata": {},
   "outputs": [
    {
     "data": {
      "text/plain": [
       "{'input_ids': [101, 2821, 1010, 10245, 999, 4030, 9587, 3124, 8509, 4416, 1999, 8000, 8132, 1010, 9038, 7898, 2009, 102], 'attention_mask': [1, 1, 1, 1, 1, 1, 1, 1, 1, 1, 1, 1, 1, 1, 1, 1, 1, 1]}"
      ]
     },
     "execution_count": 33,
     "metadata": {},
     "output_type": "execute_result"
    }
   ],
   "source": [
    "MODEL = 'distilbert-base-uncased'\n",
    "\n",
    "text_tokenizer = AutoTokenizer.from_pretrained(MODEL, fast=True)\n",
    "text_tokenizer.encode_plus(toy_dataset[0]['headline'])"
   ]
  },
  {
   "cell_type": "code",
   "execution_count": 7,
   "metadata": {},
   "outputs": [
    {
     "data": {
      "text/plain": [
       "'ARTS, ENVIRONMENT, ENTERTAINMENT, PARENTING, PARENTS, GREEN, CRIME, SPORTS, LATINO VOICES, SCIENCE, CULTURE & ARTS, POLITICS, STYLE, EDUCATION, TRAVEL, WORLDPOST, GOOD NEWS, HOME & LIVING, HEALTHY LIVING, FIFTY, TECH, THE WORLDPOST, BUSINESS, COLLEGE, MONEY, WEIRD NEWS, MEDIA, WELLNESS, COMEDY, RELIGION, STYLE & BEAUTY, WOMEN, TASTE, WEDDINGS, IMPACT, WORLD NEWS, FOOD & DRINK, ARTS & CULTURE, QUEER VOICES, DIVORCE, BLACK VOICES'"
      ]
     },
     "execution_count": 7,
     "metadata": {},
     "output_type": "execute_result"
    }
   ],
   "source": [
    "', '.join(set(toy_dataset['category']))"
   ]
  },
  {
   "cell_type": "markdown",
   "metadata": {},
   "source": [
    "# Label encoder\n",
    "\n",
    "Just use a tokenizer without UNK\n",
    "\n",
    "Note that the dataset we use (`Fraser/news-category-dataset`) has some interesting particularities in the class names.\n",
    "\n",
    "For example, it has classes `STYLE` and `STYLE & BEAUTY` or `WORLD NEWS` and `NEWS`. I.e., some classes contain other classes names in their name.\n",
    "The classes that have `&` in their name have a similar particularity. Some of the categories does not seem to be distinguishable. E.g., `THE WORLDPOST` and `WORLDPOST` or `ARTS & CULTURE` and `CULTURE & ARTS`."
   ]
  },
  {
   "cell_type": "code",
   "execution_count": 8,
   "metadata": {},
   "outputs": [
    {
     "name": "stdout",
     "output_type": "stream",
     "text": [
      "ARTS\t: ARTS & CULTURE, ARTS, CULTURE & ARTS\n",
      "VOICES\t: QUEER VOICES, LATINO VOICES, BLACK VOICES\n",
      "CULTURE\t: ARTS & CULTURE, CULTURE & ARTS\n",
      "&\t: HOME & LIVING, CULTURE & ARTS, FOOD & DRINK, ARTS & CULTURE, STYLE & BEAUTY\n",
      "STYLE\t: STYLE & BEAUTY, STYLE\n",
      "WORLDPOST\t: THE WORLDPOST, WORLDPOST\n",
      "NEWS\t: GOOD NEWS, WEIRD NEWS, WORLD NEWS\n",
      "LIVING\t: HOME & LIVING, HEALTHY LIVING\n",
      "WORLD\t: THE WORLDPOST, WORLDPOST\n"
     ]
    }
   ],
   "source": [
    "from collections import defaultdict\n",
    "from pprint import pprint\n",
    "\n",
    "_all_classes = set(toy_dataset['category'])\n",
    "_word2classes = defaultdict(set)\n",
    "\n",
    "for _class_name in set(_all_classes):\n",
    "    _similar_classes = []\n",
    "    for _class_word in _class_name.split(' '):\n",
    "        for _other_class in _all_classes:\n",
    "            if _class_name != _other_class and _class_word in _other_class:\n",
    "                _word2classes[_class_word].add(_other_class)\n",
    "\n",
    "for _w, _c in _word2classes.items():\n",
    "    print(f\"{_w}\\t: {', '.join(_c)}\")"
   ]
  },
  {
   "cell_type": "code",
   "execution_count": 9,
   "metadata": {},
   "outputs": [
    {
     "data": {
      "text/plain": [
       "[34, 15]"
      ]
     },
     "execution_count": 9,
     "metadata": {},
     "output_type": "execute_result"
    }
   ],
   "source": [
    "label_tokenizer = cat.utils.make_whitespace_tokenizer(toy_dataset['category'], unk_token=None)\n",
    "label_tokenizer.encode(toy_dataset[0]['category']).ids"
   ]
  },
  {
   "cell_type": "markdown",
   "metadata": {},
   "source": [
    "# Dataset object"
   ]
  },
  {
   "cell_type": "code",
   "execution_count": 10,
   "metadata": {},
   "outputs": [
    {
     "data": {
      "application/vnd.jupyter.widget-view+json": {
       "model_id": "3dc8678d846f4815be7aa40066fc9bdd",
       "version_major": 2,
       "version_minor": 0
      },
      "text/plain": [
       "Preprocessing Dataset:   0%|          | 0/1606 [00:00<?, ?it/s]"
      ]
     },
     "metadata": {},
     "output_type": "display_data"
    },
    {
     "data": {
      "text/plain": [
       "(tensor([  101,  2821,  1010, 10245,   999,  4030,  9587,  3124,  8509,  4416,\n",
       "          1999,  8000,  8132,  1010,  9038,  7898,  2009,   102]),\n",
       " tensor([34, 15]))"
      ]
     },
     "execution_count": 10,
     "metadata": {},
     "output_type": "execute_result"
    }
   ],
   "source": [
    "train_texts = toy_dataset['headline']\n",
    "train_labels = toy_dataset['category']\n",
    "dataset = cat.CatDataset(train_texts, text_tokenizer, train_labels, label_tokenizer)\n",
    "\n",
    "dataset[0]"
   ]
  },
  {
   "cell_type": "markdown",
   "metadata": {},
   "source": [
    "# Collator\n",
    "\n",
    "Collator also makes targets. Targets != labels as the labels are strings."
   ]
  },
  {
   "cell_type": "code",
   "execution_count": 11,
   "metadata": {},
   "outputs": [
    {
     "name": "stdout",
     "output_type": "stream",
     "text": [
      "Text:\n",
      "tensor([[  101,  2821,  1010, 10245,   999,  4030,  9587,  3124,  8509,  4416,\n",
      "          1999,  8000,  8132,  1010,  9038,  7898,  2009,   102],\n",
      "        [  101,  2030, 27844, 10288,  2401,  3475,  1005,  1056,  2740,  3993,\n",
      "          1025,  4445,  2003,  1996,  3115,  2137,  8738,   102]])\n",
      "\n",
      "Unique labels:\n",
      "tensor([[11,  7],\n",
      "        [34, 15]])\n",
      "Targets:\n",
      "tensor([1, 0])\n"
     ]
    }
   ],
   "source": [
    "from pprint import pprint\n",
    "\n",
    "collator = cat.CatCollator(pad_token_id=0)\n",
    "text_batch, unique_labels, targets = collator([dataset[0], dataset[2]])\n",
    "\n",
    "print('Text:')\n",
    "pprint(text_batch)\n",
    "\n",
    "print('\\nUnique labels:')\n",
    "pprint(unique_labels)\n",
    "\n",
    "print('Targets:')\n",
    "pprint(targets)"
   ]
  },
  {
   "cell_type": "markdown",
   "metadata": {},
   "source": [
    "# Dataloader"
   ]
  },
  {
   "cell_type": "code",
   "execution_count": 12,
   "metadata": {},
   "outputs": [],
   "source": [
    "dataloader = torch.utils.data.DataLoader(dataset, batch_size=32, collate_fn=collator)"
   ]
  },
  {
   "cell_type": "code",
   "execution_count": 13,
   "metadata": {},
   "outputs": [
    {
     "data": {
      "text/plain": [
       "(tensor([[  101,  2821,  1010,  ...,     0,     0,     0],\n",
       "         [  101, 20545, 22130,  ...,     0,     0,     0],\n",
       "         [  101,  2030, 27844,  ...,     0,     0,     0],\n",
       "         ...,\n",
       "         [  101,  1037,  7050,  ...,     0,     0,     0],\n",
       "         [  101,  1996,  4125,  ...,     0,     0,     0],\n",
       "         [  101,  2775, 28699,  ...,     0,     0,     0]]),\n",
       " tensor([[ 1,  0,  0],\n",
       "         [ 3,  0,  0],\n",
       "         [ 4,  0,  0],\n",
       "         [ 5,  0,  0],\n",
       "         [ 8,  0,  0],\n",
       "         [10,  0,  0],\n",
       "         [11,  7,  0],\n",
       "         [13,  0,  0],\n",
       "         [14,  0,  0],\n",
       "         [16,  2, 17],\n",
       "         [18,  2,  7],\n",
       "         [19,  0,  0],\n",
       "         [20,  0,  0],\n",
       "         [25,  0,  0],\n",
       "         [26,  0,  0],\n",
       "         [28,  2, 21],\n",
       "         [32,  0,  0],\n",
       "         [33,  0,  0],\n",
       "         [34, 15,  0],\n",
       "         [38,  0,  0]]),\n",
       " tensor([18,  2,  6,  0, 16,  1,  0, 12,  1,  3,  1,  2,  1, 12, 14,  5, 15,  0,\n",
       "          5, 10, 12,  8,  0, 11,  9,  0,  1, 17, 19, 13,  7,  4]))"
      ]
     },
     "execution_count": 13,
     "metadata": {},
     "output_type": "execute_result"
    }
   ],
   "source": [
    "next(iter(dataloader))"
   ]
  },
  {
   "cell_type": "markdown",
   "metadata": {},
   "source": [
    "# Model"
   ]
  },
  {
   "cell_type": "code",
   "execution_count": 86,
   "metadata": {},
   "outputs": [],
   "source": [
    "class ClassAttentionModelEmb(nn.Module):\n",
    "    def __init__(self, txt_encoder, n_classes, hidden_size):\n",
    "        super().__init__()\n",
    "\n",
    "        txt_encoder_h = get_output_dim(txt_encoder)\n",
    "        self.txt_encoder = txt_encoder\n",
    "        self.txt_out = nn.Linear(txt_encoder_h, hidden_size)\n",
    "\n",
    "        self.cls_encoder = nn.Sequential(\n",
    "            nn.EmbeddingBag(n_classes, hidden_size),\n",
    "            nn.ReLU(),\n",
    "            nn.Linear(hidden_size, hidden_size)\n",
    "        )\n",
    "\n",
    "    def forward(self, text_input, labels_input):\n",
    "        \"\"\"\n",
    "        Compute logits for input (input_dict,) corresponding to the classes (classes_dict)\n",
    "\n",
    "        Optionally, you can provide additional keys in either input_dict or classes_dict\n",
    "        Specifically, attention_mask, head_mask and inputs_embeds\n",
    "        Howerver, one should not provide output_attentions and output_hidden_states\n",
    "\n",
    "        Args:\n",
    "            text_input: dict with key input_ids\n",
    "                input_ids: LongTensor[batch_size, text_seq_len], input to the text network\n",
    "            labels_input: dict with key input_ids\n",
    "                input_ids: LongTensor[n_classes, class_seq_len], a list of possible classes, each class described via text\n",
    "        \"\"\"\n",
    "        self._validate_inputs(text_input, labels_input)\n",
    "\n",
    "        h_x = self.txt_encoder(**text_input)  # some tuple\n",
    "        h_x = h_x[0]  # FloatTensor[bs, text_seq_len, hidden]\n",
    "        h_x = h_x[:, 0]  # get CLS token representations, FloatTensor[bs, hidden]\n",
    "\n",
    "        h_c = self.cls_encoder(labels_input)  # FloatTensor[n_classes, hidden]\n",
    "\n",
    "        # attention map\n",
    "        h_x = self.txt_out(h_x)\n",
    "\n",
    "        logits = h_x @ h_c.T  # [bs, n_classes]\n",
    "        return logits\n",
    "\n",
    "    @staticmethod\n",
    "    def _validate_inputs(text_input_dict, classes_input_dict):\n",
    "        if not isinstance(text_input_dict, dict):\n",
    "            raise ValueError('text input should be a dict')\n",
    "        if not isinstance(classes_input_dict, torch.Tensor):\n",
    "            raise ValueError('classes input should be a torch.Tensor')\n",
    "\n",
    "        if classes_input_dict.shape[0] == 1:\n",
    "            raise RuntimeError(\n",
    "                'batch dimension of classes tensor is the number of possible classes and cannot be equal to one'\n",
    "            )\n",
    "\n",
    "        # check that labels_input does not have duplicated\n",
    "        unique_classes = torch.unique(classes_input_dict, dim=0)\n",
    "        if unique_classes.shape[0] != classes_input_dict.shape[0]:\n",
    "            raise ValueError('labels_input should only contain unique classes')\n",
    "\n",
    "\n",
    "def get_output_dim(model):\n",
    "    # config = model.config\n",
    "    # if isinstance(config, transformers.DistilBertConfig):\n",
    "    #     return config.hidden_size\n",
    "    return model.config.hidden_size\n"
   ]
  },
  {
   "cell_type": "code",
   "execution_count": 87,
   "metadata": {},
   "outputs": [],
   "source": [
    "text_encoder = AutoModel.from_pretrained(MODEL)\n",
    "\n",
    "model = ClassAttentionModelEmb(text_encoder, label_tokenizer.get_vocab_size(), hidden_size=32)"
   ]
  },
  {
   "cell_type": "code",
   "execution_count": 89,
   "metadata": {},
   "outputs": [
    {
     "data": {
      "text/plain": [
       "torch.Size([3, 7])"
      ]
     },
     "execution_count": 89,
     "metadata": {},
     "output_type": "execute_result"
    }
   ],
   "source": [
    "x = torch.randint(0, 100, size=[3, 5])\n",
    "c = torch.randint(0, 100, size=[7, 1])\n",
    "\n",
    "x_dict = {'input_ids': x}\n",
    "c_dict = {'input_ids': c}\n",
    "\n",
    "out = model(text_input=x_dict, labels_input=c)\n",
    "out.shape"
   ]
  },
  {
   "cell_type": "markdown",
   "metadata": {},
   "source": [
    "## Train class attention"
   ]
  },
  {
   "cell_type": "code",
   "execution_count": 90,
   "metadata": {},
   "outputs": [],
   "source": [
    "device = 'cpu'\n",
    "model = model.to(device)\n",
    "\n",
    "optimizer = torch.optim.Adam(model.parameters())"
   ]
  },
  {
   "cell_type": "code",
   "execution_count": 92,
   "metadata": {},
   "outputs": [
    {
     "name": "stderr",
     "output_type": "stream",
     "text": [
      "<ipython-input-92-7dac58781a41>:4: TqdmDeprecationWarning: This function will be removed in tqdm==5.0.0\n",
      "Please use `tqdm.notebook.tqdm` instead of `tqdm.tqdm_notebook`\n",
      "  for _ in tqdm(range(2)):\n"
     ]
    },
    {
     "data": {
      "application/vnd.jupyter.widget-view+json": {
       "model_id": "10150c1926c84ee18e52e99b36e2f6d4",
       "version_major": 2,
       "version_minor": 0
      },
      "text/plain": [
       "  0%|          | 0/2 [00:00<?, ?it/s]"
      ]
     },
     "metadata": {},
     "output_type": "display_data"
    },
    {
     "name": "stderr",
     "output_type": "stream",
     "text": [
      "<ipython-input-92-7dac58781a41>:5: TqdmDeprecationWarning: This function will be removed in tqdm==5.0.0\n",
      "Please use `tqdm.notebook.tqdm` instead of `tqdm.tqdm_notebook`\n",
      "  for x, c, y in tqdm(dataloader, total=(len(dataset) // dataloader.batch_size)):\n"
     ]
    },
    {
     "data": {
      "application/vnd.jupyter.widget-view+json": {
       "model_id": "30ef3600ec234f10a0f3410abb094db3",
       "version_major": 2,
       "version_minor": 0
      },
      "text/plain": [
       "  0%|          | 0/50 [00:00<?, ?it/s]"
      ]
     },
     "metadata": {},
     "output_type": "display_data"
    },
    {
     "data": {
      "application/vnd.jupyter.widget-view+json": {
       "model_id": "48fc250c6044457588f48a83809a1c8b",
       "version_major": 2,
       "version_minor": 0
      },
      "text/plain": [
       "  0%|          | 0/50 [00:00<?, ?it/s]"
      ]
     },
     "metadata": {},
     "output_type": "display_data"
    },
    {
     "data": {
      "text/plain": [
       "Text(0.5, 1.0, 'Accuracy')"
      ]
     },
     "execution_count": 92,
     "metadata": {},
     "output_type": "execute_result"
    },
    {
     "data": {
      "image/png": "[encoded data removed]",
      "text/plain": [
       "<Figure size 432x288 with 1 Axes>"
      ]
     },
     "metadata": {
      "needs_background": "light"
     },
     "output_type": "display_data"
    },
    {
     "data": {
      "image/png": "[encoded data removed]",
      "text/plain": [
       "<Figure size 432x288 with 1 Axes>"
      ]
     },
     "metadata": {
      "needs_background": "light"
     },
     "output_type": "display_data"
    }
   ],
   "source": [
    "loss_hist = []\n",
    "acc_hist = []\n",
    "\n",
    "for _ in tqdm(range(2)):\n",
    "    for x, c, y in tqdm(dataloader, total=(len(dataset) // dataloader.batch_size)):\n",
    "        optimizer.zero_grad()\n",
    "\n",
    "        x = x.to(device)\n",
    "        c = c.to(device)\n",
    "        y = y.to(device)\n",
    "\n",
    "        x_dict = {'input_ids': x}\n",
    "        logits = model(x_dict, c)\n",
    "\n",
    "        loss = F.cross_entropy(logits, y)\n",
    "\n",
    "        _, preds = logits.max(-1)\n",
    "        acc = torch.sum(preds == y).float() / x.shape[0]\n",
    "\n",
    "        acc_hist.append(detorch(acc))\n",
    "        loss_hist.append(detorch(loss))\n",
    "\n",
    "        loss.backward()\n",
    "        optimizer.step()\n",
    "\n",
    "\n",
    "plt.figure()\n",
    "plt.plot(loss_hist)\n",
    "plt.title('Loss')\n",
    "\n",
    "plt.figure()\n",
    "plt.plot(acc_hist)\n",
    "plt.title('Accuracy')"
   ]
  },
  {
   "cell_type": "code",
   "execution_count": null,
   "metadata": {},
   "outputs": [],
   "source": []
  }
 ],
 "metadata": {
  "kernelspec": {
   "display_name": "cat",
   "language": "python",
   "name": "cat"
  },
  "language_info": {
   "codemirror_mode": {
    "name": "ipython",
    "version": 3
   },
   "file_extension": ".py",
   "mimetype": "text/x-python",
   "name": "python",
   "nbconvert_exporter": "python",
   "pygments_lexer": "ipython3",
   "version": "3.8.5"
  }
 },
 "nbformat": 4,
 "nbformat_minor": 4
}
