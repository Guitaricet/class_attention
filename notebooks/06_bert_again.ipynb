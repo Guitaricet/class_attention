{
 "cells": [
  {
   "cell_type": "markdown",
   "metadata": {},
   "source": [
    "# Class attention applied to a text classification task using BERT\n",
    "\n",
    "Take two. Hopefully, the preprocessing tools will help to avoid bugs."
   ]
  },
  {
   "cell_type": "code",
   "execution_count": 1,
   "metadata": {},
   "outputs": [],
   "source": [
    "import copy\n",
    "import random\n",
    "\n",
    "import torch\n",
    "import torch.nn as nn\n",
    "import torch.nn.functional as F\n",
    "\n",
    "import transformers\n",
    "from transformers import AutoModel, AutoTokenizer\n",
    "import datasets\n",
    "\n",
    "import wandb\n",
    "import matplotlib.pyplot as plt\n",
    "from tqdm.notebook import tqdm\n",
    "\n",
    "import class_attention as cat\n",
    "\n",
    "%load_ext autoreload\n",
    "%autoreload 2\n",
    "\n",
    "\n",
    "def detorch(x):\n",
    "    return x.detach().cpu().numpy()"
   ]
  },
  {
   "cell_type": "markdown",
   "metadata": {},
   "source": [
    "# Data"
   ]
  },
  {
   "cell_type": "code",
   "execution_count": 2,
   "metadata": {},
   "outputs": [
    {
     "name": "stderr",
     "output_type": "stream",
     "text": [
      "Using custom data configuration default\n",
      "Reusing dataset news_category (/Users/vladislavlialin/.cache/huggingface/datasets/news_category/default/0.0.0/737b7b6dff469cbba49a6202c9e94f9d39da1fed94e13170cf7ac4b61a75fb9c)\n"
     ]
    },
    {
     "name": "stdout",
     "output_type": "stream",
     "text": [
      "['POLITICS', 'WELLNESS', 'ENTERTAINMENT', 'TRAVEL', 'STYLE & BEAUTY', 'PARENTING', 'HEALTHY LIVING', 'QUEER VOICES', 'FOOD & DRINK', 'BUSINESS', 'COMEDY', 'SPORTS', 'BLACK VOICES', 'HOME & LIVING', 'PARENTS', 'THE WORLDPOST', 'WEDDINGS', 'WOMEN', 'IMPACT', 'DIVORCE', 'CRIME', 'MEDIA', 'WEIRD NEWS', 'GREEN', 'WORLDPOST', 'RELIGION', 'STYLE', 'SCIENCE', 'WORLD NEWS', 'TASTE', 'TECH', 'MONEY', 'ARTS', 'FIFTY', 'GOOD NEWS', 'ARTS & CULTURE', 'ENVIRONMENT', 'COLLEGE', 'LATINO VOICES', 'CULTURE & ARTS', 'EDUCATION']\n"
     ]
    }
   ],
   "source": [
    "dataset = datasets.load_dataset(\"Fraser/news-category-dataset\")\n",
    "all_classes = dataset['train'].features['category_num'].names\n",
    "print(all_classes)"
   ]
  },
  {
   "cell_type": "code",
   "execution_count": 3,
   "metadata": {},
   "outputs": [],
   "source": [
    "def sample_dataset(dataset, p):\n",
    "    \"\"\"\n",
    "    Args:\n",
    "        dataset: datasets.arrow_dataset.Dataset object\n",
    "        p: float, 0 < p <= 1\n",
    "    \n",
    "    Returns:\n",
    "        datasets.arrow_dataset.Dataset of size len(dataset) * p with random examples from the dataset\n",
    "        sampled without replacement\n",
    "    \"\"\"\n",
    "    if not 0 < p <= 1:\n",
    "        raise ValueError(p)\n",
    "\n",
    "    dataset_len = len(dataset)\n",
    "    sample_size = int(p * dataset_len)\n",
    "\n",
    "    ids = random.sample(range(len(dataset)), sample_size)\n",
    "    \n",
    "    # indexing actually creates dict with elements of len(ids), not a list\n",
    "    sampled_dataset_dict = dataset[ids]\n",
    "    sampled_dataset = datasets.arrow_dataset.Dataset.from_dict(sampled_dataset_dict)\n",
    "    return sampled_dataset"
   ]
  },
  {
   "cell_type": "code",
   "execution_count": 4,
   "metadata": {},
   "outputs": [
    {
     "data": {
      "text/plain": [
       "160"
      ]
     },
     "execution_count": 4,
     "metadata": {},
     "output_type": "execute_result"
    }
   ],
   "source": [
    "toy_dataset = sample_dataset(dataset['train'], 0.001)\n",
    "len(toy_dataset)"
   ]
  },
  {
   "cell_type": "code",
   "execution_count": 5,
   "metadata": {},
   "outputs": [
    {
     "data": {
      "text/plain": [
       "'Thai Crunch Salad With Peanut Dressing'"
      ]
     },
     "execution_count": 5,
     "metadata": {},
     "output_type": "execute_result"
    }
   ],
   "source": [
    "toy_dataset[0]['headline']"
   ]
  },
  {
   "cell_type": "markdown",
   "metadata": {},
   "source": [
    "# Text encoder"
   ]
  },
  {
   "cell_type": "code",
   "execution_count": 6,
   "metadata": {},
   "outputs": [
    {
     "data": {
      "text/plain": [
       "{'input_ids': [101, 7273, 24514, 16521, 2007, 21443, 11225, 102], 'attention_mask': [1, 1, 1, 1, 1, 1, 1, 1]}"
      ]
     },
     "execution_count": 6,
     "metadata": {},
     "output_type": "execute_result"
    }
   ],
   "source": [
    "MODEL = 'distilbert-base-uncased'\n",
    "\n",
    "text_tokenizer = AutoTokenizer.from_pretrained(MODEL, fast=True)\n",
    "text_tokenizer.encode_plus(toy_dataset[0]['headline'])"
   ]
  },
  {
   "cell_type": "code",
   "execution_count": 7,
   "metadata": {},
   "outputs": [
    {
     "data": {
      "text/plain": [
       "'RELIGION, MEDIA, STYLE, MONEY, HOME & LIVING, BLACK VOICES, EDUCATION, ARTS, FOOD & DRINK, WEDDINGS, THE WORLDPOST, ARTS & CULTURE, WOMEN, DIVORCE, TRAVEL, SPORTS, GREEN, ENTERTAINMENT, CRIME, IMPACT, WORLDPOST, TECH, BUSINESS, LATINO VOICES, PARENTING, WELLNESS, COMEDY, STYLE & BEAUTY, POLITICS, WEIRD NEWS, HEALTHY LIVING, FIFTY, QUEER VOICES'"
      ]
     },
     "execution_count": 7,
     "metadata": {},
     "output_type": "execute_result"
    }
   ],
   "source": [
    "', '.join(set(toy_dataset['category']))"
   ]
  },
  {
   "cell_type": "markdown",
   "metadata": {},
   "source": [
    "# Label encoder\n",
    "\n",
    "Just use a tokenizer without UNK\n",
    "\n",
    "Note that the dataset we use (`Fraser/news-category-dataset`) has some interesting particularities in the class names.\n",
    "\n",
    "For example, it has classes `STYLE` and `STYLE & BEAUTY` or `WORLD NEWS` and `NEWS`. I.e., some classes contain other classes names in their name.\n",
    "The classes that have `&` in their name have a similar particularity. Some of the categories does not seem to be distinguishable. E.g., `THE WORLDPOST` and `WORLDPOST` or `ARTS & CULTURE` and `CULTURE & ARTS`."
   ]
  },
  {
   "cell_type": "code",
   "execution_count": 8,
   "metadata": {},
   "outputs": [
    {
     "name": "stdout",
     "output_type": "stream",
     "text": [
      "STYLE\t: STYLE & BEAUTY, STYLE\n",
      "&\t: ARTS & CULTURE, HOME & LIVING, STYLE & BEAUTY, FOOD & DRINK\n",
      "LIVING\t: HEALTHY LIVING, HOME & LIVING\n",
      "VOICES\t: BLACK VOICES, LATINO VOICES, QUEER VOICES\n",
      "ARTS\t: ARTS, ARTS & CULTURE\n",
      "WORLDPOST\t: WORLDPOST, THE WORLDPOST\n"
     ]
    }
   ],
   "source": [
    "from collections import defaultdict\n",
    "from pprint import pprint\n",
    "\n",
    "_all_classes = set(toy_dataset['category'])\n",
    "_word2classes = defaultdict(set)\n",
    "\n",
    "for _class_name in set(_all_classes):\n",
    "    _similar_classes = []\n",
    "    for _class_word in _class_name.split(' '):\n",
    "        for _other_class in _all_classes:\n",
    "            if _class_name != _other_class and _class_word in _other_class:\n",
    "                _word2classes[_class_word].add(_other_class)\n",
    "\n",
    "for _w, _c in _word2classes.items():\n",
    "    print(f\"{_w}\\t: {', '.join(_c)}\")"
   ]
  },
  {
   "cell_type": "code",
   "execution_count": 9,
   "metadata": {},
   "outputs": [
    {
     "data": {
      "text/plain": [
       "[12, 3, 13]"
      ]
     },
     "execution_count": 9,
     "metadata": {},
     "output_type": "execute_result"
    }
   ],
   "source": [
    "label_tokenizer = cat.utils.make_whitespace_tokenizer(toy_dataset['category'], unk_token=None)\n",
    "label_tokenizer.encode(toy_dataset[0]['category']).ids"
   ]
  },
  {
   "cell_type": "markdown",
   "metadata": {},
   "source": [
    "# Dataset object"
   ]
  },
  {
   "cell_type": "code",
   "execution_count": 10,
   "metadata": {},
   "outputs": [
    {
     "data": {
      "application/vnd.jupyter.widget-view+json": {
       "model_id": "2da552bbb48d45dab91090a0c85eeeed",
       "version_major": 2,
       "version_minor": 0
      },
      "text/plain": [
       "Preprocessing Dataset:   0%|          | 0/160 [00:00<?, ?it/s]"
      ]
     },
     "metadata": {},
     "output_type": "display_data"
    },
    {
     "data": {
      "text/plain": [
       "(tensor([  101,  7273, 24514, 16521,  2007, 21443, 11225,   102]),\n",
       " tensor([12,  3, 13]))"
      ]
     },
     "execution_count": 10,
     "metadata": {},
     "output_type": "execute_result"
    }
   ],
   "source": [
    "train_texts = toy_dataset['headline']\n",
    "train_labels = toy_dataset['category']\n",
    "dataset = cat.CatDataset(train_texts, text_tokenizer, train_labels, label_tokenizer)\n",
    "\n",
    "dataset[0]"
   ]
  },
  {
   "cell_type": "markdown",
   "metadata": {},
   "source": [
    "# Collator\n",
    "\n",
    "Collator also makes targets. Targets != labels as the labels are strings."
   ]
  },
  {
   "cell_type": "code",
   "execution_count": 11,
   "metadata": {},
   "outputs": [
    {
     "name": "stdout",
     "output_type": "stream",
     "text": [
      "Text:\n",
      "tensor([[  101,  7273, 24514, 16521,  2007, 21443, 11225,   102,     0,     0,\n",
      "             0,     0,     0,     0,     0,     0,     0,     0,     0],\n",
      "        [  101, 12397, 15876,  7106,  1010,  6778,  1997, 12077,  4058,  2082,\n",
      "         18917,  1010,  4136,  2010,  2466,  1006,  2678,  1007,   102]])\n",
      "\n",
      "Unique labels:\n",
      "tensor([[12,  3, 13],\n",
      "        [27,  8,  0]])\n",
      "Targets:\n",
      "tensor([0, 1])\n"
     ]
    }
   ],
   "source": [
    "from pprint import pprint\n",
    "\n",
    "collator = cat.CatCollator(pad_token_id=0)\n",
    "text_batch, unique_labels, targets = collator([dataset[0], dataset[2]])\n",
    "\n",
    "print('Text:')\n",
    "pprint(text_batch)\n",
    "\n",
    "print('\\nUnique labels:')\n",
    "pprint(unique_labels)\n",
    "\n",
    "print('Targets:')\n",
    "pprint(targets)"
   ]
  },
  {
   "cell_type": "markdown",
   "metadata": {},
   "source": [
    "# Dataloader"
   ]
  },
  {
   "cell_type": "code",
   "execution_count": 19,
   "metadata": {},
   "outputs": [],
   "source": [
    "dataloader = torch.utils.data.DataLoader(dataset, batch_size=32, collate_fn=collator, shuffle=True)"
   ]
  },
  {
   "cell_type": "code",
   "execution_count": 20,
   "metadata": {},
   "outputs": [
    {
     "data": {
      "text/plain": [
       "(tensor([[  101,  1045,  2215,  1998,  2123,  1005,  1056,  2215,  2000,  2022,\n",
       "           1037,  2551,  3566,   102,     0,     0,     0,     0,     0,     0,\n",
       "              0,     0,     0,     0],\n",
       "         [  101,  2074,  2360,  2053,  2000,  2231,  1011,  6485,  3658,  2055,\n",
       "          16204,   102,     0,     0,     0,     0,     0,     0,     0,     0,\n",
       "              0,     0,     0,     0],\n",
       "         [  101, 27741,  4143,  2050,  2297,   102,     0,     0,     0,     0,\n",
       "              0,     0,     0,     0,     0,     0,     0,     0,     0,     0,\n",
       "              0,     0,     0,     0],\n",
       "         [  101, 15307,  1010,  8688,  1998, 10516,   102,     0,     0,     0,\n",
       "              0,     0,     0,     0,     0,     0,     0,     0,     0,     0,\n",
       "              0,     0,     0,     0],\n",
       "         [  101, 15453,  2072,  2018,  3593,  6833,  1037, 11419,  2839,  2013,\n",
       "           1005, 21956,  1012,  1005,  2153,  1012,   102,     0,     0,     0,\n",
       "              0,     0,     0,     0],\n",
       "         [  101,  4203, 10768,  1005,  1055,  2028,  1011,  2051,  8813,  1024,\n",
       "           2156,  2009,  2085,   999,   102,     0,     0,     0,     0,     0,\n",
       "              0,     0,     0,     0],\n",
       "         [  101,  2054,  2003, 11857, 28514,  2039,  2000,  1029,   102,     0,\n",
       "              0,     0,     0,     0,     0,     0,     0,     0,     0,     0,\n",
       "              0,     0,     0,     0],\n",
       "         [  101,  2026,  3566,  9868,  2026,  5030,  2154,   102,     0,     0,\n",
       "              0,     0,     0,     0,     0,     0,     0,     0,     0,     0,\n",
       "              0,     0,     0,     0],\n",
       "         [  101,  2062,  2111,  2007,  3020,  2938,  7644,  2024,  2183,  2046,\n",
       "           4252,  1010,  2758,  2817,   102,     0,     0,     0,     0,     0,\n",
       "              0,     0,     0,     0],\n",
       "         [  101,  6221,  8398, 17331, 25732,  2015,  7401,  1999,  3607,   102,\n",
       "              0,     0,     0,     0,     0,     0,     0,     0,     0,     0,\n",
       "              0,     0,     0,     0],\n",
       "         [  101, 14658,  5009,  1024,  6018,  3670, 12300,  3265,  3012,  1006,\n",
       "           7760,  1007,   102,     0,     0,     0,     0,     0,     0,     0,\n",
       "              0,     0,     0,     0],\n",
       "         [  101,  5261,  5035, 10199,  1005,  1055,  1005,  1045,  2409,  2026,\n",
       "           4845,  1045,  8823,  2035,  2037, 14414,  9485,  2153,  1005,  4119,\n",
       "           1006,  2678,  1007,   102],\n",
       "         [  101,  7979,  6359, 21070,  9932, 22179,  9573,  2098,  2013,  8244,\n",
       "           1005,  4528,   102,     0,     0,     0,     0,     0,     0,     0,\n",
       "              0,     0,     0,     0],\n",
       "         [  101, 28584,  7987, 20483,  8545,  1998, 13218,  9065,  8415,  2000,\n",
       "           3477,  5261,  5035, 10199,  1002,  6694,  2065,  2027,  3338,  2039,\n",
       "            102,     0,     0,     0],\n",
       "         [  101,  3467,  2038,  3985,  8394,  1005,  2208,  1997,  6106,  2015,\n",
       "           1005,  2161,  1021,   102,     0,     0,     0,     0,     0,     0,\n",
       "              0,     0,     0,     0],\n",
       "         [  101,  3008,  2064,  1005,  1056,  2079,  2009,  2894,  1024,  3071,\n",
       "           2003,  3625,  2005,  2336,  1005,  1055,  2740,   102,     0,     0,\n",
       "              0,     0,     0,     0],\n",
       "         [  101,  2603,  6209,  2283,  3504,  2008,  4995,  1005,  1056, 14464,\n",
       "            102,     0,     0,     0,     0,     0,     0,     0,     0,     0,\n",
       "              0,     0,     0,     0],\n",
       "         [  101,  2054,  2001,  2009,  2428,  2066,  1011,  1011,  2008,  1000,\n",
       "           4333,  2305,  1000,  1029,   102,     0,     0,     0,     0,     0,\n",
       "              0,     0,     0,     0],\n",
       "         [  101,  2429,  2000,  2414,  1010,  2023,  2003,  2054,  5948,  1999,\n",
       "           1996,  2600,  9497,  2015,  3504,  2066,   102,     0,     0,     0,\n",
       "              0,     0,     0,     0],\n",
       "         [  101,  5925, 25249,  4713,  2778,  1024,  1005,  2305,  4179,  1005,\n",
       "          18381,  2015, 12185,  2046,  4419,  8663,  2078,  4322,  1006,  2678,\n",
       "           1007,   102,     0,     0],\n",
       "         [  101, 11793,  3836,  7607,  3784,  5306,  2000,  2014,  2465,   102,\n",
       "              0,     0,     0,     0,     0,     0,     0,     0,     0,     0,\n",
       "              0,     0,     0,     0],\n",
       "         [  101, 22973,  2718,  2011,  5409,  9326,  2005,  2706,  2004, 22072,\n",
       "           1010,  4632,  4215,  8568,  1057,  1012,  1055,  1012, 14865,   102,\n",
       "              0,     0,     0,     0],\n",
       "         [  101,  2053,  4450,  1006,  2154,  1007, 27060, 10733,   102,     0,\n",
       "              0,     0,     0,     0,     0,     0,     0,     0,     0,     0,\n",
       "              0,     0,     0,     0],\n",
       "         [  101,  8275,  2739,  1010,  2591,  2865,  1998,  1996, 22252,  1997,\n",
       "           1996,  1057,  1012,  1055,  1012,   102,     0,     0,     0,     0,\n",
       "              0,     0,     0,     0],\n",
       "         [  101,  3514, 15768,  2061,  2906,  2044,  6221,  8398,  3377,  1010,\n",
       "           2021,  5317,  2003,  1996,  2613,  3453,   102,     0,     0,     0,\n",
       "              0,     0,     0,     0],\n",
       "         [  101,  9033,  6774,  2039,  3637,  1024,  1996,  2190,  3309,  9705,\n",
       "           2412,  1006,  7760,  1007,   102,     0,     0,     0,     0,     0,\n",
       "              0,     0,     0,     0],\n",
       "         [  101,  6405,  1996,  2522,  1011, 28586,  1000,  6209, 23046,  1000,\n",
       "            102,     0,     0,     0,     0,     0,     0,     0,     0,     0,\n",
       "              0,     0,     0,     0],\n",
       "         [  101,  2637,  1005,  1055,  3847,  5325,  2003,  9359,  2000,  3760,\n",
       "           3655,   102,     0,     0,     0,     0,     0,     0,     0,     0,\n",
       "              0,     0,     0,     0],\n",
       "         [  101,  2043,  2256,  4000,  2468,  4200,   102,     0,     0,     0,\n",
       "              0,     0,     0,     0,     0,     0,     0,     0,     0,     0,\n",
       "              0,     0,     0,     0],\n",
       "         [  101, 19166, 12791,  8847,  2039,  2055,  4830,  3540, 23163,  2006,\n",
       "          16021, 23091,   102,     0,     0,     0,     0,     0,     0,     0,\n",
       "              0,     0,     0,     0],\n",
       "         [  101, 20773,  2097,  7283,  3693,  3147, 13068,  2005,  1996,  3565,\n",
       "           4605,  2753, 22589,  2265,   102,     0,     0,     0,     0,     0,\n",
       "              0,     0,     0,     0],\n",
       "         [  101,  2155,  2758,  4634,  7488,  2012,  6373,  2088,  2978,  2879,\n",
       "           1010,  2435, 13055,  2540,  2886,   102,     0,     0,     0,     0,\n",
       "              0,     0,     0,     0]]),\n",
       " tensor([[ 1,  0,  0],\n",
       "         [ 2,  0,  0],\n",
       "         [ 4,  0,  0],\n",
       "         [ 6,  0,  0],\n",
       "         [ 7,  0,  0],\n",
       "         [10,  5,  0],\n",
       "         [11,  9,  0],\n",
       "         [12,  3, 13],\n",
       "         [15,  8,  0],\n",
       "         [16,  0,  0],\n",
       "         [17,  0,  0],\n",
       "         [19,  0,  0],\n",
       "         [20,  0,  0],\n",
       "         [24,  0,  0],\n",
       "         [25,  0,  0],\n",
       "         [28,  0,  0],\n",
       "         [38,  0,  0]]),\n",
       " tensor([ 4,  0,  8,  1,  9,  3,  0, 10,  0,  6,  1,  4, 13,  2,  2,  4,  9, 11,\n",
       "          3, 14, 12,  6,  7, 16,  0,  3, 15,  0,  5,  2,  2, 13]))"
      ]
     },
     "execution_count": 20,
     "metadata": {},
     "output_type": "execute_result"
    }
   ],
   "source": [
    "next(iter(dataloader))"
   ]
  },
  {
   "cell_type": "markdown",
   "metadata": {},
   "source": [
    "# Model"
   ]
  },
  {
   "cell_type": "code",
   "execution_count": 21,
   "metadata": {},
   "outputs": [],
   "source": [
    "class ClassAttentionModelEmb(nn.Module):\n",
    "    def __init__(self, txt_encoder, n_classes, hidden_size):\n",
    "        super().__init__()\n",
    "\n",
    "        txt_encoder_h = get_output_dim(txt_encoder)\n",
    "        self.txt_encoder = txt_encoder\n",
    "        self.txt_out = nn.Linear(txt_encoder_h, hidden_size)\n",
    "\n",
    "        self.cls_encoder = nn.Sequential(\n",
    "            nn.EmbeddingBag(n_classes, hidden_size),\n",
    "            nn.ReLU(),\n",
    "            nn.Linear(hidden_size, hidden_size)\n",
    "        )\n",
    "\n",
    "    def forward(self, text_input, labels_input):\n",
    "        \"\"\"\n",
    "        Compute logits for input (input_dict,) corresponding to the classes (classes_dict)\n",
    "\n",
    "        Optionally, you can provide additional keys in either input_dict or classes_dict\n",
    "        Specifically, attention_mask, head_mask and inputs_embeds\n",
    "        Howerver, one should not provide output_attentions and output_hidden_states\n",
    "\n",
    "        Args:\n",
    "            text_input: dict with key input_ids\n",
    "                input_ids: LongTensor[batch_size, text_seq_len], input to the text network\n",
    "            labels_input: dict with key input_ids\n",
    "                input_ids: LongTensor[n_classes, class_seq_len], a list of possible classes, each class described via text\n",
    "        \"\"\"\n",
    "        self._validate_inputs(text_input, labels_input)\n",
    "\n",
    "        h_x = self.txt_encoder(**text_input)  # some tuple\n",
    "        h_x = h_x[0]  # FloatTensor[bs, text_seq_len, hidden]\n",
    "        h_x = h_x[:, 0]  # get CLS token representations, FloatTensor[bs, hidden]\n",
    "\n",
    "        h_c = self.cls_encoder(labels_input)  # FloatTensor[n_classes, hidden]\n",
    "\n",
    "        # attention map\n",
    "        h_x = self.txt_out(h_x)\n",
    "\n",
    "        logits = h_x @ h_c.T  # [bs, n_classes]\n",
    "        return logits\n",
    "\n",
    "    @staticmethod\n",
    "    def _validate_inputs(text_input_dict, classes_input_dict):\n",
    "        if not isinstance(text_input_dict, dict):\n",
    "            raise ValueError('text input should be a dict')\n",
    "        if not isinstance(classes_input_dict, torch.Tensor):\n",
    "            raise ValueError('classes input should be a torch.Tensor')\n",
    "\n",
    "        if classes_input_dict.shape[0] == 1:\n",
    "            raise RuntimeError(\n",
    "                'batch dimension of classes tensor is the number of possible classes and cannot be equal to one'\n",
    "            )\n",
    "\n",
    "        # check that labels_input does not have duplicated\n",
    "        unique_classes = torch.unique(classes_input_dict, dim=0)\n",
    "        if unique_classes.shape[0] != classes_input_dict.shape[0]:\n",
    "            raise ValueError('labels_input should only contain unique classes')\n",
    "\n",
    "\n",
    "def get_output_dim(model):\n",
    "    # config = model.config\n",
    "    # if isinstance(config, transformers.DistilBertConfig):\n",
    "    #     return config.hidden_size\n",
    "    return model.config.hidden_size\n"
   ]
  },
  {
   "cell_type": "code",
   "execution_count": 22,
   "metadata": {},
   "outputs": [],
   "source": [
    "text_encoder = AutoModel.from_pretrained(MODEL)\n",
    "\n",
    "model = ClassAttentionModelEmb(text_encoder, label_tokenizer.get_vocab_size(), hidden_size=32)"
   ]
  },
  {
   "cell_type": "code",
   "execution_count": 23,
   "metadata": {},
   "outputs": [
    {
     "data": {
      "text/plain": [
       "torch.Size([3, 7])"
      ]
     },
     "execution_count": 23,
     "metadata": {},
     "output_type": "execute_result"
    }
   ],
   "source": [
    "x = torch.randint(0, 100, size=[3, 5])\n",
    "c = torch.randint(0, 100, size=[7, 1])\n",
    "\n",
    "x_dict = {'input_ids': x}\n",
    "c_dict = {'input_ids': c}\n",
    "\n",
    "out = model(text_input=x_dict, labels_input=c)\n",
    "out.shape"
   ]
  },
  {
   "cell_type": "markdown",
   "metadata": {},
   "source": [
    "## Train class attention\n",
    "\n",
    "Possible reasons why the model does not converge are optimizational. E.g., explosive gradients, bad learning rate.\n",
    "We can try to fix them via tuning a model on a very small dataset. Possibly, we also need to add some kind of normalization (PowerNorm?)."
   ]
  },
  {
   "cell_type": "code",
   "execution_count": 24,
   "metadata": {},
   "outputs": [],
   "source": [
    "device = 'cpu'\n",
    "model = model.to(device)\n",
    "\n",
    "optimizer = torch.optim.Adam(model.parameters())"
   ]
  },
  {
   "cell_type": "code",
   "execution_count": 25,
   "metadata": {},
   "outputs": [
    {
     "data": {
      "application/vnd.jupyter.widget-view+json": {
       "model_id": "59893c6099a14309ab577cd57a405527",
       "version_major": 2,
       "version_minor": 0
      },
      "text/plain": [
       "  0%|          | 0/10 [00:00<?, ?it/s]"
      ]
     },
     "metadata": {},
     "output_type": "display_data"
    },
    {
     "data": {
      "application/vnd.jupyter.widget-view+json": {
       "model_id": "89d32d2860974681882bcdfe67e4c027",
       "version_major": 2,
       "version_minor": 0
      },
      "text/plain": [
       "  0%|          | 0/5 [00:00<?, ?it/s]"
      ]
     },
     "metadata": {},
     "output_type": "display_data"
    },
    {
     "data": {
      "application/vnd.jupyter.widget-view+json": {
       "model_id": "2834ac25517a41d282bba12edc25b136",
       "version_major": 2,
       "version_minor": 0
      },
      "text/plain": [
       "  0%|          | 0/5 [00:00<?, ?it/s]"
      ]
     },
     "metadata": {},
     "output_type": "display_data"
    },
    {
     "data": {
      "application/vnd.jupyter.widget-view+json": {
       "model_id": "9214d196d6074a3fbcbef8c48046bcf3",
       "version_major": 2,
       "version_minor": 0
      },
      "text/plain": [
       "  0%|          | 0/5 [00:00<?, ?it/s]"
      ]
     },
     "metadata": {},
     "output_type": "display_data"
    },
    {
     "data": {
      "application/vnd.jupyter.widget-view+json": {
       "model_id": "ba232bb6e30c4c78bace5c10031d100d",
       "version_major": 2,
       "version_minor": 0
      },
      "text/plain": [
       "  0%|          | 0/5 [00:00<?, ?it/s]"
      ]
     },
     "metadata": {},
     "output_type": "display_data"
    },
    {
     "data": {
      "application/vnd.jupyter.widget-view+json": {
       "model_id": "4d837a4daee04d5a996ab2a3b52e9f74",
       "version_major": 2,
       "version_minor": 0
      },
      "text/plain": [
       "  0%|          | 0/5 [00:00<?, ?it/s]"
      ]
     },
     "metadata": {},
     "output_type": "display_data"
    },
    {
     "data": {
      "application/vnd.jupyter.widget-view+json": {
       "model_id": "41579dcabc9d4bcdb345f5e62f07a5ce",
       "version_major": 2,
       "version_minor": 0
      },
      "text/plain": [
       "  0%|          | 0/5 [00:00<?, ?it/s]"
      ]
     },
     "metadata": {},
     "output_type": "display_data"
    },
    {
     "data": {
      "application/vnd.jupyter.widget-view+json": {
       "model_id": "c6b2a12f00524eb7a4906747d704272c",
       "version_major": 2,
       "version_minor": 0
      },
      "text/plain": [
       "  0%|          | 0/5 [00:00<?, ?it/s]"
      ]
     },
     "metadata": {},
     "output_type": "display_data"
    },
    {
     "data": {
      "application/vnd.jupyter.widget-view+json": {
       "model_id": "741d25e4f9a945f08fc74ede149f8301",
       "version_major": 2,
       "version_minor": 0
      },
      "text/plain": [
       "  0%|          | 0/5 [00:00<?, ?it/s]"
      ]
     },
     "metadata": {},
     "output_type": "display_data"
    },
    {
     "data": {
      "application/vnd.jupyter.widget-view+json": {
       "model_id": "b153a7a4c3b541cab2d37ef0824a8b02",
       "version_major": 2,
       "version_minor": 0
      },
      "text/plain": [
       "  0%|          | 0/5 [00:00<?, ?it/s]"
      ]
     },
     "metadata": {},
     "output_type": "display_data"
    },
    {
     "data": {
      "application/vnd.jupyter.widget-view+json": {
       "model_id": "c734a180991147f9bbdd9d0d61a50b8a",
       "version_major": 2,
       "version_minor": 0
      },
      "text/plain": [
       "  0%|          | 0/5 [00:00<?, ?it/s]"
      ]
     },
     "metadata": {},
     "output_type": "display_data"
    },
    {
     "data": {
      "text/plain": [
       "Text(0.5, 1.0, 'Accuracy')"
      ]
     },
     "execution_count": 25,
     "metadata": {},
     "output_type": "execute_result"
    },
    {
     "data": {
      "image/png": "[encoded data removed]",
      "text/plain": [
       "<Figure size 432x288 with 1 Axes>"
      ]
     },
     "metadata": {
      "needs_background": "light"
     },
     "output_type": "display_data"
    },
    {
     "data": {
      "image/png": "[encoded data removed]",
      "text/plain": [
       "<Figure size 432x288 with 1 Axes>"
      ]
     },
     "metadata": {
      "needs_background": "light"
     },
     "output_type": "display_data"
    }
   ],
   "source": [
    "loss_hist = []\n",
    "acc_hist = []\n",
    "\n",
    "for _ in tqdm(range(10)):\n",
    "    for x, c, y in tqdm(dataloader, total=(len(dataset) // dataloader.batch_size)):\n",
    "        optimizer.zero_grad()\n",
    "\n",
    "        x = x.to(device)\n",
    "        c = c.to(device)\n",
    "        y = y.to(device)\n",
    "\n",
    "        x_dict = {'input_ids': x}\n",
    "        logits = model(x_dict, c)\n",
    "\n",
    "        loss = F.cross_entropy(logits, y)\n",
    "\n",
    "        _, preds = logits.max(-1)\n",
    "        acc = torch.sum(preds == y).float() / x.shape[0]\n",
    "\n",
    "        acc_hist.append(detorch(acc))\n",
    "        loss_hist.append(detorch(loss))\n",
    "\n",
    "        loss.backward()\n",
    "        optimizer.step()\n",
    "\n",
    "\n",
    "plt.figure()\n",
    "plt.plot(loss_hist)\n",
    "plt.title('Loss')\n",
    "\n",
    "plt.figure()\n",
    "plt.plot(acc_hist)\n",
    "plt.title('Accuracy')"
   ]
  },
  {
   "cell_type": "code",
   "execution_count": null,
   "metadata": {},
   "outputs": [],
   "source": []
  }
 ],
 "metadata": {
  "kernelspec": {
   "display_name": "cat",
   "language": "python",
   "name": "cat"
  },
  "language_info": {
   "codemirror_mode": {
    "name": "ipython",
    "version": 3
   },
   "file_extension": ".py",
   "mimetype": "text/x-python",
   "name": "python",
   "nbconvert_exporter": "python",
   "pygments_lexer": "ipython3",
   "version": "3.8.5"
  }
 },
 "nbformat": 4,
 "nbformat_minor": 4
}
