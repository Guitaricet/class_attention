{
 "cells": [
  {
   "cell_type": "markdown",
   "metadata": {},
   "source": [
    "# Class attention on random inputs, multibatch\n",
    "\n",
    "## FROZEN, DO NOT MODIFY\n",
    "\n",
    "Same as `02_random_model.ipynb`, but now different batches have different possible classes"
   ]
  },
  {
   "cell_type": "code",
   "execution_count": 1,
   "metadata": {},
   "outputs": [],
   "source": [
    "import copy\n",
    "import random\n",
    "\n",
    "import torch\n",
    "import torch.nn as nn\n",
    "import torch.nn.functional as F\n",
    "\n",
    "import wandb\n",
    "import matplotlib.pyplot as plt\n",
    "from tqdm.auto import tqdm"
   ]
  },
  {
   "cell_type": "code",
   "execution_count": 2,
   "metadata": {},
   "outputs": [],
   "source": [
    "def detorch(x):\n",
    "    return x.detach().cpu().numpy()"
   ]
  },
  {
   "cell_type": "code",
   "execution_count": 3,
   "metadata": {},
   "outputs": [],
   "source": [
    "input_size = 7\n",
    "hidden_size = 11\n",
    "n_classes = 5\n",
    "batch_size = 3"
   ]
  },
  {
   "cell_type": "code",
   "execution_count": 4,
   "metadata": {},
   "outputs": [],
   "source": [
    "class ClassAttentionModel(nn.Module):\n",
    "    def __init__(self,):\n",
    "        super().__init__()\n",
    "\n",
    "        self.x_enc = nn.Sequential(nn.Linear(input_size, hidden_size),\n",
    "                                   nn.ReLU(),\n",
    "                                   nn.Linear(hidden_size, hidden_size))\n",
    "\n",
    "        self.c_enc = nn.Embedding(n_classes, hidden_size)\n",
    "\n",
    "    def forward(self, x, c):\n",
    "        h_x = self.x_enc(x)\n",
    "        h_c = self.c_enc(c)\n",
    "        \n",
    "        logits = h_x @ h_c.T\n",
    "\n",
    "        return logits\n",
    "\n",
    "\n",
    "class ClassAttentionWNet(nn.Module):\n",
    "    def __init__(self,):\n",
    "        super().__init__()\n",
    "\n",
    "        self.x_enc = nn.Sequential(nn.Linear(input_size, hidden_size),\n",
    "                                   nn.ReLU(),\n",
    "                                   nn.Linear(hidden_size, hidden_size))\n",
    "\n",
    "        self.c_enc = nn.Sequential(nn.Embedding(n_classes, hidden_size),\n",
    "                                   nn.ReLU(),\n",
    "                                   nn.Linear(hidden_size, hidden_size))\n",
    "\n",
    "    def forward(self, x, c):\n",
    "        h_x = self.x_enc(x)\n",
    "        h_c = self.c_enc(c)\n",
    "\n",
    "        logits = h_x @ h_c.T # + bias  # or make a residual connection with class network\n",
    "\n",
    "        return logits\n",
    "\n",
    "class ClassAttentionWNetWBias(nn.Module):\n",
    "    def __init__(self,):\n",
    "        super().__init__()\n",
    "\n",
    "        self.x_enc = nn.Sequential(nn.Linear(input_size, hidden_size),\n",
    "                                   nn.ReLU(),\n",
    "                                   nn.Linear(hidden_size, hidden_size))\n",
    "\n",
    "        self.c_enc = nn.Sequential(nn.Embedding(n_classes, hidden_size),\n",
    "                                   nn.ReLU(),\n",
    "                                   nn.Linear(hidden_size, hidden_size))\n",
    "        self.c_bias = nn.Embedding(n_classes, hidden_size)\n",
    "\n",
    "    def forward(self, x, c):\n",
    "        h_x = self.x_enc(x)\n",
    "        h_c = self.c_enc(c)\n",
    "        b_c = self.c_bias(c)\n",
    "        \n",
    "        logits = h_x @ h_c.T + b_c.T\n",
    "\n",
    "        return logits\n"
   ]
  },
  {
   "cell_type": "markdown",
   "metadata": {},
   "source": [
    "### Notes\n",
    "\n",
    "* Residual is both not possible and does not increase capacity (it is just a reparametrization of the network)\n",
    "* Class bias is just a reparametrization of class network\n",
    "  * `h_x @ h_c.T + b_c(c)` is not possible as class network does not know the batch size\n",
    "* While input bias will need to know the number of classes upfront and will be the same as having a regular logits layer\n",
    "  * `h_x` + Identity is not possible as h_x is not a square matrix\n"
   ]
  },
  {
   "cell_type": "code",
   "execution_count": 5,
   "metadata": {},
   "outputs": [
    {
     "name": "stdout",
     "output_type": "stream",
     "text": [
      "Possible labels:  ['Class 0', 'Class 1', 'Class 2', 'Class 3', 'Class 4']\n",
      "Label2c        :  {'Class 0': 0, 'Class 1': 1, 'Class 2': 2, 'Class 3': 3, 'Class 4': 4}\n",
      "c              :  tensor([0, 1, 2, 3, 4])\n"
     ]
    }
   ],
   "source": [
    "possible_classes = [f'Class {str(i)}' for i in range(n_classes)]\n",
    "label2c = {possible_classes[i]: i for i in range(len(possible_classes))}\n",
    "c = torch.LongTensor([label2c[l] for l in possible_classes])\n",
    "\n",
    "print(\"Possible labels: \", possible_classes)\n",
    "print(\"Label2c        : \", label2c)\n",
    "print(\"c              : \", c)"
   ]
  },
  {
   "cell_type": "markdown",
   "metadata": {},
   "source": [
    "## Batches"
   ]
  },
  {
   "cell_type": "code",
   "execution_count": 6,
   "metadata": {},
   "outputs": [
    {
     "name": "stdout",
     "output_type": "stream",
     "text": [
      "X:  [tensor([[-1.0640, -0.1658, -0.3808,  0.3632, -2.0793, -1.2112,  0.1707],\n",
      "        [-0.9026, -0.5721, -0.2616, -1.1414,  0.7579, -1.0588, -0.2307],\n",
      "        [-0.3293,  0.1335, -1.1441, -0.3670, -1.8501,  2.1329,  0.0661]]), tensor([[ 1.6063, -0.4739,  0.4910,  0.4854, -0.8770,  0.4760, -0.0511],\n",
      "        [-0.7954,  0.8506,  0.4274,  0.3784, -0.9543,  1.8191,  0.7224],\n",
      "        [-0.1351, -0.2909,  0.8673,  2.0044, -0.7073,  0.3140, -1.1545]]), tensor([[ 0.2522,  0.1646, -1.8822,  0.7542, -0.1643,  0.0591, -0.5001],\n",
      "        [-0.3465, -0.5268,  1.5732,  1.4789, -0.5040,  1.9792, -0.4260],\n",
      "        [-0.3964,  1.4608,  1.3260,  2.0371, -0.3690, -0.8664, -1.0025]]), tensor([[ 0.9810,  0.5489, -0.5276,  0.1313,  0.7238,  1.4043,  0.2396],\n",
      "        [ 0.6387, -0.1497, -1.7163, -2.0002, -1.0724, -0.7336,  1.3686],\n",
      "        [ 0.4706, -0.4744,  1.2886, -0.3487, -0.5496,  0.2500, -0.9966]]), tensor([[-0.5078, -0.7030,  1.6001, -0.9710,  0.5509, -0.8885,  1.4050],\n",
      "        [ 0.6510,  1.0953, -0.2433,  1.3923,  0.6460, -1.1308,  1.0238],\n",
      "        [ 1.5298,  0.4600, -1.3185,  1.8995,  0.8361, -0.0062, -0.8838]]), tensor([[ 0.6609, -0.9245, -0.1349, -0.1057,  0.0910, -1.1162,  0.0463],\n",
      "        [ 0.5796,  1.2140,  1.9743,  0.4700,  0.0759, -0.3723, -1.2558],\n",
      "        [-0.3990,  0.7501,  1.0225, -0.3698, -0.5454, -0.5146,  2.2568]]), tensor([[ 0.4910, -0.0159, -1.0593,  0.1402, -1.7498,  0.1881,  0.0929],\n",
      "        [ 0.0137,  0.3417, -2.3771, -0.2467, -2.1757, -0.2221, -1.4490],\n",
      "        [ 1.0581,  0.9386,  1.3624, -1.5259,  1.6126, -0.3894, -1.8631]]), tensor([[ 0.1832, -0.2589,  0.2192, -0.1327, -0.4735,  1.1247,  0.7748],\n",
      "        [-0.9226, -1.1035,  2.9275,  0.4736, -0.3816, -1.1913, -0.8548],\n",
      "        [-0.0319,  0.8889, -2.3105,  2.0163, -0.3402, -0.0186,  1.5469]]), tensor([[-0.2336, -1.4497, -0.0136, -0.2144, -0.5152, -0.7046,  1.0660],\n",
      "        [ 1.1601, -0.6936,  1.5829, -0.4007,  0.7410,  0.6938, -0.6230],\n",
      "        [ 0.6000,  0.1292, -0.7609, -0.1530, -0.6365, -1.0255,  0.3566]]), tensor([[-1.2963,  1.7912,  1.1412, -0.7938,  0.9468,  0.6016,  1.2956],\n",
      "        [-0.3611,  0.6709, -1.4830,  1.4138, -0.2396,  0.3089,  0.7598],\n",
      "        [ 1.4743,  1.5590, -0.3525,  0.5532, -0.5384, -1.0117, -0.0530]])]\n",
      "Labels         :  [['Class 2', 'Class 2', 'Class 2'], ['Class 1', 'Class 0', 'Class 4'], ['Class 0', 'Class 4', 'Class 1'], ['Class 1', 'Class 1', 'Class 4'], ['Class 1', 'Class 4', 'Class 0'], ['Class 1', 'Class 1', 'Class 3'], ['Class 3', 'Class 0', 'Class 0'], ['Class 3', 'Class 3', 'Class 3'], ['Class 2', 'Class 4', 'Class 4'], ['Class 1', 'Class 2', 'Class 4']]\n",
      "Labels Tensor  :  [tensor([2, 2, 2]), tensor([1, 0, 4]), tensor([0, 4, 1]), tensor([1, 1, 4]), tensor([1, 4, 0]), tensor([1, 1, 3]), tensor([3, 0, 0]), tensor([3, 3, 3]), tensor([2, 4, 4]), tensor([1, 2, 4])]\n"
     ]
    }
   ],
   "source": [
    "n_batches = 10\n",
    "\n",
    "xs = [torch.randn([batch_size, input_size]) for _ in range(n_batches)]\n",
    "\n",
    "y_strs = [random.choices(possible_classes, k=batch_size) for _ in range(n_batches)]\n",
    "# y != f(y_str),\n",
    "# y == f(y_str, possible_classes, batch)\n",
    "ys = [torch.LongTensor([label2c[s] for s in y_str]) for y_str in y_strs]\n",
    "\n",
    "\n",
    "print(\"X: \", xs)\n",
    "print(\"Labels         : \", y_strs)\n",
    "print(\"Labels Tensor  : \", ys)"
   ]
  },
  {
   "cell_type": "code",
   "execution_count": 7,
   "metadata": {},
   "outputs": [
    {
     "name": "stdout",
     "output_type": "stream",
     "text": [
      "Possible labels: \n",
      " ['Class 2', 'Class 1', 'Class 4', 'Class 3', 'Class 0']\n",
      "Str: \n",
      " ['Class 2', 'Class 2', 'Class 2']\n",
      "Encoded strs: \n",
      " tensor([2, 1, 4, 3, 0])\n",
      "Targers corresponding to _possible_classes: \n",
      " tensor([0, 0, 0])\n",
      "Decoded label strings: \n",
      " ['Class 2', 'Class 1', 'Class 4', 'Class 3', 'Class 0']\n",
      "Decoded targets: \n",
      " ['Class 2', 'Class 2', 'Class 2']\n",
      "\n",
      "Possible labels: \n",
      " ['Class 4', 'Class 3', 'Class 1', 'Class 0', 'Class 2']\n",
      "Str: \n",
      " ['Class 2', 'Class 2', 'Class 2']\n",
      "Encoded strs: \n",
      " tensor([4, 3, 1, 0, 2])\n",
      "Targers corresponding to _possible_classes: \n",
      " tensor([4, 4, 4])\n",
      "Decoded label strings: \n",
      " ['Class 4', 'Class 3', 'Class 1', 'Class 0', 'Class 2']\n",
      "Decoded targets: \n",
      " ['Class 2', 'Class 2', 'Class 2']\n",
      "\n"
     ]
    }
   ],
   "source": [
    "class LabelEncoder:\n",
    "    \"\"\"\n",
    "    Numericalizes batches of labels given possible labels, also returns targets tensor that can be used to compute loss.\n",
    "\n",
    "    Args:\n",
    "        all_classes: list[str], text description of the classes (e.g., class names)\n",
    "\n",
    "    Usage:\n",
    "        label_encoder = LabelEncoder(['Weather', 'News', 'Music', 'Sport'])\n",
    "\n",
    "        classes_str = ['News', 'Weather', 'Weather', 'News']\n",
    "        possible_classes = ['Weather', 'News', 'Sport']\n",
    "\n",
    "        possible_class_ids, targets = label_encoder.encode(classes_str, possible_classes)\n",
    "        # possible_class_ids: [0, 1, 2]\n",
    "        # targets: [1, 2, 2, 1]\n",
    "\n",
    "        logits = net(text_ids, possible_class_ids)\n",
    "        loss = F.cross_entropy(logits, targets)\n",
    "    \"\"\"\n",
    "    def __init__(self, all_classes):\n",
    "        self._classes_set = set(all_classes)\n",
    "        self._id2label = all_classes\n",
    "        self._label2id = {l: i for i, l in enumerate(self._id2label)}\n",
    "\n",
    "    @property\n",
    "    def possible_classes(self):\n",
    "        return self._id2label\n",
    "\n",
    "    def encode(self, classes_str, possible_classes):\n",
    "        \"\"\"\n",
    "        Args:\n",
    "            classes_str: list[str] of size batch_size, class descriptions that need to be encoded \n",
    "            possible_classes: list[str] of size n_classes, a subset of self.possible_classes - all possible classes for current batch\n",
    "        \n",
    "        Returns:\n",
    "            tuple(label_ids, target) where\n",
    "                label_ids: torch.LongTensor[n_classes] label ids of the possible classes, fed to the label encoder\n",
    "                target: torch.LongTensor[batch_size] of targets that use possible_classes for ordering,\n",
    "                    used for loss computation\n",
    "        \n",
    "        \"\"\"\n",
    "        if not set(possible_classes).issubset(self._classes_set):\n",
    "            raise ValueError(f\"possible_classes {possible_classes} containes classes not from the LabelEncoder .possible_classes\")\n",
    "\n",
    "        if not set(classes_str).issubset(self._classes_set):\n",
    "            raise ValueError(f\"classes_str {classes_str} containes classes not from the LabelEncoder .possible_classes\")\n",
    "\n",
    "        label_str_ids = torch.LongTensor([self._label2id[l] for l in possible_classes])\n",
    "\n",
    "        label2target = {l: i for i, l in enumerate(possible_classes)}\n",
    "        target = torch.LongTensor([label2target[l] for l in classes_str])\n",
    "\n",
    "        return label_str_ids, target\n",
    "\n",
    "    def decode_label_ids(self, label_str_ids):\n",
    "        return [self._id2label[i] for i in label_str_ids]\n",
    "\n",
    "    def decode_target(self, target, possible_classes):\n",
    "        return [possible_classes[t] for t in target]\n",
    "\n",
    "\n",
    "label_encoder = LabelEncoder(possible_classes)\n",
    "y_str = y_strs[0]\n",
    "\n",
    "for shuffle_ in range(2):\n",
    "    for _possible_classes in [possible_classes,]:\n",
    "\n",
    "        _possible_classes = copy.copy(_possible_classes)\n",
    "        random.shuffle(_possible_classes)\n",
    "        y, targets = label_encoder.encode(y_str, _possible_classes)\n",
    "\n",
    "\n",
    "        print('Possible labels: \\n', _possible_classes)\n",
    "        print('Str: \\n', y_str)\n",
    "        print('Encoded strs: \\n', y)\n",
    "        print('Targers corresponding to _possible_classes: \\n', targets)\n",
    "        print('Decoded label strings: \\n', label_encoder.decode_label_ids(y))\n",
    "        print('Decoded targets: \\n', label_encoder.decode_target(targets, _possible_classes))\n",
    "        print()\n",
    "\n",
    "        assert _possible_classes == label_encoder.decode_label_ids(y)\n",
    "        assert y_str == label_encoder.decode_target(targets, _possible_classes)\n"
   ]
  },
  {
   "cell_type": "markdown",
   "metadata": {},
   "source": [
    "## Train class attention with class embeddings"
   ]
  },
  {
   "cell_type": "code",
   "execution_count": 12,
   "metadata": {},
   "outputs": [
    {
     "data": {
      "application/vnd.jupyter.widget-view+json": {
       "model_id": "dcb07af487d74672897449b2641cbf34",
       "version_major": 2,
       "version_minor": 0
      },
      "text/plain": [
       "HBox(children=(FloatProgress(value=0.0, max=200.0), HTML(value='')))"
      ]
     },
     "metadata": {},
     "output_type": "display_data"
    },
    {
     "name": "stdout",
     "output_type": "stream",
     "text": [
      "\n"
     ]
    },
    {
     "data": {
      "text/plain": [
       "Text(0.5, 1.0, 'Accuracy')"
      ]
     },
     "execution_count": 12,
     "metadata": {},
     "output_type": "execute_result"
    },
    {
     "data": {
      "image/png": "[encoded data removed]",
      "text/plain": [
       "<Figure size 432x288 with 1 Axes>"
      ]
     },
     "metadata": {
      "needs_background": "light"
     },
     "output_type": "display_data"
    },
    {
     "data": {
      "image/png": "[encoded data removed]",
      "text/plain": [
       "<Figure size 432x288 with 1 Axes>"
      ]
     },
     "metadata": {
      "needs_background": "light"
     },
     "output_type": "display_data"
    }
   ],
   "source": [
    "# we definitely have an issue as the model cannot learn two batches perfectly\n",
    "\n",
    "loss_hist = []\n",
    "acc_hist = []\n",
    "\n",
    "label_encoder = LabelEncoder(possible_classes)\n",
    "model = ClassAttentionModel()\n",
    "optimizer = torch.optim.Adam(model.parameters())\n",
    "\n",
    "\n",
    "for _ in tqdm(range(200)):\n",
    "    for x, y in zip(xs, y_strs):\n",
    "        optimizer.zero_grad()\n",
    "\n",
    "        _possible_classes = list(set(y))\n",
    "        # to check robustness\n",
    "        random.shuffle(_possible_classes)\n",
    "\n",
    "        class_str_ids, target = label_encoder.encode(y, _possible_classes)\n",
    "        assert _possible_classes == label_encoder.decode_label_ids(class_str_ids)\n",
    "        assert y == label_encoder.decode_target(target, _possible_classes)\n",
    "\n",
    "        logits = model(x, class_str_ids)  # ERROR: model should eat class_str_ids=f(_possible_classes) != f(_possible_classes, y)\n",
    "\n",
    "        loss = F.cross_entropy(logits, target)\n",
    "\n",
    "        _, preds = logits.max(-1)\n",
    "        acc = torch.sum(preds == target).float() / x.shape[0]\n",
    "\n",
    "        acc_hist.append(detorch(acc))\n",
    "        loss_hist.append(detorch(loss))\n",
    "\n",
    "        loss.backward()\n",
    "        optimizer.step()\n",
    "\n",
    "\n",
    "plt.figure()\n",
    "plt.plot(loss_hist)\n",
    "plt.title('Loss')\n",
    "\n",
    "plt.figure()\n",
    "plt.plot(acc_hist)\n",
    "plt.title('Accuracy')"
   ]
  },
  {
   "cell_type": "markdown",
   "metadata": {},
   "source": [
    "## Train class attention with a classs network"
   ]
  },
  {
   "cell_type": "code",
   "execution_count": 15,
   "metadata": {},
   "outputs": [
    {
     "data": {
      "application/vnd.jupyter.widget-view+json": {
       "model_id": "782c06dbd1df4a6ea3500b2330017e3a",
       "version_major": 2,
       "version_minor": 0
      },
      "text/plain": [
       "HBox(children=(FloatProgress(value=0.0, max=200.0), HTML(value='')))"
      ]
     },
     "metadata": {},
     "output_type": "display_data"
    },
    {
     "name": "stdout",
     "output_type": "stream",
     "text": [
      "\n"
     ]
    },
    {
     "data": {
      "text/plain": [
       "Text(0.5, 1.0, 'Accuracy')"
      ]
     },
     "execution_count": 15,
     "metadata": {},
     "output_type": "execute_result"
    },
    {
     "data": {
      "image/png": "[encoded data removed]",
      "text/plain": [
       "<Figure size 432x288 with 1 Axes>"
      ]
     },
     "metadata": {
      "needs_background": "light"
     },
     "output_type": "display_data"
    },
    {
     "data": {
      "image/png": "[encoded data removed]",
      "text/plain": [
       "<Figure size 432x288 with 1 Axes>"
      ]
     },
     "metadata": {
      "needs_background": "light"
     },
     "output_type": "display_data"
    }
   ],
   "source": [
    "loss_hist = []\n",
    "acc_hist = []\n",
    "\n",
    "model = ClassAttentionWNet()\n",
    "optimizer = torch.optim.Adam(model.parameters())\n",
    "\n",
    "\n",
    "for _ in tqdm(range(200)):\n",
    "    for x, y in zip(xs, y_strs):\n",
    "        optimizer.zero_grad()\n",
    "\n",
    "        _possible_classes = list(set(y))\n",
    "        # to check robustness\n",
    "        random.shuffle(_possible_classes)\n",
    "\n",
    "        class_str_ids, target = label_encoder.encode(y, _possible_classes)\n",
    "        assert _possible_classes == label_encoder.decode_label_ids(class_str_ids)\n",
    "        assert y == label_encoder.decode_target(target, _possible_classes)\n",
    "\n",
    "        logits = model(x, class_str_ids)  # ERROR: model should eat class_str_ids=f(_possible_classes) != f(_possible_classes, y)\n",
    "\n",
    "        loss = F.cross_entropy(logits, target)\n",
    "\n",
    "        _, preds = logits.max(-1)\n",
    "        acc = torch.sum(preds == target).float() / x.shape[0]\n",
    "\n",
    "        acc_hist.append(detorch(acc))\n",
    "        loss_hist.append(detorch(loss))\n",
    "\n",
    "        loss.backward()\n",
    "        optimizer.step()\n",
    "\n",
    "\n",
    "plt.figure()\n",
    "plt.plot(loss_hist)\n",
    "plt.title('Loss')\n",
    "\n",
    "plt.figure()\n",
    "plt.plot(acc_hist)\n",
    "plt.title('Accuracy')"
   ]
  },
  {
   "cell_type": "code",
   "execution_count": null,
   "metadata": {},
   "outputs": [],
   "source": []
  }
 ],
 "metadata": {
  "kernelspec": {
   "display_name": "Python 3",
   "language": "python",
   "name": "python3"
  },
  "language_info": {
   "codemirror_mode": {
    "name": "ipython",
    "version": 3
   },
   "file_extension": ".py",
   "mimetype": "text/x-python",
   "name": "python",
   "nbconvert_exporter": "python",
   "pygments_lexer": "ipython3",
   "version": "3.8.5"
  }
 },
 "nbformat": 4,
 "nbformat_minor": 4
}
