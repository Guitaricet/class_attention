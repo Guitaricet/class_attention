{
 "cells": [
  {
   "cell_type": "code",
   "execution_count": 34,
   "metadata": {},
   "outputs": [],
   "source": [
    "from collections import Counter\n",
    "from pathlib import Path\n",
    "\n",
    "import datasets"
   ]
  },
  {
   "cell_type": "code",
   "execution_count": 37,
   "metadata": {},
   "outputs": [],
   "source": [
    "def subset_from_csv(file_path, rename_noemo=None):\n",
    "    subset = {\"category\": [], \"text\": []}\n",
    "\n",
    "    with open(file_path) as f:\n",
    "        for line in f:\n",
    "            class_, text = line.split('\\t', 1)\n",
    "            if rename_noemo is not None and class_ == \"noemo\":\n",
    "                class_ = rename_noemo\n",
    "            subset[\"category\"].append(class_)\n",
    "            subset[\"text\"].append(text)\n",
    "\n",
    "    return subset\n",
    "\n",
    "def build_dataset_emotion(data_path, train_fname, rename_noemo=None):\n",
    "    data_path = Path(data_path)\n",
    "    \n",
    "    train_set = subset_from_csv(data_path/train_fname, rename_noemo=rename_noemo)\n",
    "    valid_set = subset_from_csv(data_path/\"dev.txt\", rename_noemo=rename_noemo)\n",
    "    test_set = subset_from_csv(data_path/\"test.txt\", rename_noemo=rename_noemo)\n",
    "\n",
    "    dataset = datasets.DatasetDict({\n",
    "        \"train\": datasets.Dataset.from_dict(train_set),\n",
    "        \"validation\": datasets.Dataset.from_dict(valid_set),\n",
    "        \"test\": datasets.Dataset.from_dict(test_set),    \n",
    "    })\n",
    "    return dataset"
   ]
  },
  {
   "cell_type": "markdown",
   "metadata": {},
   "source": [
    "# Emotion detection"
   ]
  },
  {
   "cell_type": "code",
   "execution_count": 31,
   "metadata": {},
   "outputs": [
    {
     "data": {
      "text/plain": [
       "Counter({'fear': 8612,\n",
       "         'shame': 696,\n",
       "         'sadness': 6703,\n",
       "         'anger': 2133,\n",
       "         'love': 2320})"
      ]
     },
     "execution_count": 31,
     "metadata": {},
     "output_type": "execute_result"
    }
   ],
   "source": [
    "data_path = Path(\"../data/BenchmarkingZeroShot/emotion\")\n",
    "dataset = build_dataset_emotion(data_path, train_fname=\"train_pu_half_v0.txt\")\n",
    "Counter(dataset[\"train\"][\"category\"])"
   ]
  },
  {
   "cell_type": "code",
   "execution_count": 32,
   "metadata": {},
   "outputs": [
    {
     "data": {
      "text/plain": [
       "Counter({'fear': 1600,\n",
       "         'joy': 1600,\n",
       "         'sadness': 1300,\n",
       "         'shame': 100,\n",
       "         'guilt': 100,\n",
       "         'disgust': 300,\n",
       "         'anger': 800,\n",
       "         'noemo': 1000,\n",
       "         'surprise': 500,\n",
       "         'love': 400})"
      ]
     },
     "execution_count": 32,
     "metadata": {},
     "output_type": "execute_result"
    }
   ],
   "source": [
    "Counter(dataset[\"validation\"][\"category\"])"
   ]
  },
  {
   "cell_type": "code",
   "execution_count": 49,
   "metadata": {},
   "outputs": [],
   "source": [
    "dataset.save_to_disk(\"../data/emotion_v0\")"
   ]
  },
  {
   "cell_type": "code",
   "execution_count": 29,
   "metadata": {},
   "outputs": [
    {
     "data": {
      "text/plain": [
       "Counter({'joy': 11166, 'guilt': 693, 'disgust': 848, 'surprise': 1496})"
      ]
     },
     "execution_count": 29,
     "metadata": {},
     "output_type": "execute_result"
    }
   ],
   "source": [
    "data_path = Path(\"../data/BenchmarkingZeroShot/emotion\")\n",
    "dataset = build_dataset_emotion(data_path, train_fname=\"train_pu_half_v1.txt\")\n",
    "Counter(dataset[\"train\"][\"category\"])"
   ]
  },
  {
   "cell_type": "code",
   "execution_count": 30,
   "metadata": {},
   "outputs": [],
   "source": [
    "dataset.save_to_disk(\"../data/emotion_v1\")"
   ]
  },
  {
   "cell_type": "code",
   "execution_count": 38,
   "metadata": {},
   "outputs": [
    {
     "data": {
      "text/plain": [
       "Counter({'fear': 8612,\n",
       "         'shame': 696,\n",
       "         'sadness': 6703,\n",
       "         'anger': 2133,\n",
       "         'love': 2320})"
      ]
     },
     "execution_count": 38,
     "metadata": {},
     "output_type": "execute_result"
    }
   ],
   "source": [
    "data_path = Path(\"../data/BenchmarkingZeroShot/emotion\")\n",
    "dataset = build_dataset_emotion(data_path, train_fname=\"train_pu_half_v0.txt\", rename_noemo=\"toneless\")\n",
    "Counter(dataset[\"train\"][\"category\"])"
   ]
  },
  {
   "cell_type": "code",
   "execution_count": 39,
   "metadata": {},
   "outputs": [],
   "source": [
    "dataset.save_to_disk(\"../data/emotion_v0_toneless\")"
   ]
  },
  {
   "cell_type": "code",
   "execution_count": 40,
   "metadata": {},
   "outputs": [
    {
     "data": {
      "text/plain": [
       "Counter({'joy': 11166, 'guilt': 693, 'disgust': 848, 'surprise': 1496})"
      ]
     },
     "execution_count": 40,
     "metadata": {},
     "output_type": "execute_result"
    }
   ],
   "source": [
    "data_path = Path(\"../data/BenchmarkingZeroShot/emotion\")\n",
    "dataset = build_dataset_emotion(data_path, train_fname=\"train_pu_half_v1.txt\", rename_noemo=\"toneless\")\n",
    "Counter(dataset[\"train\"][\"category\"])"
   ]
  },
  {
   "cell_type": "code",
   "execution_count": 41,
   "metadata": {},
   "outputs": [],
   "source": [
    "dataset.save_to_disk(\"../data/emotion_v1_toneless\")"
   ]
  },
  {
   "cell_type": "markdown",
   "metadata": {},
   "source": [
    "# Situation detection (single-label-only)\n",
    "\n",
    "In the end, you should have *11* classes (??)"
   ]
  },
  {
   "cell_type": "code",
   "execution_count": 19,
   "metadata": {},
   "outputs": [],
   "source": [
    "def filter_out_multilabel_examples(classes, examples):\n",
    "    filtered_classes = []\n",
    "    filtered_examples = []\n",
    "    \n",
    "    for c, e in zip(classes, examples):\n",
    "        if \" \" in c: continue\n",
    "        filtered_classes.append(c)\n",
    "        filtered_examples.append(e)\n",
    "    \n",
    "    return filtered_classes, filtered_examples"
   ]
  },
  {
   "cell_type": "code",
   "execution_count": 36,
   "metadata": {},
   "outputs": [
    {
     "data": {
      "text/plain": [
       "Counter({'shelter': 399,\n",
       "         'food': 601,\n",
       "         'utils': 271,\n",
       "         'terrorism': 338,\n",
       "         'evac': 137})"
      ]
     },
     "execution_count": 36,
     "metadata": {},
     "output_type": "execute_result"
    }
   ],
   "source": [
    "new_c, new_e = filter_out_multilabel_examples(dataset[\"train\"][\"category\"], dataset[\"train\"][\"text\"])\n",
    "new_subset = {\"category\": new_c, \"text\": new_e}\n",
    "Counter(new_subset[\"category\"])"
   ]
  },
  {
   "cell_type": "code",
   "execution_count": 37,
   "metadata": {},
   "outputs": [
    {
     "data": {
      "text/plain": [
       "DatasetDict({\n",
       "    train: Dataset({\n",
       "        features: ['category', 'text'],\n",
       "        num_rows: 1746\n",
       "    })\n",
       "})"
      ]
     },
     "execution_count": 37,
     "metadata": {},
     "output_type": "execute_result"
    }
   ],
   "source": [
    "new_dataset = datasets.DatasetDict({\n",
    "    \"train\": datasets.Dataset.from_dict(new_subset)\n",
    "})\n",
    "new_dataset"
   ]
  },
  {
   "cell_type": "markdown",
   "metadata": {},
   "source": [
    "# Topic detection"
   ]
  },
  {
   "cell_type": "code",
   "execution_count": 13,
   "metadata": {},
   "outputs": [
    {
     "data": {
      "text/plain": [
       "['Society & Culture',\n",
       " 'Science & Mathematics',\n",
       " 'Health',\n",
       " 'Education & Reference',\n",
       " 'Computers & Internet',\n",
       " 'Sports',\n",
       " 'Business & Finance',\n",
       " 'Entertainment & Music',\n",
       " 'Family & Relationships',\n",
       " 'Politics & Government']"
      ]
     },
     "execution_count": 13,
     "metadata": {},
     "output_type": "execute_result"
    }
   ],
   "source": [
    "with open(\"../data/BenchmarkingZeroShot/topic/classes.txt\") as f:\n",
    "    id2class = [x.strip('\\n') for x in f]\n",
    "\n",
    "id2class"
   ]
  },
  {
   "cell_type": "code",
   "execution_count": 17,
   "metadata": {},
   "outputs": [],
   "source": [
    "def subset_from_csv_with_id2class(file_path, id2class):\n",
    "    subset = {\"category\": [], \"text\": []}\n",
    "\n",
    "    with open(file_path) as f:\n",
    "        for line in f:\n",
    "            class_, text = line.split('\\t', 1)\n",
    "            subset[\"category\"].append(id2class[int(class_)])\n",
    "            subset[\"text\"].append(text)\n",
    "\n",
    "    return subset"
   ]
  },
  {
   "cell_type": "code",
   "execution_count": 18,
   "metadata": {},
   "outputs": [],
   "source": [
    "def build_dataset_topic(data_path):\n",
    "    data_path = Path(data_path)\n",
    "\n",
    "    with open(data_path/\"classes.txt\") as f:\n",
    "        id2class = [x.strip('\\n') for x in f]\n",
    "\n",
    "    train_set = subset_from_csv_with_id2class(data_path/\"train_pu_half_v0.txt\", id2class)\n",
    "    valid_set = subset_from_csv_with_id2class(data_path/\"dev.txt\", id2class)\n",
    "    test_set = subset_from_csv_with_id2class(data_path/\"test.txt\", id2class)\n",
    "\n",
    "    dataset = datasets.DatasetDict({\n",
    "        \"train\": datasets.Dataset.from_dict(train_set),\n",
    "        \"validation\": datasets.Dataset.from_dict(valid_set),\n",
    "        \"test\": datasets.Dataset.from_dict(test_set),    \n",
    "    })\n",
    "\n",
    "    return dataset"
   ]
  },
  {
   "cell_type": "code",
   "execution_count": 19,
   "metadata": {},
   "outputs": [],
   "source": [
    "dataset = build_dataset_topic(\"../data/BenchmarkingZeroShot/topic\")"
   ]
  },
  {
   "cell_type": "code",
   "execution_count": 22,
   "metadata": {},
   "outputs": [
    {
     "data": {
      "text/plain": [
       "{'Business & Finance',\n",
       " 'Computers & Internet',\n",
       " 'Family & Relationships',\n",
       " 'Health',\n",
       " 'Society & Culture'}"
      ]
     },
     "execution_count": 22,
     "metadata": {},
     "output_type": "execute_result"
    }
   ],
   "source": [
    "set(dataset[\"train\"][\"category\"])"
   ]
  },
  {
   "cell_type": "code",
   "execution_count": 23,
   "metadata": {},
   "outputs": [],
   "source": [
    "dataset.save_to_disk(\"../data/topic_v0\")"
   ]
  },
  {
   "cell_type": "code",
   "execution_count": null,
   "metadata": {},
   "outputs": [],
   "source": []
  }
 ],
 "metadata": {
  "kernelspec": {
   "display_name": "cat",
   "language": "python",
   "name": "cat"
  },
  "language_info": {
   "codemirror_mode": {
    "name": "ipython",
    "version": 3
   },
   "file_extension": ".py",
   "mimetype": "text/x-python",
   "name": "python",
   "nbconvert_exporter": "python",
   "pygments_lexer": "ipython3",
   "version": "3.8.5"
  }
 },
 "nbformat": 4,
 "nbformat_minor": 4
}
