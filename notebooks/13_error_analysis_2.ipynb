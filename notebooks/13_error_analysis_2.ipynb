{
 "cells": [
  {
   "cell_type": "code",
   "execution_count": 89,
   "metadata": {},
   "outputs": [],
   "source": [
    "import argparse\n",
    "import logging\n",
    "import pprint\n",
    "import os\n",
    "import sys\n",
    "from itertools import chain\n",
    "from collections import Counter\n",
    "\n",
    "import torch\n",
    "import torch.utils.data\n",
    "import torch.nn.functional as F\n",
    "import transformers\n",
    "import datasets\n",
    "import wandb\n",
    "\n",
    "from tqdm import tqdm\n",
    "import matplotlib.pyplot as plt\n",
    "\n",
    "import class_attention as cat"
   ]
  },
  {
   "cell_type": "markdown",
   "metadata": {},
   "source": [
    "# Prepare and train a model"
   ]
  },
  {
   "cell_type": "code",
   "execution_count": 28,
   "metadata": {},
   "outputs": [],
   "source": [
    "class args:\n",
    "    dataset = \"../data/news-category-semantic-split-small\"\n",
    "    model = \"distilbert-base-uncased\"\n",
    "    test_class_frac = 0.0\n",
    "    dataset_frac = 1.0\n",
    "    batch_size = 32\n",
    "    device = \"cuda:1\"\n",
    "    lr = 1e-4\n",
    "    max_epochs = 5\n",
    "    normailze_cls = True\n",
    "    normalize_txt = True\n",
    "    scale_attention = False\n",
    "    freeze_cls_network = False\n",
    "    learn_temperature = True\n",
    "    use_n_projection_layers = None\n"
   ]
  },
  {
   "cell_type": "code",
   "execution_count": 12,
   "metadata": {},
   "outputs": [
    {
     "data": {
      "application/vnd.jupyter.widget-view+json": {
       "model_id": "71f3303f588a4ec0acb9a42d3f039152",
       "version_major": 2,
       "version_minor": 0
      },
      "text/plain": [
       "HBox(children=(FloatProgress(value=0.0, description='Preprocessing Dataset', max=14661.0, style=ProgressStyle(…"
      ]
     },
     "metadata": {},
     "output_type": "display_data"
    },
    {
     "name": "stdout",
     "output_type": "stream",
     "text": [
      "\n"
     ]
    },
    {
     "data": {
      "application/vnd.jupyter.widget-view+json": {
       "model_id": "5db938131e6348628a722b03d7a9c00c",
       "version_major": 2,
       "version_minor": 0
      },
      "text/plain": [
       "HBox(children=(FloatProgress(value=0.0, description='Preprocessing Dataset', max=14661.0, style=ProgressStyle(…"
      ]
     },
     "metadata": {},
     "output_type": "display_data"
    },
    {
     "name": "stdout",
     "output_type": "stream",
     "text": [
      "\n"
     ]
    }
   ],
   "source": [
    "(\n",
    "    train_dataloader,\n",
    "    test_dataloader,\n",
    "    all_classes_str,\n",
    "    test_classes_str,\n",
    ") = cat.training_utils.prepare_dataloaders(\n",
    "    dataset_name_or_path=args.dataset,\n",
    "    model_name=args.model,\n",
    "    test_class_frac=args.test_class_frac,\n",
    "    dataset_frac=args.dataset_frac,\n",
    "    batch_size=args.batch_size,\n",
    ")\n"
   ]
  },
  {
   "cell_type": "code",
   "execution_count": 29,
   "metadata": {},
   "outputs": [],
   "source": [
    "text_encoder = transformers.AutoModel.from_pretrained(args.model)\n",
    "label_encoder = transformers.AutoModel.from_pretrained(args.model)\n",
    "\n",
    "model = cat.ClassAttentionModel(\n",
    "    text_encoder,\n",
    "    label_encoder,\n",
    "    **vars(args),\n",
    ")\n",
    "model = model.to(args.device)"
   ]
  },
  {
   "cell_type": "code",
   "execution_count": null,
   "metadata": {},
   "outputs": [],
   "source": [
    "parameters = model.get_trainable_parameters()\n",
    "optimizer = torch.optim.Adam(parameters, lr=args.lr)\n",
    "\n",
    "config = {k: v for k, v in vars(args).items() if not k.startswith(\"_\")}\n",
    "\n",
    "wandb.init(project=\"class_attention\", config=config, tags=[\"notebook\"])\n",
    "wandb.watch(model, log=\"all\")"
   ]
  },
  {
   "cell_type": "code",
   "execution_count": 31,
   "metadata": {},
   "outputs": [
    {
     "data": {
      "application/vnd.jupyter.widget-view+json": {
       "model_id": "271bdb66dec54ea785e8df3a1c07d23b",
       "version_major": 2,
       "version_minor": 0
      },
      "text/plain": [
       "HBox(children=(FloatProgress(value=0.0, description='Epochs', max=5.0, style=ProgressStyle(description_width='…"
      ]
     },
     "metadata": {},
     "output_type": "display_data"
    },
    {
     "name": "stdout",
     "output_type": "stream",
     "text": [
      "\n"
     ]
    }
   ],
   "source": [
    "model = cat.training_utils.train_cat_model(\n",
    "    model,\n",
    "    optimizer,\n",
    "    train_dataloader,\n",
    "    test_dataloader,\n",
    "    all_classes_str,\n",
    "    test_classes_str,\n",
    "    args.max_epochs,\n",
    "    args.device,\n",
    ")"
   ]
  },
  {
   "cell_type": "markdown",
   "metadata": {},
   "source": [
    "# Error analysis"
   ]
  },
  {
   "cell_type": "code",
   "execution_count": 16,
   "metadata": {},
   "outputs": [
    {
     "data": {
      "text/plain": [
       "(\"[CLS] behind closed doors, donald trump's adviser explains his real economic plan [SEP]\",\n",
       " '[CLS] politics [SEP]')"
      ]
     },
     "execution_count": 16,
     "metadata": {},
     "output_type": "execute_result"
    }
   ],
   "source": [
    "text_tokenizer = test_dataloader.dataset.text_tokenizer\n",
    "label_tokenizer = test_dataloader.dataset.label_tokenizer\n",
    "\n",
    "_t, _c = test_dataloader.dataset[4]\n",
    "text_tokenizer.decode(_t), label_tokenizer.decode(_c)"
   ]
  },
  {
   "cell_type": "code",
   "execution_count": 17,
   "metadata": {},
   "outputs": [
    {
     "data": {
      "text/plain": [
       "{'ARTS',\n",
       " 'ARTS & CULTURE',\n",
       " 'BLACK VOICES',\n",
       " 'BUSINESS',\n",
       " 'COLLEGE',\n",
       " 'COMEDY',\n",
       " 'CRIME',\n",
       " 'ENTERTAINMENT',\n",
       " 'ENVIRONMENT',\n",
       " 'FIFTY',\n",
       " 'FOOD & DRINK',\n",
       " 'GOOD NEWS',\n",
       " 'GREEN',\n",
       " 'HEALTHY LIVING',\n",
       " 'HOME & LIVING',\n",
       " 'IMPACT',\n",
       " 'MEDIA',\n",
       " 'MONEY',\n",
       " 'PARENTING',\n",
       " 'POLITICS',\n",
       " 'QUEER VOICES',\n",
       " 'RELIGION',\n",
       " 'SCIENCE',\n",
       " 'SPORTS',\n",
       " 'STYLE & BEAUTY',\n",
       " 'TASTE',\n",
       " 'TECH',\n",
       " 'THE WORLDPOST',\n",
       " 'TRAVEL',\n",
       " 'WEDDINGS',\n",
       " 'WEIRD NEWS',\n",
       " 'WELLNESS',\n",
       " 'WOMEN'}"
      ]
     },
     "execution_count": 17,
     "metadata": {},
     "output_type": "execute_result"
    }
   ],
   "source": [
    "set(all_classes_str).difference(test_classes_str)"
   ]
  },
  {
   "cell_type": "code",
   "execution_count": 18,
   "metadata": {},
   "outputs": [
    {
     "data": {
      "text/plain": [
       "['DIVORCE',\n",
       " 'CULTURE & ARTS',\n",
       " 'WORLDPOST',\n",
       " 'STYLE',\n",
       " 'LATINO VOICES',\n",
       " 'PARENTS',\n",
       " 'WORLD NEWS',\n",
       " 'EDUCATION']"
      ]
     },
     "execution_count": 18,
     "metadata": {},
     "output_type": "execute_result"
    }
   ],
   "source": [
    "test_classes_str"
   ]
  },
  {
   "cell_type": "code",
   "execution_count": 22,
   "metadata": {},
   "outputs": [
    {
     "data": {
      "application/vnd.jupyter.widget-view+json": {
       "model_id": "018e78c0b4c94a3da953da8591cb402f",
       "version_major": 2,
       "version_minor": 0
      },
      "text/plain": [
       "HBox(children=(FloatProgress(value=0.0, description='Preprocessing Dataset', max=91.0, style=ProgressStyle(des…"
      ]
     },
     "metadata": {},
     "output_type": "display_data"
    },
    {
     "name": "stdout",
     "output_type": "stream",
     "text": [
      "\n"
     ]
    }
   ],
   "source": [
    "news_dataset = datasets.load_from_disk(\"../data/news-category-semantic-split-small\")\n",
    "_, only_test_classes_data = cat.utils.split_classes(news_dataset[\"validation\"], test_classes=test_classes_str)\n",
    "\n",
    "otc_dataset = cat.CatDataset(\n",
    "    only_test_classes_data[\"headline\"],\n",
    "    text_tokenizer,\n",
    "    only_test_classes_data[\"category\"],\n",
    "    label_tokenizer,\n",
    ")\n",
    "\n",
    "test_classes_ids = label_tokenizer.batch_encode_plus(\n",
    "    test_classes_str,\n",
    "    return_tensors=\"pt\",\n",
    "    add_special_tokens=True,\n",
    "    padding=True,\n",
    ")[\"input_ids\"]\n",
    "\n",
    "otc_collator = cat.CatTestCollator(\n",
    "    possible_labels_ids=test_classes_ids, pad_token_id=label_tokenizer.pad_token_id\n",
    ")\n",
    "\n",
    "otc_dataloader = torch.utils.data.DataLoader(otc_dataset, collate_fn=otc_collator, shuffle=False, pin_memory=True)"
   ]
  },
  {
   "cell_type": "code",
   "execution_count": 55,
   "metadata": {},
   "outputs": [
    {
     "name": "stdout",
     "output_type": "stream",
     "text": [
      "2021-02-23 17:40:37 | WARNING | utils.py | No classes for the group multi_shot\n",
      "2021-02-23 17:40:37 | WARNING | utils.py | No classes for the group multi_shot\n",
      "2021-02-23 17:40:37 | WARNING | utils.py | No classes for the group multi_shot\n"
     ]
    },
    {
     "data": {
      "text/plain": [
       "{'acc': tensor(0.5055, device='cuda:1'),\n",
       " 'P/DIVORCE': 0.8333333287037037,\n",
       " 'R/DIVORCE': 0.6521739102079395,\n",
       " 'F1/DIVORCE': 0.731707264247475,\n",
       " 'P/CULTURE & ARTS': 0.0,\n",
       " 'R/CULTURE & ARTS': 0.0,\n",
       " 'F1/CULTURE & ARTS': 0.0,\n",
       " 'P/WORLDPOST': 0.42857142653061225,\n",
       " 'R/WORLDPOST': 0.5999999960000001,\n",
       " 'F1/WORLDPOST': 0.4999999486111158,\n",
       " 'P/STYLE': 0.9999999666666678,\n",
       " 'R/STYLE': 0.3749999953125001,\n",
       " 'F1/STYLE': 0.5454544958677713,\n",
       " 'P/LATINO VOICES': 0.42857142244897967,\n",
       " 'R/LATINO VOICES': 0.5999999880000002,\n",
       " 'F1/LATINO VOICES': 0.4999999430555604,\n",
       " 'P/PARENTS': 0.7222222182098765,\n",
       " 'R/PARENTS': 0.6842105227146814,\n",
       " 'F1/PARENTS': 0.7027026489408363,\n",
       " 'P/WORLD NEWS': 0.14285714081632656,\n",
       " 'R/WORLD NEWS': 0.07142857091836735,\n",
       " 'F1/WORLD NEWS': 0.09523804988664196,\n",
       " 'P/EDUCATION': 0.22222221975308645,\n",
       " 'R/EDUCATION': 0.6666666444444452,\n",
       " 'F1/EDUCATION': 0.3333332902777817,\n",
       " 'R_zero_shot': 0.45618495344974175,\n",
       " 'P_zero_shot': 0.47222221539115655,\n",
       " 'F1_zero_shot': 0.4260544551108978}"
      ]
     },
     "execution_count": 55,
     "metadata": {},
     "output_type": "execute_result"
    }
   ],
   "source": [
    "metrics = cat.utils.evaluate_model_per_class(\n",
    "    model,\n",
    "    otc_dataloader,\n",
    "    device=args.device,\n",
    "    labels_str=test_classes_str,\n",
    "    zeroshot_labels=test_classes_str,\n",
    ")\n",
    "\n",
    "metrics"
   ]
  },
  {
   "cell_type": "code",
   "execution_count": 24,
   "metadata": {},
   "outputs": [
    {
     "name": "stdout",
     "output_type": "stream",
     "text": [
      "2021-02-23 17:25:46 | WARNING | utils.py | No classes for the group multi_shot\n",
      "2021-02-23 17:25:46 | WARNING | utils.py | No classes for the group multi_shot\n",
      "2021-02-23 17:25:46 | WARNING | utils.py | No classes for the group multi_shot\n"
     ]
    },
    {
     "data": {
      "text/plain": [
       "{'acc': tensor(0.0549, device='cuda:1'),\n",
       " 'P/DIVORCE': 0.0,\n",
       " 'R/DIVORCE': 0.0,\n",
       " 'F1/DIVORCE': 0.0,\n",
       " 'P/CULTURE & ARTS': 0.0,\n",
       " 'R/CULTURE & ARTS': 0.0,\n",
       " 'F1/CULTURE & ARTS': 0.0,\n",
       " 'P/WORLDPOST': 0.0,\n",
       " 'R/WORLDPOST': 0.0,\n",
       " 'F1/WORLDPOST': 0.0,\n",
       " 'P/STYLE': 0.0,\n",
       " 'R/STYLE': 0.0,\n",
       " 'F1/STYLE': 0.0,\n",
       " 'P/LATINO VOICES': 0.0,\n",
       " 'R/LATINO VOICES': 0.0,\n",
       " 'F1/LATINO VOICES': 0.0,\n",
       " 'P/PARENTS': 0.14285714217687073,\n",
       " 'R/PARENTS': 0.15789473601108034,\n",
       " 'F1/PARENTS': 0.14999994937501657,\n",
       " 'P/WORLD NEWS': 0.0,\n",
       " 'R/WORLD NEWS': 0.0,\n",
       " 'F1/WORLD NEWS': 0.0,\n",
       " 'P/EDUCATION': 0.028571428530612248,\n",
       " 'R/EDUCATION': 0.6666666444444452,\n",
       " 'F1/EDUCATION': 0.05479451251642051,\n",
       " 'R_zero_shot': 0.1030701725569407,\n",
       " 'P_zero_shot': 0.021428571338435374,\n",
       " 'F1_zero_shot': 0.025599307736429634}"
      ]
     },
     "execution_count": 24,
     "metadata": {},
     "output_type": "execute_result"
    }
   ],
   "source": [
    "random_model = cat.ClassAttentionModel(\n",
    "    transformers.AutoModel.from_config(transformers.AutoConfig.from_pretrained(args.model)),\n",
    "    transformers.AutoModel.from_config(transformers.AutoConfig.from_pretrained(args.model)),\n",
    ")\n",
    "\n",
    "metrics_random = cat.utils.evaluate_model_per_class(\n",
    "    random_model,\n",
    "    otc_dataloader,\n",
    "    device=args.device,\n",
    "    labels_str=test_classes_str,\n",
    "    zeroshot_labels=test_classes_str,\n",
    ")\n",
    "\n",
    "metrics_random"
   ]
  },
  {
   "cell_type": "code",
   "execution_count": 25,
   "metadata": {},
   "outputs": [
    {
     "name": "stdout",
     "output_type": "stream",
     "text": [
      "2021-02-23 17:25:49 | WARNING | utils.py | No classes for the group multi_shot\n",
      "2021-02-23 17:25:49 | WARNING | utils.py | No classes for the group multi_shot\n",
      "2021-02-23 17:25:49 | WARNING | utils.py | No classes for the group multi_shot\n"
     ]
    },
    {
     "data": {
      "text/plain": [
       "{'acc': tensor(0.0440, device='cuda:1'),\n",
       " 'P/DIVORCE': 0.0,\n",
       " 'R/DIVORCE': 0.0,\n",
       " 'F1/DIVORCE': 0.0,\n",
       " 'P/CULTURE & ARTS': 0.04395604390774061,\n",
       " 'R/CULTURE & ARTS': 0.9999999750000006,\n",
       " 'F1/CULTURE & ARTS': 0.08421051807202275,\n",
       " 'P/WORLDPOST': 0.0,\n",
       " 'R/WORLDPOST': 0.0,\n",
       " 'F1/WORLDPOST': 0.0,\n",
       " 'P/STYLE': 0.0,\n",
       " 'R/STYLE': 0.0,\n",
       " 'F1/STYLE': 0.0,\n",
       " 'P/LATINO VOICES': 0.0,\n",
       " 'R/LATINO VOICES': 0.0,\n",
       " 'F1/LATINO VOICES': 0.0,\n",
       " 'P/PARENTS': 0.0,\n",
       " 'R/PARENTS': 0.0,\n",
       " 'F1/PARENTS': 0.0,\n",
       " 'P/WORLD NEWS': 0.0,\n",
       " 'R/WORLD NEWS': 0.0,\n",
       " 'F1/WORLD NEWS': 0.0,\n",
       " 'P/EDUCATION': 0.0,\n",
       " 'R/EDUCATION': 0.0,\n",
       " 'F1/EDUCATION': 0.0,\n",
       " 'R_zero_shot': 0.12499999687500007,\n",
       " 'P_zero_shot': 0.0054945054884675765,\n",
       " 'F1_zero_shot': 0.010526314759002843}"
      ]
     },
     "execution_count": 25,
     "metadata": {},
     "output_type": "execute_result"
    }
   ],
   "source": [
    "bert_model = cat.ClassAttentionModel(\n",
    "    transformers.AutoModel.from_pretrained(args.model),\n",
    "    transformers.AutoModel.from_pretrained(args.model),\n",
    ")\n",
    "\n",
    "metrics_bert = cat.utils.evaluate_model_per_class(\n",
    "    bert_model,\n",
    "    otc_dataloader,\n",
    "    device=args.device,\n",
    "    labels_str=test_classes_str,\n",
    "    zeroshot_labels=test_classes_str,\n",
    ")\n",
    "\n",
    "metrics_bert"
   ]
  },
  {
   "cell_type": "code",
   "execution_count": 26,
   "metadata": {},
   "outputs": [
    {
     "data": {
      "text/plain": [
       "Counter({'WORLDPOST': 15,\n",
       "         'PARENTS': 19,\n",
       "         'WORLD NEWS': 14,\n",
       "         'DIVORCE': 23,\n",
       "         'STYLE': 8,\n",
       "         'EDUCATION': 3,\n",
       "         'LATINO VOICES': 5,\n",
       "         'CULTURE & ARTS': 4})"
      ]
     },
     "execution_count": 26,
     "metadata": {},
     "output_type": "execute_result"
    }
   ],
   "source": [
    "class_counts = Counter(otc_dataloader.dataset.labels)\n",
    "class_counts"
   ]
  },
  {
   "cell_type": "code",
   "execution_count": 27,
   "metadata": {},
   "outputs": [
    {
     "data": {
      "text/plain": [
       "{'DIVORCE': 0.25274725274725274,\n",
       " 'PARENTS': 0.2087912087912088,\n",
       " 'WORLDPOST': 0.16483516483516483,\n",
       " 'WORLD NEWS': 0.15384615384615385,\n",
       " 'STYLE': 0.08791208791208792,\n",
       " 'LATINO VOICES': 0.054945054945054944,\n",
       " 'CULTURE & ARTS': 0.04395604395604396,\n",
       " 'EDUCATION': 0.03296703296703297}"
      ]
     },
     "execution_count": 27,
     "metadata": {},
     "output_type": "execute_result"
    }
   ],
   "source": [
    "{k: v / len(otc_dataloader.dataset) for k, v in class_counts.most_common()}"
   ]
  },
  {
   "cell_type": "markdown",
   "metadata": {},
   "source": [
    "## Result\n",
    "\n",
    "For the semantic split, trained class attention model, **when evaluated on zero-shot classes only**, is significantly better than a random baseline or a constant baseline\n",
    "\n",
    "* Random accuracy: 0.06\n",
    "* BERT without fine-tuning: 0.04\n",
    "* Best constant accuracy: 0.25\n",
    "\n",
    "* Model (CLS network fixed): 0.34\n",
    "* Model (CLS network fine-tuned): 0.50"
   ]
  },
  {
   "cell_type": "code",
   "execution_count": 43,
   "metadata": {},
   "outputs": [
    {
     "data": {
      "text/plain": [
       "{'ARTS',\n",
       " 'ARTS & CULTURE',\n",
       " 'BLACK VOICES',\n",
       " 'BUSINESS',\n",
       " 'COLLEGE',\n",
       " 'COMEDY',\n",
       " 'CRIME',\n",
       " 'ENTERTAINMENT',\n",
       " 'ENVIRONMENT',\n",
       " 'FIFTY',\n",
       " 'FOOD & DRINK',\n",
       " 'GOOD NEWS',\n",
       " 'GREEN',\n",
       " 'HEALTHY LIVING',\n",
       " 'HOME & LIVING',\n",
       " 'IMPACT',\n",
       " 'MEDIA',\n",
       " 'MONEY',\n",
       " 'PARENTING',\n",
       " 'POLITICS',\n",
       " 'QUEER VOICES',\n",
       " 'RELIGION',\n",
       " 'SCIENCE',\n",
       " 'SPORTS',\n",
       " 'STYLE & BEAUTY',\n",
       " 'TASTE',\n",
       " 'TECH',\n",
       " 'THE WORLDPOST',\n",
       " 'TRAVEL',\n",
       " 'WEDDINGS',\n",
       " 'WEIRD NEWS',\n",
       " 'WELLNESS',\n",
       " 'WOMEN'}"
      ]
     },
     "execution_count": 43,
     "metadata": {},
     "output_type": "execute_result"
    }
   ],
   "source": [
    "set(all_classes_str).difference(set(test_classes_str))"
   ]
  },
  {
   "cell_type": "code",
   "execution_count": 79,
   "metadata": {},
   "outputs": [],
   "source": [
    "_all_classes_str = test_classes_str + [\n",
    "#  'ARTS',\n",
    "#  'ARTS & CULTURE',\n",
    "#  'BLACK VOICES',\n",
    "#  'BUSINESS',\n",
    "#  'COLLEGE',\n",
    "#  'COMEDY',\n",
    "#  'CRIME',\n",
    "#  'ENTERTAINMENT',\n",
    "#  'ENVIRONMENT',\n",
    "#  'FIFTY',\n",
    "#  'FOOD & DRINK',\n",
    "#  'GOOD NEWS',\n",
    "#  'GREEN',\n",
    "#  'HEALTHY LIVING',\n",
    "#  'HOME & LIVING',\n",
    "#  'IMPACT',\n",
    "#  'MEDIA',\n",
    "#  'MONEY',\n",
    "#  'PARENTING',\n",
    "#  'POLITICS',\n",
    "#  'QUEER VOICES',\n",
    "#  'RELIGION',\n",
    "#  'SCIENCE',\n",
    "#  'SPORTS',\n",
    "#  'STYLE & BEAUTY',\n",
    "#  'TASTE',\n",
    "#  'TECH',\n",
    "#  'THE WORLDPOST',\n",
    "#  'TRAVEL',\n",
    "#  'WEDDINGS',\n",
    "#  'WEIRD NEWS',\n",
    "#  'WELLNESS',\n",
    "#  'WOMEN',\n",
    "]\n",
    "\n",
    "all_classes_ids = label_tokenizer.batch_encode_plus(\n",
    "    _all_classes_str,\n",
    "    return_tensors=\"pt\",\n",
    "    add_special_tokens=True,\n",
    "    padding=True,\n",
    ")[\"input_ids\"]\n",
    "\n",
    "all_classes_collator = cat.CatTestCollator(\n",
    "    possible_labels_ids=all_classes_ids, pad_token_id=label_tokenizer.pad_token_id\n",
    ")\n",
    "\n",
    "otc_dataloader_all_classes = torch.utils.data.DataLoader(otc_dataset, collate_fn=all_classes_collator, shuffle=False, pin_memory=True)"
   ]
  },
  {
   "cell_type": "code",
   "execution_count": 80,
   "metadata": {},
   "outputs": [
    {
     "name": "stdout",
     "output_type": "stream",
     "text": [
      "2021-02-23 17:45:00 | WARNING | utils.py | No classes for the group multi_shot\n",
      "2021-02-23 17:45:00 | WARNING | utils.py | No classes for the group multi_shot\n",
      "2021-02-23 17:45:00 | WARNING | utils.py | No classes for the group multi_shot\n"
     ]
    },
    {
     "data": {
      "text/plain": [
       "{'acc': tensor(0.5055, device='cuda:1'),\n",
       " 'P/DIVORCE': 0.8333333287037037,\n",
       " 'R/DIVORCE': 0.6521739102079395,\n",
       " 'F1/DIVORCE': 0.731707264247475,\n",
       " 'P/CULTURE & ARTS': 0.0,\n",
       " 'R/CULTURE & ARTS': 0.0,\n",
       " 'F1/CULTURE & ARTS': 0.0,\n",
       " 'P/WORLDPOST': 0.42857142653061225,\n",
       " 'R/WORLDPOST': 0.5999999960000001,\n",
       " 'F1/WORLDPOST': 0.4999999486111158,\n",
       " 'P/STYLE': 0.9999999666666678,\n",
       " 'R/STYLE': 0.3749999953125001,\n",
       " 'F1/STYLE': 0.5454544958677713,\n",
       " 'P/LATINO VOICES': 0.42857142244897967,\n",
       " 'R/LATINO VOICES': 0.5999999880000002,\n",
       " 'F1/LATINO VOICES': 0.4999999430555604,\n",
       " 'P/PARENTS': 0.7222222182098765,\n",
       " 'R/PARENTS': 0.6842105227146814,\n",
       " 'F1/PARENTS': 0.7027026489408363,\n",
       " 'P/WORLD NEWS': 0.14285714081632656,\n",
       " 'R/WORLD NEWS': 0.07142857091836735,\n",
       " 'F1/WORLD NEWS': 0.09523804988664196,\n",
       " 'P/EDUCATION': 0.22222221975308645,\n",
       " 'R/EDUCATION': 0.6666666444444452,\n",
       " 'F1/EDUCATION': 0.3333332902777817,\n",
       " 'R_zero_shot': 0.45618495344974175,\n",
       " 'P_zero_shot': 0.47222221539115655,\n",
       " 'F1_zero_shot': 0.4260544551108978}"
      ]
     },
     "execution_count": 80,
     "metadata": {},
     "output_type": "execute_result"
    }
   ],
   "source": [
    "cat.utils.evaluate_model_per_class(\n",
    "    model,\n",
    "    otc_dataloader_all_classes,\n",
    "    device=args.device,\n",
    "    labels_str=_all_classes_str,\n",
    "    zeroshot_labels=test_classes_str,\n",
    ")"
   ]
  },
  {
   "cell_type": "code",
   "execution_count": 84,
   "metadata": {},
   "outputs": [
    {
     "data": {
      "text/plain": [
       "-0.20549453496932985"
      ]
     },
     "execution_count": 84,
     "metadata": {},
     "output_type": "execute_result"
    }
   ],
   "source": [
    "0.3 - metrics['acc'].item()"
   ]
  },
  {
   "cell_type": "code",
   "execution_count": 85,
   "metadata": {},
   "outputs": [
    {
     "data": {
      "text/plain": [
       "{'HOME & LIVING': -0.010994505167007396,\n",
       " 'TECH': -5.4650306701153895e-06,\n",
       " 'MEDIA': -0.054950546503066966,\n",
       " 'COMEDY': -0.04396153616905207,\n",
       " 'BUSINESS': -0.021983515501022288,\n",
       " 'WEIRD NEWS': -0.010994505167007396,\n",
       " 'SPORTS': -5.4650306701153895e-06,\n",
       " 'PARENTING': -0.08791757750511164,\n",
       " 'ENVIRONMENT': -0.010994505167007396,\n",
       " 'RELIGION': -0.03297252583503718,\n",
       " 'FIFTY': -0.021983515501022288,\n",
       " 'GREEN': -0.021983515501022288,\n",
       " 'STYLE & BEAUTY': -0.021983515501022288,\n",
       " 'POLITICS': -0.08791757750511164,\n",
       " 'TASTE': -0.010994505167007396,\n",
       " 'ARTS': -5.4650306701153895e-06,\n",
       " 'HEALTHY LIVING': -0.03297252583503718,\n",
       " 'SCIENCE': -5.4650306701153895e-06,\n",
       " 'ENTERTAINMENT': -0.04396153616905207,\n",
       " 'ARTS & CULTURE': -5.4650306701153895e-06,\n",
       " 'IMPACT': -0.021983515501022288,\n",
       " 'GOOD NEWS': -0.010994505167007396,\n",
       " 'QUEER VOICES': -5.4650306701153895e-06,\n",
       " 'COLLEGE': -0.010994505167007396,\n",
       " 'WOMEN': -0.04396153616905207,\n",
       " 'THE WORLDPOST': -0.08791757750511164,\n",
       " 'WELLNESS': -0.04396153616905207,\n",
       " 'WEDDINGS': -0.054950546503066966,\n",
       " 'CRIME': -5.4650306701153895e-06,\n",
       " 'TRAVEL': -5.4650306701153895e-06,\n",
       " 'BLACK VOICES': -5.4650306701153895e-06,\n",
       " 'MONEY': -0.04396153616905207,\n",
       " 'FOOD & DRINK': -5.4650306701153895e-06}"
      ]
     },
     "execution_count": 85,
     "metadata": {},
     "output_type": "execute_result"
    }
   ],
   "source": [
    "class2delta = dict()\n",
    "\n",
    "for extra_class in set(all_classes_str).difference(set(test_classes_str)):\n",
    "    _all_classes_str = test_classes_str + [extra_class]\n",
    "    \n",
    "    all_classes_ids = label_tokenizer.batch_encode_plus(\n",
    "    _all_classes_str,\n",
    "    return_tensors=\"pt\",\n",
    "    add_special_tokens=True,\n",
    "    padding=True,\n",
    "    )[\"input_ids\"]\n",
    "\n",
    "    all_classes_collator = cat.CatTestCollator(\n",
    "        possible_labels_ids=all_classes_ids, pad_token_id=label_tokenizer.pad_token_id\n",
    "    )\n",
    "\n",
    "    otc_dataloader_all_classes = torch.utils.data.DataLoader(otc_dataset, collate_fn=all_classes_collator, shuffle=False, pin_memory=True)\n",
    "    \n",
    "    metrics = cat.utils.evaluate_model_per_class(\n",
    "        model,\n",
    "        otc_dataloader_all_classes,\n",
    "        device=args.device,\n",
    "        labels_str=_all_classes_str,\n",
    "        zeroshot_labels=test_classes_str,\n",
    "    )\n",
    "    \n",
    "    class2delta[extra_class] = metrics[\"acc\"].item() - 0.5055\n",
    "\n",
    "class2delta"
   ]
  },
  {
   "cell_type": "code",
   "execution_count": 100,
   "metadata": {},
   "outputs": [
    {
     "data": {
      "text/plain": [
       "<BarContainer object of 33 artists>"
      ]
     },
     "execution_count": 100,
     "metadata": {},
     "output_type": "execute_result"
    },
    {
     "data": {
      "image/png": "[encoded data removed]",
      "text/plain": [
       "<Figure size 864x288 with 1 Axes>"
      ]
     },
     "metadata": {
      "needs_background": "light"
     },
     "output_type": "display_data"
    }
   ],
   "source": [
    "items = sorted(class2delta.items(), key=lambda x: x[1])\n",
    "\n",
    "plt.figure(figsize=(12, 4))\n",
    "plt.xticks(rotation=90)\n",
    "counts = Counter(news_dataset['train']['category'])\n",
    "plt.bar(*zip(*items))"
   ]
  },
  {
   "cell_type": "code",
   "execution_count": 102,
   "metadata": {},
   "outputs": [
    {
     "data": {
      "text/plain": [
       "torch.Size([41, 5])"
      ]
     },
     "execution_count": 102,
     "metadata": {},
     "output_type": "execute_result"
    }
   ],
   "source": [
    "all_classes_ids = label_tokenizer.batch_encode_plus(\n",
    "    all_classes_str,\n",
    "    return_tensors=\"pt\",\n",
    "    add_special_tokens=True,\n",
    "    padding=True,\n",
    ")[\"input_ids\"]\n",
    "\n",
    "all_classes_ids.shape"
   ]
  },
  {
   "cell_type": "code",
   "execution_count": 129,
   "metadata": {},
   "outputs": [
    {
     "data": {
      "text/plain": [
       "(41, 768)"
      ]
     },
     "execution_count": 129,
     "metadata": {},
     "output_type": "execute_result"
    }
   ],
   "source": [
    "model_out = model.cls_encoder(input_ids=all_classes_ids.to(args.device))\n",
    "class_embeddings = model_out.last_hidden_state[:, 0, :]\n",
    "class_embeddings = cat.modelling_utils.normalize_embeds(class_embeddings)\n",
    "class_embeddings = class_embeddings.detach().cpu().numpy()\n",
    "class_embeddings.shape"
   ]
  },
  {
   "cell_type": "code",
   "execution_count": 133,
   "metadata": {},
   "outputs": [
    {
     "data": {
      "image/png": "[encoded data removed]",
      "text/plain": [
       "<Figure size 1440x1440 with 2 Axes>"
      ]
     },
     "metadata": {
      "needs_background": "light"
     },
     "output_type": "display_data"
    }
   ],
   "source": [
    "fig, ax = plt.subplots(1, 1, figsize=(20, 20))\n",
    "\n",
    "ax.set_xticks(range(len(all_classes_str)))\n",
    "ax.set_yticks(range(len(all_classes_str)))\n",
    "ax.set_xticklabels(all_classes_str)\n",
    "ax.set_yticklabels(all_classes_str)\n",
    "\n",
    "plt.setp(ax.get_xticklabels(), rotation=45, ha=\"right\",\n",
    "         rotation_mode=\"anchor\")\n",
    "im = ax.imshow(class_embeddings @ class_embeddings.T)\n",
    "cbar = ax.figure.colorbar(im, ax=ax, fraction=0.046, pad=0.04)"
   ]
  }
 ],
 "metadata": {
  "kernelspec": {
   "display_name": "cat",
   "language": "python",
   "name": "cat"
  },
  "language_info": {
   "codemirror_mode": {
    "name": "ipython",
    "version": 3
   },
   "file_extension": ".py",
   "mimetype": "text/x-python",
   "name": "python",
   "nbconvert_exporter": "python",
   "pygments_lexer": "ipython3",
   "version": "3.8.5"
  }
 },
 "nbformat": 4,
 "nbformat_minor": 4
}
