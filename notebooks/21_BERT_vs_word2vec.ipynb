{
 "cells": [
  {
   "cell_type": "code",
   "execution_count": 3,
   "metadata": {},
   "outputs": [],
   "source": [
    "import io\n",
    "import string\n",
    "import random\n",
    "from functools import partial\n",
    "from collections import Counter\n",
    "\n",
    "import numpy as np\n",
    "import pandas as pd\n",
    "\n",
    "import torch\n",
    "import torch.nn as nn\n",
    "import torch.nn.functional as F\n",
    "\n",
    "import datasets\n",
    "import transformers\n",
    "from transformers import AutoModel, AutoTokenizer\n",
    "\n",
    "import matplotlib.pyplot as plt\n",
    "from tqdm.auto import tqdm\n",
    "\n",
    "import class_attention as cat"
   ]
  },
  {
   "cell_type": "markdown",
   "metadata": {},
   "source": [
    "# Downloading data"
   ]
  },
  {
   "cell_type": "code",
   "execution_count": 2,
   "metadata": {},
   "outputs": [],
   "source": [
    "# ! mkdir -p ../data\n",
    "# ! wget -O ../data/topic_v0.tar.gz https://objectstorage.us-ashburn-1.oraclecloud.com/p/41EgnZeZE7R5snV_7wqF6qNwJJ3vDfLPISzdii973EUyfRGnO0VgPy2OL7U69XYM/n/id55xotfusli/b/class-attention/o/topic_v0.tar.gz\n",
    "# ! wget -O ../data/wiki-news-300d-1M.vec.zip https://dl.fbaipublicfiles.com/fasttext/vectors-english/wiki-news-300d-1M.vec.zip\n",
    "# ! wget -O ../data/wiki-news-300d-1M-subword.vec.zip https://dl.fbaipublicfiles.com/fasttext/vectors-english/wiki-news-300d-1M-subword.vec.zip\n",
    "# ! tar xf ../data/topic_v0.tar.gz -directory ../data\n",
    "# ! unzip ../data/wiki-news-300d-1M-subword.vec.zip -d ../data\n",
    "# ! unzip ../data/wiki-news-300d-1M.vec.zip -d ../data"
   ]
  },
  {
   "cell_type": "code",
   "execution_count": 10,
   "metadata": {},
   "outputs": [],
   "source": [
    "def sample_dataset(dataset, p):\n",
    "    \"\"\"Samples a smaller version of a dataset.\n",
    "\n",
    "    Mainly used for debugging and testing.\n",
    "\n",
    "    Args:\n",
    "        dataset: datasets.arrow_dataset.Dataset object\n",
    "        p: float, 0 < p <= 1\n",
    "\n",
    "    Returns:\n",
    "        datasets.arrow_dataset.Dataset of size len(dataset) * p with random examples from the dataset\n",
    "        sampled without replacement\n",
    "    \"\"\"\n",
    "    if not 0 < p <= 1:\n",
    "        raise ValueError(p)\n",
    "\n",
    "    dataset_len = len(dataset)\n",
    "    sample_size = int(p * dataset_len)\n",
    "\n",
    "    ids = random.sample(range(len(dataset)), sample_size)\n",
    "\n",
    "    # indexing actually creates dict with elements of len(ids), not a list\n",
    "    sampled_dataset_dict = dataset[ids]\n",
    "    sampled_dataset = datasets.arrow_dataset.Dataset.from_dict(sampled_dataset_dict)\n",
    "    return sampled_dataset\n",
    "\n",
    "\n",
    "def sample_dataset(dataset, p):\n",
    "    \"\"\"Samples a smaller version of a dataset.\n",
    "\n",
    "    Mainly used for debugging and testing.\n",
    "\n",
    "    Args:\n",
    "        dataset: datasets.arrow_dataset.Dataset object\n",
    "        p: float, 0 < p <= 1\n",
    "\n",
    "    Returns:\n",
    "        datasets.arrow_dataset.Dataset of size len(dataset) * p with random examples from the dataset\n",
    "        sampled without replacement\n",
    "    \"\"\"\n",
    "    if not 0 < p <= 1:\n",
    "        raise ValueError(p)\n",
    "\n",
    "    dataset_len = len(dataset)\n",
    "    sample_size = int(p * dataset_len)\n",
    "\n",
    "    ids = random.sample(range(len(dataset)), sample_size)\n",
    "\n",
    "    # indexing actually creates dict with elements of len(ids), not a list\n",
    "    sampled_dataset_dict = dataset[ids]\n",
    "    sampled_dataset = datasets.arrow_dataset.Dataset.from_dict(sampled_dataset_dict)\n",
    "    return sampled_dataset\n",
    "\n",
    "\n",
    "def split_classes(dataset, class_field, p_test_classes=None, test_classes=None, verbose=False):\n",
    "    \"\"\"\n",
    "    Move classes to a class-test set (i.e. meta-test).\n",
    "\n",
    "    All dataset examples with these classes are removed from the original dataset\n",
    "\n",
    "    Args:\n",
    "        dataset: datasets.arrow_dataset.Dataset object\n",
    "        p_test_classes: 0 < float < 1\n",
    "        test_classes: alternative to p_test_classes, a list of classes to move to the class-test set,\n",
    "            capitalization is ignored\n",
    "        class_field: name of the class field in the dataset\n",
    "        verbose: log splitted classes info\n",
    "\n",
    "    Returns:\n",
    "        (train_set, class_test_set)\n",
    "        where both objects are ArrowDataset and all test classes are moved to class_test_set\n",
    "    \"\"\"\n",
    "    if class_field is None:\n",
    "        raise ValueError(\"class_field is required\")\n",
    "\n",
    "    if not isinstance(dataset, datasets.arrow_dataset.Dataset):\n",
    "        raise ValueError(type(dataset))\n",
    "\n",
    "    if not ((p_test_classes is None) ^ (test_classes is None)):\n",
    "        raise ValueError(\n",
    "            \"Only one of p_test_classes or test_classes should be specified. \"\n",
    "            f\"Got p_test_classes = {p_test_classes}\\n\"\n",
    "            f\"test_classes = {test_classes}\"\n",
    "        )\n",
    "\n",
    "    if p_test_classes == 0:\n",
    "        if test_classes is not None:\n",
    "            raise ValueError(\"test classes should not be specified if p_test_classes=0\")\n",
    "\n",
    "        return dataset, None\n",
    "\n",
    "    if p_test_classes is not None:\n",
    "        all_classes = list(set(dataset[class_field]))\n",
    "        n_test_classes = int(len(all_classes) * p_test_classes)\n",
    "        if n_test_classes == 0:\n",
    "            raise ValueError(\n",
    "                f\"p_test_classes={p_test_classes} is too small for the dataset with {len(all_classes)} classes.\"\n",
    "            )\n",
    "\n",
    "        test_classes = random.sample(all_classes, k=n_test_classes)\n",
    "\n",
    "    if verbose:\n",
    "        print(f\"Moving the following classes to a class-test set: {test_classes}\")\n",
    "\n",
    "    test_classes = {t.lower() for t in test_classes}\n",
    "    test_mask = [c.lower() in test_classes for c in dataset[class_field]]\n",
    "    train_mask = [not m for m in test_mask]\n",
    "\n",
    "    test_subset = dataset[test_mask]\n",
    "    train_subset = dataset[train_mask]  # NOTE: dict of lists, not a list of dicts\n",
    "\n",
    "    assert set(test_classes) == set(c.lower() for c in test_subset[class_field])\n",
    "\n",
    "    test_dataset = datasets.arrow_dataset.Dataset.from_dict(test_subset)\n",
    "    train_dataset = datasets.arrow_dataset.Dataset.from_dict(train_subset)\n",
    "\n",
    "    return train_dataset, test_dataset\n"
   ]
  },
  {
   "cell_type": "code",
   "execution_count": 11,
   "metadata": {},
   "outputs": [
    {
     "data": {
      "text/plain": [
       "['surprise', 'noemo', 'disgust', 'guilt', 'joy']"
      ]
     },
     "execution_count": 11,
     "metadata": {},
     "output_type": "execute_result"
    }
   ],
   "source": [
    "test_class_names"
   ]
  },
  {
   "cell_type": "code",
   "execution_count": 12,
   "metadata": {},
   "outputs": [
    {
     "name": "stderr",
     "output_type": "stream",
     "text": [
      "Loading cached processed dataset at ../data/emotion_v0/test/cache-2629bfbd1a2c0d8a.arrow\n"
     ]
    },
    {
     "data": {
      "text/plain": [
       "['surprise', 'noemo', 'disgust', 'guilt', 'joy']"
      ]
     },
     "execution_count": 12,
     "metadata": {},
     "output_type": "execute_result"
    }
   ],
   "source": [
    "DEVICE = \"cuda\"\n",
    "DATASET_NAME = \"emotion_v0\"\n",
    "\n",
    "\n",
    "def preprocess_class_names(names_iterator):\n",
    "    return list(set(map(str.lower, names_iterator)))\n",
    "\n",
    "\n",
    "training_classes = preprocess_class_names(datasets.load_from_disk(f\"../data/{DATASET_NAME}\")[\"train\"][\"category\"])\n",
    "dataset = datasets.load_from_disk(f\"../data/{DATASET_NAME}\")[\"test\"]\n",
    "most_common_class = Counter(dataset[\"category\"]).most_common(1)[0][0]\n",
    "\n",
    "# dataset = sample_dataset(dataset, p=0.1)\n",
    "\n",
    "# preprocess: stip \\n, make lowercase and remove punctuation\n",
    "table = str.maketrans('', '', string.punctuation)\n",
    "dataset = dataset.map(lambda x: {\"text\": x.strip().lower().translate(table)}, input_columns=\"text\")\n",
    "\n",
    "test_class_names = preprocess_class_names(dataset[\"category\"])\n",
    "test_class_names = list(set(test_class_names) - set(training_classes))\n",
    "\n",
    "_, dataset = split_classes(dataset, class_field=\"category\", test_classes=test_class_names)\n",
    "\n",
    "assert set(dataset[\"category\"]) == set(test_class_names)\n",
    "class_names = test_class_names\n",
    "class_names"
   ]
  },
  {
   "cell_type": "code",
   "execution_count": 13,
   "metadata": {},
   "outputs": [
    {
     "data": {
      "text/plain": [
       "['fear', 'anger', 'sadness', 'love', 'shame']"
      ]
     },
     "execution_count": 13,
     "metadata": {},
     "output_type": "execute_result"
    }
   ],
   "source": [
    "training_classes"
   ]
  },
  {
   "cell_type": "markdown",
   "metadata": {},
   "source": [
    "# Majority baseline"
   ]
  },
  {
   "cell_type": "code",
   "execution_count": 14,
   "metadata": {},
   "outputs": [],
   "source": [
    "from sklearn.metrics import f1_score"
   ]
  },
  {
   "cell_type": "code",
   "execution_count": 15,
   "metadata": {},
   "outputs": [
    {
     "data": {
      "text/plain": [
       "0.2510110165946173"
      ]
     },
     "execution_count": 15,
     "metadata": {},
     "output_type": "execute_result"
    }
   ],
   "source": [
    "most_common_class = Counter(dataset[\"category\"]).most_common(1)[0][0]\n",
    "f1_score(y_true=dataset[\"category\"], y_pred=[most_common_class] * len(dataset), average=\"weighted\")"
   ]
  },
  {
   "cell_type": "code",
   "execution_count": 16,
   "metadata": {},
   "outputs": [
    {
     "data": {
      "text/plain": [
       "0.4225352112676056"
      ]
     },
     "execution_count": 16,
     "metadata": {},
     "output_type": "execute_result"
    }
   ],
   "source": [
    "majority_acc = max(Counter(dataset[\"category\"]).values()) / len(dataset)\n",
    "majority_acc"
   ]
  },
  {
   "cell_type": "markdown",
   "metadata": {},
   "source": [
    "# FastText"
   ]
  },
  {
   "cell_type": "code",
   "execution_count": 95,
   "metadata": {},
   "outputs": [],
   "source": [
    "def load_vectors(fname, device=\"cpu\"):\n",
    "    with io.open(fname, 'r', encoding='utf-8', newline='\\n', errors='ignore') as f:\n",
    "        n_words, vec_size = [int(l) for l in f.readline().split()]\n",
    "        data = {}\n",
    "        for line in tqdm(f, total=n_words):\n",
    "            tokens = line.rstrip().split(' ')\n",
    "            data[tokens[0]] = torch.tensor([float(t) for t in tokens[1:]]).to(device)\n",
    "\n",
    "    return data, vec_size"
   ]
  },
  {
   "cell_type": "code",
   "execution_count": 8,
   "metadata": {},
   "outputs": [
    {
     "data": {
      "application/vnd.jupyter.widget-view+json": {
       "model_id": "0d5fb9a0eb8641aebdc87f5506c8a80f",
       "version_major": 2,
       "version_minor": 0
      },
      "text/plain": [
       "HBox(children=(FloatProgress(value=0.0, max=999994.0), HTML(value='')))"
      ]
     },
     "metadata": {},
     "output_type": "display_data"
    },
    {
     "name": "stdout",
     "output_type": "stream",
     "text": [
      "\n"
     ]
    }
   ],
   "source": [
    "word2vec_dict, vec_size = load_vectors(\"../data/wiki-news-300d-1M.vec\", device=DEVICE)"
   ]
  },
  {
   "cell_type": "code",
   "execution_count": 32,
   "metadata": {},
   "outputs": [],
   "source": [
    "class Word2Vec:\n",
    "    def __init__(self, word2vec_dict):\n",
    "        self.word2vec_dict = word2vec_dict\n",
    "        word, vec = next(iter(word2vec_dict.items()))\n",
    "        \n",
    "        self._vec_size = vec.size()\n",
    "        self._device = vec.device\n",
    "        self._oov = set()\n",
    "\n",
    "    def __getitem__(self, idx):\n",
    "        return self.word2vec_dict[idx]\n",
    "\n",
    "    def __contains__(self, item):\n",
    "        return item in self.word2vec_dict\n",
    "    \n",
    "    def get_text_vec(self, text):\n",
    "        words = text.strip().lower().translate(table).split(' ')\n",
    "        words = [w for w in words if w]\n",
    "\n",
    "        vec = torch.zeros(self._vec_size, device=self._device)\n",
    "        n_words = len(words)\n",
    "\n",
    "        for word in words:\n",
    "            if word not in word2vec:\n",
    "                n_words -= 1\n",
    "                self._oov.add(word)\n",
    "                continue\n",
    "\n",
    "            vec += word2vec[word]\n",
    "\n",
    "        vec /= n_words\n",
    "\n",
    "        return vec\n"
   ]
  },
  {
   "cell_type": "code",
   "execution_count": 33,
   "metadata": {},
   "outputs": [
    {
     "data": {
      "text/plain": [
       "torch.Size([10, 300])"
      ]
     },
     "execution_count": 33,
     "metadata": {},
     "output_type": "execute_result"
    }
   ],
   "source": [
    "word2vec = Word2Vec(word2vec_dict)\n",
    "class2id = {c: i for i, c in enumerate(class_names)}\n",
    "class_vecs = torch.stack([word2vec.get_text_vec(c) for c in class_names])\n",
    "class_vecs.shape"
   ]
  },
  {
   "cell_type": "code",
   "execution_count": 103,
   "metadata": {},
   "outputs": [
    {
     "data": {
      "application/vnd.jupyter.widget-view+json": {
       "model_id": "b6c8f021687a4f79aa6955fc98ced2c0",
       "version_major": 2,
       "version_minor": 0
      },
      "text/plain": [
       "HBox(children=(FloatProgress(value=0.0, max=7100.0), HTML(value='')))"
      ]
     },
     "metadata": {},
     "output_type": "display_data"
    },
    {
     "name": "stdout",
     "output_type": "stream",
     "text": [
      "\n"
     ]
    },
    {
     "data": {
      "text/plain": [
       "0.2784507042253521"
      ]
     },
     "execution_count": 103,
     "metadata": {},
     "output_type": "execute_result"
    }
   ],
   "source": [
    "n_correct = 0\n",
    "predictions = []\n",
    "\n",
    "for line in tqdm(dataset, total=len(dataset)):\n",
    "    text = line[\"text\"]\n",
    "    category = line[\"category\"].lower()\n",
    "\n",
    "    c_id = class2id[category]\n",
    "\n",
    "    text_vec = word2vec.get_text_vec(text)\n",
    "    scores = text_vec @ class_vecs.T\n",
    "\n",
    "    _, pred = scores.max(-1)\n",
    "    \n",
    "    predictions.append(pred.item())\n",
    "    if pred == c_id:\n",
    "        n_correct += 1\n",
    "\n",
    "fast_text_acc = n_correct / len(dataset)  # 0SHOT-TC reports acc=0.43 for the word2vec baseline on topic_v0 and ~0.05-0.08 for emotion_v0\n",
    "fast_text_acc"
   ]
  },
  {
   "cell_type": "code",
   "execution_count": 105,
   "metadata": {},
   "outputs": [
    {
     "data": {
      "text/plain": [
       "Counter({8: 7044, 0: 56})"
      ]
     },
     "execution_count": 105,
     "metadata": {},
     "output_type": "execute_result"
    }
   ],
   "source": [
    "Counter(predictions)"
   ]
  },
  {
   "cell_type": "markdown",
   "metadata": {},
   "source": [
    "# BERT"
   ]
  },
  {
   "cell_type": "code",
   "execution_count": 106,
   "metadata": {},
   "outputs": [],
   "source": [
    "MODEL_NAME = \"distilbert-base-uncased\"\n",
    "\n",
    "_model = transformers.AutoModel.from_pretrained(MODEL_NAME)\n",
    "_tokenizer = transformers.AutoTokenizer.from_pretrained(MODEL_NAME)"
   ]
  },
  {
   "cell_type": "code",
   "execution_count": 107,
   "metadata": {},
   "outputs": [
    {
     "data": {
      "text/plain": [
       "tensor([[5.0000],\n",
       "        [5.5000],\n",
       "        [4.3333]])"
      ]
     },
     "execution_count": 107,
     "metadata": {},
     "output_type": "execute_result"
    }
   ],
   "source": [
    "# utils used in the evaluation script\n",
    "\n",
    "def make_text_mask(input_ids, attention_mask, sep_token_id):\n",
    "    mask = attention_mask.clone()\n",
    "    mask[:, 0] = 0  # pad CLS token\n",
    "\n",
    "    sep_mask = input_ids == sep_token_id\n",
    "    mask[sep_mask] = 0\n",
    "    return mask\n",
    "\n",
    "\n",
    "def get_last_hidden(model_output):\n",
    "    \"\"\"different model can return different objects as output, this funciton tries to unify it\"\"\"\n",
    "    if isinstance(model_output, tuple):\n",
    "        hs = model_output[0]\n",
    "    elif isinstance(model_output, (transformers.modeling_outputs.BaseModelOutput,\n",
    "                                   transformers.modeling_outputs.BaseModelOutputWithPoolingAndCrossAttentions,\n",
    "                                   transformers.modeling_outputs.BaseModelOutputWithPastAndCrossAttentions,)):\n",
    "        hs = model_output.last_hidden_state\n",
    "    else:\n",
    "        raise ValueError(model_output)\n",
    "\n",
    "    assert isinstance(hs, torch.Tensor)\n",
    "    assert len(hs.shape) == 3\n",
    "    return hs\n",
    "\n",
    "\n",
    "def get_nth_hidden(model_output, n):\n",
    "    \"\"\"different model can return different objects as output, this funciton tries to unify it\"\"\"\n",
    "    if isinstance(model_output, (transformers.modeling_outputs.BaseModelOutput,\n",
    "                                   transformers.modeling_outputs.BaseModelOutputWithPoolingAndCrossAttentions,\n",
    "                                   transformers.modeling_outputs.BaseModelOutputWithPastAndCrossAttentions,)):\n",
    "        hs = model_output.hidden_states[n]\n",
    "    else:\n",
    "        raise ValueError(model_output)\n",
    "\n",
    "    assert isinstance(hs, torch.Tensor)\n",
    "    assert len(hs.shape) == 3\n",
    "    return hs\n",
    "\n",
    "\n",
    "def aggregate_via_cls_token(hs, text_mask=None):\n",
    "    \"\"\"Assumes that CLS is the first token\"\"\"\n",
    "    cls_tokens = hs[:, 0]\n",
    "    return cls_tokens\n",
    "\n",
    "\n",
    "def aggregate_via_maxpool(hs, text_mask=None):\n",
    "    \"\"\"\n",
    "    args:\n",
    "        text_mask: 0 means padded 1 means text, [batch_size, seq_len]\n",
    "    \"\"\"\n",
    "    if text_mask is not None:\n",
    "        raise NotImplementedError(\"this function has not been tested\")\n",
    "        hs = hs + float(\"-inf\") * text_mask.unsqueeze(-1)\n",
    "\n",
    "    maxpooled, _ = torch.max(hs, dim=1)\n",
    "    return maxpooled\n",
    "\n",
    "\n",
    "def aggregate_via_meanpool(hs, text_mask=None):\n",
    "    \"\"\"\n",
    "    args:\n",
    "        text_mask: 0 means padded 1 means text, [batch_size, seq_len]\n",
    "    \"\"\"\n",
    "    if len(hs.shape) != 3:\n",
    "        raise ValueError(f\"hs should be of the shape [batch_size, seq_len, hidden], got {hs.shape} instead\")\n",
    "    if text_mask is not None:\n",
    "        hs = hs * text_mask.unsqueeze(-1)\n",
    "        meanpooled = torch.sum(hs, dim=1) / torch.sum(text_mask, dim=1).unsqueeze(-1)\n",
    "\n",
    "    else:\n",
    "        meanpooled = torch.mean(hs, dim=1)\n",
    "\n",
    "    return meanpooled\n",
    "\n",
    "\n",
    "hs   = torch.tensor([[2, 3, 4, 5, 6, 7, 8],\n",
    "                     [2, 3, 4, 5, 6, 7, 8],\n",
    "                     [2, 3, 4, 5, 6, 7, 8]]).unsqueeze(-1)\n",
    "mask = torch.tensor([[1, 1, 0, 1, 0, 1, 1],\n",
    "                     [0, 0, 1, 1, 1, 1, 0],\n",
    "                     [1, 1, 0, 0, 0, 0, 1]])\n",
    "\n",
    "aggregate_via_meanpool(hs, mask)"
   ]
  },
  {
   "cell_type": "code",
   "execution_count": 115,
   "metadata": {},
   "outputs": [],
   "source": [
    "def evaluate(dataset, model_str, agg_fn, classes=None, normalize_x=False, normalize_y=False, model_out_postprocessor=None, text_field=\"headline\", device=\"cpu\"):\n",
    "    \"\"\"Computes accuracy on the dataset\n",
    "    \n",
    "    Args:\n",
    "        dataset: datasets.ArrowDataset\n",
    "        model_str: argument for transformers.AutoModel.from_pretrained() and AutoTokenizer.from_pretarined()\n",
    "        agg_fn: aggregation function (model_output, pad_mask -> a batch of text vectors)\n",
    "        normalize_x: normalize text vectors before the dot-product (eucledian norm is used)\n",
    "        normalize_y: normalize class vectors before the dot-product (eucledian norm is used)\n",
    "        text_field: dataset field with text\n",
    "        device: torch.device\n",
    "    \n",
    "    Returns:\n",
    "        tuple(predictions, accuracy) where\n",
    "            predictions: list of predicted class names\n",
    "            accuracy: float\n",
    "    \"\"\"\n",
    "    model = AutoModel.from_pretrained(model_str).to(device)\n",
    "    tokenizer = AutoTokenizer.from_pretrained(model_str)\n",
    "    model.eval()\n",
    "\n",
    "    classes = classes or all_classes\n",
    "    class2id = {c: i for i, c in enumerate(classes)}\n",
    "\n",
    "    # embed classes\n",
    "#     template = \"this person feels {}\"\n",
    "    template = \"{}\"\n",
    "    y_ids = tokenizer(template.format(classes), padding=True, return_tensors='pt', add_special_tokens=True, truncation=True, max_length=500).to(device)\n",
    "    y_ids_text_mask = make_text_mask(\n",
    "        input_ids=y_ids[\"input_ids\"],\n",
    "        attention_mask=y_ids[\"attention_mask\"],\n",
    "        sep_token_id=tokenizer.sep_token_id,\n",
    "    )\n",
    "\n",
    "    # --- forward model to get class vectors\n",
    "    y_vecs = model(**y_ids, output_hidden_states=True)\n",
    "\n",
    "    y_vecs = model_out_postprocessor(y_vecs)\n",
    "    y_vecs = agg_fn(y_vecs, text_mask=y_ids_text_mask)\n",
    "\n",
    "    if normalize_y:\n",
    "        y_vecs = cat.modelling_utils.normalize_embeds(y_vecs)\n",
    "\n",
    "    # evaluation loop\n",
    "    n_correct = 0\n",
    "    predictions = []\n",
    "\n",
    "    # I was lazy to do batching, hope it's not too slow\n",
    "    for line in tqdm(dataset):\n",
    "        text = line[text_field]\n",
    "        target = line['category'].lower()\n",
    "        target_id = class2id[target]\n",
    "\n",
    "        x_ids = tokenizer(text, return_tensors='pt', add_special_tokens=True, truncation=True, max_length=500).to(device)\n",
    "        x_ids_text_mask = make_text_mask(\n",
    "            input_ids=x_ids[\"input_ids\"],\n",
    "            attention_mask=x_ids[\"attention_mask\"],\n",
    "            sep_token_id=tokenizer.sep_token_id,\n",
    "        )\n",
    "\n",
    "        # --- forward model to get text vectors\n",
    "        x_vec = model(output_hidden_states=True, **x_ids)\n",
    "\n",
    "        x_vec = model_out_postprocessor(x_vec)\n",
    "        x_vec = agg_fn(x_vec, text_mask=x_ids_text_mask)\n",
    "\n",
    "        if normalize_x:\n",
    "            x_vec = cat.modelling_utils.normalize_embeds(x_vec)\n",
    "\n",
    "        x_vec = x_vec.squeeze(0)\n",
    "        scores = x_vec @ y_vecs.T\n",
    "        _, pred = torch.max(scores, dim=-1)\n",
    "\n",
    "        if pred.item() == target_id:\n",
    "            n_correct += 1\n",
    "\n",
    "        predictions.append(classes[pred.item()])\n",
    "\n",
    "    acc = n_correct / len(dataset)\n",
    "    return predictions, acc"
   ]
  },
  {
   "cell_type": "code",
   "execution_count": 120,
   "metadata": {},
   "outputs": [
    {
     "data": {
      "application/vnd.jupyter.widget-view+json": {
       "model_id": "b2a9522bd2794f56b06d0d0b5e80d3d7",
       "version_major": 2,
       "version_minor": 0
      },
      "text/plain": [
       "HBox(children=(FloatProgress(value=0.0, max=7100.0), HTML(value='')))"
      ]
     },
     "metadata": {},
     "output_type": "display_data"
    },
    {
     "name": "stdout",
     "output_type": "stream",
     "text": [
      "\n"
     ]
    },
    {
     "data": {
      "text/plain": [
       "0.16901408450704225"
      ]
     },
     "execution_count": 120,
     "metadata": {},
     "output_type": "execute_result"
    }
   ],
   "source": [
    "normalize_all = False\n",
    "\n",
    "_, acc = evaluate(\n",
    "    dataset=dataset,\n",
    "    model_str=MODEL_NAME,\n",
    "    agg_fn=aggregate_via_meanpool,\n",
    "    model_out_postprocessor=get_last_hidden,\n",
    "    normalize_x=normalize_all,\n",
    "    normalize_y=normalize_all,\n",
    "    text_field=\"text\",\n",
    "    classes=class_names,\n",
    "    device=DEVICE,\n",
    ")\n",
    "\n",
    "# template `this person feels {}` acc: 0.16901408450704225\n",
    "# no template acc: 0.16901408450704225\n",
    "\n",
    "acc"
   ]
  },
  {
   "cell_type": "code",
   "execution_count": 121,
   "metadata": {},
   "outputs": [
    {
     "data": {
      "application/vnd.jupyter.widget-view+json": {
       "model_id": "28b020a3217e4df1aaf36b9e8c1d8ddc",
       "version_major": 2,
       "version_minor": 0
      },
      "text/plain": [
       "HBox(children=(FloatProgress(value=0.0, max=6.0), HTML(value='')))"
      ]
     },
     "metadata": {},
     "output_type": "display_data"
    },
    {
     "data": {
      "application/vnd.jupyter.widget-view+json": {
       "model_id": "718941797cad43cca9d886749a762234",
       "version_major": 2,
       "version_minor": 0
      },
      "text/plain": [
       "HBox(children=(FloatProgress(value=0.0, max=7100.0), HTML(value='')))"
      ]
     },
     "metadata": {},
     "output_type": "display_data"
    },
    {
     "name": "stdout",
     "output_type": "stream",
     "text": [
      "\n",
      "Layer 0 acc 0.16901408450704225\n"
     ]
    },
    {
     "data": {
      "application/vnd.jupyter.widget-view+json": {
       "model_id": "019d1cc04c83497eb9ea87ce6f9dd457",
       "version_major": 2,
       "version_minor": 0
      },
      "text/plain": [
       "HBox(children=(FloatProgress(value=0.0, max=7100.0), HTML(value='')))"
      ]
     },
     "metadata": {},
     "output_type": "display_data"
    },
    {
     "name": "stdout",
     "output_type": "stream",
     "text": [
      "\n",
      "Layer 1 acc 0.16901408450704225\n"
     ]
    },
    {
     "data": {
      "application/vnd.jupyter.widget-view+json": {
       "model_id": "d9bb6be9d6a0458f935374a7334609ce",
       "version_major": 2,
       "version_minor": 0
      },
      "text/plain": [
       "HBox(children=(FloatProgress(value=0.0, max=7100.0), HTML(value='')))"
      ]
     },
     "metadata": {},
     "output_type": "display_data"
    },
    {
     "name": "stdout",
     "output_type": "stream",
     "text": [
      "\n",
      "Layer 2 acc 0.16901408450704225\n"
     ]
    },
    {
     "data": {
      "application/vnd.jupyter.widget-view+json": {
       "model_id": "9a6e44fe40854ac286eddd7d9a271be1",
       "version_major": 2,
       "version_minor": 0
      },
      "text/plain": [
       "HBox(children=(FloatProgress(value=0.0, max=7100.0), HTML(value='')))"
      ]
     },
     "metadata": {},
     "output_type": "display_data"
    },
    {
     "name": "stdout",
     "output_type": "stream",
     "text": [
      "\n",
      "Layer 3 acc 0.16901408450704225\n"
     ]
    },
    {
     "data": {
      "application/vnd.jupyter.widget-view+json": {
       "model_id": "10d47bfe1d184506b5a64bec41ed80f3",
       "version_major": 2,
       "version_minor": 0
      },
      "text/plain": [
       "HBox(children=(FloatProgress(value=0.0, max=7100.0), HTML(value='')))"
      ]
     },
     "metadata": {},
     "output_type": "display_data"
    },
    {
     "name": "stdout",
     "output_type": "stream",
     "text": [
      "\n",
      "Layer 4 acc 0.16901408450704225\n"
     ]
    },
    {
     "data": {
      "application/vnd.jupyter.widget-view+json": {
       "model_id": "87d423856829499391d85582004ec2c7",
       "version_major": 2,
       "version_minor": 0
      },
      "text/plain": [
       "HBox(children=(FloatProgress(value=0.0, max=7100.0), HTML(value='')))"
      ]
     },
     "metadata": {},
     "output_type": "display_data"
    },
    {
     "name": "stdout",
     "output_type": "stream",
     "text": [
      "\n",
      "Layer 5 acc 0.16901408450704225\n",
      "\n"
     ]
    },
    {
     "data": {
      "text/plain": [
       "{0: 0.16901408450704225,\n",
       " 1: 0.16901408450704225,\n",
       " 2: 0.16901408450704225,\n",
       " 3: 0.16901408450704225,\n",
       " 4: 0.16901408450704225,\n",
       " 5: 0.16901408450704225}"
      ]
     },
     "execution_count": 121,
     "metadata": {},
     "output_type": "execute_result"
    }
   ],
   "source": [
    "layer2acc = {}\n",
    "\n",
    "for l in tqdm(range(_model.config.num_hidden_layers)):\n",
    "\n",
    "    _, acc = evaluate(\n",
    "        dataset=dataset,\n",
    "        model_str=MODEL_NAME,\n",
    "        agg_fn=aggregate_via_meanpool,\n",
    "        model_out_postprocessor=partial(get_nth_hidden, n=l),\n",
    "        normalize_x=normalize_all,\n",
    "        normalize_y=normalize_all,\n",
    "        text_field=\"text\",\n",
    "        classes=class_names,\n",
    "        device=DEVICE,\n",
    "    )\n",
    "    layer2acc[l] = acc\n",
    "    print(f\"Layer {l} acc {acc}\")\n",
    "\n",
    "print(f\"A set of predicted classes: {set(_)}\")\n",
    "layer2acc"
   ]
  },
  {
   "cell_type": "code",
   "execution_count": null,
   "metadata": {},
   "outputs": [],
   "source": [
    "# layer2acc_bert_base_topic_v0 = {0: 0.3202333333333333,\n",
    "#  1: 0.4253166666666667,\n",
    "#  2: 0.38505,\n",
    "#  3: 0.33755,\n",
    "#  4: 0.23455,\n",
    "#  5: 0.21836666666666665,\n",
    "#  6: 0.17496666666666666,\n",
    "#  7: 0.18791666666666668,\n",
    "#  8: 0.1953,\n",
    "#  9: 0.1924,\n",
    "#  10: 0.1731,\n",
    "#  11: 0.13158333333333333}\n",
    "\n",
    "# layer2acc_distilbert_base_topic_v0 = {0: 0.37638, 1: 0.39054, 2: 0.35988, 3: 0.24764, 4: 0.15141, 5: 0.17866}\n",
    "\n",
    "# layer2acc_distilbert_base_emoiton_v0_zero_shot_only = {0: 0.28450704225352114,\n",
    "#  1: 0.2707042253521127,\n",
    "#  2: 0.19521126760563381,\n",
    "#  3: 0.18943661971830986,\n",
    "#  4: 0.10225352112676056,\n",
    "#  5: 0.0852112676056338}"
   ]
  },
  {
   "cell_type": "code",
   "execution_count": 4,
   "metadata": {},
   "outputs": [],
   "source": [
    "import matplotlib.pyplot as plt"
   ]
  },
  {
   "cell_type": "code",
   "execution_count": 19,
   "metadata": {},
   "outputs": [],
   "source": [
    "fast_text_acc = 0.27"
   ]
  },
  {
   "cell_type": "code",
   "execution_count": 21,
   "metadata": {},
   "outputs": [
    {
     "data": {
      "text/plain": [
       "<matplotlib.legend.Legend at 0x7f0dd8848430>"
      ]
     },
     "execution_count": 21,
     "metadata": {},
     "output_type": "execute_result"
    },
    {
     "data": {
      "image/png": "[encoded data removed]",
      "text/plain": [
       "<Figure size 900x600 with 1 Axes>"
      ]
     },
     "metadata": {
      "needs_background": "light"
     },
     "output_type": "display_data"
    }
   ],
   "source": [
    "fix, ax = plt.subplots(dpi=150)\n",
    "\n",
    "# MIND THE REVERSE!!\n",
    "\n",
    "ax.bar(list(layer2acc.keys()), list(layer2acc.values()))\n",
    "# ax.set_title(\"zero-shot accuracy (no training)\")\n",
    "ax.set_xlabel(\"DistilBERT layer (0 is the first layer)\")\n",
    "ax.set_ylabel(\"accuracy (zero-shot classes)\")\n",
    "\n",
    "ax.axhline(majority_acc, color=\"r\", label=\"majority baseline\")\n",
    "ax.axhline(fast_text_acc, color=\"g\", label=\"fastText\")\n",
    "# ax.axhline(0.44, color=\"b\", label=\"binary-BERT baseline (Yin et al., 2019)\")\n",
    "# ax.axhline(0.48, color=\"m\", label=\"SOTA (Yin et al., 2019)\")\n",
    "\n",
    "ax.legend()"
   ]
  },
  {
   "cell_type": "code",
   "execution_count": 1,
   "metadata": {},
   "outputs": [],
   "source": [
    "layer2acc = {0: 0.28450704225352114,\n",
    " 1: 0.2707042253521127,\n",
    " 2: 0.19521126760563381,\n",
    " 3: 0.18943661971830986,\n",
    " 4: 0.10225352112676056,\n",
    " 5: 0.0852112676056338}"
   ]
  },
  {
   "cell_type": "code",
   "execution_count": null,
   "metadata": {},
   "outputs": [],
   "source": []
  }
 ],
 "metadata": {
  "kernelspec": {
   "display_name": "cat",
   "language": "python",
   "name": "cat"
  },
  "language_info": {
   "codemirror_mode": {
    "name": "ipython",
    "version": 3
   },
   "file_extension": ".py",
   "mimetype": "text/x-python",
   "name": "python",
   "nbconvert_exporter": "python",
   "pygments_lexer": "ipython3",
   "version": "3.8.5"
  }
 },
 "nbformat": 4,
 "nbformat_minor": 4
}
