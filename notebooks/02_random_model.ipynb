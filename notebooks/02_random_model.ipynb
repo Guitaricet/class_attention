{
 "cells": [
  {
   "cell_type": "markdown",
   "metadata": {},
   "source": [
    "# Class attention on random inputs\n",
    "## FROZEN, DO NOT TOUCH\n",
    "\n",
    "The simplest class attention setups possible."
   ]
  },
  {
   "cell_type": "code",
   "execution_count": 1,
   "metadata": {},
   "outputs": [],
   "source": [
    "import random\n",
    "\n",
    "import torch\n",
    "import torch.nn as nn\n",
    "import torch.nn.functional as F\n",
    "\n",
    "import wandb\n",
    "from tqdm.auto import tqdm"
   ]
  },
  {
   "cell_type": "code",
   "execution_count": 23,
   "metadata": {},
   "outputs": [],
   "source": [
    "def detorch(x):\n",
    "    return x.detach().cpu().numpy()"
   ]
  },
  {
   "cell_type": "code",
   "execution_count": 17,
   "metadata": {},
   "outputs": [],
   "source": [
    "input_size = 7\n",
    "hidden_size = 11\n",
    "n_classes = 3\n",
    "batch_size = 5"
   ]
  },
  {
   "cell_type": "code",
   "execution_count": 48,
   "metadata": {},
   "outputs": [],
   "source": [
    "class NotClassAttention(nn.Module):\n",
    "    def __init__(self,):\n",
    "        super().__init__()\n",
    "\n",
    "        self.x_enc = nn.Sequential(nn.Linear(input_size, hidden_size),\n",
    "                                   nn.ReLU(),\n",
    "                                   nn.Linear(hidden_size, hidden_size),\n",
    "                                   nn.Linear(hidden_size, n_classes))\n",
    "\n",
    "    def forward(self, x):\n",
    "        logits = self.x_enc(x)\n",
    "        return logits\n",
    "\n",
    "\n",
    "class ClassAttentionModel(nn.Module):\n",
    "    def __init__(self,):\n",
    "        super().__init__()\n",
    "\n",
    "        self.x_enc = nn.Sequential(nn.Linear(input_size, hidden_size),\n",
    "                                   nn.ReLU(),\n",
    "                                   nn.Linear(hidden_size, hidden_size))\n",
    "\n",
    "        self.c_enc = nn.Embedding(n_classes, hidden_size)\n",
    "\n",
    "    def forward(self, x, c):\n",
    "        h_x = self.x_enc(x)\n",
    "        h_c = self.c_enc(c)\n",
    "        \n",
    "        logits = h_x @ h_c.T\n",
    "\n",
    "        return logits\n",
    "\n",
    "\n",
    "class ClassAttentionWNet(nn.Module):\n",
    "    def __init__(self,):\n",
    "        super().__init__()\n",
    "\n",
    "        self.x_enc = nn.Sequential(nn.Linear(input_size, hidden_size),\n",
    "                                   nn.ReLU(),\n",
    "                                   nn.Linear(hidden_size, hidden_size))\n",
    "\n",
    "        self.c_enc = nn.Sequential(nn.Embedding(n_classes, hidden_size),\n",
    "                                   nn.ReLU(),\n",
    "                                   nn.Linear(hidden_size, hidden_size))\n",
    "\n",
    "    def forward(self, x, c):\n",
    "        h_x = self.x_enc(x)\n",
    "        h_c = self.c_enc(c)\n",
    "        \n",
    "        logits = h_x @ h_c.T\n",
    "\n",
    "        return logits\n",
    "\n"
   ]
  },
  {
   "cell_type": "code",
   "execution_count": 45,
   "metadata": {},
   "outputs": [
    {
     "name": "stdout",
     "output_type": "stream",
     "text": [
      "Possible labels:  ['Class 0', 'Class 1', 'Class 2']\n",
      "Label2c        :  {'Class 0': 0, 'Class 1': 1, 'Class 2': 2}\n",
      "c              :  tensor([0, 1, 2])\n",
      "X: \n",
      " tensor([[ 0.1427, -1.1256, -2.1442, -1.1444,  0.6893,  0.5743, -0.1997],\n",
      "        [-0.5041, -0.3998,  0.1094, -2.0297, -0.0600, -1.0567, -1.3942],\n",
      "        [-0.6546, -0.8031,  1.1207,  0.0285,  1.4299,  1.2655, -0.5005],\n",
      "        [ 1.2154, -0.6174, -0.2491, -0.0401, -1.5158,  0.8255, -0.9595],\n",
      "        [-1.3630, -0.3078,  1.0383,  0.0159,  0.2042, -0.2196, -0.4643]])\n",
      "Labels         :  ['Class 2', 'Class 1', 'Class 0', 'Class 2', 'Class 0']\n",
      "Labels Tensor  :  tensor([2, 1, 0, 2, 0])\n"
     ]
    }
   ],
   "source": [
    "x = torch.randn([batch_size, input_size])\n",
    "possible_labels = [f'Class {str(i)}' for i in range(n_classes)]\n",
    "label2c = {possible_labels[i]: i for i in range(len(possible_labels))}\n",
    "c = torch.LongTensor([label2c[l] for l in possible_labels])\n",
    "\n",
    "y_str = random.choices(possible_labels, k=batch_size)\n",
    "y = torch.LongTensor([label2c[s] for s in y_str])\n",
    "\n",
    "\n",
    "print(\"Possible labels: \", possible_labels)\n",
    "print(\"Label2c        : \", label2c)\n",
    "print(\"c              : \", c)\n",
    "\n",
    "print(\"X: \\n\", x)\n",
    "print(\"Labels         : \", y_str)\n",
    "print(\"Labels Tensor  : \", y)"
   ]
  },
  {
   "cell_type": "markdown",
   "metadata": {},
   "source": [
    "## Sanity check\n",
    "### Train an FCN model"
   ]
  },
  {
   "cell_type": "code",
   "execution_count": 46,
   "metadata": {},
   "outputs": [
    {
     "data": {
      "application/vnd.jupyter.widget-view+json": {
       "model_id": "ff71e5659a804b5193a3768afbcd41f5",
       "version_major": 2,
       "version_minor": 0
      },
      "text/plain": [
       "HBox(children=(FloatProgress(value=0.0, max=200.0), HTML(value='')))"
      ]
     },
     "metadata": {},
     "output_type": "display_data"
    },
    {
     "name": "stdout",
     "output_type": "stream",
     "text": [
      "\n"
     ]
    },
    {
     "data": {
      "text/plain": [
       "Text(0.5, 1.0, 'Accuracy')"
      ]
     },
     "execution_count": 46,
     "metadata": {},
     "output_type": "execute_result"
    },
    {
     "data": {
      "image/png": "[encoded data removed]",
      "text/plain": [
       "<Figure size 432x288 with 1 Axes>"
      ]
     },
     "metadata": {
      "needs_background": "light"
     },
     "output_type": "display_data"
    },
    {
     "data": {
      "image/png": "[encoded data removed]",
      "text/plain": [
       "<Figure size 432x288 with 1 Axes>"
      ]
     },
     "metadata": {
      "needs_background": "light"
     },
     "output_type": "display_data"
    }
   ],
   "source": [
    "loss_hist = []\n",
    "acc_hist = []\n",
    "\n",
    "model = NotClassAttention()\n",
    "optimizer = torch.optim.Adam(model.parameters())\n",
    "\n",
    "\n",
    "for _ in tqdm(range(200)):\n",
    "    optimizer.zero_grad()\n",
    "\n",
    "    logits = model(x)\n",
    "\n",
    "    loss = F.cross_entropy(logits, y)\n",
    "\n",
    "    _, preds = logits.max(-1)\n",
    "    acc = torch.sum(preds == y).float() / x.shape[0]\n",
    "    \n",
    "    acc_hist.append(detorch(acc))\n",
    "    loss_hist.append(detorch(loss))\n",
    "\n",
    "    loss.backward()\n",
    "    optimizer.step()\n",
    "\n",
    "\n",
    "plt.figure()\n",
    "plt.plot(loss_hist)\n",
    "plt.title('Loss')\n",
    "\n",
    "plt.figure()\n",
    "plt.plot(acc_hist)\n",
    "plt.title('Accuracy')"
   ]
  },
  {
   "cell_type": "markdown",
   "metadata": {},
   "source": [
    "## Train class attention equivalent to FCN"
   ]
  },
  {
   "cell_type": "code",
   "execution_count": 47,
   "metadata": {},
   "outputs": [
    {
     "data": {
      "application/vnd.jupyter.widget-view+json": {
       "model_id": "367a14369e8643919a91c2cbfb687f89",
       "version_major": 2,
       "version_minor": 0
      },
      "text/plain": [
       "HBox(children=(FloatProgress(value=0.0, max=200.0), HTML(value='')))"
      ]
     },
     "metadata": {},
     "output_type": "display_data"
    },
    {
     "name": "stdout",
     "output_type": "stream",
     "text": [
      "\n"
     ]
    },
    {
     "data": {
      "text/plain": [
       "Text(0.5, 1.0, 'Accuracy')"
      ]
     },
     "execution_count": 47,
     "metadata": {},
     "output_type": "execute_result"
    },
    {
     "data": {
      "image/png": "[encoded data removed]",
      "text/plain": [
       "<Figure size 432x288 with 1 Axes>"
      ]
     },
     "metadata": {
      "needs_background": "light"
     },
     "output_type": "display_data"
    },
    {
     "data": {
      "image/png": "[encoded data removed]",
      "text/plain": [
       "<Figure size 432x288 with 1 Axes>"
      ]
     },
     "metadata": {
      "needs_background": "light"
     },
     "output_type": "display_data"
    }
   ],
   "source": [
    "loss_hist = []\n",
    "acc_hist = []\n",
    "\n",
    "model = ClassAttentionModel()\n",
    "optimizer = torch.optim.Adam(model.parameters())\n",
    "\n",
    "\n",
    "for _ in tqdm(range(200)):\n",
    "    optimizer.zero_grad()\n",
    "\n",
    "    logits = model(x, c)\n",
    "    \n",
    "    loss = F.cross_entropy(logits, y)\n",
    "\n",
    "    _, preds = logits.max(-1)\n",
    "    acc = torch.sum(preds == y).float() / x.shape[0]\n",
    "    \n",
    "    acc_hist.append(detorch(acc))\n",
    "    loss_hist.append(detorch(loss))\n",
    "\n",
    "    loss.backward()\n",
    "    optimizer.step()\n",
    "\n",
    "\n",
    "plt.figure()\n",
    "plt.plot(loss_hist)\n",
    "plt.title('Loss')\n",
    "\n",
    "plt.figure()\n",
    "plt.plot(acc_hist)\n",
    "plt.title('Accuracy')"
   ]
  },
  {
   "cell_type": "markdown",
   "metadata": {},
   "source": [
    "## Train class attention with a classs network"
   ]
  },
  {
   "cell_type": "code",
   "execution_count": 50,
   "metadata": {},
   "outputs": [
    {
     "data": {
      "application/vnd.jupyter.widget-view+json": {
       "model_id": "4bfd12fd5c3b4b05b36170e523575eee",
       "version_major": 2,
       "version_minor": 0
      },
      "text/plain": [
       "HBox(children=(FloatProgress(value=0.0, max=200.0), HTML(value='')))"
      ]
     },
     "metadata": {},
     "output_type": "display_data"
    },
    {
     "name": "stdout",
     "output_type": "stream",
     "text": [
      "\n"
     ]
    },
    {
     "data": {
      "text/plain": [
       "Text(0.5, 1.0, 'Accuracy')"
      ]
     },
     "execution_count": 50,
     "metadata": {},
     "output_type": "execute_result"
    },
    {
     "data": {
      "image/png": "[encoded data removed]",
      "text/plain": [
       "<Figure size 432x288 with 1 Axes>"
      ]
     },
     "metadata": {
      "needs_background": "light"
     },
     "output_type": "display_data"
    },
    {
     "data": {
      "image/png": "[encoded data removed]",
      "text/plain": [
       "<Figure size 432x288 with 1 Axes>"
      ]
     },
     "metadata": {
      "needs_background": "light"
     },
     "output_type": "display_data"
    }
   ],
   "source": [
    "loss_hist = []\n",
    "acc_hist = []\n",
    "\n",
    "model = ClassAttentionWNet()\n",
    "optimizer = torch.optim.Adam(model.parameters())\n",
    "\n",
    "\n",
    "for _ in tqdm(range(200)):\n",
    "    optimizer.zero_grad()\n",
    "\n",
    "    logits = model(x, c)\n",
    "    \n",
    "    loss = F.cross_entropy(logits, y)\n",
    "\n",
    "    _, preds = logits.max(-1)\n",
    "    acc = torch.sum(preds == y).float() / x.shape[0]\n",
    "    \n",
    "    acc_hist.append(detorch(acc))\n",
    "    loss_hist.append(detorch(loss))\n",
    "\n",
    "    loss.backward()\n",
    "    optimizer.step()\n",
    "\n",
    "\n",
    "plt.figure()\n",
    "plt.plot(loss_hist)\n",
    "plt.title('Loss')\n",
    "\n",
    "plt.figure()\n",
    "plt.plot(acc_hist)\n",
    "plt.title('Accuracy')"
   ]
  },
  {
   "cell_type": "code",
   "execution_count": null,
   "metadata": {},
   "outputs": [],
   "source": []
  }
 ],
 "metadata": {
  "kernelspec": {
   "display_name": "Python 3",
   "language": "python",
   "name": "python3"
  },
  "language_info": {
   "codemirror_mode": {
    "name": "ipython",
    "version": 3
   },
   "file_extension": ".py",
   "mimetype": "text/x-python",
   "name": "python",
   "nbconvert_exporter": "python",
   "pygments_lexer": "ipython3",
   "version": "3.8.5"
  }
 },
 "nbformat": 4,
 "nbformat_minor": 4
}
