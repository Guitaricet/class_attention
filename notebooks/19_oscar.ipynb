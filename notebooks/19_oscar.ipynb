{
 "cells": [
  {
   "cell_type": "code",
   "execution_count": 1,
   "metadata": {},
   "outputs": [],
   "source": [
    "import string\n",
    "\n",
    "from collections import Counter\n",
    "from nltk.tokenize import word_tokenize\n",
    "from tqdm.auto import tqdm"
   ]
  },
  {
   "cell_type": "markdown",
   "metadata": {},
   "source": [
    "# Vocab (~1 hour)"
   ]
  },
  {
   "cell_type": "code",
   "execution_count": null,
   "metadata": {},
   "outputs": [
    {
     "data": {
      "application/vnd.jupyter.widget-view+json": {
       "model_id": "2cb222831fb04e6492e52e1a9abf0290",
       "version_major": 2,
       "version_minor": 0
      },
      "text/plain": [
       "HBox(children=(FloatProgress(value=1.0, bar_style='info', layout=Layout(width='20px'), max=1.0), HTML(value=''…"
      ]
     },
     "metadata": {},
     "output_type": "display_data"
    }
   ],
   "source": [
    "vocab = Counter()\n",
    "\n",
    "nopunct = str.maketrans('', '', string.punctuation)\n",
    "\n",
    "with open(\"../data/en_part_1.txt\") as f:\n",
    "    for line in tqdm(f):\n",
    "        vocab.update(word_tokenize(line.lower().translate(nopunct)))"
   ]
  },
  {
   "cell_type": "code",
   "execution_count": 17,
   "metadata": {},
   "outputs": [
    {
     "data": {
      "text/plain": [
       "3443474"
      ]
     },
     "execution_count": 17,
     "metadata": {},
     "output_type": "execute_result"
    }
   ],
   "source": [
    "len(vocab)"
   ]
  },
  {
   "cell_type": "code",
   "execution_count": 25,
   "metadata": {},
   "outputs": [],
   "source": [
    "from collections import defaultdict\n",
    "\n",
    "vocab_lower = defaultdict(int)\n",
    "\n",
    "for word, freq in vocab.items():\n",
    "    vocab_lower[word.lower()] += freq\n",
    "\n",
    "vocab_lower = Counter(vocab_lower)"
   ]
  },
  {
   "cell_type": "code",
   "execution_count": 26,
   "metadata": {},
   "outputs": [
    {
     "data": {
      "text/plain": [
       "2991946"
      ]
     },
     "execution_count": 26,
     "metadata": {},
     "output_type": "execute_result"
    }
   ],
   "source": [
    "len(vocab_lower)"
   ]
  },
  {
   "cell_type": "code",
   "execution_count": 30,
   "metadata": {},
   "outputs": [],
   "source": [
    "vocab_lower_alpha = Counter({k: v for k, v in vocab_lower.items() if k.isalpha()})\n",
    "most_common = vocab_lower_alpha.most_common(50_000)"
   ]
  },
  {
   "cell_type": "code",
   "execution_count": 38,
   "metadata": {},
   "outputs": [
    {
     "name": "stderr",
     "output_type": "stream",
     "text": [
      "[nltk_data] Downloading package stopwords to\n",
      "[nltk_data]     /home/vlialin/nltk_data...\n",
      "[nltk_data]   Package stopwords is already up-to-date!\n"
     ]
    }
   ],
   "source": [
    "import nltk\n",
    "from nltk.corpus import stopwords\n",
    "\n",
    "nltk.download('stopwords')\n",
    "stopwords_en = set(stopwords.words(\"english\"))"
   ]
  },
  {
   "cell_type": "code",
   "execution_count": 54,
   "metadata": {},
   "outputs": [],
   "source": [
    "vocab_lower_alpha_nostop = Counter({k: v for k, v in vocab_lower_alpha.items() if not k in stopwords_en})\n",
    "most_common = vocab_lower_alpha_nostop.most_common(20_000)"
   ]
  },
  {
   "cell_type": "code",
   "execution_count": 52,
   "metadata": {},
   "outputs": [
    {
     "data": {
      "text/plain": [
       "[('world', 237786),\n",
       " ('used', 235003),\n",
       " ('life', 234101),\n",
       " ('made', 233462),\n",
       " ('free', 230650),\n",
       " ('right', 220542),\n",
       " ('business', 218268),\n",
       " ('go', 209015),\n",
       " ('really', 208151),\n",
       " ('every', 199338),\n",
       " ('love', 195742),\n",
       " ('think', 195609),\n",
       " ('online', 194188),\n",
       " ('service', 191047),\n",
       " ('site', 189813),\n",
       " ('around', 188850),\n",
       " ('last', 186090),\n",
       " ('using', 184555),\n",
       " ('available', 183646),\n",
       " ('high', 182659),\n",
       " ('still', 180337),\n",
       " ('part', 177944),\n",
       " ('going', 174905),\n",
       " ('look', 174669),\n",
       " ('different', 173126),\n",
       " ('place', 172521),\n",
       " ('services', 169948),\n",
       " ('data', 169064),\n",
       " ('without', 167114),\n",
       " ('company', 166547),\n",
       " ('school', 166464),\n",
       " ('things', 166354),\n",
       " ('system', 166156),\n",
       " ('file', 164471),\n",
       " ('including', 164264),\n",
       " ('little', 163403),\n",
       " ('since', 163258),\n",
       " ('long', 158440),\n",
       " ('please', 157597),\n",
       " ('come', 156644),\n",
       " ('another', 156382),\n",
       " ('family', 155961),\n",
       " ('experience', 154693),\n",
       " ('read', 154653),\n",
       " ('always', 153217),\n",
       " ('set', 149644),\n",
       " ('state', 148658),\n",
       " ('something', 148209),\n",
       " ('dating', 148071),\n",
       " ('must', 147182),\n",
       " ('book', 145321),\n",
       " ('website', 144727),\n",
       " ('design', 143669),\n",
       " ('number', 142957),\n",
       " ('three', 142809),\n",
       " ('better', 142064),\n",
       " ('found', 140505),\n",
       " ('provide', 139506),\n",
       " ('looking', 139357),\n",
       " ('however', 138869),\n",
       " ('never', 138769),\n",
       " ('next', 137996)]"
      ]
     },
     "execution_count": 52,
     "metadata": {},
     "output_type": "execute_result"
    }
   ],
   "source": [
    "most_common[38:100]"
   ]
  },
  {
   "cell_type": "code",
   "execution_count": 55,
   "metadata": {},
   "outputs": [
    {
     "data": {
      "text/plain": [
       "[('mmorpg', 666),\n",
       " ('inasmuch', 665),\n",
       " ('diversify', 665),\n",
       " ('utopia', 665),\n",
       " ('unsuspecting', 665),\n",
       " ('outpost', 665),\n",
       " ('dickinson', 665),\n",
       " ('coldwell', 665),\n",
       " ('lax', 665),\n",
       " ('fave', 665),\n",
       " ('liberalism', 665),\n",
       " ('rubs', 665),\n",
       " ('mammalian', 665),\n",
       " ('gifs', 665),\n",
       " ('parted', 665),\n",
       " ('quake', 665),\n",
       " ('auditions', 665),\n",
       " ('lees', 665),\n",
       " ('perforated', 665),\n",
       " ('ssc', 665),\n",
       " ('kmh', 665),\n",
       " ('stanton', 665),\n",
       " ('abundantly', 665),\n",
       " ('pave', 665),\n",
       " ('negotiable', 665),\n",
       " ('alec', 665),\n",
       " ('spf', 665),\n",
       " ('numbering', 664),\n",
       " ('trembling', 664),\n",
       " ('weightloss', 664),\n",
       " ('sanction', 664),\n",
       " ('mclaren', 664),\n",
       " ('renter', 664),\n",
       " ('pdp', 664),\n",
       " ('antagonist', 664),\n",
       " ('cutie', 664),\n",
       " ('prank', 664),\n",
       " ('frugal', 663),\n",
       " ('biologically', 663),\n",
       " ('ernst', 663),\n",
       " ('peroxide', 663),\n",
       " ('cameo', 663),\n",
       " ('whim', 663),\n",
       " ('divert', 663),\n",
       " ('sneaky', 663),\n",
       " ('psychologically', 663),\n",
       " ('icu', 663),\n",
       " ('devops', 663),\n",
       " ('ida', 663),\n",
       " ('iceberg', 663),\n",
       " ('lu', 663),\n",
       " ('rectify', 663),\n",
       " ('twink', 663),\n",
       " ('burma', 663),\n",
       " ('milford', 663),\n",
       " ('tacoma', 663),\n",
       " ('resection', 663),\n",
       " ('equivalents', 662),\n",
       " ('chesapeake', 662),\n",
       " ('percentile', 662),\n",
       " ('neonatal', 662),\n",
       " ('subtraction', 662),\n",
       " ('weaves', 662),\n",
       " ('benny', 662),\n",
       " ('deserts', 662),\n",
       " ('favoured', 662),\n",
       " ('hamburger', 662),\n",
       " ('uncompromising', 662),\n",
       " ('kerr', 662),\n",
       " ('ruining', 662),\n",
       " ('tilted', 662),\n",
       " ('wrangler', 662),\n",
       " ('renovate', 662),\n",
       " ('afc', 662),\n",
       " ('lowlevel', 662),\n",
       " ('operatives', 662),\n",
       " ('yoke', 662),\n",
       " ('pastures', 662),\n",
       " ('junkie', 661),\n",
       " ('converge', 661),\n",
       " ('unites', 661),\n",
       " ('unconsciously', 661),\n",
       " ('uncles', 661),\n",
       " ('approves', 661),\n",
       " ('merkel', 661),\n",
       " ('electro', 661),\n",
       " ('kurdish', 661),\n",
       " ('temptations', 661),\n",
       " ('prelude', 661),\n",
       " ('crossborder', 660),\n",
       " ('garmin', 660),\n",
       " ('candies', 660),\n",
       " ('tensile', 660),\n",
       " ('hens', 660),\n",
       " ('lankan', 660),\n",
       " ('mocking', 660),\n",
       " ('colossal', 660),\n",
       " ('icann', 660),\n",
       " ('wearer', 660),\n",
       " ('freezes', 660)]"
      ]
     },
     "execution_count": 55,
     "metadata": {},
     "output_type": "execute_result"
    }
   ],
   "source": [
    "most_common[-100:]"
   ]
  },
  {
   "cell_type": "code",
   "execution_count": null,
   "metadata": {},
   "outputs": [],
   "source": [
    "with open(\"../data/vocab.txt\", \"w\") as f:\n",
    "    f.write(\"\\n\".join(vocab.keys()))\n"
   ]
  }
 ],
 "metadata": {
  "kernelspec": {
   "display_name": "cat",
   "language": "python",
   "name": "cat"
  },
  "language_info": {
   "codemirror_mode": {
    "name": "ipython",
    "version": 3
   },
   "file_extension": ".py",
   "mimetype": "text/x-python",
   "name": "python",
   "nbconvert_exporter": "python",
   "pygments_lexer": "ipython3",
   "version": "3.8.5"
  }
 },
 "nbformat": 4,
 "nbformat_minor": 4
}
