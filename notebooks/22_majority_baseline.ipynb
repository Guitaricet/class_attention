{
 "cells": [
  {
   "cell_type": "code",
   "execution_count": 1,
   "metadata": {},
   "outputs": [],
   "source": [
    "from collections import Counter\n",
    "from sklearn.metrics import f1_score\n",
    "\n",
    "def subset_from_csv(file_path):\n",
    "    subset = {\"category\": [], \"text\": []}\n",
    "\n",
    "    with open(file_path) as f:\n",
    "        for line in f:\n",
    "            class_, text = line.split('\\t', 1)\n",
    "            subset[\"category\"].append(class_)\n",
    "            subset[\"text\"].append(text)\n",
    "\n",
    "    return subset"
   ]
  },
  {
   "cell_type": "code",
   "execution_count": 8,
   "metadata": {},
   "outputs": [
    {
     "name": "stdout",
     "output_type": "stream",
     "text": [
      "Most common class      :  joy\n",
      "Most common class count:  3000\n",
      "All counts\n"
     ]
    },
    {
     "data": {
      "text/plain": [
       "[('joy', 3000),\n",
       " ('fear', 2700),\n",
       " ('anger', 2500),\n",
       " ('sadness', 2300),\n",
       " ('noemo', 2000),\n",
       " ('surprise', 1200),\n",
       " ('love', 1100),\n",
       " ('disgust', 600),\n",
       " ('shame', 300),\n",
       " ('guilt', 300)]"
      ]
     },
     "execution_count": 8,
     "metadata": {},
     "output_type": "execute_result"
    }
   ],
   "source": [
    "emotion_v0_train = subset_from_csv(\"../data/BenchmarkingZeroShot/emotion/train_pu_half_v0.txt\")\n",
    "seen_classes = set(emotion_v0_train[\"category\"])\n",
    "\n",
    "emotion_test = subset_from_csv(\"../data/BenchmarkingZeroShot/emotion/test.txt\")\n",
    "emotion_dev = subset_from_csv(\"../data/BenchmarkingZeroShot/emotion/dev.txt\")\n",
    "\n",
    "counts = Counter(emotion_test[\"category\"])\n",
    "most_common_class, most_common_class_count = counts.most_common(1)[0]\n",
    "print(\"Most common class      : \", most_common_class)\n",
    "print(\"Most common class count: \", most_common_class_count)\n",
    "\n",
    "print(\"All counts\")\n",
    "counts.most_common()  # reported joy count: 3100 != 3000"
   ]
  },
  {
   "cell_type": "code",
   "execution_count": 3,
   "metadata": {},
   "outputs": [
    {
     "data": {
      "text/plain": [
       "{'disgust', 'guilt', 'joy', 'noemo', 'surprise'}"
      ]
     },
     "execution_count": 3,
     "metadata": {},
     "output_type": "execute_result"
    }
   ],
   "source": [
    "unseen_classes = set(emotion_test[\"category\"]) - seen_classes\n",
    "assert unseen_classes == set(emotion_dev[\"category\"]) - seen_classes\n",
    "\n",
    "unseen_classes"
   ]
  },
  {
   "cell_type": "markdown",
   "metadata": {},
   "source": [
    "# Sklearn f1_score"
   ]
  },
  {
   "cell_type": "code",
   "execution_count": 4,
   "metadata": {},
   "outputs": [
    {
     "name": "stdout",
     "output_type": "stream",
     "text": [
      "Emotion v0 **test** unseen classes majority baseline\n",
      "Reported: 13.3\n",
      "Ours    : 25.101101659461726\n"
     ]
    }
   ],
   "source": [
    "print(\"Emotion v0 **test** unseen classes majority baseline\")\n",
    "emotion_labels_test_v0_unseen = [c for c in emotion_test[\"category\"] if c in unseen_classes]\n",
    "\n",
    "print(\"Reported: 13.3\")\n",
    "res = f1_score(y_true=emotion_labels_test_v0_unseen, y_pred=[most_common_class] * len(emotion_labels_test_v0_unseen), average=\"weighted\")\n",
    "print(f\"Ours    : {res * 100}\")"
   ]
  },
  {
   "cell_type": "code",
   "execution_count": 5,
   "metadata": {},
   "outputs": [
    {
     "name": "stdout",
     "output_type": "stream",
     "text": [
      "Emotion v0 **dev** unseen classes majority baseline\n",
      "Reported: 13.3\n",
      "Ours    : 28.68347338935574\n"
     ]
    }
   ],
   "source": [
    "print(\"Emotion v0 **dev** unseen classes majority baseline\")\n",
    "emotion_labels_dev_v0_unseen = [c for c in emotion_dev[\"category\"] if c in unseen_classes]\n",
    "\n",
    "print(\"Reported: 13.3\")\n",
    "res = f1_score(y_true=emotion_labels_dev_v0_unseen, y_pred=[most_common_class] * len(emotion_labels_dev_v0_unseen), average=\"weighted\")\n",
    "print(f\"Ours    : {res * 100}\")"
   ]
  },
  {
   "cell_type": "markdown",
   "metadata": {},
   "source": [
    "# By hand"
   ]
  },
  {
   "cell_type": "code",
   "execution_count": 23,
   "metadata": {},
   "outputs": [
    {
     "name": "stdout",
     "output_type": "stream",
     "text": [
      "{'joy': 3000, 'disgust': 600, 'guilt': 300, 'noemo': 2000, 'surprise': 1200}\n",
      "Reported: 13.3\n",
      "Ours    : 25.101101659461722\n"
     ]
    }
   ],
   "source": [
    "assert most_common_class in unseen_classes  # we test emotion_v0 and this is the case there\n",
    "unseen_classes_counts = {c: n for c, n in counts.items() if c in unseen_classes}\n",
    "print(unseen_classes_counts)\n",
    "\n",
    "# f1 for all classes except the majority class equals to 0\n",
    "# f1 for the majority class\n",
    "\n",
    "p_majority = most_common_class_count / sum(unseen_classes_counts.values())\n",
    "r_majority = 1.0\n",
    "f1_majority = (2 * p_majority * r_majority) / (p_majority + r_majority)\n",
    "\n",
    "# print(\"F1 majority: \", f1_majority)\n",
    "\n",
    "weights = {c: n / sum(unseen_classes_counts.values()) for c, n in unseen_classes_counts.items()}\n",
    "f1_weighted = f1_majority * weights[most_common_class]  # other classes are zero\n",
    "\n",
    "print(\"Reported: 13.3\")\n",
    "print(\"Ours    :\", f1_weighted * 100)  # same as sklearn"
   ]
  },
  {
   "cell_type": "code",
   "execution_count": null,
   "metadata": {},
   "outputs": [],
   "source": []
  }
 ],
 "metadata": {
  "kernelspec": {
   "display_name": "cat",
   "language": "python",
   "name": "cat"
  },
  "language_info": {
   "codemirror_mode": {
    "name": "ipython",
    "version": 3
   },
   "file_extension": ".py",
   "mimetype": "text/x-python",
   "name": "python",
   "nbconvert_exporter": "python",
   "pygments_lexer": "ipython3",
   "version": "3.8.5"
  }
 },
 "nbformat": 4,
 "nbformat_minor": 4
}
