{
 "cells": [
  {
   "cell_type": "markdown",
   "metadata": {},
   "source": [
    "# Class attention applied to a text classification task\n",
    "\n",
    "## FROZEN, DO NOT MODIFY\n",
    "\n",
    "\n",
    "\n",
    "Same as `04_random_model_different_possible_classes.ipynb`, but implements a text classification model"
   ]
  },
  {
   "cell_type": "code",
   "execution_count": 1,
   "metadata": {},
   "outputs": [],
   "source": [
    "import copy\n",
    "import random\n",
    "\n",
    "import torch\n",
    "import torch.nn as nn\n",
    "import torch.nn.functional as F\n",
    "\n",
    "import wandb\n",
    "import matplotlib.pyplot as plt\n",
    "from tqdm.auto import tqdm\n",
    "\n",
    "import class_attention as cat\n",
    "\n",
    "%load_ext autoreload\n",
    "%autoreload 2"
   ]
  },
  {
   "cell_type": "code",
   "execution_count": 2,
   "metadata": {},
   "outputs": [],
   "source": [
    "def detorch(x):\n",
    "    return x.detach().cpu().numpy()"
   ]
  },
  {
   "cell_type": "code",
   "execution_count": 3,
   "metadata": {},
   "outputs": [],
   "source": [
    "train_texts = [\"This is a news article\", \"Good news, everyone!\", \"It is cloudy with a chance of meatballs\", \"This is a sport article\"]\n",
    "train_labels = [\"News\", \"News\", \"Weather\", \"Sport\"]"
   ]
  },
  {
   "cell_type": "code",
   "execution_count": 4,
   "metadata": {},
   "outputs": [],
   "source": [
    "class ClassAttentionModel(nn.Module):\n",
    "    def __init__(self, text_vocab_size, n_classes, hidden_size):\n",
    "        super().__init__()\n",
    "\n",
    "        self.x_enc = nn.Sequential(nn.EmbeddingBag(text_vocab_size, hidden_size),\n",
    "                                   nn.ReLU(),\n",
    "                                   nn.Linear(hidden_size, hidden_size))\n",
    "\n",
    "        self.c_enc = nn.Sequential(nn.EmbeddingBag(n_classes, hidden_size),\n",
    "                                   nn.ReLU(),\n",
    "                                   nn.Linear(hidden_size, hidden_size))\n",
    "\n",
    "    def forward(self, x, c):\n",
    "        h_x = self.x_enc(x)\n",
    "        h_c = self.c_enc(c)\n",
    "\n",
    "        logits = h_x @ h_c.T # + bias  # or make a residual connection with class network\n",
    "\n",
    "        return logits\n"
   ]
  },
  {
   "cell_type": "markdown",
   "metadata": {},
   "source": [
    "# Text encoder"
   ]
  },
  {
   "cell_type": "code",
   "execution_count": 5,
   "metadata": {},
   "outputs": [
    {
     "data": {
      "text/plain": [
       "[4, 2, 3, 5, 6]"
      ]
     },
     "execution_count": 5,
     "metadata": {},
     "output_type": "execute_result"
    }
   ],
   "source": [
    "text_tokenizer = cat.utils.make_whitespace_tokenizer(train_texts)\n",
    "text_tokenizer.encode(train_texts[0]).ids"
   ]
  },
  {
   "cell_type": "markdown",
   "metadata": {},
   "source": [
    "# Label encoder\n",
    "\n",
    "Just use a tokenizer without UNK"
   ]
  },
  {
   "cell_type": "code",
   "execution_count": 6,
   "metadata": {},
   "outputs": [
    {
     "data": {
      "text/plain": [
       "[1]"
      ]
     },
     "execution_count": 6,
     "metadata": {},
     "output_type": "execute_result"
    }
   ],
   "source": [
    "label_tokenizer = cat.utils.make_whitespace_tokenizer(train_labels, unk_token=None)\n",
    "label_tokenizer.encode(train_labels[0]).ids"
   ]
  },
  {
   "cell_type": "markdown",
   "metadata": {},
   "source": [
    "# Dataset"
   ]
  },
  {
   "cell_type": "code",
   "execution_count": 7,
   "metadata": {},
   "outputs": [
    {
     "data": {
      "application/vnd.jupyter.widget-view+json": {
       "model_id": "c9af563a7c024aa7b8af50645aa49356",
       "version_major": 2,
       "version_minor": 0
      },
      "text/plain": [
       "Preprocessing Dataset:   0%|          | 0/4 [00:00<?, ?it/s]"
      ]
     },
     "metadata": {},
     "output_type": "display_data"
    },
    {
     "data": {
      "text/plain": [
       "(tensor([4, 2, 3, 5, 6]), tensor([1]))"
      ]
     },
     "execution_count": 7,
     "metadata": {},
     "output_type": "execute_result"
    }
   ],
   "source": [
    "dataset = cat.CatDataset(train_texts, text_tokenizer, train_labels, label_tokenizer)\n",
    "\n",
    "dataset[0]"
   ]
  },
  {
   "cell_type": "markdown",
   "metadata": {},
   "source": [
    "# Collator\n",
    "\n",
    "Collator also makes targets"
   ]
  },
  {
   "cell_type": "code",
   "execution_count": 16,
   "metadata": {},
   "outputs": [
    {
     "name": "stdout",
     "output_type": "stream",
     "text": [
      "Text:\n",
      "tensor([[ 4,  2,  3,  5,  6,  0,  0,  0],\n",
      "        [11,  2, 12, 13,  3, 14, 15, 16]])\n",
      "\n",
      "Unique labels:\n",
      "tensor([[1],\n",
      "        [2]])\n",
      "Targets:\n",
      "tensor([0, 1])\n"
     ]
    }
   ],
   "source": [
    "from pprint import pprint\n",
    "\n",
    "collator = cat.CatCollator(pad_token_id=0)\n",
    "text_batch, unique_labels, targets = collator([dataset[0], dataset[2]])\n",
    "\n",
    "print('Text:')\n",
    "pprint(text_batch)\n",
    "\n",
    "print('\\nUnique labels:')\n",
    "pprint(unique_labels)\n",
    "\n",
    "print('Targets:')\n",
    "pprint(targets)"
   ]
  },
  {
   "cell_type": "markdown",
   "metadata": {},
   "source": [
    "# Dataloader"
   ]
  },
  {
   "cell_type": "code",
   "execution_count": 17,
   "metadata": {},
   "outputs": [],
   "source": [
    "dataloader = torch.utils.data.DataLoader(dataset, batch_size=2, collate_fn=collator)"
   ]
  },
  {
   "cell_type": "code",
   "execution_count": 18,
   "metadata": {},
   "outputs": [
    {
     "data": {
      "text/plain": [
       "(tensor([[ 4,  2,  3,  5,  6],\n",
       "         [ 7,  5,  8,  9, 10]]),\n",
       " tensor([[1]]),\n",
       " tensor([0, 0]))"
      ]
     },
     "execution_count": 18,
     "metadata": {},
     "output_type": "execute_result"
    }
   ],
   "source": [
    "next(iter(dataloader))"
   ]
  },
  {
   "cell_type": "markdown",
   "metadata": {},
   "source": [
    "## Train class attention"
   ]
  },
  {
   "cell_type": "code",
   "execution_count": 11,
   "metadata": {},
   "outputs": [],
   "source": [
    "text_vocab_size = text_tokenizer.get_vocab_size()\n",
    "n_unique_classes = label_tokenizer.get_vocab_size()\n",
    "\n",
    "model = ClassAttentionModel(text_vocab_size, n_classes=n_unique_classes, hidden_size=32)\n",
    "optimizer = torch.optim.Adam(model.parameters())"
   ]
  },
  {
   "cell_type": "code",
   "execution_count": 14,
   "metadata": {},
   "outputs": [
    {
     "data": {
      "text/plain": [
       "tensor([[-0.1149]], grad_fn=<MmBackward>)"
      ]
     },
     "execution_count": 14,
     "metadata": {},
     "output_type": "execute_result"
    }
   ],
   "source": [
    "item = dataset[0]\n",
    "\n",
    "x = item[0].unsqueeze(0)\n",
    "c = item[1].unsqueeze(0)\n",
    "\n",
    "model(x=x, c=c)"
   ]
  },
  {
   "cell_type": "code",
   "execution_count": 19,
   "metadata": {},
   "outputs": [
    {
     "data": {
      "application/vnd.jupyter.widget-view+json": {
       "model_id": "857aca9e020048caa85af46d19ee56a3",
       "version_major": 2,
       "version_minor": 0
      },
      "text/plain": [
       "  0%|          | 0/200 [00:00<?, ?it/s]"
      ]
     },
     "metadata": {},
     "output_type": "display_data"
    },
    {
     "data": {
      "text/plain": [
       "Text(0.5, 1.0, 'Accuracy')"
      ]
     },
     "execution_count": 19,
     "metadata": {},
     "output_type": "execute_result"
    },
    {
     "data": {
      "image/png": "[encoded data removed]",
      "text/plain": [
       "<Figure size 432x288 with 1 Axes>"
      ]
     },
     "metadata": {
      "needs_background": "light"
     },
     "output_type": "display_data"
    },
    {
     "data": {
      "image/png": "[encoded data removed]",
      "text/plain": [
       "<Figure size 432x288 with 1 Axes>"
      ]
     },
     "metadata": {
      "needs_background": "light"
     },
     "output_type": "display_data"
    }
   ],
   "source": [
    "loss_hist = []\n",
    "acc_hist = []\n",
    "\n",
    "for _ in tqdm(range(200)):\n",
    "    for x, c, y in dataloader:\n",
    "        optimizer.zero_grad()\n",
    "\n",
    "        logits = model(x, c)\n",
    "\n",
    "        loss = F.cross_entropy(logits, y)\n",
    "\n",
    "        _, preds = logits.max(-1)\n",
    "        acc = torch.sum(preds == y).float() / x.shape[0]\n",
    "\n",
    "        acc_hist.append(detorch(acc))\n",
    "        loss_hist.append(detorch(loss))\n",
    "\n",
    "        loss.backward()\n",
    "        optimizer.step()\n",
    "\n",
    "\n",
    "plt.figure()\n",
    "plt.plot(loss_hist)\n",
    "plt.title('Loss')\n",
    "\n",
    "plt.figure()\n",
    "plt.plot(acc_hist)\n",
    "plt.title('Accuracy')"
   ]
  },
  {
   "cell_type": "code",
   "execution_count": null,
   "metadata": {},
   "outputs": [],
   "source": []
  }
 ],
 "metadata": {
  "kernelspec": {
   "display_name": "cat",
   "language": "python",
   "name": "cat"
  },
  "language_info": {
   "codemirror_mode": {
    "name": "ipython",
    "version": 3
   },
   "file_extension": ".py",
   "mimetype": "text/x-python",
   "name": "python",
   "nbconvert_exporter": "python",
   "pygments_lexer": "ipython3",
   "version": "3.8.5"
  }
 },
 "nbformat": 4,
 "nbformat_minor": 4
}
