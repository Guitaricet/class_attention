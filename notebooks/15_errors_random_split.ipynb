{
 "cells": [
  {
   "cell_type": "code",
   "execution_count": 1,
   "metadata": {},
   "outputs": [],
   "source": [
    "import argparse\n",
    "import logging\n",
    "import pprint\n",
    "import os\n",
    "import sys\n",
    "from itertools import chain\n",
    "from collections import Counter\n",
    "\n",
    "import torch\n",
    "import torch.utils.data\n",
    "import torch.nn.functional as F\n",
    "import transformers\n",
    "import datasets\n",
    "import wandb\n",
    "\n",
    "from tqdm.auto import tqdm\n",
    "import matplotlib.pyplot as plt\n",
    "\n",
    "import class_attention as cat"
   ]
  },
  {
   "cell_type": "markdown",
   "metadata": {},
   "source": [
    "# Prepare and train a model"
   ]
  },
  {
   "cell_type": "code",
   "execution_count": 2,
   "metadata": {},
   "outputs": [],
   "source": [
    "class args:\n",
    "    dataset = \"../data/news-category-random-split-small\"\n",
    "    model = \"distilbert-base-uncased\"\n",
    "    test_class_frac = 0.0\n",
    "    dataset_frac = 1.0\n",
    "    batch_size = 32\n",
    "    device = \"cuda:0\"\n",
    "    lr = 1e-4\n",
    "    max_epochs = 10\n",
    "    normailze_cls = False\n",
    "    normalize_txt = False\n",
    "    scale_attention = True\n",
    "    learn_temperature = True\n",
    "    use_n_projection_layers = None\n",
    "    share_txt_cls_network_params = False\n"
   ]
  },
  {
   "cell_type": "code",
   "execution_count": 3,
   "metadata": {},
   "outputs": [
    {
     "data": {
      "application/vnd.jupyter.widget-view+json": {
       "model_id": "4c92b4139c5941728cc2c844339f7f9a",
       "version_major": 2,
       "version_minor": 0
      },
      "text/plain": [
       "HBox(children=(FloatProgress(value=0.0, description='Preprocessing Dataset', max=11603.0, style=ProgressStyle(…"
      ]
     },
     "metadata": {},
     "output_type": "display_data"
    },
    {
     "name": "stdout",
     "output_type": "stream",
     "text": [
      "\n"
     ]
    },
    {
     "data": {
      "application/vnd.jupyter.widget-view+json": {
       "model_id": "b694cba5967d48aa936a52e306d27c2f",
       "version_major": 2,
       "version_minor": 0
      },
      "text/plain": [
       "HBox(children=(FloatProgress(value=0.0, description='Preprocessing Dataset', max=11603.0, style=ProgressStyle(…"
      ]
     },
     "metadata": {},
     "output_type": "display_data"
    },
    {
     "name": "stdout",
     "output_type": "stream",
     "text": [
      "\n"
     ]
    }
   ],
   "source": [
    "(\n",
    "    train_dataloader,\n",
    "    test_dataloader,\n",
    "    all_classes_str,\n",
    "    test_classes_str,\n",
    ") = cat.training_utils.prepare_dataloaders(\n",
    "    dataset_name_or_path=args.dataset,\n",
    "    model_name=args.model,\n",
    "    test_class_frac=args.test_class_frac,\n",
    "    dataset_frac=args.dataset_frac,\n",
    "    batch_size=args.batch_size,\n",
    ")\n"
   ]
  },
  {
   "cell_type": "code",
   "execution_count": 4,
   "metadata": {},
   "outputs": [],
   "source": [
    "text_encoder = transformers.AutoModel.from_pretrained(args.model)\n",
    "label_encoder = transformers.AutoModel.from_pretrained(args.model)\n",
    "\n",
    "model = cat.ClassAttentionModel(\n",
    "    text_encoder,\n",
    "    label_encoder,\n",
    "    **vars(args),\n",
    ")\n",
    "model = model.to(args.device)"
   ]
  },
  {
   "cell_type": "code",
   "execution_count": 5,
   "metadata": {},
   "outputs": [
    {
     "name": "stderr",
     "output_type": "stream",
     "text": [
      "\u001b[34m\u001b[1mwandb\u001b[0m: Currently logged in as: \u001b[33mguitaricet\u001b[0m (use `wandb login --relogin` to force relogin)\n",
      "\u001b[34m\u001b[1mwandb\u001b[0m: wandb version 0.10.20 is available!  To upgrade, please run:\n",
      "\u001b[34m\u001b[1mwandb\u001b[0m:  $ pip install wandb --upgrade\n"
     ]
    },
    {
     "data": {
      "text/html": [
       "\n",
       "                Tracking run with wandb version 0.10.15<br/>\n",
       "                Syncing run <strong style=\"color:#cdcd00\">fluent-night-110</strong> to <a href=\"https://wandb.ai\" target=\"_blank\">Weights & Biases</a> <a href=\"https://docs.wandb.com/integrations/jupyter.html\" target=\"_blank\">(Documentation)</a>.<br/>\n",
       "                Project page: <a href=\"https://wandb.ai/guitaricet/class_attention\" target=\"_blank\">https://wandb.ai/guitaricet/class_attention</a><br/>\n",
       "                Run page: <a href=\"https://wandb.ai/guitaricet/class_attention/runs/3q2yvuxs\" target=\"_blank\">https://wandb.ai/guitaricet/class_attention/runs/3q2yvuxs</a><br/>\n",
       "                Run data is saved locally in <code>/home/vlialin/documents/class_attention/notebooks/wandb/run-20210224_122514-3q2yvuxs</code><br/><br/>\n",
       "            "
      ],
      "text/plain": [
       "<IPython.core.display.HTML object>"
      ]
     },
     "metadata": {},
     "output_type": "display_data"
    },
    {
     "data": {
      "text/plain": [
       "[<wandb.wandb_torch.TorchGraph at 0x7fdaa373da00>]"
      ]
     },
     "execution_count": 5,
     "metadata": {},
     "output_type": "execute_result"
    }
   ],
   "source": [
    "parameters = model.get_trainable_parameters()\n",
    "optimizer = torch.optim.Adam(parameters, lr=args.lr)\n",
    "\n",
    "config = {k: v for k, v in vars(args).items() if not k.startswith(\"_\")}\n",
    "\n",
    "wandb.init(project=\"class_attention\", config=config, tags=[\"notebook\"])\n",
    "wandb.watch(model, log=\"all\")"
   ]
  },
  {
   "cell_type": "code",
   "execution_count": 6,
   "metadata": {},
   "outputs": [
    {
     "data": {
      "application/vnd.jupyter.widget-view+json": {
       "model_id": "fa2b2628730c49888b3dbb35440f8700",
       "version_major": 2,
       "version_minor": 0
      },
      "text/plain": [
       "HBox(children=(FloatProgress(value=0.0, description='Epochs', max=10.0, style=ProgressStyle(description_width=…"
      ]
     },
     "metadata": {},
     "output_type": "display_data"
    },
    {
     "name": "stdout",
     "output_type": "stream",
     "text": [
      "\n"
     ]
    }
   ],
   "source": [
    "model = cat.training_utils.train_cat_model(\n",
    "    model,\n",
    "    optimizer,\n",
    "    train_dataloader,\n",
    "    test_dataloader,\n",
    "    all_classes_str,\n",
    "    test_classes_str,\n",
    "    args.max_epochs,\n",
    "    args.device,\n",
    ")"
   ]
  },
  {
   "cell_type": "markdown",
   "metadata": {},
   "source": [
    "# Error analysis"
   ]
  },
  {
   "cell_type": "code",
   "execution_count": 7,
   "metadata": {},
   "outputs": [
    {
     "data": {
      "text/plain": [
       "('[CLS] a simple question that will change your search for love [SEP]',\n",
       " '[CLS] healthy living [SEP]')"
      ]
     },
     "execution_count": 7,
     "metadata": {},
     "output_type": "execute_result"
    }
   ],
   "source": [
    "text_tokenizer = test_dataloader.dataset.text_tokenizer\n",
    "label_tokenizer = test_dataloader.dataset.label_tokenizer\n",
    "\n",
    "_t, _c = test_dataloader.dataset[4]\n",
    "text_tokenizer.decode(_t), label_tokenizer.decode(_c)"
   ]
  },
  {
   "cell_type": "code",
   "execution_count": 8,
   "metadata": {},
   "outputs": [
    {
     "data": {
      "text/plain": [
       "{'ARTS & CULTURE',\n",
       " 'BLACK VOICES',\n",
       " 'BUSINESS',\n",
       " 'COMEDY',\n",
       " 'CRIME',\n",
       " 'CULTURE & ARTS',\n",
       " 'DIVORCE',\n",
       " 'ENTERTAINMENT',\n",
       " 'ENVIRONMENT',\n",
       " 'FIFTY',\n",
       " 'FOOD & DRINK',\n",
       " 'GOOD NEWS',\n",
       " 'GREEN',\n",
       " 'HEALTHY LIVING',\n",
       " 'HOME & LIVING',\n",
       " 'IMPACT',\n",
       " 'LATINO VOICES',\n",
       " 'MEDIA',\n",
       " 'MONEY',\n",
       " 'PARENTING',\n",
       " 'PARENTS',\n",
       " 'QUEER VOICES',\n",
       " 'SCIENCE',\n",
       " 'STYLE',\n",
       " 'STYLE & BEAUTY',\n",
       " 'TASTE',\n",
       " 'TECH',\n",
       " 'THE WORLDPOST',\n",
       " 'WEDDINGS',\n",
       " 'WEIRD NEWS',\n",
       " 'WELLNESS',\n",
       " 'WOMEN',\n",
       " 'WORLDPOST'}"
      ]
     },
     "execution_count": 8,
     "metadata": {},
     "output_type": "execute_result"
    }
   ],
   "source": [
    "set(all_classes_str).difference(test_classes_str)"
   ]
  },
  {
   "cell_type": "code",
   "execution_count": 9,
   "metadata": {},
   "outputs": [
    {
     "data": {
      "text/plain": [
       "['RELIGION',\n",
       " 'ARTS',\n",
       " 'EDUCATION',\n",
       " 'WORLD NEWS',\n",
       " 'SPORTS',\n",
       " 'COLLEGE',\n",
       " 'POLITICS',\n",
       " 'TRAVEL']"
      ]
     },
     "execution_count": 9,
     "metadata": {},
     "output_type": "execute_result"
    }
   ],
   "source": [
    "test_classes_str"
   ]
  },
  {
   "cell_type": "code",
   "execution_count": 10,
   "metadata": {},
   "outputs": [
    {
     "data": {
      "application/vnd.jupyter.widget-view+json": {
       "model_id": "807c8805031d4d1c931dc3bfb5c0baad",
       "version_major": 2,
       "version_minor": 0
      },
      "text/plain": [
       "HBox(children=(FloatProgress(value=0.0, description='Preprocessing Dataset', max=265.0, style=ProgressStyle(de…"
      ]
     },
     "metadata": {},
     "output_type": "display_data"
    },
    {
     "name": "stdout",
     "output_type": "stream",
     "text": [
      "\n"
     ]
    }
   ],
   "source": [
    "news_dataset = datasets.load_from_disk(\"../data/news-category-semantic-split-small\")\n",
    "_, only_test_classes_data = cat.utils.split_classes(news_dataset[\"validation\"], test_classes=test_classes_str)\n",
    "\n",
    "otc_dataset = cat.CatDataset(\n",
    "    only_test_classes_data[\"headline\"],\n",
    "    text_tokenizer,\n",
    "    only_test_classes_data[\"category\"],\n",
    "    label_tokenizer,\n",
    ")\n",
    "\n",
    "test_classes_ids = label_tokenizer.batch_encode_plus(\n",
    "    test_classes_str,\n",
    "    return_tensors=\"pt\",\n",
    "    add_special_tokens=True,\n",
    "    padding=True,\n",
    ")[\"input_ids\"]\n",
    "\n",
    "\n",
    "all_classes_ids = label_tokenizer.batch_encode_plus(\n",
    "    all_classes_str,\n",
    "    return_tensors=\"pt\",\n",
    "    add_special_tokens=True,\n",
    "    padding=True,\n",
    ")[\"input_ids\"]\n",
    "\n",
    "\n",
    "otc_collator = cat.CatTestCollator(\n",
    "    possible_labels_ids=test_classes_ids, pad_token_id=label_tokenizer.pad_token_id\n",
    ")\n",
    "\n",
    "all_collator = cat.CatTestCollator(\n",
    "    possible_labels_ids=all_classes_ids, pad_token_id=label_tokenizer.pad_token_id\n",
    ")\n",
    "\n",
    "otc_dataloader = torch.utils.data.DataLoader(otc_dataset, collate_fn=otc_collator, shuffle=False, pin_memory=True)\n",
    "otc_all_dataloader = torch.utils.data.DataLoader(otc_dataset, collate_fn=all_collator, shuffle=False, pin_memory=True)"
   ]
  },
  {
   "cell_type": "code",
   "execution_count": 11,
   "metadata": {},
   "outputs": [
    {
     "name": "stdout",
     "output_type": "stream",
     "text": [
      "2021-02-24 12:31:51 | WARNING | utils.py | No classes for the group multi_shot\n",
      "2021-02-24 12:31:51 | WARNING | utils.py | No classes for the group multi_shot\n",
      "2021-02-24 12:31:51 | WARNING | utils.py | No classes for the group multi_shot\n"
     ]
    },
    {
     "data": {
      "text/plain": [
       "{'acc': tensor(0.5208, device='cuda:0'),\n",
       " 'P/RELIGION': 0.16666666574074074,\n",
       " 'R/RELIGION': 0.3749999953125001,\n",
       " 'F1/RELIGION': 0.23076918639054037,\n",
       " 'P/ARTS': 0.1395348833964305,\n",
       " 'R/ARTS': 0.8571428448979593,\n",
       " 'F1/ARTS': 0.2399999749600022,\n",
       " 'P/EDUCATION': 0.0,\n",
       " 'R/EDUCATION': 0.0,\n",
       " 'F1/EDUCATION': 0.0,\n",
       " 'P/WORLD NEWS': 0.2702702695398101,\n",
       " 'R/WORLD NEWS': 0.7142857091836735,\n",
       " 'F1/WORLD NEWS': 0.3921568213763977,\n",
       " 'P/SPORTS': 0.44999999775,\n",
       " 'R/SPORTS': 0.3749999984375,\n",
       " 'F1/SPORTS': 0.4090908576446341,\n",
       " 'P/COLLEGE': 0.190476189569161,\n",
       " 'R/COLLEGE': 0.6666666555555557,\n",
       " 'F1/COLLEGE': 0.29629625953361144,\n",
       " 'P/POLITICS': 0.9047619039002268,\n",
       " 'R/POLITICS': 0.6050955410158627,\n",
       " 'F1/POLITICS': 0.725190791110661,\n",
       " 'P/TRAVEL': 0.9999999909090911,\n",
       " 'R/TRAVEL': 0.23913043426275993,\n",
       " 'F1/TRAVEL': 0.3859648797783958,\n",
       " 'R_zero_shot': 0.4790401473332264,\n",
       " 'P_zero_shot': 0.3902137376006825,\n",
       " 'F1_zero_shot': 0.3349335963492803}"
      ]
     },
     "execution_count": 11,
     "metadata": {},
     "output_type": "execute_result"
    }
   ],
   "source": [
    "metrics = cat.utils.evaluate_model_per_class(\n",
    "    model,\n",
    "    otc_dataloader,\n",
    "    device=args.device,\n",
    "    labels_str=test_classes_str,\n",
    "    zeroshot_labels=test_classes_str,\n",
    ")\n",
    "\n",
    "metrics"
   ]
  },
  {
   "cell_type": "code",
   "execution_count": 12,
   "metadata": {},
   "outputs": [
    {
     "data": {
      "text/plain": [
       "{'acc': tensor(0.0264, device='cuda:0'),\n",
       " 'P/WEIRD NEWS': 0.0,\n",
       " 'R/WEIRD NEWS': 0.0,\n",
       " 'F1/WEIRD NEWS': 0.0,\n",
       " 'P/BUSINESS': 0.0,\n",
       " 'R/BUSINESS': 0.0,\n",
       " 'F1/BUSINESS': 0.0,\n",
       " 'P/WORLD NEWS': 0.5555555493827161,\n",
       " 'R/WORLD NEWS': 0.35714285459183676,\n",
       " 'F1/WORLD NEWS': 0.434782557277888,\n",
       " 'P/SPORTS': 0.0,\n",
       " 'R/SPORTS': 0.0,\n",
       " 'F1/SPORTS': 0.0,\n",
       " 'P/MONEY': 0.0,\n",
       " 'R/MONEY': 0.0,\n",
       " 'F1/MONEY': 0.0,\n",
       " 'P/GOOD NEWS': 0.0,\n",
       " 'R/GOOD NEWS': 0.0,\n",
       " 'F1/GOOD NEWS': 0.0,\n",
       " 'P/TECH': 0.0,\n",
       " 'R/TECH': 0.0,\n",
       " 'F1/TECH': 0.0,\n",
       " 'P/RELIGION': 0.4999999750000013,\n",
       " 'R/RELIGION': 0.12499999843750002,\n",
       " 'F1/RELIGION': 0.1999999640000045,\n",
       " 'P/PARENTS': 0.0,\n",
       " 'R/PARENTS': 0.0,\n",
       " 'F1/PARENTS': 0.0,\n",
       " 'P/GREEN': 0.0,\n",
       " 'R/GREEN': 0.0,\n",
       " 'F1/GREEN': 0.0,\n",
       " 'P/FIFTY': 0.0,\n",
       " 'R/FIFTY': 0.0,\n",
       " 'F1/FIFTY': 0.0,\n",
       " 'P/ENVIRONMENT': 0.0,\n",
       " 'R/ENVIRONMENT': 0.0,\n",
       " 'F1/ENVIRONMENT': 0.0,\n",
       " 'P/TASTE': 0.0,\n",
       " 'R/TASTE': 0.0,\n",
       " 'F1/TASTE': 0.0,\n",
       " 'P/LATINO VOICES': 0.0,\n",
       " 'R/LATINO VOICES': 0.0,\n",
       " 'F1/LATINO VOICES': 0.0,\n",
       " 'P/IMPACT': 0.0,\n",
       " 'R/IMPACT': 0.0,\n",
       " 'F1/IMPACT': 0.0,\n",
       " 'P/FOOD & DRINK': 0.0,\n",
       " 'R/FOOD & DRINK': 0.0,\n",
       " 'F1/FOOD & DRINK': 0.0,\n",
       " 'P/EDUCATION': 0.0,\n",
       " 'R/EDUCATION': 0.0,\n",
       " 'F1/EDUCATION': 0.0,\n",
       " 'P/WOMEN': 0.0,\n",
       " 'R/WOMEN': 0.0,\n",
       " 'F1/WOMEN': 0.0,\n",
       " 'P/WEDDINGS': 0.0,\n",
       " 'R/WEDDINGS': 0.0,\n",
       " 'F1/WEDDINGS': 0.0,\n",
       " 'P/ARTS': 0.0,\n",
       " 'R/ARTS': 0.0,\n",
       " 'F1/ARTS': 0.0,\n",
       " 'P/MEDIA': 0.0,\n",
       " 'R/MEDIA': 0.0,\n",
       " 'F1/MEDIA': 0.0,\n",
       " 'P/COMEDY': 0.0,\n",
       " 'R/COMEDY': 0.0,\n",
       " 'F1/COMEDY': 0.0,\n",
       " 'P/THE WORLDPOST': 0.0,\n",
       " 'R/THE WORLDPOST': 0.0,\n",
       " 'F1/THE WORLDPOST': 0.0,\n",
       " 'P/WORLDPOST': 0.0,\n",
       " 'R/WORLDPOST': 0.0,\n",
       " 'F1/WORLDPOST': 0.0,\n",
       " 'P/DIVORCE': 0.0,\n",
       " 'R/DIVORCE': 0.0,\n",
       " 'F1/DIVORCE': 0.0,\n",
       " 'P/WELLNESS': 0.0,\n",
       " 'R/WELLNESS': 0.0,\n",
       " 'F1/WELLNESS': 0.0,\n",
       " 'P/ARTS & CULTURE': 0.0,\n",
       " 'R/ARTS & CULTURE': 0.0,\n",
       " 'F1/ARTS & CULTURE': 0.0,\n",
       " 'P/STYLE & BEAUTY': 0.0,\n",
       " 'R/STYLE & BEAUTY': 0.0,\n",
       " 'F1/STYLE & BEAUTY': 0.0,\n",
       " 'P/QUEER VOICES': 0.0,\n",
       " 'R/QUEER VOICES': 0.0,\n",
       " 'F1/QUEER VOICES': 0.0,\n",
       " 'P/PARENTING': 0.0,\n",
       " 'R/PARENTING': 0.0,\n",
       " 'F1/PARENTING': 0.0,\n",
       " 'P/POLITICS': 0.4999999750000013,\n",
       " 'R/POLITICS': 0.006369426747535397,\n",
       " 'F1/POLITICS': 0.012578613852300519,\n",
       " 'P/HEALTHY LIVING': 0.0,\n",
       " 'R/HEALTHY LIVING': 0.0,\n",
       " 'F1/HEALTHY LIVING': 0.0,\n",
       " 'P/ENTERTAINMENT': 0.0,\n",
       " 'R/ENTERTAINMENT': 0.0,\n",
       " 'F1/ENTERTAINMENT': 0.0,\n",
       " 'P/HOME & LIVING': 0.0,\n",
       " 'R/HOME & LIVING': 0.0,\n",
       " 'F1/HOME & LIVING': 0.0,\n",
       " 'P/STYLE': 0.0,\n",
       " 'R/STYLE': 0.0,\n",
       " 'F1/STYLE': 0.0,\n",
       " 'P/CULTURE & ARTS': 0.0,\n",
       " 'R/CULTURE & ARTS': 0.0,\n",
       " 'F1/CULTURE & ARTS': 0.0,\n",
       " 'P/SCIENCE': 0.0,\n",
       " 'R/SCIENCE': 0.0,\n",
       " 'F1/SCIENCE': 0.0,\n",
       " 'P/COLLEGE': 0.0,\n",
       " 'R/COLLEGE': 0.0,\n",
       " 'F1/COLLEGE': 0.0,\n",
       " 'P/BLACK VOICES': 0.0,\n",
       " 'R/BLACK VOICES': 0.0,\n",
       " 'F1/BLACK VOICES': 0.0,\n",
       " 'P/CRIME': 0.0,\n",
       " 'R/CRIME': 0.0,\n",
       " 'F1/CRIME': 0.0,\n",
       " 'P/TRAVEL': 0.0,\n",
       " 'R/TRAVEL': 0.0,\n",
       " 'F1/TRAVEL': 0.0,\n",
       " 'R_zero_shot': 0.06106403497210902,\n",
       " 'P_zero_shot': 0.19444443742283984,\n",
       " 'F1_zero_shot': 0.08092014189127412,\n",
       " 'R_multi_shot': 0.0,\n",
       " 'P_multi_shot': 0.0,\n",
       " 'F1_multi_shot': 0.0}"
      ]
     },
     "execution_count": 12,
     "metadata": {},
     "output_type": "execute_result"
    }
   ],
   "source": [
    "cat.utils.evaluate_model_per_class(\n",
    "    model,\n",
    "    otc_all_dataloader,\n",
    "    device=args.device,\n",
    "    labels_str=all_classes_str,\n",
    "    zeroshot_labels=test_classes_str,\n",
    ")"
   ]
  },
  {
   "cell_type": "code",
   "execution_count": 13,
   "metadata": {},
   "outputs": [
    {
     "name": "stdout",
     "output_type": "stream",
     "text": [
      "2021-02-24 12:31:58 | WARNING | utils.py | No classes for the group multi_shot\n",
      "2021-02-24 12:31:58 | WARNING | utils.py | No classes for the group multi_shot\n",
      "2021-02-24 12:31:58 | WARNING | utils.py | No classes for the group multi_shot\n"
     ]
    },
    {
     "data": {
      "text/plain": [
       "{'acc': tensor(0.0981, device='cuda:0'),\n",
       " 'P/RELIGION': 0.058823529296424454,\n",
       " 'R/RELIGION': 0.3749999953125001,\n",
       " 'F1/RELIGION': 0.10169489146797421,\n",
       " 'P/ARTS': 0.0,\n",
       " 'R/ARTS': 0.0,\n",
       " 'F1/ARTS': 0.0,\n",
       " 'P/EDUCATION': 0.0,\n",
       " 'R/EDUCATION': 0.0,\n",
       " 'F1/EDUCATION': 0.0,\n",
       " 'P/WORLD NEWS': 0.0,\n",
       " 'R/WORLD NEWS': 0.0,\n",
       " 'F1/WORLD NEWS': 0.0,\n",
       " 'P/SPORTS': 0.10747663546379596,\n",
       " 'R/SPORTS': 0.9583333293402777,\n",
       " 'F1/SPORTS': 0.1932772926276409,\n",
       " 'P/COLLEGE': 0.0,\n",
       " 'R/COLLEGE': 0.0,\n",
       " 'F1/COLLEGE': 0.0,\n",
       " 'P/POLITICS': 0.0,\n",
       " 'R/POLITICS': 0.0,\n",
       " 'F1/POLITICS': 0.0,\n",
       " 'P/TRAVEL': 0.0,\n",
       " 'R/TRAVEL': 0.0,\n",
       " 'F1/TRAVEL': 0.0,\n",
       " 'R_zero_shot': 0.16666666558159723,\n",
       " 'P_zero_shot': 0.020787520595027552,\n",
       " 'F1_zero_shot': 0.03687152301195189}"
      ]
     },
     "execution_count": 13,
     "metadata": {},
     "output_type": "execute_result"
    }
   ],
   "source": [
    "random_model = cat.ClassAttentionModel(\n",
    "    transformers.AutoModel.from_config(transformers.AutoConfig.from_pretrained(args.model)),\n",
    "    transformers.AutoModel.from_config(transformers.AutoConfig.from_pretrained(args.model)),\n",
    ")\n",
    "\n",
    "metrics_random = cat.utils.evaluate_model_per_class(\n",
    "    random_model,\n",
    "    otc_dataloader,\n",
    "    device=args.device,\n",
    "    labels_str=test_classes_str,\n",
    "    zeroshot_labels=test_classes_str,\n",
    ")\n",
    "\n",
    "metrics_random"
   ]
  },
  {
   "cell_type": "code",
   "execution_count": 14,
   "metadata": {},
   "outputs": [
    {
     "name": "stdout",
     "output_type": "stream",
     "text": [
      "2021-02-24 12:32:03 | WARNING | utils.py | No classes for the group multi_shot\n",
      "2021-02-24 12:32:03 | WARNING | utils.py | No classes for the group multi_shot\n",
      "2021-02-24 12:32:03 | WARNING | utils.py | No classes for the group multi_shot\n"
     ]
    },
    {
     "data": {
      "text/plain": [
       "{'acc': tensor(0.0528, device='cuda:0'),\n",
       " 'P/RELIGION': 0.0,\n",
       " 'R/RELIGION': 0.0,\n",
       " 'F1/RELIGION': 0.0,\n",
       " 'P/ARTS': 0.0,\n",
       " 'R/ARTS': 0.0,\n",
       " 'F1/ARTS': 0.0,\n",
       " 'P/EDUCATION': 0.0,\n",
       " 'R/EDUCATION': 0.0,\n",
       " 'F1/EDUCATION': 0.0,\n",
       " 'P/WORLD NEWS': 0.05283018865930936,\n",
       " 'R/WORLD NEWS': 0.9999999928571429,\n",
       " 'F1/WORLD NEWS': 0.10035841333487577,\n",
       " 'P/SPORTS': 0.0,\n",
       " 'R/SPORTS': 0.0,\n",
       " 'F1/SPORTS': 0.0,\n",
       " 'P/COLLEGE': 0.0,\n",
       " 'R/COLLEGE': 0.0,\n",
       " 'F1/COLLEGE': 0.0,\n",
       " 'P/POLITICS': 0.0,\n",
       " 'R/POLITICS': 0.0,\n",
       " 'F1/POLITICS': 0.0,\n",
       " 'P/TRAVEL': 0.0,\n",
       " 'R/TRAVEL': 0.0,\n",
       " 'F1/TRAVEL': 0.0,\n",
       " 'R_zero_shot': 0.12499999910714286,\n",
       " 'P_zero_shot': 0.00660377358241367,\n",
       " 'F1_zero_shot': 0.012544801666859472}"
      ]
     },
     "execution_count": 14,
     "metadata": {},
     "output_type": "execute_result"
    }
   ],
   "source": [
    "bert_model = cat.ClassAttentionModel(\n",
    "    transformers.AutoModel.from_pretrained(args.model),\n",
    "    transformers.AutoModel.from_pretrained(args.model),\n",
    ")\n",
    "\n",
    "metrics_bert = cat.utils.evaluate_model_per_class(\n",
    "    bert_model,\n",
    "    otc_dataloader,\n",
    "    device=args.device,\n",
    "    labels_str=test_classes_str,\n",
    "    zeroshot_labels=test_classes_str,\n",
    ")\n",
    "\n",
    "metrics_bert"
   ]
  },
  {
   "cell_type": "code",
   "execution_count": 15,
   "metadata": {},
   "outputs": [
    {
     "data": {
      "text/plain": [
       "Counter({'SPORTS': 24,\n",
       "         'POLITICS': 157,\n",
       "         'WORLD NEWS': 14,\n",
       "         'TRAVEL': 46,\n",
       "         'COLLEGE': 6,\n",
       "         'EDUCATION': 3,\n",
       "         'RELIGION': 8,\n",
       "         'ARTS': 7})"
      ]
     },
     "execution_count": 15,
     "metadata": {},
     "output_type": "execute_result"
    }
   ],
   "source": [
    "class_counts = Counter(otc_dataloader.dataset.labels)\n",
    "class_counts"
   ]
  },
  {
   "cell_type": "code",
   "execution_count": 16,
   "metadata": {},
   "outputs": [
    {
     "data": {
      "text/plain": [
       "{'POLITICS': 0.5924528301886792,\n",
       " 'TRAVEL': 0.17358490566037735,\n",
       " 'SPORTS': 0.09056603773584905,\n",
       " 'WORLD NEWS': 0.052830188679245285,\n",
       " 'RELIGION': 0.03018867924528302,\n",
       " 'ARTS': 0.026415094339622643,\n",
       " 'COLLEGE': 0.022641509433962263,\n",
       " 'EDUCATION': 0.011320754716981131}"
      ]
     },
     "execution_count": 16,
     "metadata": {},
     "output_type": "execute_result"
    }
   ],
   "source": [
    "{k: v / len(otc_dataloader.dataset) for k, v in class_counts.most_common()}"
   ]
  },
  {
   "cell_type": "markdown",
   "metadata": {},
   "source": [
    "## Result\n",
    "\n",
    "Parameter sharing between encoder and decoder does not improve the model"
   ]
  },
  {
   "cell_type": "markdown",
   "metadata": {},
   "source": [
    "# Logit magnitudes"
   ]
  },
  {
   "cell_type": "code",
   "execution_count": 17,
   "metadata": {},
   "outputs": [],
   "source": [
    "x, c, y = next(iter(test_dataloader))"
   ]
  },
  {
   "cell_type": "code",
   "execution_count": 18,
   "metadata": {},
   "outputs": [
    {
     "data": {
      "text/plain": [
       "torch.Size([32, 25])"
      ]
     },
     "execution_count": 18,
     "metadata": {},
     "output_type": "execute_result"
    }
   ],
   "source": [
    "x.shape"
   ]
  },
  {
   "cell_type": "code",
   "execution_count": 19,
   "metadata": {},
   "outputs": [],
   "source": [
    "x_np = x.detach().cpu().numpy()"
   ]
  },
  {
   "cell_type": "code",
   "execution_count": 20,
   "metadata": {},
   "outputs": [
    {
     "data": {
      "text/plain": [
       "(1, torch.Size([32, 25]))"
      ]
     },
     "execution_count": 20,
     "metadata": {},
     "output_type": "execute_result"
    }
   ],
   "source": [
    "x_lt = x.split(x.size(0), dim=0)\n",
    "len(x_lt), x_lt[0].shape"
   ]
  },
  {
   "cell_type": "code",
   "execution_count": 21,
   "metadata": {},
   "outputs": [
    {
     "data": {
      "application/vnd.jupyter.widget-view+json": {
       "model_id": "9bb60783bf224b548c53c64777aaec87",
       "version_major": 2,
       "version_minor": 0
      },
      "text/plain": [
       "HBox(children=(FloatProgress(value=0.0, max=363.0), HTML(value='')))"
      ]
     },
     "metadata": {},
     "output_type": "display_data"
    },
    {
     "name": "stdout",
     "output_type": "stream",
     "text": [
      "\n"
     ]
    }
   ],
   "source": [
    "results = []  # (class, logits)\n",
    "\n",
    "for x, c, y in tqdm(test_dataloader):\n",
    "    x = x.to(args.device)\n",
    "    c = c.to(args.device)\n",
    "\n",
    "    logits = model(x, c)\n",
    "    \n",
    "    logits = logits.detach().cpu()\n",
    "    y = y.detach().cpu()\n",
    "\n",
    "    for logit, class_idx in zip(logits, y):\n",
    "        results.append((logit, class_idx, all_classes_str[class_idx]))"
   ]
  },
  {
   "cell_type": "code",
   "execution_count": 22,
   "metadata": {},
   "outputs": [
    {
     "data": {
      "text/plain": [
       "11603"
      ]
     },
     "execution_count": 22,
     "metadata": {},
     "output_type": "execute_result"
    }
   ],
   "source": [
    "len(results)"
   ]
  },
  {
   "cell_type": "code",
   "execution_count": 23,
   "metadata": {},
   "outputs": [
    {
     "data": {
      "text/plain": [
       "(tensor([ 0.0387, -0.2802, -0.3631, -1.0306,  0.0388,  0.1896, -0.4743, -0.0945,\n",
       "         -1.8180, -2.0680, -1.6402,  1.7778, -0.3071, -0.8406, -0.7612, -0.1439,\n",
       "         -0.5497, -0.3451,  0.1583,  0.8937, -0.1805,  0.6974, -1.3197, -0.2227,\n",
       "         -0.5860,  1.4995,  0.6142, -0.7460,  0.5565, -0.0775, -1.8526, -0.7923,\n",
       "          0.0866, 10.0416, -1.9701,  2.7305,  0.0582, -0.0728, -0.4189, -1.0358,\n",
       "         -0.1335]),\n",
       " tensor(33),\n",
       " 'HOME & LIVING')"
      ]
     },
     "execution_count": 23,
     "metadata": {},
     "output_type": "execute_result"
    }
   ],
   "source": [
    "results[0]"
   ]
  },
  {
   "cell_type": "code",
   "execution_count": 24,
   "metadata": {},
   "outputs": [
    {
     "data": {
      "text/plain": [
       "tensor([1.3333, 1.5390, 1.0819, 0.9671, 1.1699, 1.1383, 0.9462, 0.9832, 1.6989,\n",
       "        1.1697, 1.1732, 1.2223, 1.2354, 1.2120, 1.1977, 1.3950, 1.3020, 1.4287,\n",
       "        1.0358, 1.2390, 1.1865, 1.4378, 1.1481, 1.0775, 1.1113, 2.4342, 1.2343,\n",
       "        1.6679, 1.3309, 1.7382, 0.8764, 1.6365, 1.9038, 1.5393, 1.5141, 1.3423,\n",
       "        0.9925, 1.1087, 1.4658, 1.1582, 0.6891])"
      ]
     },
     "execution_count": 24,
     "metadata": {},
     "output_type": "execute_result"
    }
   ],
   "source": [
    "average_abs_logit = sum(l.abs() for l, i, c in results) / len(results)\n",
    "average_abs_logit"
   ]
  },
  {
   "cell_type": "code",
   "execution_count": 25,
   "metadata": {},
   "outputs": [
    {
     "data": {
      "text/plain": [
       "['RELIGION',\n",
       " 'ARTS',\n",
       " 'EDUCATION',\n",
       " 'WORLD NEWS',\n",
       " 'SPORTS',\n",
       " 'COLLEGE',\n",
       " 'POLITICS',\n",
       " 'TRAVEL']"
      ]
     },
     "execution_count": 25,
     "metadata": {},
     "output_type": "execute_result"
    }
   ],
   "source": [
    "test_classes_str"
   ]
  },
  {
   "cell_type": "code",
   "execution_count": 26,
   "metadata": {},
   "outputs": [
    {
     "data": {
      "text/plain": [
       "<BarContainer object of 41 artists>"
      ]
     },
     "execution_count": 26,
     "metadata": {},
     "output_type": "execute_result"
    },
    {
     "data": {
      "image/png": "[encoded data removed]",
      "text/plain": [
       "<Figure size 1440x720 with 1 Axes>"
      ]
     },
     "metadata": {
      "needs_background": "light"
     },
     "output_type": "display_data"
    }
   ],
   "source": [
    "all_classes_str_with_marks = [\"*\" + c + \"*\" if c in test_classes_str else c for c in all_classes_str]\n",
    "sorted_pairs = sorted(list(zip(all_classes_str_with_marks, average_abs_logit)), key=lambda x: x[1], reverse=True)\n",
    "\n",
    "plt.figure(figsize=(20, 10))\n",
    "plt.xticks(rotation=45)\n",
    "plt.bar(*(zip(*sorted_pairs)))"
   ]
  },
  {
   "cell_type": "code",
   "execution_count": 27,
   "metadata": {},
   "outputs": [
    {
     "data": {
      "text/plain": [
       "(tensor(1.3580), tensor(1.0309))"
      ]
     },
     "execution_count": 27,
     "metadata": {},
     "output_type": "execute_result"
    }
   ],
   "source": [
    "average_train_abs_logit = sum(l for l, c in zip(average_abs_logit, all_classes_str) if c not in test_classes_str) / (len(all_classes_str) - len(test_classes_str))\n",
    "average_test_abs_logit = sum(l for l, c in zip(average_abs_logit, all_classes_str) if c in test_classes_str) / len(test_classes_str)\n",
    "\n",
    "average_train_abs_logit, average_test_abs_logit"
   ]
  },
  {
   "cell_type": "code",
   "execution_count": 28,
   "metadata": {},
   "outputs": [
    {
     "data": {
      "text/plain": [
       "(tensor(3.8885), tensor(2.8037))"
      ]
     },
     "execution_count": 28,
     "metadata": {},
     "output_type": "execute_result"
    }
   ],
   "source": [
    "torch.exp(average_train_abs_logit), torch.exp(average_test_abs_logit)"
   ]
  },
  {
   "cell_type": "code",
   "execution_count": 31,
   "metadata": {},
   "outputs": [
    {
     "data": {
      "text/plain": [
       "tensor([0.5811, 0.4189])"
      ]
     },
     "execution_count": 31,
     "metadata": {},
     "output_type": "execute_result"
    }
   ],
   "source": [
    "F.softmax(torch.Tensor([average_train_abs_logit, average_test_abs_logit]), dim=-1)"
   ]
  },
  {
   "cell_type": "code",
   "execution_count": 34,
   "metadata": {},
   "outputs": [
    {
     "data": {
      "text/plain": [
       "1.3172955669803086"
      ]
     },
     "execution_count": 34,
     "metadata": {},
     "output_type": "execute_result"
    }
   ],
   "source": [
    "1.3580 / 1.0309"
   ]
  },
  {
   "cell_type": "markdown",
   "metadata": {},
   "source": [
    "# Renormalization\n",
    "\n",
    "This is how we call a dirty hack of artificially increasing the logits for zero-shot classes"
   ]
  },
  {
   "cell_type": "code",
   "execution_count": 57,
   "metadata": {},
   "outputs": [],
   "source": [
    "from collections import defaultdict\n",
    "\n",
    "def evaluate_model_per_class(\n",
    "    model, dataloader, device, labels_str, zeroshot_labels=None, progress_bar=False, renormalization_mask=None,\n",
    "):\n",
    "    \"\"\"\n",
    "    Args:\n",
    "        model: ClassAttentionModel\n",
    "        dataloader: pytorch DataLoader with CatTestCollator\n",
    "        labels_str: List[str], names of classes, in the same order as in the CatTestCollator.possible_labels\n",
    "    \"\"\"\n",
    "    model = model.to(device)\n",
    "    model.eval()\n",
    "\n",
    "    if zeroshot_labels is not None and (not set(zeroshot_labels).issubset(labels_str)):\n",
    "        raise ValueError(\"labels_str should include all labels\")\n",
    "\n",
    "    n_correct = 0\n",
    "    n_total = 0\n",
    "    label2n_correct = defaultdict(int)\n",
    "    label2n_predicted = defaultdict(int)\n",
    "    label2n_expected = defaultdict(int)\n",
    "\n",
    "    if progress_bar:\n",
    "        dataloader = tqdm(dataloader, desc=\"Evaluation\")\n",
    "\n",
    "    with torch.no_grad():\n",
    "        for x, c, y in dataloader:\n",
    "            # Note: `c` does not change in CatTestCollator\n",
    "            x, c, y = x.to(device), c.to(device), y.to(device)\n",
    "\n",
    "            logits = model(x, c)\n",
    "            \n",
    "            if renormalization_mask is not None:\n",
    "                logits += logits * 1.32 * renormalization_mask\n",
    "\n",
    "            _, preds = logits.max(-1)\n",
    "\n",
    "            predicted_labels = [labels_str[i] for i in preds]\n",
    "            expected_labels = [labels_str[i] for i in y]\n",
    "\n",
    "            for label_pred, label_exp in zip(predicted_labels, expected_labels):\n",
    "                label2n_predicted[label_pred] += 1\n",
    "                label2n_expected[label_exp] += 1\n",
    "                label2n_correct[label_pred] += int(label_pred == label_exp)\n",
    "\n",
    "            n_correct += torch.sum(preds == y).float()\n",
    "            n_total += x.shape[0]\n",
    "\n",
    "    res = {\n",
    "        \"acc\": n_correct / n_total,\n",
    "    }\n",
    "\n",
    "    for label in labels_str:\n",
    "        label_str = label\n",
    "        p = label2n_correct[label] / (label2n_predicted[label] + 1e-7)\n",
    "        r = label2n_correct[label] / (label2n_expected[label] + 1e-7)\n",
    "\n",
    "        res[f\"P/{label_str}\"] = p\n",
    "        res[f\"R/{label_str}\"] = r\n",
    "        res[f\"F1/{label_str}\"] = 2 * (p * r) / (p + r + 1e-7)\n",
    "\n",
    "    if zeroshot_labels is not None:\n",
    "        zeroshot_metrics = cat.utils._aggregate_metrics_by_class_group(res, zeroshot_labels, \"zero_shot\")\n",
    "        multishot_labels = set(labels_str).difference(set(zeroshot_labels))\n",
    "        multishot_metrics = cat.utils._aggregate_metrics_by_class_group(res, multishot_labels, \"multi_shot\")\n",
    "\n",
    "        res.update(zeroshot_metrics)\n",
    "        res.update(multishot_metrics)\n",
    "\n",
    "    model.train()\n",
    "    return res\n"
   ]
  },
  {
   "cell_type": "code",
   "execution_count": 58,
   "metadata": {},
   "outputs": [
    {
     "data": {
      "application/vnd.jupyter.widget-view+json": {
       "model_id": "78491862f87f481bbdcae17b003778aa",
       "version_major": 2,
       "version_minor": 0
      },
      "text/plain": [
       "HBox(children=(FloatProgress(value=0.0, description='Evaluation', max=363.0, style=ProgressStyle(description_w…"
      ]
     },
     "metadata": {},
     "output_type": "display_data"
    },
    {
     "name": "stdout",
     "output_type": "stream",
     "text": [
      "\n"
     ]
    },
    {
     "data": {
      "text/plain": [
       "{'acc': tensor(0.8070, device='cuda:0'),\n",
       " 'P/WEIRD NEWS': 0.8883928567462532,\n",
       " 'R/WEIRD NEWS': 0.9086757986718376,\n",
       " 'F1/WEIRD NEWS': 0.8984198141605846,\n",
       " 'P/BUSINESS': 0.9467455619434426,\n",
       " 'R/BUSINESS': 0.9795918365347771,\n",
       " 'F1/BUSINESS': 0.9628886158193763,\n",
       " 'P/WORLD NEWS': 0.0,\n",
       " 'R/WORLD NEWS': 0.0,\n",
       " 'F1/WORLD NEWS': 0.0,\n",
       " 'P/SPORTS': 0.0,\n",
       " 'R/SPORTS': 0.0,\n",
       " 'F1/SPORTS': 0.0,\n",
       " 'P/MONEY': 0.8976377945687892,\n",
       " 'R/MONEY': 0.9499999992083333,\n",
       " 'F1/MONEY': 0.9230768723696531,\n",
       " 'P/GOOD NEWS': 0.9259259250685872,\n",
       " 'R/GOOD NEWS': 0.79999999936,\n",
       " 'F1/GOOD NEWS': 0.8583690482418198,\n",
       " 'P/TECH': 0.9593023250236614,\n",
       " 'R/TECH': 0.9166666661574074,\n",
       " 'F1/TECH': 0.9374999494931586,\n",
       " 'P/RELIGION': 0.0,\n",
       " 'R/RELIGION': 0.0,\n",
       " 'F1/RELIGION': 0.0,\n",
       " 'P/PARENTS': 0.9658119653992256,\n",
       " 'R/PARENTS': 0.6686390530566156,\n",
       " 'F1/PARENTS': 0.7902097415863886,\n",
       " 'P/GREEN': 0.9425287350905007,\n",
       " 'R/GREEN': 0.7735849052954789,\n",
       " 'F1/GREEN': 0.8497408826867865,\n",
       " 'P/FIFTY': 0.9892473107642503,\n",
       " 'R/FIFTY': 0.8363636356033058,\n",
       " 'F1/FIFTY': 0.9064038903443451,\n",
       " 'P/ENVIRONMENT': 0.6999999991250001,\n",
       " 'R/ENVIRONMENT': 0.6588235286366783,\n",
       " 'F1/ENVIRONMENT': 0.678787828011023,\n",
       " 'P/TASTE': 0.747706421675364,\n",
       " 'R/TASTE': 0.9261363631101498,\n",
       " 'F1/TASTE': 0.8274111176608547,\n",
       " 'P/LATINO VOICES': 0.9148936160479856,\n",
       " 'R/LATINO VOICES': 0.9662921337457392,\n",
       " 'F1/LATINO VOICES': 0.939890659392639,\n",
       " 'P/IMPACT': 0.9745762707734846,\n",
       " 'R/IMPACT': 0.7770270267645178,\n",
       " 'F1/IMPACT': 0.8646616044462688,\n",
       " 'P/FOOD & DRINK': 0.9700214130685179,\n",
       " 'R/FOOD & DRINK': 0.8988095236311886,\n",
       " 'F1/FOOD & DRINK': 0.9330586522491093,\n",
       " 'P/EDUCATION': 0.0,\n",
       " 'R/EDUCATION': 0.0,\n",
       " 'F1/EDUCATION': 0.0,\n",
       " 'P/WOMEN': 0.896440129159728,\n",
       " 'R/WOMEN': 0.9551724134637336,\n",
       " 'F1/WOMEN': 0.9248747410603676,\n",
       " 'P/WEDDINGS': 0.9719626159140536,\n",
       " 'R/WEDDINGS': 0.37275985649721866,\n",
       " 'F1/WEDDINGS': 0.538860063275527,\n",
       " 'P/ARTS': 0.0,\n",
       " 'R/ARTS': 0.0,\n",
       " 'F1/ARTS': 0.0,\n",
       " 'P/MEDIA': 0.8674698791696909,\n",
       " 'R/MEDIA': 0.9818181813719008,\n",
       " 'F1/MEDIA': 0.9211086918026404,\n",
       " 'P/COMEDY': 0.9759036142226738,\n",
       " 'R/COMEDY': 0.9619952491776733,\n",
       " 'F1/COMEDY': 0.9688994713018844,\n",
       " 'P/THE WORLDPOST': 0.9999999992063493,\n",
       " 'R/THE WORLDPOST': 0.44055944040539874,\n",
       " 'F1/THE WORLDPOST': 0.6116504426807456,\n",
       " 'P/WORLDPOST': 0.0,\n",
       " 'R/WORLDPOST': 0.0,\n",
       " 'F1/WORLDPOST': 0.0,\n",
       " 'P/DIVORCE': 0.9887640445734965,\n",
       " 'R/DIVORCE': 0.981412639040367,\n",
       " 'F1/DIVORCE': 0.9850745764988049,\n",
       " 'P/WELLNESS': 0.9786206895876812,\n",
       " 'R/WELLNESS': 0.9806496198354768,\n",
       " 'F1/WELLNESS': 0.9796340541781966,\n",
       " 'P/ARTS & CULTURE': 0.0,\n",
       " 'R/ARTS & CULTURE': 0.0,\n",
       " 'F1/ARTS & CULTURE': 0.0,\n",
       " 'P/STYLE & BEAUTY': 0.994467496404638,\n",
       " 'R/STYLE & BEAUTY': 0.9435695536819463,\n",
       " 'F1/STYLE & BEAUTY': 0.9683501182542398,\n",
       " 'P/QUEER VOICES': 0.9999999997767857,\n",
       " 'R/QUEER VOICES': 0.8767123285955553,\n",
       " 'F1/QUEER VOICES': 0.9343065193639994,\n",
       " 'P/PARENTING': 0.0,\n",
       " 'R/PARENTING': 0.0,\n",
       " 'F1/PARENTING': 0.0,\n",
       " 'P/POLITICS': 0.0,\n",
       " 'R/POLITICS': 0.0,\n",
       " 'F1/POLITICS': 0.0,\n",
       " 'P/HEALTHY LIVING': 0.9897540981578372,\n",
       " 'R/HEALTHY LIVING': 0.876588021619494,\n",
       " 'F1/HEALTHY LIVING': 0.929740084749813,\n",
       " 'P/ENTERTAINMENT': 0.9944852940262421,\n",
       " 'R/ENTERTAINMENT': 0.8628389154016874,\n",
       " 'F1/ENTERTAINMENT': 0.9239965342884319,\n",
       " 'P/HOME & LIVING': 0.9174311923799904,\n",
       " 'R/HOME & LIVING': 0.9900990095742247,\n",
       " 'F1/HOME & LIVING': 0.9523809021511741,\n",
       " 'P/STYLE': 0.9315789468781164,\n",
       " 'R/STYLE': 0.9218749995198569,\n",
       " 'F1/STYLE': 0.9267015201968174,\n",
       " 'P/CULTURE & ARTS': 0.6610169480321747,\n",
       " 'R/CULTURE & ARTS': 0.4999999993589744,\n",
       " 'F1/CULTURE & ARTS': 0.5693430158239693,\n",
       " 'P/SCIENCE': 0.8508287288116969,\n",
       " 'R/SCIENCE': 0.9624999993984376,\n",
       " 'F1/SCIENCE': 0.9032257561114913,\n",
       " 'P/COLLEGE': 0.0,\n",
       " 'R/COLLEGE': 0.0,\n",
       " 'F1/COLLEGE': 0.0,\n",
       " 'P/BLACK VOICES': 0.9864498642313143,\n",
       " 'R/BLACK VOICES': 0.9309462913220086,\n",
       " 'F1/BLACK VOICES': 0.9578946866319278,\n",
       " 'P/CRIME': 0.9557195568429079,\n",
       " 'R/CRIME': 0.9664179100871574,\n",
       " 'F1/CRIME': 0.9610389106839118,\n",
       " 'P/TRAVEL': 0.0,\n",
       " 'R/TRAVEL': 0.0,\n",
       " 'F1/TRAVEL': 0.0,\n",
       " 'R_zero_shot': 0.0,\n",
       " 'P_zero_shot': 0.0,\n",
       " 'F1_zero_shot': 0.0,\n",
       " 'R_multi_shot': 0.7747431787311255,\n",
       " 'P_multi_shot': 0.8419297967475889,\n",
       " 'F1_multi_shot': 0.7978029928944227}"
      ]
     },
     "execution_count": 58,
     "metadata": {},
     "output_type": "execute_result"
    }
   ],
   "source": [
    "renormalization_mask = torch.Tensor([int(c in test_classes_str) for c in all_classes_str]).to(args.device)\n",
    "\n",
    "evaluate_model_per_class(\n",
    "    model,\n",
    "    test_dataloader,\n",
    "    device=args.device,\n",
    "    labels_str=all_classes_str,\n",
    "    zeroshot_labels=test_classes_str,\n",
    "    progress_bar=True,\n",
    "    renormalization_mask=renormalization_mask,\n",
    ")"
   ]
  },
  {
   "cell_type": "code",
   "execution_count": null,
   "metadata": {},
   "outputs": [],
   "source": []
  }
 ],
 "metadata": {
  "kernelspec": {
   "display_name": "cat",
   "language": "python",
   "name": "cat"
  },
  "language_info": {
   "codemirror_mode": {
    "name": "ipython",
    "version": 3
   },
   "file_extension": ".py",
   "mimetype": "text/x-python",
   "name": "python",
   "nbconvert_exporter": "python",
   "pygments_lexer": "ipython3",
   "version": "3.8.5"
  }
 },
 "nbformat": 4,
 "nbformat_minor": 4
}
