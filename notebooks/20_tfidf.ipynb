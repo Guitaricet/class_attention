{
 "cells": [
  {
   "cell_type": "code",
   "execution_count": 45,
   "metadata": {},
   "outputs": [],
   "source": [
    "import math\n",
    "import re\n",
    "from collections import Counter, defaultdict\n",
    "\n",
    "import nltk"
   ]
  },
  {
   "cell_type": "code",
   "execution_count": 40,
   "metadata": {},
   "outputs": [],
   "source": [
    "# source: https://gist.github.com/sebleier/554280#gistcomment-3059054\n",
    "better_stopwords = set([\"\", \" \", \"0o\", \"0s\", \"3a\", \"3b\", \"3d\", \"6b\", \"6o\", \"a\", \"a1\", \"a2\", \"a3\", \"a4\", \"ab\", \"able\", \"about\", \"above\", \"abst\", \"ac\", \"accordance\", \"according\", \"accordingly\", \"across\", \"act\", \"actually\", \"ad\", \"added\", \"adj\", \"ae\", \"af\", \"affected\", \"affecting\", \"affects\", \"after\", \"afterwards\", \"ag\", \"again\", \"against\", \"ah\", \"ain\", \"ain't\", \"aj\", \"al\", \"all\", \"allow\", \"allows\", \"almost\", \"alone\", \"along\", \"already\", \"also\", \"although\", \"always\", \"am\", \"among\", \"amongst\", \"amoungst\", \"amount\", \"an\", \"and\", \"announce\", \"another\", \"any\", \"anybody\", \"anyhow\", \"anymore\", \"anyone\", \"anything\", \"anyway\", \"anyways\", \"anywhere\", \"ao\", \"ap\", \"apart\", \"apparently\", \"appear\", \"appreciate\", \"appropriate\", \"approximately\", \"ar\", \"are\", \"aren\", \"arent\", \"aren't\", \"arise\", \"around\", \"as\", \"a's\", \"aside\", \"ask\", \"asking\", \"associated\", \"at\", \"au\", \"auth\", \"av\", \"available\", \"aw\", \"away\", \"awfully\", \"ax\", \"ay\", \"az\", \"b\", \"b1\", \"b2\", \"b3\", \"ba\", \"back\", \"bc\", \"bd\", \"be\", \"became\", \"because\", \"become\", \"becomes\", \"becoming\", \"been\", \"before\", \"beforehand\", \"begin\", \"beginning\", \"beginnings\", \"begins\", \"behind\", \"being\", \"believe\", \"below\", \"beside\", \"besides\", \"best\", \"better\", \"between\", \"beyond\", \"bi\", \"bill\", \"biol\", \"bj\", \"bk\", \"bl\", \"bn\", \"both\", \"bottom\", \"bp\", \"br\", \"brief\", \"briefly\", \"bs\", \"bt\", \"bu\", \"but\", \"bx\", \"by\", \"c\", \"c1\", \"c2\", \"c3\", \"ca\", \"call\", \"came\", \"can\", \"cannot\", \"cant\", \"can't\", \"cause\", \"causes\", \"cc\", \"cd\", \"ce\", \"certain\", \"certainly\", \"cf\", \"cg\", \"ch\", \"changes\", \"ci\", \"cit\", \"cj\", \"cl\", \"clearly\", \"cm\", \"c'mon\", \"cn\", \"co\", \"com\", \"come\", \"comes\", \"con\", \"concerning\", \"consequently\", \"consider\", \"considering\", \"contain\", \"containing\", \"contains\", \"corresponding\", \"could\", \"couldn\", \"couldnt\", \"couldn't\", \"course\", \"cp\", \"cq\", \"cr\", \"cry\", \"cs\", \"c's\", \"ct\", \"cu\", \"currently\", \"cv\", \"cx\", \"cy\", \"cz\", \"d\", \"d2\", \"da\", \"date\", \"dc\", \"dd\", \"de\", \"definitely\", \"describe\", \"described\", \"despite\", \"detail\", \"df\", \"di\", \"did\", \"didn\", \"didn't\", \"different\", \"dj\", \"dk\", \"dl\", \"do\", \"does\", \"doesn\", \"doesn't\", \"doing\", \"don\", \"done\", \"don't\", \"down\", \"downwards\", \"dp\", \"dr\", \"ds\", \"dt\", \"du\", \"due\", \"during\", \"dx\", \"dy\", \"e\", \"e2\", \"e3\", \"ea\", \"each\", \"ec\", \"ed\", \"edu\", \"ee\", \"ef\", \"effect\", \"eg\", \"ei\", \"eight\", \"eighty\", \"either\", \"ej\", \"el\", \"eleven\", \"else\", \"elsewhere\", \"em\", \"empty\", \"en\", \"end\", \"ending\", \"enough\", \"entirely\", \"eo\", \"ep\", \"eq\", \"er\", \"es\", \"especially\", \"est\", \"et\", \"et-al\", \"etc\", \"eu\", \"ev\", \"even\", \"ever\", \"every\", \"everybody\", \"everyone\", \"everything\", \"everywhere\", \"ex\", \"exactly\", \"example\", \"except\", \"ey\", \"f\", \"f2\", \"fa\", \"far\", \"fc\", \"few\", \"ff\", \"fi\", \"fifteen\", \"fifth\", \"fify\", \"fill\", \"find\", \"fire\", \"first\", \"five\", \"fix\", \"fj\", \"fl\", \"fn\", \"fo\", \"followed\", \"following\", \"follows\", \"for\", \"former\", \"formerly\", \"forth\", \"forty\", \"found\", \"four\", \"fr\", \"from\", \"front\", \"fs\", \"ft\", \"fu\", \"full\", \"further\", \"furthermore\", \"fy\", \"g\", \"ga\", \"gave\", \"ge\", \"get\", \"gets\", \"getting\", \"gi\", \"give\", \"given\", \"gives\", \"giving\", \"gj\", \"gl\", \"go\", \"goes\", \"going\", \"gone\", \"got\", \"gotten\", \"gr\", \"greetings\", \"gs\", \"gy\", \"h\", \"h2\", \"h3\", \"had\", \"hadn\", \"hadn't\", \"happens\", \"hardly\", \"has\", \"hasn\", \"hasnt\", \"hasn't\", \"have\", \"haven\", \"haven't\", \"having\", \"he\", \"hed\", \"he'd\", \"he'll\", \"hello\", \"help\", \"hence\", \"her\", \"here\", \"hereafter\", \"hereby\", \"herein\", \"heres\", \"here's\", \"hereupon\", \"hers\", \"herself\", \"hes\", \"he's\", \"hh\", \"hi\", \"hid\", \"him\", \"himself\", \"his\", \"hither\", \"hj\", \"ho\", \"home\", \"hopefully\", \"how\", \"howbeit\", \"however\", \"how's\", \"hr\", \"hs\", \"http\", \"hu\", \"hundred\", \"hy\", \"i\", \"i2\", \"i3\", \"i4\", \"i6\", \"i7\", \"i8\", \"ia\", \"ib\", \"ibid\", \"ic\", \"id\", \"i'd\", \"ie\", \"if\", \"ig\", \"ignored\", \"ih\", \"ii\", \"ij\", \"il\", \"i'll\", \"im\", \"i'm\", \"immediate\", \"immediately\", \"importance\", \"important\", \"in\", \"inasmuch\", \"inc\", \"indeed\", \"index\", \"indicate\", \"indicated\", \"indicates\", \"information\", \"inner\", \"insofar\", \"instead\", \"interest\", \"into\", \"invention\", \"inward\", \"io\", \"ip\", \"iq\", \"ir\", \"is\", \"isn\", \"isn't\", \"it\", \"itd\", \"it'd\", \"it'll\", \"its\", \"it's\", \"itself\", \"iv\", \"i've\", \"ix\", \"iy\", \"iz\", \"j\", \"jj\", \"jr\", \"js\", \"jt\", \"ju\", \"just\", \"k\", \"ke\", \"keep\", \"keeps\", \"kept\", \"kg\", \"kj\", \"km\", \"know\", \"known\", \"knows\", \"ko\", \"l\", \"l2\", \"la\", \"largely\", \"last\", \"lately\", \"later\", \"latter\", \"latterly\", \"lb\", \"lc\", \"le\", \"least\", \"les\", \"less\", \"lest\", \"let\", \"lets\", \"let's\", \"lf\", \"like\", \"liked\", \"likely\", \"line\", \"little\", \"lj\", \"ll\", \"ll\", \"ln\", \"lo\", \"look\", \"looking\", \"looks\", \"los\", \"lr\", \"ls\", \"lt\", \"ltd\", \"m\", \"m2\", \"ma\", \"made\", \"mainly\", \"make\", \"makes\", \"many\", \"may\", \"maybe\", \"me\", \"mean\", \"means\", \"meantime\", \"meanwhile\", \"merely\", \"mg\", \"might\", \"mightn\", \"mightn't\", \"mill\", \"million\", \"mine\", \"miss\", \"ml\", \"mn\", \"mo\", \"more\", \"moreover\", \"most\", \"mostly\", \"move\", \"mr\", \"mrs\", \"ms\", \"mt\", \"mu\", \"much\", \"mug\", \"must\", \"mustn\", \"mustn't\", \"my\", \"myself\", \"n\", \"n2\", \"na\", \"name\", \"namely\", \"nay\", \"nc\", \"nd\", \"ne\", \"near\", \"nearly\", \"necessarily\", \"necessary\", \"need\", \"needn\", \"needn't\", \"needs\", \"neither\", \"never\", \"nevertheless\", \"new\", \"next\", \"ng\", \"ni\", \"nine\", \"ninety\", \"nj\", \"nl\", \"nn\", \"no\", \"nobody\", \"non\", \"none\", \"nonetheless\", \"noone\", \"nor\", \"normally\", \"nos\", \"not\", \"noted\", \"nothing\", \"novel\", \"now\", \"nowhere\", \"nr\", \"ns\", \"nt\", \"ny\", \"o\", \"oa\", \"ob\", \"obtain\", \"obtained\", \"obviously\", \"oc\", \"od\", \"of\", \"off\", \"often\", \"og\", \"oh\", \"oi\", \"oj\", \"ok\", \"okay\", \"ol\", \"old\", \"om\", \"omitted\", \"on\", \"once\", \"one\", \"ones\", \"only\", \"onto\", \"oo\", \"op\", \"oq\", \"or\", \"ord\", \"os\", \"ot\", \"other\", \"others\", \"otherwise\", \"ou\", \"ought\", \"our\", \"ours\", \"ourselves\", \"out\", \"outside\", \"over\", \"overall\", \"ow\", \"owing\", \"own\", \"ox\", \"oz\", \"p\", \"p1\", \"p2\", \"p3\", \"page\", \"pagecount\", \"pages\", \"par\", \"part\", \"particular\", \"particularly\", \"pas\", \"past\", \"pc\", \"pd\", \"pe\", \"per\", \"perhaps\", \"pf\", \"ph\", \"pi\", \"pj\", \"pk\", \"pl\", \"placed\", \"please\", \"plus\", \"pm\", \"pn\", \"po\", \"poorly\", \"possible\", \"possibly\", \"potentially\", \"pp\", \"pq\", \"pr\", \"predominantly\", \"present\", \"presumably\", \"previously\", \"primarily\", \"probably\", \"promptly\", \"proud\", \"provides\", \"ps\", \"pt\", \"pu\", \"put\", \"py\", \"q\", \"qj\", \"qu\", \"que\", \"quickly\", \"quite\", \"qv\", \"r\", \"r2\", \"ra\", \"ran\", \"rather\", \"rc\", \"rd\", \"re\", \"readily\", \"really\", \"reasonably\", \"recent\", \"recently\", \"ref\", \"refs\", \"regarding\", \"regardless\", \"regards\", \"related\", \"relatively\", \"research\", \"research-articl\", \"respectively\", \"resulted\", \"resulting\", \"results\", \"rf\", \"rh\", \"ri\", \"right\", \"rj\", \"rl\", \"rm\", \"rn\", \"ro\", \"rq\", \"rr\", \"rs\", \"rt\", \"ru\", \"run\", \"rv\", \"ry\", \"s\", \"s2\", \"sa\", \"said\", \"same\", \"saw\", \"say\", \"saying\", \"says\", \"sc\", \"sd\", \"se\", \"sec\", \"second\", \"secondly\", \"section\", \"see\", \"seeing\", \"seem\", \"seemed\", \"seeming\", \"seems\", \"seen\", \"self\", \"selves\", \"sensible\", \"sent\", \"serious\", \"seriously\", \"seven\", \"several\", \"sf\", \"shall\", \"shan\", \"shan't\", \"she\", \"shed\", \"she'd\", \"she'll\", \"shes\", \"she's\", \"should\", \"shouldn\", \"shouldn't\", \"should've\", \"show\", \"showed\", \"shown\", \"showns\", \"shows\", \"si\", \"side\", \"significant\", \"significantly\", \"similar\", \"similarly\", \"since\", \"sincere\", \"six\", \"sixty\", \"sj\", \"sl\", \"slightly\", \"sm\", \"sn\", \"so\", \"some\", \"somebody\", \"somehow\", \"someone\", \"somethan\", \"something\", \"sometime\", \"sometimes\", \"somewhat\", \"somewhere\", \"soon\", \"sorry\", \"sp\", \"specifically\", \"specified\", \"specify\", \"specifying\", \"sq\", \"sr\", \"ss\", \"st\", \"still\", \"stop\", \"strongly\", \"sub\", \"substantially\", \"successfully\", \"such\", \"sufficiently\", \"suggest\", \"sup\", \"sure\", \"sy\", \"system\", \"sz\", \"t\", \"t1\", \"t2\", \"t3\", \"take\", \"taken\", \"taking\", \"tb\", \"tc\", \"td\", \"te\", \"tell\", \"ten\", \"tends\", \"tf\", \"th\", \"than\", \"thank\", \"thanks\", \"thanx\", \"that\", \"that'll\", \"thats\", \"that's\", \"that've\", \"the\", \"their\", \"theirs\", \"them\", \"themselves\", \"then\", \"thence\", \"there\", \"thereafter\", \"thereby\", \"thered\", \"therefore\", \"therein\", \"there'll\", \"thereof\", \"therere\", \"theres\", \"there's\", \"thereto\", \"thereupon\", \"there've\", \"these\", \"they\", \"theyd\", \"they'd\", \"they'll\", \"theyre\", \"they're\", \"they've\", \"thickv\", \"thin\", \"think\", \"third\", \"this\", \"thorough\", \"thoroughly\", \"those\", \"thou\", \"though\", \"thoughh\", \"thousand\", \"three\", \"throug\", \"through\", \"throughout\", \"thru\", \"thus\", \"ti\", \"til\", \"tip\", \"tj\", \"tl\", \"tm\", \"tn\", \"to\", \"together\", \"too\", \"took\", \"top\", \"toward\", \"towards\", \"tp\", \"tq\", \"tr\", \"tried\", \"tries\", \"truly\", \"try\", \"trying\", \"ts\", \"t's\", \"tt\", \"tv\", \"twelve\", \"twenty\", \"twice\", \"two\", \"tx\", \"u\", \"u201d\", \"ue\", \"ui\", \"uj\", \"uk\", \"um\", \"un\", \"under\", \"unfortunately\", \"unless\", \"unlike\", \"unlikely\", \"until\", \"unto\", \"uo\", \"up\", \"upon\", \"ups\", \"ur\", \"us\", \"use\", \"used\", \"useful\", \"usefully\", \"usefulness\", \"uses\", \"using\", \"usually\", \"ut\", \"v\", \"va\", \"value\", \"various\", \"vd\", \"ve\", \"ve\", \"very\", \"via\", \"viz\", \"vj\", \"vo\", \"vol\", \"vols\", \"volumtype\", \"vq\", \"vs\", \"vt\", \"vu\", \"w\", \"wa\", \"want\", \"wants\", \"was\", \"wasn\", \"wasnt\", \"wasn't\", \"way\", \"we\", \"wed\", \"we'd\", \"welcome\", \"well\", \"we'll\", \"well-b\", \"went\", \"were\", \"we're\", \"weren\", \"werent\", \"weren't\", \"we've\", \"what\", \"whatever\", \"what'll\", \"whats\", \"what's\", \"when\", \"whence\", \"whenever\", \"when's\", \"where\", \"whereafter\", \"whereas\", \"whereby\", \"wherein\", \"wheres\", \"where's\", \"whereupon\", \"wherever\", \"whether\", \"which\", \"while\", \"whim\", \"whither\", \"who\", \"whod\", \"whoever\", \"whole\", \"who'll\", \"whom\", \"whomever\", \"whos\", \"who's\", \"whose\", \"why\", \"why's\", \"wi\", \"widely\", \"will\", \"willing\", \"wish\", \"with\", \"within\", \"without\", \"wo\", \"won\", \"wonder\", \"wont\", \"won't\", \"words\", \"world\", \"would\", \"wouldn\", \"wouldnt\", \"wouldn't\", \"www\", \"x\", \"x1\", \"x2\", \"x3\", \"xf\", \"xi\", \"xj\", \"xk\", \"xl\", \"xn\", \"xo\", \"xs\", \"xt\", \"xv\", \"xx\", \"y\", \"y2\", \"yes\", \"yet\", \"yj\", \"yl\", \"you\", \"youd\", \"you'd\", \"you'll\", \"your\", \"youre\", \"you're\", \"yours\", \"yourself\", \"yourselves\", \"you've\", \"yr\", \"ys\", \"yt\", \"z\", \"zero\", \"zi\", \"zz\",])"
   ]
  },
  {
   "cell_type": "code",
   "execution_count": 104,
   "metadata": {},
   "outputs": [],
   "source": [
    "with open(\"../data/better_stopwords.txt\", \"w\") as f:\n",
    "    f.write('\\n'.join(better_stopwords))"
   ]
  },
  {
   "cell_type": "code",
   "execution_count": 109,
   "metadata": {},
   "outputs": [],
   "source": [
    "with open(\"../data/better_stopwords.txt\") as f:\n",
    "    _stopwords = f.read().splitlines()\n",
    "\n",
    "assert set(_stopwords) == set(better_stopwords)\n",
    "del _stopwords"
   ]
  },
  {
   "cell_type": "code",
   "execution_count": 87,
   "metadata": {},
   "outputs": [
    {
     "name": "stderr",
     "output_type": "stream",
     "text": [
      "100%|██████████| 5964003/5964003 [04:19<00:00, 22952.55it/s]\n"
     ]
    }
   ],
   "source": [
    "import string\n",
    "from tqdm import tqdm\n",
    "\n",
    "documents = []\n",
    "tf = Counter()\n",
    "df = Counter()\n",
    "\n",
    "isalpha = re.compile(r'[^A-Za-z]+')\n",
    "chunk_size = 510\n",
    "total = 5_964_003\n",
    "\n",
    "with open(\"../data/en_part_1.txt\") as f:\n",
    "    for i, line in tqdm(enumerate(f), total=total):\n",
    "        if i >= total:\n",
    "            break\n",
    "\n",
    "        line = isalpha.sub(\" \", line.lower())\n",
    "        words = line.split(\" \")\n",
    "        words = [w for w in words if w not in better_stopwords]\n",
    "\n",
    "        tf.update(words)\n",
    "\n",
    "        chunks = [words]\n",
    "        if len(words) > chunk_size:\n",
    "            chunks = [words[i:i+chunk_size] for i in range(len(words) // chunk_size)]\n",
    "\n",
    "        for doc in chunks:\n",
    "            df.update(set(doc))\n",
    "\n",
    "        documents += chunks"
   ]
  },
  {
   "cell_type": "code",
   "execution_count": 57,
   "metadata": {},
   "outputs": [
    {
     "name": "stdout",
     "output_type": "stream",
     "text": [
      "length of filtered TF 4361, 0.03749108071629371\\%\n",
      "length of filtered DF 3838, 0.03313190607734807\\%\n",
      "\n",
      "——— Don't worry about this, use TF-IDF ranking instead ———\n"
     ]
    }
   ],
   "source": [
    "filtered_tf = Counter({k: v for k, v in tf.items() if v > len(documents) / 1000})\n",
    "filtered_df = Counter({k: v for k, v in df.items() if v > 100})\n",
    "\n",
    "print(f\"length of filtered TF {len(filtered_tf)}, {len(filtered_tf)/len(tf)}\\%\")\n",
    "print(f\"length of filtered DF {len(filtered_df)}, {len(filtered_df)/len(df)}\\%\")\n",
    "\n",
    "print(\"\\n——— Don't worry about this, use TF-IDF ranking instead ———\")"
   ]
  },
  {
   "cell_type": "code",
   "execution_count": 88,
   "metadata": {},
   "outputs": [
    {
     "data": {
      "text/plain": [
       "[('pets', 104),\n",
       " ('layers', 104),\n",
       " ('depend', 104),\n",
       " ('backed', 104),\n",
       " ('commentary', 104),\n",
       " ('volunteers', 104),\n",
       " ('iran', 104),\n",
       " ('smoke', 104),\n",
       " ('remind', 104),\n",
       " ('assuming', 104),\n",
       " ('creatures', 104),\n",
       " ('basketball', 104),\n",
       " ('minimal', 103),\n",
       " ('jane', 103),\n",
       " ('handy', 103),\n",
       " ('alert', 103),\n",
       " ('loud', 103),\n",
       " ('intent', 103),\n",
       " ('waves', 103),\n",
       " ('dying', 103),\n",
       " ('champion', 103),\n",
       " ('neutral', 103),\n",
       " ('differently', 103),\n",
       " ('agricultural', 103),\n",
       " ('jazz', 103),\n",
       " ('tape', 103),\n",
       " ('involve', 103),\n",
       " ('harvard', 103),\n",
       " ('duration', 103),\n",
       " ('cum', 103),\n",
       " ('kim', 103),\n",
       " ('pepper', 103),\n",
       " ('tender', 103),\n",
       " ('retrieved', 103),\n",
       " ('customized', 102),\n",
       " ('measured', 102),\n",
       " ('receipt', 102),\n",
       " ('rubber', 102),\n",
       " ('chip', 102),\n",
       " ('speakers', 102),\n",
       " ('independently', 102),\n",
       " ('genre', 102),\n",
       " ('query', 102),\n",
       " ('anger', 102),\n",
       " ('targets', 102),\n",
       " ('defend', 102),\n",
       " ('belong', 102),\n",
       " ('broadcast', 102),\n",
       " ('knife', 102),\n",
       " ('authentic', 102)]"
      ]
     },
     "execution_count": 88,
     "metadata": {},
     "output_type": "execute_result"
    }
   ],
   "source": [
    "filtered_df.most_common()[-100:-50]"
   ]
  },
  {
   "cell_type": "code",
   "execution_count": 89,
   "metadata": {},
   "outputs": [
    {
     "data": {
      "text/plain": [
       "['pagination',\n",
       " 'html',\n",
       " 'working',\n",
       " 'properly',\n",
       " 'site',\n",
       " 'total',\n",
       " 'posts',\n",
       " 'exceeded',\n",
       " 'number',\n",
       " 'solve',\n",
       " 'problem',\n",
       " 'kindly']"
      ]
     },
     "execution_count": 89,
     "metadata": {},
     "output_type": "execute_result"
    }
   ],
   "source": [
    "documents[0]"
   ]
  },
  {
   "cell_type": "code",
   "execution_count": 90,
   "metadata": {},
   "outputs": [
    {
     "data": {
      "text/plain": [
       "[('time', 613326),\n",
       " ('people', 419012),\n",
       " ('work', 331349),\n",
       " ('good', 297642),\n",
       " ('year', 294501),\n",
       " ('day', 289717),\n",
       " ('years', 289041),\n",
       " ('great', 260388),\n",
       " ('free', 253575),\n",
       " ('life', 249605)]"
      ]
     },
     "execution_count": 90,
     "metadata": {},
     "output_type": "execute_result"
    }
   ],
   "source": [
    "tf.most_common(10)"
   ]
  },
  {
   "cell_type": "code",
   "execution_count": 91,
   "metadata": {},
   "outputs": [
    {
     "data": {
      "text/plain": [
       "[('time', 509966),\n",
       " ('people', 339114),\n",
       " ('work', 280389),\n",
       " ('good', 258920),\n",
       " ('years', 254399),\n",
       " ('year', 244151),\n",
       " ('day', 235151),\n",
       " ('great', 229007),\n",
       " ('life', 204666),\n",
       " ('free', 193926)]"
      ]
     },
     "execution_count": 91,
     "metadata": {},
     "output_type": "execute_result"
    }
   ],
   "source": [
    "df.most_common(10)"
   ]
  },
  {
   "cell_type": "code",
   "execution_count": 92,
   "metadata": {},
   "outputs": [
    {
     "data": {
      "text/plain": [
       "1410174"
      ]
     },
     "execution_count": 92,
     "metadata": {},
     "output_type": "execute_result"
    }
   ],
   "source": [
    "idf = {k: math.log(len(documents)/v) for k, v in df.items()}\n",
    "\n",
    "all_words = set(tf.keys()).intersection(set(idf.keys()))\n",
    "len(all_words)"
   ]
  },
  {
   "cell_type": "code",
   "execution_count": 93,
   "metadata": {},
   "outputs": [
    {
     "data": {
      "text/plain": [
       "[('attitude', 61823.259891293295),\n",
       " ('representatives', 61821.877415256015),\n",
       " ('lowest', 61813.29894896191),\n",
       " ('complicated', 61811.71648419479),\n",
       " ('securities', 61799.60688430835),\n",
       " ('stronger', 61777.634833577606),\n",
       " ('deeply', 61710.65206405428),\n",
       " ('immigration', 61688.2639429562),\n",
       " ('producer', 61672.16974215587),\n",
       " ('hearts', 61665.96390749257),\n",
       " ('headed', 61663.6971602264),\n",
       " ('exists', 61663.48983098796),\n",
       " ('stages', 61651.050202792234),\n",
       " ('roads', 61627.09334574003),\n",
       " ('editing', 61594.84453862177),\n",
       " ('worship', 61564.384916820134),\n",
       " ('joseph', 61562.668180669956),\n",
       " ('mechanism', 61556.43509732518),\n",
       " ('exploring', 61509.55638257042),\n",
       " ('stations', 61505.61217232121),\n",
       " ('louis', 61487.431348217186),\n",
       " ('physics', 61470.4801697381),\n",
       " ('appointed', 61422.43379831651),\n",
       " ('hero', 61416.58960817217),\n",
       " ('elected', 61374.0758642619),\n",
       " ('opens', 61325.27657713628),\n",
       " ('ben', 61306.15482027202),\n",
       " ('skilled', 61296.4006899075),\n",
       " ('outcome', 61293.695816733074),\n",
       " ('breath', 61271.33323114929),\n",
       " ('egg', 61232.97980490932),\n",
       " ('contacts', 61227.81395312265),\n",
       " ('coaching', 61172.38786335967),\n",
       " ('governor', 61115.722544356235),\n",
       " ('conventional', 61054.66440014378),\n",
       " ('chest', 61052.72594128258),\n",
       " ('biology', 61052.56407581453),\n",
       " ('constitution', 60985.24489842548),\n",
       " ('clubs', 60981.47109538749),\n",
       " ('viewing', 60930.05823834791),\n",
       " ('spa', 60898.50388992284),\n",
       " ('spots', 60879.969986975084),\n",
       " ('titles', 60870.35010002489),\n",
       " ('sees', 60826.41285344146),\n",
       " ('delay', 60823.14428959011),\n",
       " ('tape', 60779.458281338375),\n",
       " ('avenue', 60704.750355004355),\n",
       " ('enabled', 60662.19618101622),\n",
       " ('sharp', 60658.82993156367),\n",
       " ('soccer', 60644.62232705967)]"
      ]
     },
     "execution_count": 93,
     "metadata": {},
     "output_type": "execute_result"
    }
   ],
   "source": [
    "tfidf = {word: tf[word] * idf[word] for word in all_words}\n",
    "tfidf_sorted = sorted(tfidf.items(), key=lambda x: x[1], reverse=True)\n",
    "tfidf_sorted[3000:3050]"
   ]
  },
  {
   "cell_type": "code",
   "execution_count": 94,
   "metadata": {},
   "outputs": [
    {
     "name": "stderr",
     "output_type": "stream",
     "text": [
      "[nltk_data] Downloading package wordnet to /home/vlialin/nltk_data...\n",
      "[nltk_data]   Package wordnet is already up-to-date!\n"
     ]
    },
    {
     "data": {
      "text/plain": [
       "67176"
      ]
     },
     "execution_count": 94,
     "metadata": {},
     "output_type": "execute_result"
    }
   ],
   "source": [
    "from nltk.corpus import wordnet\n",
    "nltk.download('wordnet')\n",
    "nouns = {x.name().split('.', 1)[0] for x in wordnet.all_synsets('n')}\n",
    "len(nouns)"
   ]
  },
  {
   "cell_type": "code",
   "execution_count": 101,
   "metadata": {},
   "outputs": [
    {
     "name": "stdout",
     "output_type": "stream",
     "text": [
      "34001\n"
     ]
    },
    {
     "data": {
      "text/plain": [
       "[('pseudoscience', 1438.3608507237157),\n",
       " ('kuwaiti', 1438.2724946448652),\n",
       " ('cameroonian', 1437.1687538705107),\n",
       " ('calendula', 1436.6562576770225),\n",
       " ('puebla', 1436.101633947189),\n",
       " ('suffocation', 1436.074097485354),\n",
       " ('ruck', 1436.074097485354),\n",
       " ('unanimity', 1436.074097485354),\n",
       " ('favoritism', 1436.074097485354),\n",
       " ('informer', 1436.074097485354),\n",
       " ('algiers', 1436.074097485354),\n",
       " ('collectivist', 1435.3921337149623),\n",
       " ('adieu', 1433.9114482094074),\n",
       " ('signet', 1433.076284841042),\n",
       " ('codification', 1431.933420558951),\n",
       " ('virology', 1431.933420558951),\n",
       " ('lute', 1431.933420558951),\n",
       " ('fuchs', 1431.7834028103307),\n",
       " ('bifurcation', 1431.665177820595),\n",
       " ('shinto', 1430.8386039677218),\n",
       " ('uke', 1430.8386039677218),\n",
       " ('powerlessness', 1430.7320139358847),\n",
       " ('flatness', 1430.7320139358847),\n",
       " ('cortina', 1430.446564381832),\n",
       " ('arjuna', 1430.446564381832),\n",
       " ('sublease', 1430.335945815828),\n",
       " ('sulindac', 1429.7361839601417),\n",
       " ('soapbox', 1429.6888713335682),\n",
       " ('checkmate', 1429.6769553555232),\n",
       " ('mortise', 1429.2391825630868),\n",
       " ('garnier', 1428.5630246942692),\n",
       " ('geochemistry', 1428.5630246942692),\n",
       " ('danton', 1428.397444433538),\n",
       " ('indochina', 1428.042827216298),\n",
       " ('kalahari', 1428.042827216298),\n",
       " ('cuddy', 1427.8972792185623),\n",
       " ('promiscuity', 1427.6268145242848),\n",
       " ('intelligentsia', 1427.458415737761),\n",
       " ('zeolite', 1426.9379708896504),\n",
       " ('sidecar', 1426.857298763189),\n",
       " ('grimace', 1426.607652449124),\n",
       " ('waver', 1426.607652449124),\n",
       " ('conclave', 1426.3629737662213),\n",
       " ('aircrew', 1425.6894160153659),\n",
       " ('amputee', 1425.2765478802012),\n",
       " ('grainger', 1424.5179508837882),\n",
       " ('parliamentarian', 1424.198990875832),\n",
       " ('outcrop', 1424.198990875832),\n",
       " ('permeation', 1423.9019309322355),\n",
       " ('overproduction', 1423.130159125126)]"
      ]
     },
     "execution_count": 101,
     "metadata": {},
     "output_type": "execute_result"
    }
   ],
   "source": [
    "tfidf_nouns = {k: v for k, v in tfidf.items() if k in nouns}\n",
    "print(len(tfidf_nouns))\n",
    "tfidf_nouns_sorted = sorted(tfidf_nouns.items(), key=lambda x: x[1], reverse=True)\n",
    "tfidf_nouns_sorted[15000:15050]"
   ]
  },
  {
   "cell_type": "code",
   "execution_count": 102,
   "metadata": {},
   "outputs": [],
   "source": [
    "with open(\"../data/tfidf_nouns_16k.txt\", \"w\") as f:\n",
    "    for word, tfidf in tfidf_nouns_sorted[:16384]:\n",
    "        f.write(word + \"\\n\")\n"
   ]
  },
  {
   "cell_type": "code",
   "execution_count": null,
   "metadata": {},
   "outputs": [],
   "source": []
  }
 ],
 "metadata": {
  "kernelspec": {
   "display_name": "cat",
   "language": "python",
   "name": "cat"
  },
  "language_info": {
   "codemirror_mode": {
    "name": "ipython",
    "version": 3
   },
   "file_extension": ".py",
   "mimetype": "text/x-python",
   "name": "python",
   "nbconvert_exporter": "python",
   "pygments_lexer": "ipython3",
   "version": "3.8.5"
  }
 },
 "nbformat": 4,
 "nbformat_minor": 4
}
