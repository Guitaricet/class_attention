{
 "cells": [
  {
   "cell_type": "markdown",
   "metadata": {},
   "source": [
    "# Class attention applied to a text classification task using BERT\n",
    "\n",
    "Take ~two~ three. Hopefully, the preprocessing tools will help to avoid bugs.\n",
    "\n",
    "Read more about the preprocessing in the previous notebook `06_fcn_for_real_data.ipynb`."
   ]
  },
  {
   "cell_type": "code",
   "execution_count": null,
   "metadata": {},
   "outputs": [],
   "source": [
    "import copy\n",
    "import random\n",
    "from pprint import pprint\n",
    "from itertools import chain\n",
    "\n",
    "import torch\n",
    "import torch.nn as nn\n",
    "import torch.nn.functional as F\n",
    "\n",
    "import transformers\n",
    "from transformers import AutoModel, AutoTokenizer\n",
    "import datasets\n",
    "\n",
    "import wandb\n",
    "import matplotlib.pyplot as plt\n",
    "from tqdm.notebook import tqdm\n",
    "\n",
    "import class_attention as cat\n",
    "\n",
    "%load_ext autoreload\n",
    "%autoreload 2\n",
    "\n",
    "\n",
    "def detorch(x):\n",
    "    return x.detach().cpu().numpy()"
   ]
  },
  {
   "cell_type": "markdown",
   "metadata": {},
   "source": [
    "# Data"
   ]
  },
  {
   "cell_type": "code",
   "execution_count": null,
   "metadata": {},
   "outputs": [],
   "source": [
    "def sample_dataset(dataset, p):\n",
    "    \"\"\"\n",
    "    Args:\n",
    "        dataset: datasets.arrow_dataset.Dataset object\n",
    "        p: float, 0 < p <= 1\n",
    "    \n",
    "    Returns:\n",
    "        datasets.arrow_dataset.Dataset of size len(dataset) * p with random examples from the dataset\n",
    "        sampled without replacement\n",
    "    \"\"\"\n",
    "    if not 0 < p <= 1:\n",
    "        raise ValueError(p)\n",
    "\n",
    "    dataset_len = len(dataset)\n",
    "    sample_size = int(p * dataset_len)\n",
    "\n",
    "    ids = random.sample(range(len(dataset)), sample_size)\n",
    "    \n",
    "    # indexing actually creates dict with elements of len(ids), not a list\n",
    "    sampled_dataset_dict = dataset[ids]\n",
    "    sampled_dataset = datasets.arrow_dataset.Dataset.from_dict(sampled_dataset_dict)\n",
    "    return sampled_dataset"
   ]
  },
  {
   "cell_type": "code",
   "execution_count": 3,
   "metadata": {},
   "outputs": [
    {
     "name": "stderr",
     "output_type": "stream",
     "text": [
      "Using custom data configuration default\n",
      "Reusing dataset news_category (/home/vlialin/.cache/huggingface/datasets/news_category/default/0.0.0/737b7b6dff469cbba49a6202c9e94f9d39da1fed94e13170cf7ac4b61a75fb9c)\n"
     ]
    },
    {
     "name": "stdout",
     "output_type": "stream",
     "text": [
      "['POLITICS', 'WELLNESS', 'ENTERTAINMENT', 'TRAVEL', 'STYLE & BEAUTY', 'PARENTING', 'HEALTHY LIVING', 'QUEER VOICES', 'FOOD & DRINK', 'BUSINESS', 'COMEDY', 'SPORTS', 'BLACK VOICES', 'HOME & LIVING', 'PARENTS', 'THE WORLDPOST', 'WEDDINGS', 'WOMEN', 'IMPACT', 'DIVORCE', 'CRIME', 'MEDIA', 'WEIRD NEWS', 'GREEN', 'WORLDPOST', 'RELIGION', 'STYLE', 'SCIENCE', 'WORLD NEWS', 'TASTE', 'TECH', 'MONEY', 'ARTS', 'FIFTY', 'GOOD NEWS', 'ARTS & CULTURE', 'ENVIRONMENT', 'COLLEGE', 'LATINO VOICES', 'CULTURE & ARTS', 'EDUCATION']\n"
     ]
    },
    {
     "data": {
      "text/plain": [
       "1606"
      ]
     },
     "execution_count": 3,
     "metadata": {},
     "output_type": "execute_result"
    }
   ],
   "source": [
    "text_dataset = datasets.load_dataset(\"Fraser/news-category-dataset\")\n",
    "all_classes = text_dataset['train'].features['category_num'].names\n",
    "print(all_classes)\n",
    "\n",
    "toy_dataset = sample_dataset(text_dataset['train'], 0.01)\n",
    "len(toy_dataset)"
   ]
  },
  {
   "cell_type": "markdown",
   "metadata": {},
   "source": [
    "# A note on labels\n",
    "\n",
    "Note that the dataset we use (`Fraser/news-category-dataset`) has some interesting particularities in the class names.\n",
    "\n",
    "For example, it has classes `STYLE` and `STYLE & BEAUTY` or `WORLD NEWS` and `NEWS`. I.e., some classes contain other classes names in their name.\n",
    "The classes that have `&` in their name have a similar particularity. Some of the categories does not seem to be distinguishable. E.g., `THE WORLDPOST` and `WORLDPOST` or `ARTS & CULTURE` and `CULTURE & ARTS`.\n",
    "\n",
    "\n",
    "\n",
    "* &\t: STYLE & BEAUTY, ARTS & CULTURE, HOME & LIVING, FOOD & DRINK, CULTURE & ARTS\n",
    "* VOICES\t: LATINO VOICES, BLACK VOICES, QUEER VOICES\n",
    "* NEWS\t: WEIRD NEWS, GOOD NEWS, WORLD NEWS\n",
    "* ARTS\t: ARTS, ARTS & CULTURE, CULTURE & ARTS\n",
    "* CULTURE\t: ARTS & CULTURE, CULTURE & ARTS\n",
    "* LIVING\t: HEALTHY LIVING, HOME & LIVING\n",
    "* WORLDPOST\t: THE WORLDPOST, WORLDPOST\n",
    "* WORLD\t: THE WORLDPOST, WORLDPOST"
   ]
  },
  {
   "cell_type": "markdown",
   "metadata": {},
   "source": [
    "# Model"
   ]
  },
  {
   "cell_type": "code",
   "execution_count": 101,
   "metadata": {},
   "outputs": [],
   "source": [
    "class FcClassAttentionModel(nn.Module):\n",
    "    def __init__(self, text_vocab_size, n_classes, hidden_size):\n",
    "        super().__init__()\n",
    "\n",
    "        self.x_enc = nn.Sequential(nn.EmbeddingBag(text_vocab_size, hidden_size),\n",
    "                                   nn.ReLU(),\n",
    "                                   nn.Linear(hidden_size, hidden_size))\n",
    "\n",
    "        self.c_enc = nn.Sequential(nn.EmbeddingBag(n_classes, hidden_size),\n",
    "                                   nn.ReLU(),\n",
    "                                   nn.Linear(hidden_size, hidden_size))\n",
    "\n",
    "    def forward(self, text_input, labels_input):\n",
    "        self._validate_inputs(text_input, labels_input)\n",
    "\n",
    "        x = text_input['input_ids']\n",
    "        c = labels_input['input_ids']\n",
    "\n",
    "        h_x = self.x_enc(x)\n",
    "        h_c = self.c_enc(c)\n",
    "\n",
    "        scaling = h_c.size(-1) ** 0.5\n",
    "        # # + bias\n",
    "        logits = (h_x @ h_c.T) / scaling  # [bs, n_classes]\n",
    "\n",
    "        return logits\n",
    "\n",
    "    @staticmethod\n",
    "    def _validate_inputs(text_input_dict, classes_input_dict):\n",
    "        if not isinstance(text_input_dict, dict):\n",
    "            raise ValueError('text input should be a dict')\n",
    "        if not isinstance(classes_input_dict, dict):\n",
    "            raise ValueError('classes input should be a dict')\n",
    "\n",
    "        if classes_input_dict['input_ids'].shape[0] == 1:\n",
    "            raise RuntimeError(\n",
    "                'batch dimension of classes tensor is the number of possible classes and cannot be equal to one'\n",
    "            )\n",
    "\n",
    "        # check that labels_input does not have duplicated\n",
    "        unique_classes = torch.unique(classes_input_dict['input_ids'], dim=0)\n",
    "        if unique_classes.shape[0] != classes_input_dict['input_ids'].shape[0]:\n",
    "            raise ValueError('labels_input should only contain unique classes')\n",
    "\n",
    "\n",
    "\n",
    "class EmbClassAttentionModel(nn.Module):\n",
    "    def __init__(self, txt_encoder, n_classes, hidden_size, use_txt_out=True):\n",
    "        super().__init__()\n",
    "\n",
    "        txt_encoder_h = get_output_dim(txt_encoder)\n",
    "        \n",
    "        self.use_txt_out = use_txt_out\n",
    "        if not use_txt_out:\n",
    "            if hidden_size != txt_encoder_h:\n",
    "                raise ValueError(\"hidden_size should be equal to the hidden size of the text encoder if use_txt_out=False\")\n",
    "\n",
    "        self.txt_encoder = txt_encoder\n",
    "        \n",
    "        if use_txt_out:\n",
    "            self.txt_out = nn.Linear(txt_encoder_h, hidden_size)\n",
    "\n",
    "        self.cls_encoder = nn.Sequential(\n",
    "            nn.EmbeddingBag(n_classes, hidden_size),\n",
    "            nn.ReLU(),\n",
    "            nn.Linear(hidden_size, hidden_size)\n",
    "        )\n",
    "\n",
    "    def forward(self, text_input, labels_input):\n",
    "        \"\"\"\n",
    "        Compute logits for input (input_dict,) corresponding to the classes (classes_dict)\n",
    "\n",
    "        Optionally, you can provide additional keys in either input_dict or classes_dict\n",
    "        Specifically, attention_mask, head_mask and inputs_embeds\n",
    "        Howerver, one should not provide output_attentions and output_hidden_states\n",
    "\n",
    "        Args:\n",
    "            text_input: dict with key input_ids\n",
    "                input_ids: LongTensor[batch_size, text_seq_len], input to the text network\n",
    "            labels_input: dict with key input_ids\n",
    "                input_ids: LongTensor[n_classes, class_seq_len], a list of possible classes, each class described via text\n",
    "        \"\"\"\n",
    "        self._validate_inputs(text_input, labels_input)\n",
    "\n",
    "        h_x = self.txt_encoder(**text_input)  # some tuple\n",
    "        h_x = h_x[0]  # FloatTensor[bs, text_seq_len, hidden]\n",
    "#         h_x = h_x[:, 0]  # get CLS token representations, FloatTensor[bs, hidden]\n",
    "        h_x, _ = torch.max(h_x, axis=1)\n",
    "\n",
    "        c = labels_input['input_ids']\n",
    "        h_c = self.cls_encoder(c)  # FloatTensor[n_classes, hidden]\n",
    "\n",
    "        if self.use_txt_out:\n",
    "            h_x = self.txt_out(h_x)\n",
    "\n",
    "        scaling = h_c.size(-1) ** 0.5\n",
    "        logits = (h_x @ h_c.T) / scaling  # [bs, n_classes]\n",
    "        return logits\n",
    "\n",
    "    @staticmethod\n",
    "    def _validate_inputs(text_input_dict, classes_input_dict):\n",
    "        if not isinstance(text_input_dict, dict):\n",
    "            raise ValueError('text input should be a dict')\n",
    "        if not isinstance(classes_input_dict, dict):\n",
    "            raise ValueError('classes input should be a dict')\n",
    "\n",
    "        if classes_input_dict['input_ids'].shape[0] == 1:\n",
    "            raise RuntimeError(\n",
    "                'batch dimension of classes tensor is the number of possible classes and cannot be equal to one'\n",
    "            )\n",
    "\n",
    "        # check that labels_input does not have duplicated\n",
    "        unique_classes = torch.unique(classes_input_dict['input_ids'], dim=0)\n",
    "        if unique_classes.shape[0] != classes_input_dict['input_ids'].shape[0]:\n",
    "            raise ValueError('labels_input should only contain unique classes')\n",
    "            \n",
    "class BertMockModel(nn.Module):\n",
    "    def __init__(self, vocab_size, hidden_size):\n",
    "        super().__init__()\n",
    "        self.x_enc = nn.Sequential(nn.EmbeddingBag(vocab_size, hidden_size),\n",
    "                                   nn.ReLU(),\n",
    "                                   nn.Linear(hidden_size, hidden_size))\n",
    "        \n",
    "        class MockConfig:\n",
    "            def __init__(self, hidden_size):\n",
    "                self.hidden_size = hidden_size\n",
    "\n",
    "        self.config = MockConfig(hidden_size)\n",
    "        \n",
    "    def forward(self, input_ids):\n",
    "        x = input_ids\n",
    "        h = self.x_enc(x)\n",
    "        h = h.unsqueeze(1)\n",
    "        return (h,)\n",
    "\n",
    "\n",
    "def get_output_dim(model):\n",
    "    # config = model.config\n",
    "    # if isinstance(config, transformers.DistilBertConfig):\n",
    "    #     return config.hidden_size\n",
    "    return model.config.hidden_size\n",
    "\n",
    "\n",
    "class ClassAttentionModel(nn.Module):\n",
    "    def __init__(self, txt_encoder, cls_encoder, hidden_size):\n",
    "        super().__init__()\n",
    "\n",
    "        self.txt_encoder = txt_encoder\n",
    "        self.cls_encoder = cls_encoder\n",
    "\n",
    "        txt_encoder_h = get_output_dim(txt_encoder)\n",
    "        self.txt_out = nn.Linear(txt_encoder_h, hidden_size)\n",
    "\n",
    "        cls_encoder_h = get_output_dim(cls_encoder)\n",
    "        self.cls_out = nn.Linear(cls_encoder_h, hidden_size)\n",
    "\n",
    "    def forward(self, text_input, labels_input):\n",
    "        \"\"\"\n",
    "        Compute logits for input (input_dict,) corresponding to the classes (classes_dict)\n",
    "\n",
    "        Optionally, you can provide additional keys in either input_dict or classes_dict\n",
    "        Specifically, attention_mask, head_mask and inputs_embeds\n",
    "        Howerver, one should not provide output_attentions and output_hidden_states\n",
    "\n",
    "        Args:\n",
    "            text_input: dict with key input_ids\n",
    "                input_ids: LongTensor[batch_size, text_seq_len], input to the text network\n",
    "            labels_input: dict with key input_ids\n",
    "                input_ids: LongTensor[n_classes, class_seq_len], a list of possible classes, each class described via text\n",
    "        \"\"\"\n",
    "        self._validate_inputs(text_input, labels_input)\n",
    "\n",
    "        h_x = self.txt_encoder(**text_input)  # some tuple\n",
    "        h_x = h_x[0]  # FloatTensor[bs, text_seq_len, hidden]\n",
    "        h_x = h_x[:, 0]  # get CLS token representations, FloatTensor[bs, hidden]\n",
    "\n",
    "        h_c = self.cls_encoder(**labels_input)  # some tuple\n",
    "        h_c = h_c[0]  # FloatTensor[n_classes, class_seq_len, hidden]\n",
    "\n",
    "        h_c, _ = torch.max(h_c, dim=1)  # [n_classes, hidden]\n",
    "\n",
    "        # attention map\n",
    "        h_x = self.txt_out(h_x)\n",
    "        h_c = self.cls_out(h_c)\n",
    "\n",
    "        # the scaling is extremely important\n",
    "        scaling = h_c.size(-1) ** 0.5\n",
    "        logits = (h_x @ h_c.T) / scaling  # [bs, n_classes]\n",
    "\n",
    "        return logits\n",
    "\n",
    "    @staticmethod\n",
    "    def _validate_inputs(text_input_dict, classes_input_dict):\n",
    "        if not isinstance(text_input_dict, dict):\n",
    "            raise ValueError('text input should be a dict')\n",
    "        if not isinstance(classes_input_dict, dict):\n",
    "            raise ValueError('classes input should be a dict')\n",
    "\n",
    "        if classes_input_dict['input_ids'].shape[0] == 1:\n",
    "            raise RuntimeError(\n",
    "                'batch dimension of classes tensor is the number of possible classes and cannot be equal to one'\n",
    "            )\n",
    "\n",
    "        # check that labels_input does not have duplicated\n",
    "        unique_classes = torch.unique(classes_input_dict['input_ids'], dim=0)\n",
    "        if unique_classes.shape[0] != classes_input_dict['input_ids'].shape[0]:\n",
    "            raise ValueError('labels_input should only contain unique classes')\n"
   ]
  },
  {
   "cell_type": "code",
   "execution_count": 102,
   "metadata": {},
   "outputs": [
    {
     "data": {
      "application/vnd.jupyter.widget-view+json": {
       "model_id": "92d5196d5c764aea9783a69bab38f2ef",
       "version_major": 2,
       "version_minor": 0
      },
      "text/plain": [
       "HBox(children=(FloatProgress(value=0.0, description='Preprocessing Dataset', max=1606.0, style=ProgressStyle(d…"
      ]
     },
     "metadata": {},
     "output_type": "display_data"
    },
    {
     "name": "stdout",
     "output_type": "stream",
     "text": [
      "\n"
     ]
    }
   ],
   "source": [
    "# Tokenizers\n",
    "MODEL = 'distilbert-base-uncased'\n",
    "text_tokenizer = AutoTokenizer.from_pretrained(MODEL, fast=True)\n",
    "label_tokenizer = AutoTokenizer.from_pretrained(MODEL, fast=True)\n",
    "\n",
    "# Dataset\n",
    "train_texts = toy_dataset['headline']\n",
    "train_labels = toy_dataset['category']\n",
    "dataset = cat.CatDataset(train_texts, text_tokenizer, train_labels, label_tokenizer)\n",
    "\n",
    "# Dataloader\n",
    "collator = cat.CatCollator(pad_token_id=0)\n",
    "dataloader = torch.utils.data.DataLoader(dataset, batch_size=32, collate_fn=collator, shuffle=True)\n",
    "\n",
    "text_encoder = AutoModel.from_pretrained(MODEL)\n",
    "label_encoder = AutoModel.from_pretrained(MODEL)\n",
    "# mock_text_encoder = BertMockModel(text_tokenizer.vocab_size, hidden_size=768)\n",
    "\n",
    "# model = FcClassAttentionModel(text_tokenizer.vocab_size, label_tokenizer.vocab_size, hidden_size=768)\n",
    "model = EmbClassAttentionModel(text_encoder, label_tokenizer.vocab_size, hidden_size=768)\n",
    "# model = EmbClassAttentionModel(mock_text_encoder, label_tokenizer.vocab_size, hidden_size=768, use_txt_out=False)\n",
    "model = ClassAttentionModel(text_encoder, label_encoder, hidden_size=768)"
   ]
  },
  {
   "cell_type": "code",
   "execution_count": 103,
   "metadata": {},
   "outputs": [
    {
     "data": {
      "text/plain": [
       "torch.Size([3, 7])"
      ]
     },
     "execution_count": 103,
     "metadata": {},
     "output_type": "execute_result"
    }
   ],
   "source": [
    "x = torch.randint(0, 100, size=[3, 5])\n",
    "c = torch.unique(torch.randint(0, 100, size=[7, 1])).unsqueeze(1)\n",
    "\n",
    "x_dict = {'input_ids': x}\n",
    "c_dict = {'input_ids': c}\n",
    "\n",
    "out = model(text_input=x_dict, labels_input=c_dict)\n",
    "out.shape"
   ]
  },
  {
   "cell_type": "markdown",
   "metadata": {},
   "source": [
    "## Train class attention\n",
    "\n",
    "Possible reasons why the model does not converge are optimizational. E.g., explosive gradients, bad learning rate.\n",
    "We can try to fix them via tuning a model on a very small dataset. Possibly, we also need to add some kind of normalization (PowerNorm?)."
   ]
  },
  {
   "cell_type": "code",
   "execution_count": 104,
   "metadata": {},
   "outputs": [],
   "source": [
    "device = 'cuda'\n",
    "model = model.to(device)\n",
    "\n",
    "optimizer = torch.optim.Adam(model.parameters(), lr=1e-4)\n",
    "# optimizer = torch.optim.Adam(model.parameters())"
   ]
  },
  {
   "cell_type": "code",
   "execution_count": 105,
   "metadata": {},
   "outputs": [
    {
     "data": {
      "application/vnd.jupyter.widget-view+json": {
       "model_id": "d5540eb4592f42d3941fd1efe4ccddcc",
       "version_major": 2,
       "version_minor": 0
      },
      "text/plain": [
       "HBox(children=(FloatProgress(value=0.0, max=30.0), HTML(value='')))"
      ]
     },
     "metadata": {},
     "output_type": "display_data"
    },
    {
     "name": "stdout",
     "output_type": "stream",
     "text": [
      "\n"
     ]
    },
    {
     "data": {
      "text/plain": [
       "Text(0.5, 1.0, 'Accuracy')"
      ]
     },
     "execution_count": 105,
     "metadata": {},
     "output_type": "execute_result"
    },
    {
     "data": {
      "image/png": "[encoded data removed]",
      "text/plain": [
       "<Figure size 432x288 with 1 Axes>"
      ]
     },
     "metadata": {
      "needs_background": "light"
     },
     "output_type": "display_data"
    },
    {
     "data": {
      "image/png": "[encoded data removed]",
      "text/plain": [
       "<Figure size 432x288 with 1 Axes>"
      ]
     },
     "metadata": {
      "needs_background": "light"
     },
     "output_type": "display_data"
    }
   ],
   "source": [
    "loss_hist = []\n",
    "acc_hist = []\n",
    "\n",
    "for _ in tqdm(range(30)):\n",
    "    for x, c, y in dataloader:\n",
    "        optimizer.zero_grad()\n",
    "\n",
    "        x = x.to(device)\n",
    "        c = c.to(device)\n",
    "        y = y.to(device)\n",
    "\n",
    "        x_dict = {'input_ids': x}\n",
    "        c_dict = {'input_ids': c}\n",
    "        logits = model(x_dict, c_dict)\n",
    "\n",
    "        loss = F.cross_entropy(logits, y)\n",
    "\n",
    "        _, preds = logits.max(-1)\n",
    "        acc = torch.sum(preds == y).float() / x.shape[0]\n",
    "\n",
    "        acc_hist.append(detorch(acc))\n",
    "        loss_hist.append(detorch(loss))\n",
    "\n",
    "        loss.backward()\n",
    "        optimizer.step()\n",
    "\n",
    "\n",
    "plt.figure()\n",
    "plt.plot(loss_hist)\n",
    "plt.title('Loss')\n",
    "\n",
    "plt.figure()\n",
    "plt.plot(acc_hist)\n",
    "plt.title('Accuracy')"
   ]
  },
  {
   "cell_type": "code",
   "execution_count": null,
   "metadata": {},
   "outputs": [],
   "source": []
  }
 ],
 "metadata": {
  "kernelspec": {
   "display_name": "cat",
   "language": "python",
   "name": "cat"
  },
  "language_info": {
   "codemirror_mode": {
    "name": "ipython",
    "version": 3
   },
   "file_extension": ".py",
   "mimetype": "text/x-python",
   "name": "python",
   "nbconvert_exporter": "python",
   "pygments_lexer": "ipython3",
   "version": "3.8.5"
  }
 },
 "nbformat": 4,
 "nbformat_minor": 4
}
