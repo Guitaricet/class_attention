{
 "cells": [
  {
   "cell_type": "code",
   "execution_count": 1,
   "metadata": {},
   "outputs": [],
   "source": [
    "import argparse\n",
    "import logging\n",
    "import pprint\n",
    "import os\n",
    "import sys\n",
    "from itertools import chain\n",
    "from collections import Counter\n",
    "\n",
    "import torch\n",
    "import torch.utils.data\n",
    "import torch.nn.functional as F\n",
    "import transformers\n",
    "import datasets\n",
    "import wandb\n",
    "\n",
    "from tqdm.auto import tqdm\n",
    "import matplotlib.pyplot as plt\n",
    "\n",
    "import class_attention as cat"
   ]
  },
  {
   "cell_type": "markdown",
   "metadata": {},
   "source": [
    "# Prepare and train a model"
   ]
  },
  {
   "cell_type": "code",
   "execution_count": 2,
   "metadata": {},
   "outputs": [],
   "source": [
    "class args:\n",
    "    dataset = \"../data/news-category-semantic-split-small\"\n",
    "    model = \"distilbert-base-uncased\"\n",
    "    test_class_frac = 0.0\n",
    "    dataset_frac = 1.0\n",
    "    batch_size = 32\n",
    "    device = \"cuda:1\"\n",
    "    lr = 1e-4\n",
    "    max_epochs = 10\n",
    "    normailze_cls = True\n",
    "    normalize_txt = True\n",
    "    scale_attention = False\n",
    "    learn_temperature = True\n",
    "    use_n_projection_layers = None\n",
    "    share_txt_cls_network_params = True\n"
   ]
  },
  {
   "cell_type": "code",
   "execution_count": 3,
   "metadata": {},
   "outputs": [
    {
     "data": {
      "application/vnd.jupyter.widget-view+json": {
       "model_id": "2959dcd80c7f41118f6d506d190a7b73",
       "version_major": 2,
       "version_minor": 0
      },
      "text/plain": [
       "HBox(children=(FloatProgress(value=0.0, description='Preprocessing Dataset', max=14661.0, style=ProgressStyle(…"
      ]
     },
     "metadata": {},
     "output_type": "display_data"
    },
    {
     "name": "stdout",
     "output_type": "stream",
     "text": [
      "\n"
     ]
    },
    {
     "data": {
      "application/vnd.jupyter.widget-view+json": {
       "model_id": "a738c2f77b364cc0bfaee0517a29aa99",
       "version_major": 2,
       "version_minor": 0
      },
      "text/plain": [
       "HBox(children=(FloatProgress(value=0.0, description='Preprocessing Dataset', max=14661.0, style=ProgressStyle(…"
      ]
     },
     "metadata": {},
     "output_type": "display_data"
    },
    {
     "name": "stdout",
     "output_type": "stream",
     "text": [
      "\n"
     ]
    }
   ],
   "source": [
    "(\n",
    "    train_dataloader,\n",
    "    test_dataloader,\n",
    "    all_classes_str,\n",
    "    test_classes_str,\n",
    ") = cat.training_utils.prepare_dataloaders(\n",
    "    dataset_name_or_path=args.dataset,\n",
    "    model_name=args.model,\n",
    "    test_class_frac=args.test_class_frac,\n",
    "    dataset_frac=args.dataset_frac,\n",
    "    batch_size=args.batch_size,\n",
    ")\n"
   ]
  },
  {
   "cell_type": "code",
   "execution_count": 4,
   "metadata": {},
   "outputs": [],
   "source": [
    "text_encoder = transformers.AutoModel.from_pretrained(args.model)\n",
    "label_encoder = transformers.AutoModel.from_pretrained(args.model)\n",
    "\n",
    "model = cat.ClassAttentionModel(\n",
    "    text_encoder,\n",
    "    label_encoder,\n",
    "    **vars(args),\n",
    ")\n",
    "model = model.to(args.device)"
   ]
  },
  {
   "cell_type": "code",
   "execution_count": 5,
   "metadata": {},
   "outputs": [
    {
     "name": "stderr",
     "output_type": "stream",
     "text": [
      "\u001b[34m\u001b[1mwandb\u001b[0m: Currently logged in as: \u001b[33mguitaricet\u001b[0m (use `wandb login --relogin` to force relogin)\n",
      "\u001b[34m\u001b[1mwandb\u001b[0m: wandb version 0.10.20 is available!  To upgrade, please run:\n",
      "\u001b[34m\u001b[1mwandb\u001b[0m:  $ pip install wandb --upgrade\n"
     ]
    },
    {
     "data": {
      "text/html": [
       "\n",
       "                Tracking run with wandb version 0.10.15<br/>\n",
       "                Syncing run <strong style=\"color:#cdcd00\">valiant-cosmos-107</strong> to <a href=\"https://wandb.ai\" target=\"_blank\">Weights & Biases</a> <a href=\"https://docs.wandb.com/integrations/jupyter.html\" target=\"_blank\">(Documentation)</a>.<br/>\n",
       "                Project page: <a href=\"https://wandb.ai/guitaricet/class_attention\" target=\"_blank\">https://wandb.ai/guitaricet/class_attention</a><br/>\n",
       "                Run page: <a href=\"https://wandb.ai/guitaricet/class_attention/runs/270ay5mm\" target=\"_blank\">https://wandb.ai/guitaricet/class_attention/runs/270ay5mm</a><br/>\n",
       "                Run data is saved locally in <code>/home/vlialin/documents/class_attention/notebooks/wandb/run-20210223_182042-270ay5mm</code><br/><br/>\n",
       "            "
      ],
      "text/plain": [
       "<IPython.core.display.HTML object>"
      ]
     },
     "metadata": {},
     "output_type": "display_data"
    },
    {
     "data": {
      "text/plain": [
       "[<wandb.wandb_torch.TorchGraph at 0x7f92a9848d60>]"
      ]
     },
     "execution_count": 5,
     "metadata": {},
     "output_type": "execute_result"
    }
   ],
   "source": [
    "parameters = model.get_trainable_parameters()\n",
    "optimizer = torch.optim.Adam(parameters, lr=args.lr)\n",
    "\n",
    "config = {k: v for k, v in vars(args).items() if not k.startswith(\"_\")}\n",
    "\n",
    "wandb.init(project=\"class_attention\", config=config, tags=[\"notebook\"])\n",
    "wandb.watch(model, log=\"all\")"
   ]
  },
  {
   "cell_type": "code",
   "execution_count": 6,
   "metadata": {},
   "outputs": [
    {
     "data": {
      "application/vnd.jupyter.widget-view+json": {
       "model_id": "2533f6d1e0e34f3fbaf303bf5cc4a9e8",
       "version_major": 2,
       "version_minor": 0
      },
      "text/plain": [
       "HBox(children=(FloatProgress(value=0.0, description='Epochs', max=10.0, style=ProgressStyle(description_width=…"
      ]
     },
     "metadata": {},
     "output_type": "display_data"
    },
    {
     "name": "stdout",
     "output_type": "stream",
     "text": [
      "\n"
     ]
    }
   ],
   "source": [
    "model = cat.training_utils.train_cat_model(\n",
    "    model,\n",
    "    optimizer,\n",
    "    train_dataloader,\n",
    "    test_dataloader,\n",
    "    all_classes_str,\n",
    "    test_classes_str,\n",
    "    args.max_epochs,\n",
    "    args.device,\n",
    ")"
   ]
  },
  {
   "cell_type": "markdown",
   "metadata": {},
   "source": [
    "# Error analysis"
   ]
  },
  {
   "cell_type": "code",
   "execution_count": 7,
   "metadata": {},
   "outputs": [
    {
     "data": {
      "text/plain": [
       "(\"[CLS] behind closed doors, donald trump's adviser explains his real economic plan [SEP]\",\n",
       " '[CLS] politics [SEP]')"
      ]
     },
     "execution_count": 7,
     "metadata": {},
     "output_type": "execute_result"
    }
   ],
   "source": [
    "text_tokenizer = test_dataloader.dataset.text_tokenizer\n",
    "label_tokenizer = test_dataloader.dataset.label_tokenizer\n",
    "\n",
    "_t, _c = test_dataloader.dataset[4]\n",
    "text_tokenizer.decode(_t), label_tokenizer.decode(_c)"
   ]
  },
  {
   "cell_type": "code",
   "execution_count": 8,
   "metadata": {},
   "outputs": [
    {
     "data": {
      "text/plain": [
       "{'ARTS',\n",
       " 'ARTS & CULTURE',\n",
       " 'BLACK VOICES',\n",
       " 'BUSINESS',\n",
       " 'COLLEGE',\n",
       " 'COMEDY',\n",
       " 'CRIME',\n",
       " 'ENTERTAINMENT',\n",
       " 'ENVIRONMENT',\n",
       " 'FIFTY',\n",
       " 'FOOD & DRINK',\n",
       " 'GOOD NEWS',\n",
       " 'GREEN',\n",
       " 'HEALTHY LIVING',\n",
       " 'HOME & LIVING',\n",
       " 'IMPACT',\n",
       " 'MEDIA',\n",
       " 'MONEY',\n",
       " 'PARENTING',\n",
       " 'POLITICS',\n",
       " 'QUEER VOICES',\n",
       " 'RELIGION',\n",
       " 'SCIENCE',\n",
       " 'SPORTS',\n",
       " 'STYLE & BEAUTY',\n",
       " 'TASTE',\n",
       " 'TECH',\n",
       " 'THE WORLDPOST',\n",
       " 'TRAVEL',\n",
       " 'WEDDINGS',\n",
       " 'WEIRD NEWS',\n",
       " 'WELLNESS',\n",
       " 'WOMEN'}"
      ]
     },
     "execution_count": 8,
     "metadata": {},
     "output_type": "execute_result"
    }
   ],
   "source": [
    "set(all_classes_str).difference(test_classes_str)"
   ]
  },
  {
   "cell_type": "code",
   "execution_count": 9,
   "metadata": {},
   "outputs": [
    {
     "data": {
      "text/plain": [
       "['WORLD NEWS',\n",
       " 'STYLE',\n",
       " 'EDUCATION',\n",
       " 'PARENTS',\n",
       " 'LATINO VOICES',\n",
       " 'WORLDPOST',\n",
       " 'DIVORCE',\n",
       " 'CULTURE & ARTS']"
      ]
     },
     "execution_count": 9,
     "metadata": {},
     "output_type": "execute_result"
    }
   ],
   "source": [
    "test_classes_str"
   ]
  },
  {
   "cell_type": "code",
   "execution_count": 10,
   "metadata": {},
   "outputs": [
    {
     "data": {
      "application/vnd.jupyter.widget-view+json": {
       "model_id": "4d674c1cfc214bb2ae96a11f13c6a216",
       "version_major": 2,
       "version_minor": 0
      },
      "text/plain": [
       "HBox(children=(FloatProgress(value=0.0, description='Preprocessing Dataset', max=91.0, style=ProgressStyle(des…"
      ]
     },
     "metadata": {},
     "output_type": "display_data"
    },
    {
     "name": "stdout",
     "output_type": "stream",
     "text": [
      "\n"
     ]
    }
   ],
   "source": [
    "news_dataset = datasets.load_from_disk(\"../data/news-category-semantic-split-small\")\n",
    "_, only_test_classes_data = cat.utils.split_classes(news_dataset[\"validation\"], test_classes=test_classes_str)\n",
    "\n",
    "otc_dataset = cat.CatDataset(\n",
    "    only_test_classes_data[\"headline\"],\n",
    "    text_tokenizer,\n",
    "    only_test_classes_data[\"category\"],\n",
    "    label_tokenizer,\n",
    ")\n",
    "\n",
    "test_classes_ids = label_tokenizer.batch_encode_plus(\n",
    "    test_classes_str,\n",
    "    return_tensors=\"pt\",\n",
    "    add_special_tokens=True,\n",
    "    padding=True,\n",
    ")[\"input_ids\"]\n",
    "\n",
    "otc_collator = cat.CatTestCollator(\n",
    "    possible_labels_ids=test_classes_ids, pad_token_id=label_tokenizer.pad_token_id\n",
    ")\n",
    "\n",
    "otc_dataloader = torch.utils.data.DataLoader(otc_dataset, collate_fn=otc_collator, shuffle=False, pin_memory=True)"
   ]
  },
  {
   "cell_type": "code",
   "execution_count": 11,
   "metadata": {},
   "outputs": [
    {
     "name": "stdout",
     "output_type": "stream",
     "text": [
      "2021-02-23 18:28:48 | WARNING | utils.py | No classes for the group multi_shot\n",
      "2021-02-23 18:28:48 | WARNING | utils.py | No classes for the group multi_shot\n",
      "2021-02-23 18:28:48 | WARNING | utils.py | No classes for the group multi_shot\n"
     ]
    },
    {
     "data": {
      "text/plain": [
       "{'acc': tensor(0.4615, device='cuda:1'),\n",
       " 'P/WORLD NEWS': 0.0,\n",
       " 'R/WORLD NEWS': 0.0,\n",
       " 'F1/WORLD NEWS': 0.0,\n",
       " 'P/STYLE': 0.7142857040816327,\n",
       " 'R/STYLE': 0.6249999921875001,\n",
       " 'F1/STYLE': 0.6666666080000038,\n",
       " 'P/EDUCATION': 0.18181818016528928,\n",
       " 'R/EDUCATION': 0.6666666444444452,\n",
       " 'F1/EDUCATION': 0.28571424795918726,\n",
       " 'P/PARENTS': 0.55999999776,\n",
       " 'R/PARENTS': 0.7368421013850416,\n",
       " 'F1/PARENTS': 0.6363635844008302,\n",
       " 'P/LATINO VOICES': 0.33333332777777785,\n",
       " 'R/LATINO VOICES': 0.39999999200000014,\n",
       " 'F1/LATINO VOICES': 0.3636363074380234,\n",
       " 'P/WORLDPOST': 0.3928571414540816,\n",
       " 'R/WORLDPOST': 0.7333333284444445,\n",
       " 'F1/WORLDPOST': 0.5116278591671213,\n",
       " 'P/DIVORCE': 0.8749999890625002,\n",
       " 'R/DIVORCE': 0.3043478247637051,\n",
       " 'F1/DIVORCE': 0.45161286201873363,\n",
       " 'P/CULTURE & ARTS': 0.4999999750000013,\n",
       " 'R/CULTURE & ARTS': 0.24999999375000015,\n",
       " 'F1/CULTURE & ARTS': 0.33333327777778377,\n",
       " 'R_zero_shot': 0.4645237346218921,\n",
       " 'P_zero_shot': 0.4446617894126604,\n",
       " 'F1_zero_shot': 0.4061193433452104}"
      ]
     },
     "execution_count": 11,
     "metadata": {},
     "output_type": "execute_result"
    }
   ],
   "source": [
    "metrics = cat.utils.evaluate_model_per_class(\n",
    "    model,\n",
    "    otc_dataloader,\n",
    "    device=args.device,\n",
    "    labels_str=test_classes_str,\n",
    "    zeroshot_labels=test_classes_str,\n",
    ")\n",
    "\n",
    "metrics"
   ]
  },
  {
   "cell_type": "code",
   "execution_count": 12,
   "metadata": {},
   "outputs": [
    {
     "name": "stdout",
     "output_type": "stream",
     "text": [
      "2021-02-23 18:28:51 | WARNING | utils.py | No classes for the group multi_shot\n",
      "2021-02-23 18:28:51 | WARNING | utils.py | No classes for the group multi_shot\n",
      "2021-02-23 18:28:51 | WARNING | utils.py | No classes for the group multi_shot\n"
     ]
    },
    {
     "data": {
      "text/plain": [
       "{'acc': tensor(0.0440, device='cuda:1'),\n",
       " 'P/WORLD NEWS': 0.0,\n",
       " 'R/WORLD NEWS': 0.0,\n",
       " 'F1/WORLD NEWS': 0.0,\n",
       " 'P/STYLE': 0.0,\n",
       " 'R/STYLE': 0.0,\n",
       " 'F1/STYLE': 0.0,\n",
       " 'P/EDUCATION': 0.0,\n",
       " 'R/EDUCATION': 0.0,\n",
       " 'F1/EDUCATION': 0.0,\n",
       " 'P/PARENTS': 0.0,\n",
       " 'R/PARENTS': 0.0,\n",
       " 'F1/PARENTS': 0.0,\n",
       " 'P/LATINO VOICES': 0.0,\n",
       " 'R/LATINO VOICES': 0.0,\n",
       " 'F1/LATINO VOICES': 0.0,\n",
       " 'P/WORLDPOST': 0.0,\n",
       " 'R/WORLDPOST': 0.0,\n",
       " 'F1/WORLDPOST': 0.0,\n",
       " 'P/DIVORCE': 0.0,\n",
       " 'R/DIVORCE': 0.0,\n",
       " 'F1/DIVORCE': 0.0,\n",
       " 'P/CULTURE & ARTS': 0.049382715988416405,\n",
       " 'R/CULTURE & ARTS': 0.9999999750000006,\n",
       " 'F1/CULTURE & ARTS': 0.09411763786851278,\n",
       " 'R_zero_shot': 0.12499999687500007,\n",
       " 'P_zero_shot': 0.006172839498552051,\n",
       " 'F1_zero_shot': 0.011764704733564097}"
      ]
     },
     "execution_count": 12,
     "metadata": {},
     "output_type": "execute_result"
    }
   ],
   "source": [
    "random_model = cat.ClassAttentionModel(\n",
    "    transformers.AutoModel.from_config(transformers.AutoConfig.from_pretrained(args.model)),\n",
    "    transformers.AutoModel.from_config(transformers.AutoConfig.from_pretrained(args.model)),\n",
    ")\n",
    "\n",
    "metrics_random = cat.utils.evaluate_model_per_class(\n",
    "    random_model,\n",
    "    otc_dataloader,\n",
    "    device=args.device,\n",
    "    labels_str=test_classes_str,\n",
    "    zeroshot_labels=test_classes_str,\n",
    ")\n",
    "\n",
    "metrics_random"
   ]
  },
  {
   "cell_type": "code",
   "execution_count": 13,
   "metadata": {},
   "outputs": [
    {
     "name": "stdout",
     "output_type": "stream",
     "text": [
      "2021-02-23 18:28:54 | WARNING | utils.py | No classes for the group multi_shot\n",
      "2021-02-23 18:28:54 | WARNING | utils.py | No classes for the group multi_shot\n",
      "2021-02-23 18:28:54 | WARNING | utils.py | No classes for the group multi_shot\n"
     ]
    },
    {
     "data": {
      "text/plain": [
       "{'acc': tensor(0.0440, device='cuda:1'),\n",
       " 'P/WORLD NEWS': 0.0,\n",
       " 'R/WORLD NEWS': 0.0,\n",
       " 'F1/WORLD NEWS': 0.0,\n",
       " 'P/STYLE': 0.0,\n",
       " 'R/STYLE': 0.0,\n",
       " 'F1/STYLE': 0.0,\n",
       " 'P/EDUCATION': 0.0,\n",
       " 'R/EDUCATION': 0.0,\n",
       " 'F1/EDUCATION': 0.0,\n",
       " 'P/PARENTS': 0.0,\n",
       " 'R/PARENTS': 0.0,\n",
       " 'F1/PARENTS': 0.0,\n",
       " 'P/LATINO VOICES': 0.0,\n",
       " 'R/LATINO VOICES': 0.0,\n",
       " 'F1/LATINO VOICES': 0.0,\n",
       " 'P/WORLDPOST': 0.0,\n",
       " 'R/WORLDPOST': 0.0,\n",
       " 'F1/WORLDPOST': 0.0,\n",
       " 'P/DIVORCE': 0.0,\n",
       " 'R/DIVORCE': 0.0,\n",
       " 'F1/DIVORCE': 0.0,\n",
       " 'P/CULTURE & ARTS': 0.04395604390774061,\n",
       " 'R/CULTURE & ARTS': 0.9999999750000006,\n",
       " 'F1/CULTURE & ARTS': 0.08421051807202275,\n",
       " 'R_zero_shot': 0.12499999687500007,\n",
       " 'P_zero_shot': 0.0054945054884675765,\n",
       " 'F1_zero_shot': 0.010526314759002843}"
      ]
     },
     "execution_count": 13,
     "metadata": {},
     "output_type": "execute_result"
    }
   ],
   "source": [
    "bert_model = cat.ClassAttentionModel(\n",
    "    transformers.AutoModel.from_pretrained(args.model),\n",
    "    transformers.AutoModel.from_pretrained(args.model),\n",
    ")\n",
    "\n",
    "metrics_bert = cat.utils.evaluate_model_per_class(\n",
    "    bert_model,\n",
    "    otc_dataloader,\n",
    "    device=args.device,\n",
    "    labels_str=test_classes_str,\n",
    "    zeroshot_labels=test_classes_str,\n",
    ")\n",
    "\n",
    "metrics_bert"
   ]
  },
  {
   "cell_type": "code",
   "execution_count": 14,
   "metadata": {},
   "outputs": [
    {
     "data": {
      "text/plain": [
       "Counter({'WORLDPOST': 15,\n",
       "         'PARENTS': 19,\n",
       "         'WORLD NEWS': 14,\n",
       "         'DIVORCE': 23,\n",
       "         'STYLE': 8,\n",
       "         'EDUCATION': 3,\n",
       "         'LATINO VOICES': 5,\n",
       "         'CULTURE & ARTS': 4})"
      ]
     },
     "execution_count": 14,
     "metadata": {},
     "output_type": "execute_result"
    }
   ],
   "source": [
    "class_counts = Counter(otc_dataloader.dataset.labels)\n",
    "class_counts"
   ]
  },
  {
   "cell_type": "code",
   "execution_count": 15,
   "metadata": {},
   "outputs": [
    {
     "data": {
      "text/plain": [
       "{'DIVORCE': 0.25274725274725274,\n",
       " 'PARENTS': 0.2087912087912088,\n",
       " 'WORLDPOST': 0.16483516483516483,\n",
       " 'WORLD NEWS': 0.15384615384615385,\n",
       " 'STYLE': 0.08791208791208792,\n",
       " 'LATINO VOICES': 0.054945054945054944,\n",
       " 'CULTURE & ARTS': 0.04395604395604396,\n",
       " 'EDUCATION': 0.03296703296703297}"
      ]
     },
     "execution_count": 15,
     "metadata": {},
     "output_type": "execute_result"
    }
   ],
   "source": [
    "{k: v / len(otc_dataloader.dataset) for k, v in class_counts.most_common()}"
   ]
  },
  {
   "cell_type": "markdown",
   "metadata": {},
   "source": [
    "## Result\n",
    "\n",
    "Parameter sharing between encoder and decoder does not improve the model"
   ]
  },
  {
   "cell_type": "markdown",
   "metadata": {},
   "source": [
    "# Logit magnitudes"
   ]
  },
  {
   "cell_type": "code",
   "execution_count": 18,
   "metadata": {},
   "outputs": [],
   "source": [
    "x, c, y = next(iter(test_dataloader))"
   ]
  },
  {
   "cell_type": "code",
   "execution_count": 27,
   "metadata": {},
   "outputs": [
    {
     "data": {
      "text/plain": [
       "torch.Size([32, 22])"
      ]
     },
     "execution_count": 27,
     "metadata": {},
     "output_type": "execute_result"
    }
   ],
   "source": [
    "x.shape"
   ]
  },
  {
   "cell_type": "code",
   "execution_count": 25,
   "metadata": {},
   "outputs": [],
   "source": [
    "x_np = x.detach().cpu().numpy()"
   ]
  },
  {
   "cell_type": "code",
   "execution_count": 29,
   "metadata": {},
   "outputs": [
    {
     "data": {
      "text/plain": [
       "(1, torch.Size([32, 22]))"
      ]
     },
     "execution_count": 29,
     "metadata": {},
     "output_type": "execute_result"
    }
   ],
   "source": [
    "x_lt = x.split(x.size(0), dim=0)\n",
    "len(x_lt), x_lt[0].shape"
   ]
  },
  {
   "cell_type": "code",
   "execution_count": 45,
   "metadata": {},
   "outputs": [
    {
     "name": "stderr",
     "output_type": "stream",
     "text": [
      "100%|██████████| 459/459 [00:09<00:00, 49.59it/s]\n"
     ]
    }
   ],
   "source": [
    "results = []  # (class, logits)\n",
    "\n",
    "for x, c, y in tqdm(test_dataloader):\n",
    "    x = x.to(args.device)\n",
    "    c = c.to(args.device)\n",
    "\n",
    "    logits = model(x, c)\n",
    "    \n",
    "    logits = logits.detach().cpu()\n",
    "    y = y.detach().cpu()\n",
    "\n",
    "    for logit, class_idx in zip(logits, y):\n",
    "        results.append((logit, class_idx, all_classes_str[class_idx]))"
   ]
  },
  {
   "cell_type": "code",
   "execution_count": 46,
   "metadata": {},
   "outputs": [
    {
     "data": {
      "text/plain": [
       "14661"
      ]
     },
     "execution_count": 46,
     "metadata": {},
     "output_type": "execute_result"
    }
   ],
   "source": [
    "len(results)"
   ]
  },
  {
   "cell_type": "code",
   "execution_count": 47,
   "metadata": {},
   "outputs": [
    {
     "data": {
      "text/plain": [
       "(tensor([-0.1697,  5.2545,  1.3604, -1.5482, -1.7359, -0.8953, -0.2256, -2.0814,\n",
       "         -2.5970,  3.5153, -0.4110, -1.7011, -1.4898, 12.9483,  1.3402, -1.5641,\n",
       "         -0.9442, -1.8485,  0.2434,  0.6873, -0.5288,  1.4669,  0.3661, -2.2788,\n",
       "          1.3789, -2.2339, -2.3749, -0.4878, -0.9802, -0.6369, -0.2317,  0.6695,\n",
       "         -1.9313,  2.1309,  0.3318,  1.0260, -1.8495,  1.1455,  0.1246,  0.3142,\n",
       "         -2.0768]),\n",
       " tensor(13),\n",
       " 'SCIENCE')"
      ]
     },
     "execution_count": 47,
     "metadata": {},
     "output_type": "execute_result"
    }
   ],
   "source": [
    "results[0]"
   ]
  },
  {
   "cell_type": "code",
   "execution_count": 53,
   "metadata": {},
   "outputs": [
    {
     "data": {
      "text/plain": [
       "tensor([1.4479, 1.2758, 1.8125, 2.2326, 2.0475, 1.5982, 1.2594, 1.9460, 1.9379,\n",
       "        2.0554, 1.7219, 1.7585, 1.4908, 1.3209, 1.5206, 1.4892, 1.7789, 2.1790,\n",
       "        1.6923, 2.6788, 1.6963, 1.9745, 2.1161, 1.9878, 1.3302, 1.8232, 1.4762,\n",
       "        2.1975, 1.7550, 1.2899, 1.5110, 1.7722, 1.7730, 1.3812, 2.1671, 1.4764,\n",
       "        1.5007, 3.6519, 1.6794, 1.7411, 1.2774])"
      ]
     },
     "execution_count": 53,
     "metadata": {},
     "output_type": "execute_result"
    }
   ],
   "source": [
    "average_abs_logit = sum(l.abs() for l, i, c in results) / len(results)\n",
    "average_abs_logit"
   ]
  },
  {
   "cell_type": "code",
   "execution_count": 66,
   "metadata": {},
   "outputs": [
    {
     "data": {
      "text/plain": [
       "['WORLD NEWS',\n",
       " 'STYLE',\n",
       " 'EDUCATION',\n",
       " 'PARENTS',\n",
       " 'LATINO VOICES',\n",
       " 'WORLDPOST',\n",
       " 'DIVORCE',\n",
       " 'CULTURE & ARTS']"
      ]
     },
     "execution_count": 66,
     "metadata": {},
     "output_type": "execute_result"
    }
   ],
   "source": [
    "test_classes_str"
   ]
  },
  {
   "cell_type": "code",
   "execution_count": 69,
   "metadata": {},
   "outputs": [
    {
     "data": {
      "text/plain": [
       "<BarContainer object of 41 artists>"
      ]
     },
     "execution_count": 69,
     "metadata": {},
     "output_type": "execute_result"
    },
    {
     "data": {
      "image/png": "[encoded data removed]",
      "text/plain": [
       "<Figure size 1440x720 with 1 Axes>"
      ]
     },
     "metadata": {
      "needs_background": "light"
     },
     "output_type": "display_data"
    }
   ],
   "source": [
    "all_classes_str_with_marks = [\"**\" + c + \"**\" if c in test_classes_str else c for c in all_classes_str]\n",
    "sorted_pairs = sorted(list(zip(all_classes_str_with_marks, average_abs_logit)), key=lambda x: x[1], reverse=True)\n",
    "\n",
    "plt.figure(figsize=(20, 10))\n",
    "plt.xticks(rotation=90)\n",
    "plt.bar(*(zip(*sorted_pairs)))"
   ]
  },
  {
   "cell_type": "code",
   "execution_count": null,
   "metadata": {},
   "outputs": [],
   "source": []
  }
 ],
 "metadata": {
  "kernelspec": {
   "display_name": "cat",
   "language": "python",
   "name": "cat"
  },
  "language_info": {
   "codemirror_mode": {
    "name": "ipython",
    "version": 3
   },
   "file_extension": ".py",
   "mimetype": "text/x-python",
   "name": "python",
   "nbconvert_exporter": "python",
   "pygments_lexer": "ipython3",
   "version": "3.8.5"
  }
 },
 "nbformat": 4,
 "nbformat_minor": 4
}
