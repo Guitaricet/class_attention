{
 "cells": [
  {
   "cell_type": "markdown",
   "metadata": {},
   "source": [
    "# Class attention applied to a text classification task using FCN\n",
    "\n",
    "## FROZEN, DO NOT MODIFY\n",
    "\n",
    "\n",
    "\n",
    "This time we use a real dataset."
   ]
  },
  {
   "cell_type": "code",
   "execution_count": 1,
   "metadata": {},
   "outputs": [
    {
     "name": "stderr",
     "output_type": "stream",
     "text": [
      "To use data.metrics please install scikit-learn. See https://scikit-learn.org/stable/index.html\n"
     ]
    }
   ],
   "source": [
    "import copy\n",
    "import random\n",
    "\n",
    "import torch\n",
    "import torch.nn as nn\n",
    "import torch.nn.functional as F\n",
    "\n",
    "import transformers\n",
    "from transformers import AutoModel, AutoTokenizer\n",
    "import datasets\n",
    "\n",
    "import wandb\n",
    "import matplotlib.pyplot as plt\n",
    "from tqdm.notebook import tqdm\n",
    "\n",
    "import class_attention as cat\n",
    "\n",
    "%load_ext autoreload\n",
    "%autoreload 2\n",
    "\n",
    "\n",
    "def detorch(x):\n",
    "    return x.detach().cpu().numpy()"
   ]
  },
  {
   "cell_type": "markdown",
   "metadata": {},
   "source": [
    "# Data"
   ]
  },
  {
   "cell_type": "code",
   "execution_count": 4,
   "metadata": {},
   "outputs": [
    {
     "name": "stderr",
     "output_type": "stream",
     "text": [
      "Using custom data configuration default\n",
      "Reusing dataset news_category (/home/vlialin/.cache/huggingface/datasets/news_category/default/0.0.0/737b7b6dff469cbba49a6202c9e94f9d39da1fed94e13170cf7ac4b61a75fb9c)\n"
     ]
    },
    {
     "name": "stdout",
     "output_type": "stream",
     "text": [
      "['POLITICS', 'WELLNESS', 'ENTERTAINMENT', 'TRAVEL', 'STYLE & BEAUTY', 'PARENTING', 'HEALTHY LIVING', 'QUEER VOICES', 'FOOD & DRINK', 'BUSINESS', 'COMEDY', 'SPORTS', 'BLACK VOICES', 'HOME & LIVING', 'PARENTS', 'THE WORLDPOST', 'WEDDINGS', 'WOMEN', 'IMPACT', 'DIVORCE', 'CRIME', 'MEDIA', 'WEIRD NEWS', 'GREEN', 'WORLDPOST', 'RELIGION', 'STYLE', 'SCIENCE', 'WORLD NEWS', 'TASTE', 'TECH', 'MONEY', 'ARTS', 'FIFTY', 'GOOD NEWS', 'ARTS & CULTURE', 'ENVIRONMENT', 'COLLEGE', 'LATINO VOICES', 'CULTURE & ARTS', 'EDUCATION']\n"
     ]
    }
   ],
   "source": [
    "text_dataset = datasets.load_dataset(\"Fraser/news-category-dataset\")\n",
    "all_classes = text_dataset['train'].features['category_num'].names\n",
    "print(all_classes)"
   ]
  },
  {
   "cell_type": "code",
   "execution_count": 5,
   "metadata": {},
   "outputs": [],
   "source": [
    "def sample_dataset(dataset, p):\n",
    "    \"\"\"\n",
    "    Args:\n",
    "        dataset: datasets.arrow_dataset.Dataset object\n",
    "        p: float, 0 < p <= 1\n",
    "    \n",
    "    Returns:\n",
    "        datasets.arrow_dataset.Dataset of size len(dataset) * p with random examples from the dataset\n",
    "        sampled without replacement\n",
    "    \"\"\"\n",
    "    if not 0 < p <= 1:\n",
    "        raise ValueError(p)\n",
    "\n",
    "    dataset_len = len(dataset)\n",
    "    sample_size = int(p * dataset_len)\n",
    "\n",
    "    ids = random.sample(range(len(dataset)), sample_size)\n",
    "    \n",
    "    # indexing actually creates dict with elements of len(ids), not a list\n",
    "    sampled_dataset_dict = dataset[ids]\n",
    "    sampled_dataset = datasets.arrow_dataset.Dataset.from_dict(sampled_dataset_dict)\n",
    "    return sampled_dataset"
   ]
  },
  {
   "cell_type": "code",
   "execution_count": 6,
   "metadata": {},
   "outputs": [
    {
     "data": {
      "text/plain": [
       "1606"
      ]
     },
     "execution_count": 6,
     "metadata": {},
     "output_type": "execute_result"
    }
   ],
   "source": [
    "toy_dataset = sample_dataset(text_dataset['train'], 0.01)\n",
    "len(toy_dataset)"
   ]
  },
  {
   "cell_type": "code",
   "execution_count": 7,
   "metadata": {},
   "outputs": [
    {
     "data": {
      "text/plain": [
       "'A Workplace-Safe Version Of Facebook Is Coming Soon'"
      ]
     },
     "execution_count": 7,
     "metadata": {},
     "output_type": "execute_result"
    }
   ],
   "source": [
    "toy_dataset[0]['headline']"
   ]
  },
  {
   "cell_type": "markdown",
   "metadata": {},
   "source": [
    "# Text tokenizer\n",
    "\n",
    "We use a bert tokenizer here, just because we can."
   ]
  },
  {
   "cell_type": "code",
   "execution_count": 8,
   "metadata": {},
   "outputs": [
    {
     "data": {
      "text/plain": [
       "{'input_ids': [101,\n",
       "  1037,\n",
       "  16165,\n",
       "  1011,\n",
       "  3647,\n",
       "  2544,\n",
       "  1997,\n",
       "  9130,\n",
       "  2003,\n",
       "  2746,\n",
       "  2574,\n",
       "  102],\n",
       " 'token_type_ids': [0, 0, 0, 0, 0, 0, 0, 0, 0, 0, 0, 0],\n",
       " 'attention_mask': [1, 1, 1, 1, 1, 1, 1, 1, 1, 1, 1, 1]}"
      ]
     },
     "execution_count": 8,
     "metadata": {},
     "output_type": "execute_result"
    }
   ],
   "source": [
    "MODEL = 'distilbert-base-uncased'\n",
    "\n",
    "text_tokenizer = AutoTokenizer.from_pretrained(MODEL, fast=True)\n",
    "text_tokenizer.encode_plus(toy_dataset[0]['headline'])"
   ]
  },
  {
   "cell_type": "markdown",
   "metadata": {},
   "source": [
    "# Label tokenizer\n",
    "\n",
    "Just use a tokenizer without UNK, no need for special kind of numericalizer/encoder.\n",
    "\n",
    "Note that the dataset we use (`Fraser/news-category-dataset`) has some interesting particularities in the class names.\n",
    "\n",
    "For example, it has classes `STYLE` and `STYLE & BEAUTY` or `WORLD NEWS` and `NEWS`. I.e., some classes contain other classes names in their name.\n",
    "The classes that have `&` in their name have a similar particularity. Some of the categories does not seem to be distinguishable. E.g., `THE WORLDPOST` and `WORLDPOST` or `ARTS & CULTURE` and `CULTURE & ARTS`."
   ]
  },
  {
   "cell_type": "code",
   "execution_count": 9,
   "metadata": {},
   "outputs": [
    {
     "name": "stdout",
     "output_type": "stream",
     "text": [
      "NEWS\t: GOOD NEWS, WORLD NEWS, WEIRD NEWS\n",
      "WORLDPOST\t: WORLDPOST, THE WORLDPOST\n",
      "ARTS\t: CULTURE & ARTS, ARTS, ARTS & CULTURE\n",
      "&\t: STYLE & BEAUTY, CULTURE & ARTS, ARTS & CULTURE, FOOD & DRINK, HOME & LIVING\n",
      "CULTURE\t: CULTURE & ARTS, ARTS & CULTURE\n",
      "LIVING\t: HEALTHY LIVING, HOME & LIVING\n",
      "WORLD\t: WORLDPOST, THE WORLDPOST\n",
      "STYLE\t: STYLE, STYLE & BEAUTY\n",
      "VOICES\t: LATINO VOICES, BLACK VOICES, QUEER VOICES\n"
     ]
    }
   ],
   "source": [
    "from collections import defaultdict\n",
    "from pprint import pprint\n",
    "\n",
    "_all_classes = set(toy_dataset['category'])\n",
    "_word2classes = defaultdict(set)\n",
    "\n",
    "for _class_name in set(_all_classes):\n",
    "    _similar_classes = []\n",
    "    for _class_word in _class_name.split(' '):\n",
    "        for _other_class in _all_classes:\n",
    "            if _class_name != _other_class and _class_word in _other_class:\n",
    "                _word2classes[_class_word].add(_other_class)\n",
    "\n",
    "for _w, _c in _word2classes.items():\n",
    "    print(f\"{_w}\\t: {', '.join(_c)}\")"
   ]
  },
  {
   "cell_type": "code",
   "execution_count": 10,
   "metadata": {},
   "outputs": [
    {
     "data": {
      "text/plain": [
       "[33]"
      ]
     },
     "execution_count": 10,
     "metadata": {},
     "output_type": "execute_result"
    }
   ],
   "source": [
    "label_tokenizer = cat.utils.make_whitespace_tokenizer(toy_dataset['category'], unk_token=None)\n",
    "label_tokenizer.encode(toy_dataset[0]['category']).ids"
   ]
  },
  {
   "cell_type": "markdown",
   "metadata": {},
   "source": [
    "# Dataset object"
   ]
  },
  {
   "cell_type": "code",
   "execution_count": 11,
   "metadata": {},
   "outputs": [
    {
     "data": {
      "application/vnd.jupyter.widget-view+json": {
       "model_id": "b0531e1984614bb49088b6a450c4ed53",
       "version_major": 2,
       "version_minor": 0
      },
      "text/plain": [
       "HBox(children=(FloatProgress(value=0.0, description='Preprocessing Dataset', max=1606.0, style=ProgressStyle(d…"
      ]
     },
     "metadata": {},
     "output_type": "display_data"
    },
    {
     "name": "stdout",
     "output_type": "stream",
     "text": [
      "\n"
     ]
    },
    {
     "data": {
      "text/plain": [
       "(tensor([  101,  1037, 16165,  1011,  3647,  2544,  1997,  9130,  2003,  2746,\n",
       "          2574,   102]),\n",
       " tensor([33]))"
      ]
     },
     "execution_count": 11,
     "metadata": {},
     "output_type": "execute_result"
    }
   ],
   "source": [
    "train_texts = toy_dataset['headline']\n",
    "train_labels = toy_dataset['category']\n",
    "dataset = cat.CatDataset(train_texts, text_tokenizer, train_labels, label_tokenizer)\n",
    "\n",
    "dataset[0]"
   ]
  },
  {
   "cell_type": "markdown",
   "metadata": {},
   "source": [
    "# Collator\n",
    "\n",
    "Collator also makes targets. Targets != labels as the labels are strings."
   ]
  },
  {
   "cell_type": "code",
   "execution_count": 12,
   "metadata": {},
   "outputs": [
    {
     "name": "stdout",
     "output_type": "stream",
     "text": [
      "Text:\n",
      "tensor([[  101,  1037, 16165,  1011,  3647,  2544,  1997,  9130,  2003,  2746,\n",
      "          2574,   102],\n",
      "        [  101,  3317,  2669,  2118,  2052,  2066,  2049, 13314,  9427,  2067,\n",
      "           102,     0]])\n",
      "\n",
      "Unique labels:\n",
      "tensor([[33],\n",
      "        [42]])\n",
      "Targets:\n",
      "tensor([0, 1])\n"
     ]
    }
   ],
   "source": [
    "from pprint import pprint\n",
    "\n",
    "collator = cat.CatCollator(pad_token_id=0)\n",
    "text_batch, unique_labels, targets = collator([dataset[0], dataset[2]])\n",
    "\n",
    "print('Text:')\n",
    "pprint(text_batch)\n",
    "\n",
    "print('\\nUnique labels:')\n",
    "pprint(unique_labels)\n",
    "\n",
    "print('Targets:')\n",
    "pprint(targets)"
   ]
  },
  {
   "cell_type": "markdown",
   "metadata": {},
   "source": [
    "# Dataloader"
   ]
  },
  {
   "cell_type": "code",
   "execution_count": 13,
   "metadata": {},
   "outputs": [],
   "source": [
    "dataloader = torch.utils.data.DataLoader(dataset, batch_size=32, collate_fn=collator, shuffle=True)"
   ]
  },
  {
   "cell_type": "code",
   "execution_count": 14,
   "metadata": {},
   "outputs": [
    {
     "data": {
      "text/plain": [
       "(tensor([[  101,  5264,  1005,  1055,  2034,  2931,  2343,  2097,  2022,  1037,\n",
       "           7632,  3900,  2497,  1011,  4147,  5152,  2450,   102,     0,     0,\n",
       "              0,     0,     0],\n",
       "         [  101,  3021,  5003,  5886, 14021,  5596,  2015, 10643,  2005,  1005,\n",
       "           5599,  8398,  2448,  2091,  2637,  1005,   102,     0,     0,     0,\n",
       "              0,     0,     0],\n",
       "         [  101,  3374,  1010,  2021,  8348,  1998,  1005,  2732,  5233,  1005,\n",
       "           3152,  2024,  2975, 20907,   102,     0,     0,     0,     0,     0,\n",
       "              0,     0,     0],\n",
       "         [  101,  2340,  9577,  2135,  3376,  4230,  1997,  2300,  1006,  7760,\n",
       "           1007,   102,     0,     0,     0,     0,     0,     0,     0,     0,\n",
       "              0,     0,     0],\n",
       "         [  101,  1996,  2187,  1010,  1996,  2157,  1998,  1996,  4372,  5666,\n",
       "          20464,  7476,   102,     0,     0,     0,     0,     0,     0,     0,\n",
       "              0,     0,     0],\n",
       "         [  101,  2025,  2673,  2003,  6659,  1024,  2045,  1005,  1055,  2085,\n",
       "           1005, 10247,  2100,  1005,  3256,  6949,  2008,  1005,  2222,  2131,\n",
       "           2017,  7144,   102],\n",
       "         [  101,  2503,  1996,  4883,  5347,  1005,  3049,  9275,  1006,  7760,\n",
       "           1007,   102,     0,     0,     0,     0,     0,     0,     0,     0,\n",
       "              0,     0,     0],\n",
       "         [  101,  1037,  3595, 21774,  2008,  3084,  7975, 10990,   102,     0,\n",
       "              0,     0,     0,     0,     0,     0,     0,     0,     0,     0,\n",
       "              0,     0,     0],\n",
       "         [  101,  2129,  6667,  2064,  3965,  2062,  2476,  1011,  3201, 24665,\n",
       "          19303,   102,     0,     0,     0,     0,     0,     0,     0,     0,\n",
       "              0,     0,     0],\n",
       "         [  101,  2054,  1045,  2772,  2006,  2000,   102,     0,     0,     0,\n",
       "              0,     0,     0,     0,     0,     0,     0,     0,     0,     0,\n",
       "              0,     0,     0],\n",
       "         [  101,  5223,  2115,  3129,  1029,  1006,  2030,  2115,  2564,  1029,\n",
       "           1007,   102,     0,     0,     0,     0,     0,     0,     0,     0,\n",
       "              0,     0,     0],\n",
       "         [  101,  3679, 13804,  1024, 10459, 14045,  3028,   102,     0,     0,\n",
       "              0,     0,     0,     0,     0,     0,     0,     0,     0,     0,\n",
       "              0,     0,     0],\n",
       "         [  101, 27363,  1996,  3571,  1997,  4945,  1024, 12992,  2075,  2235,\n",
       "           2449,  1999,  2859,   102,     0,     0,     0,     0,     0,     0,\n",
       "              0,     0,     0],\n",
       "         [  101,  2339,  2437,  2047,  3566,  2814,  2064,  2022,  2062,  6911,\n",
       "           3993,  2084,  5306,   102,     0,     0,     0,     0,     0,     0,\n",
       "              0,     0,     0],\n",
       "         [  101,  4035,  6398, 14641,  3358,  3790,  1011, 10192,  4654, 11880,\n",
       "           2015,  2013,  2167,  4420,  2005, 24156,  1005,  3189,  4270,  1005,\n",
       "            102,     0,     0],\n",
       "         [  101,  2009,  1005,  1055,  2051,  2005,  1996,  2088,  1005,  1055,\n",
       "           5221,  2300,  2954,   999,   102,     0,     0,     0,     0,     0,\n",
       "              0,     0,     0],\n",
       "         [  101, 28586,  6040,  1024,  2043,  2115,  5637,  2775,  3310,  2041,\n",
       "            102,     0,     0,     0,     0,     0,     0,     0,     0,     0,\n",
       "              0,     0,     0],\n",
       "         [  101, 16941,  9323,  1024, 26962,  1998, 27978,  3370,   102,     0,\n",
       "              0,     0,     0,     0,     0,     0,     0,     0,     0,     0,\n",
       "              0,     0,     0],\n",
       "         [  101,  2308,  1999,  2449,  1053,  1004,  1037,  1024,  2205,  3676,\n",
       "           9388, 24281,  1010,  3954,  1010,  3696,  5400,  2863,   102,     0,\n",
       "              0,     0,     0],\n",
       "         [  101, 25069,  2293,  1005,  1055,  2543,   102,     0,     0,     0,\n",
       "              0,     0,     0,     0,     0,     0,     0,     0,     0,     0,\n",
       "              0,     0,     0],\n",
       "         [  101,  1996,  2190,  2621, 18007,  2000,  2298,  2041,  2005,  1010,\n",
       "           2262,  1006,  7760,  1007,   102,     0,     0,     0,     0,     0,\n",
       "              0,     0,     0],\n",
       "         [  101,  2047,  3566,  3881,  6287,  5974,  2758,  2308,  2064,  1005,\n",
       "           1056,  2031,  2009,  2035,   102,     0,     0,     0,     0,     0,\n",
       "              0,     0,     0],\n",
       "         [  101,  3667,  2408,  1057,  1012,  1055,  1012,  1005,  2954,  2005,\n",
       "           1002,  2321,  1005,  1999,  9326,  2005, 11897, 21857,  2015,   102,\n",
       "              0,     0,     0],\n",
       "         [  101,  2184,  2590,  4436,  2000,  2707,  2437,  2051,  2005,  4223,\n",
       "           1010,  2717,  1998, 22560,   102,     0,     0,     0,     0,     0,\n",
       "              0,     0,     0],\n",
       "         [  101,  2023,  2158,  2003,  6429,  2012, 20120,  2019,  8288,  2006,\n",
       "           2010,  2132,   102,     0,     0,     0,     0,     0,     0,     0,\n",
       "              0,     0,     0],\n",
       "         [  101,  2580,  2011,  2273,  1010,  2308,  2085,  2652,  2270,  8738,\n",
       "           2208,   102,     0,     0,     0,     0,     0,     0,     0,     0,\n",
       "              0,     0,     0],\n",
       "         [  101, 21864,  3630,  2050,  2304, 14068, 15890,  1024,  9014,  1997,\n",
       "          14894,  1998,  8966,  2007,  5250,   102,     0,     0,     0,     0,\n",
       "              0,     0,     0],\n",
       "         [  101,  4424, 16011,  2003,  7249,  1010,  2296,  2154,   102,     0,\n",
       "              0,     0,     0,     0,     0,     0,     0,     0,     0,     0,\n",
       "              0,     0,     0],\n",
       "         [  101,  5629,  2071,  2393,  2007,  6911,  1024,  2817,   102,     0,\n",
       "              0,     0,     0,     0,     0,     0,     0,     0,     0,     0,\n",
       "              0,     0,     0],\n",
       "         [  101,  2182,  1005,  1055,  2673,  2017,  2342,  2000,  2113,  2055,\n",
       "           2054,  1005,  1055,  2183,  2006,  2007,  5503, 15419,  3678,  1999,\n",
       "           2028,  6251,   102],\n",
       "         [  101,  2115,  5440,  3869,  2071,  2022,  1999,  5473,  1997,  2108,\n",
       "           2058,  5243,  6528,   102,     0,     0,     0,     0,     0,     0,\n",
       "              0,     0,     0],\n",
       "         [  101,  2228,  6530, 10439,  2071,  9789, 10390,  1999,  2000, 12141,\n",
       "           1999,  5789,   102,     0,     0,     0,     0,     0,     0,     0,\n",
       "              0,     0,     0]]),\n",
       " tensor([[ 1,  0,  0],\n",
       "         [ 3,  0,  0],\n",
       "         [ 4,  0,  0],\n",
       "         [ 7,  0,  0],\n",
       "         [ 8,  0,  0],\n",
       "         [11,  2, 12],\n",
       "         [13,  6,  0],\n",
       "         [14,  0,  0],\n",
       "         [16, 10,  0],\n",
       "         [17,  0,  0],\n",
       "         [18,  0,  0],\n",
       "         [24,  0,  0],\n",
       "         [27,  0,  0],\n",
       "         [29, 15,  0],\n",
       "         [32,  0,  0],\n",
       "         [35,  0,  0],\n",
       "         [38,  0,  0],\n",
       "         [39, 15,  0],\n",
       "         [45,  0,  0]]),\n",
       " tensor([17, 10,  1,  3,  0, 16,  3,  5, 18,  0,  2, 12,  7, 14, 15,  3,  4, 11,\n",
       "          9,  2,  5,  4,  9,  8, 13,  2, 16, 11,  2,  6, 16,  2]))"
      ]
     },
     "execution_count": 14,
     "metadata": {},
     "output_type": "execute_result"
    }
   ],
   "source": [
    "next(iter(dataloader))"
   ]
  },
  {
   "cell_type": "markdown",
   "metadata": {},
   "source": [
    "# Model"
   ]
  },
  {
   "cell_type": "code",
   "execution_count": 25,
   "metadata": {},
   "outputs": [],
   "source": [
    "class FcClassAttentionModel(nn.Module):\n",
    "    def __init__(self, text_vocab_size, n_classes, hidden_size):\n",
    "        super().__init__()\n",
    "\n",
    "        self.x_enc = nn.Sequential(nn.EmbeddingBag(text_vocab_size, hidden_size),\n",
    "                                   nn.ReLU(),\n",
    "                                   nn.Linear(hidden_size, hidden_size))\n",
    "\n",
    "        self.c_enc = nn.Sequential(nn.EmbeddingBag(n_classes, hidden_size),\n",
    "                                   nn.ReLU(),\n",
    "                                   nn.Linear(hidden_size, hidden_size))\n",
    "\n",
    "    def forward(self, text_input, labels_input):\n",
    "        h_x = self.x_enc(text_input)\n",
    "        h_c = self.c_enc(labels_input)\n",
    "\n",
    "        logits = h_x @ h_c.T # + bias  # or make a residual connection with class network\n",
    "\n",
    "        return logits"
   ]
  },
  {
   "cell_type": "code",
   "execution_count": 26,
   "metadata": {},
   "outputs": [],
   "source": [
    "# Create the tokenizers right here?\n",
    "\n",
    "model = FcClassAttentionModel(text_tokenizer.vocab_size, label_tokenizer.get_vocab_size(), hidden_size=64)"
   ]
  },
  {
   "cell_type": "code",
   "execution_count": 27,
   "metadata": {},
   "outputs": [
    {
     "data": {
      "text/plain": [
       "torch.Size([3, 7])"
      ]
     },
     "execution_count": 27,
     "metadata": {},
     "output_type": "execute_result"
    }
   ],
   "source": [
    "x = torch.randint(0, 100, size=[3, 5])\n",
    "c = torch.unique(torch.randint(0, 100, size=[7, 1])).unsqueeze(1)\n",
    "\n",
    "out = model(text_input=x, labels_input=c)\n",
    "out.shape"
   ]
  },
  {
   "cell_type": "markdown",
   "metadata": {},
   "source": [
    "## Train class attention\n",
    "\n",
    "Possible reasons why the model does not converge are optimizational. E.g., explosive gradients, bad learning rate.\n",
    "We can try to fix them via tuning a model on a very small dataset. Possibly, we also need to add some kind of normalization (PowerNorm?)."
   ]
  },
  {
   "cell_type": "code",
   "execution_count": 28,
   "metadata": {},
   "outputs": [],
   "source": [
    "device = 'cuda'\n",
    "model = model.to(device)\n",
    "\n",
    "optimizer = torch.optim.Adam(model.parameters())"
   ]
  },
  {
   "cell_type": "code",
   "execution_count": 29,
   "metadata": {},
   "outputs": [
    {
     "data": {
      "application/vnd.jupyter.widget-view+json": {
       "model_id": "b93aa731aa1543489dbc33c182880eb5",
       "version_major": 2,
       "version_minor": 0
      },
      "text/plain": [
       "HBox(children=(FloatProgress(value=0.0), HTML(value='')))"
      ]
     },
     "metadata": {},
     "output_type": "display_data"
    },
    {
     "name": "stdout",
     "output_type": "stream",
     "text": [
      "\n"
     ]
    },
    {
     "data": {
      "text/plain": [
       "Text(0.5, 1.0, 'Accuracy')"
      ]
     },
     "execution_count": 29,
     "metadata": {},
     "output_type": "execute_result"
    },
    {
     "data": {
      "image/png": "[encoded data removed]",
      "text/plain": [
       "<Figure size 432x288 with 1 Axes>"
      ]
     },
     "metadata": {
      "needs_background": "light"
     },
     "output_type": "display_data"
    },
    {
     "data": {
      "image/png": "[encoded data removed]",
      "text/plain": [
       "<Figure size 432x288 with 1 Axes>"
      ]
     },
     "metadata": {
      "needs_background": "light"
     },
     "output_type": "display_data"
    }
   ],
   "source": [
    "loss_hist = []\n",
    "acc_hist = []\n",
    "\n",
    "for _ in tqdm(range(100)):\n",
    "    for x, c, y in dataloader:\n",
    "        optimizer.zero_grad()\n",
    "\n",
    "        x = x.to(device)\n",
    "        c = c.to(device)\n",
    "        y = y.to(device)\n",
    "\n",
    "        x_dict = {'input_ids': x}\n",
    "        c_dict = {'input_ids': c}\n",
    "        logits = model(x, c)\n",
    "\n",
    "        loss = F.cross_entropy(logits, y)\n",
    "\n",
    "        _, preds = logits.max(-1)\n",
    "        acc = torch.sum(preds == y).float() / x.shape[0]\n",
    "\n",
    "        acc_hist.append(detorch(acc))\n",
    "        loss_hist.append(detorch(loss))\n",
    "\n",
    "        loss.backward()\n",
    "        optimizer.step()\n",
    "\n",
    "\n",
    "plt.figure()\n",
    "plt.plot(loss_hist)\n",
    "plt.title('Loss')\n",
    "\n",
    "plt.figure()\n",
    "plt.plot(acc_hist)\n",
    "plt.title('Accuracy')"
   ]
  },
  {
   "cell_type": "code",
   "execution_count": null,
   "metadata": {},
   "outputs": [],
   "source": []
  }
 ],
 "metadata": {
  "kernelspec": {
   "display_name": "cat",
   "language": "python",
   "name": "cat"
  },
  "language_info": {
   "codemirror_mode": {
    "name": "ipython",
    "version": 3
   },
   "file_extension": ".py",
   "mimetype": "text/x-python",
   "name": "python",
   "nbconvert_exporter": "python",
   "pygments_lexer": "ipython3",
   "version": "3.8.5"
  }
 },
 "nbformat": 4,
 "nbformat_minor": 4
}
